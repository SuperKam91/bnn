{
 "cells": [
  {
   "cell_type": "code",
   "execution_count": 23,
   "metadata": {},
   "outputs": [],
   "source": [
    "'''Trains a simple deep NN on the MNIST dataset.\n",
    "Gets to 98.40% test accuracy after 20 epochs\n",
    "(there is *a lot* of margin for parameter tuning).\n",
    "2 seconds per epoch on a K520 GPU.\n",
    "Adapted from https://github.com/keras-team/keras/blob/master/examples/mnist_mlp.py\n",
    "'''\n",
    "#installation of keras is screwed on ap laptop, so have to use tf module to use it.\n",
    "#for some reason can't import tf.keras, or tf.keras.other, so have to bind to names as follows\n",
    "import tensorflow as tf\n",
    "mnist = tf.keras.datasets.mnist\n",
    "Model = tf.keras.models.Model\n",
    "Input = tf.keras.layers.Input\n",
    "Dense = tf.keras.layers.Dense\n",
    "Dropout = tf.keras.layers.Dropout"
   ]
  },
  {
   "cell_type": "code",
   "execution_count": 28,
   "metadata": {},
   "outputs": [],
   "source": [
    "batch_size = 128\n",
    "num_classes = 10\n",
    "epochs = 20\n",
    "inp_shape = 784"
   ]
  },
  {
   "cell_type": "code",
   "execution_count": 18,
   "metadata": {},
   "outputs": [],
   "source": [
    "# the data, split between train and test sets\n",
    "#training set is 60k images, test set is 10k\n",
    "(x_train, y_train), (x_test, y_test) = mnist.load_data()"
   ]
  },
  {
   "cell_type": "code",
   "execution_count": 19,
   "metadata": {},
   "outputs": [],
   "source": [
    "#flatten images for fully connected layer\n",
    "x_train = x_train.reshape(60000, inp_shape)\n",
    "x_test = x_test.reshape(10000, inp_shape)\n",
    "\n",
    "x_train = x_train.astype('float32')\n",
    "x_test = x_test.astype('float32')\n",
    "\n",
    "#normalise input value ranges to [0,1]\n",
    "x_train /= 255\n",
    "x_test /= 255\n",
    "\n",
    "# convert class scalars to binary class vectors\n",
    "y_train = tf.keras.utils.to_categorical(y_train, num_classes)\n",
    "y_test = tf.keras.utils.to_categorical(y_test, num_classes)"
   ]
  },
  {
   "cell_type": "code",
   "execution_count": 24,
   "metadata": {},
   "outputs": [],
   "source": [
    "def mlp_model(inp_shape):\n",
    "    \"\"\"\n",
    "    keras model builder (using model api) for mlp for mnist classification\n",
    "    \"\"\"\n",
    "    a0 = Input(shape = (inp_shape,))\n",
    "    a1 = Dense(512, activation = 'relu')(a0)\n",
    "    a1 = Dropout(0.2)(a1)\n",
    "    a2 = Dense(512, activation='relu')(a1)\n",
    "    a2 = Dropout(0.2)(a2)\n",
    "    prediction = Dense(num_classes, activation='softmax')(a2)\n",
    "    return Model(inputs = a0, outputs = prediction)\n"
   ]
  },
  {
   "cell_type": "code",
   "execution_count": 26,
   "metadata": {},
   "outputs": [
    {
     "name": "stdout",
     "output_type": "stream",
     "text": [
      "_________________________________________________________________\n",
      "Layer (type)                 Output Shape              Param #   \n",
      "=================================================================\n",
      "input_1 (InputLayer)         (None, 784)               0         \n",
      "_________________________________________________________________\n",
      "dense_1 (Dense)              (None, 512)               401920    \n",
      "_________________________________________________________________\n",
      "dropout_1 (Dropout)          (None, 512)               0         \n",
      "_________________________________________________________________\n",
      "dense_2 (Dense)              (None, 512)               262656    \n",
      "_________________________________________________________________\n",
      "dropout_2 (Dropout)          (None, 512)               0         \n",
      "_________________________________________________________________\n",
      "dense_3 (Dense)              (None, 10)                5130      \n",
      "=================================================================\n",
      "Total params: 669,706\n",
      "Trainable params: 669,706\n",
      "Non-trainable params: 0\n",
      "_________________________________________________________________\n",
      "WARNING:tensorflow:From /home/astrophysics/anaconda2/lib/python2.7/site-packages/tensorflow/python/keras/_impl/keras/backend.py:3086: calling reduce_sum (from tensorflow.python.ops.math_ops) with keep_dims is deprecated and will be removed in a future version.\n",
      "Instructions for updating:\n",
      "keep_dims is deprecated, use keepdims instead\n",
      "WARNING:tensorflow:From /home/astrophysics/anaconda2/lib/python2.7/site-packages/tensorflow/python/keras/_impl/keras/backend.py:1557: calling reduce_mean (from tensorflow.python.ops.math_ops) with keep_dims is deprecated and will be removed in a future version.\n",
      "Instructions for updating:\n",
      "keep_dims is deprecated, use keepdims instead\n"
     ]
    }
   ],
   "source": [
    "model = mlp_model(inp_shape)\n",
    "model.summary()\n",
    "model.compile(optimizer='rmsprop',\n",
    "              loss='categorical_crossentropy',\n",
    "              metrics=['accuracy'])"
   ]
  },
  {
   "cell_type": "code",
   "execution_count": 27,
   "metadata": {
    "scrolled": false
   },
   "outputs": [
    {
     "name": "stdout",
     "output_type": "stream",
     "text": [
      "Train on 60000 samples, validate on 10000 samples\n",
      "Epoch 1/20\n",
      "60000/60000 [==============================]60000/60000 [==============================] - 43s 711us/step - loss: 0.2467 - acc: 0.9241 - val_loss: 0.1157 - val_acc: 0.9660\n",
      "\n",
      "Epoch 2/20\n",
      "60000/60000 [==============================]60000/60000 [==============================] - 47s 787us/step - loss: 0.1012 - acc: 0.9698 - val_loss: 0.0896 - val_acc: 0.9739\n",
      "\n",
      "Epoch 3/20\n",
      "60000/60000 [==============================]60000/60000 [==============================] - 43s 722us/step - loss: 0.0760 - acc: 0.9768 - val_loss: 0.0833 - val_acc: 0.9767\n",
      "\n",
      "Epoch 4/20\n",
      "60000/60000 [==============================]60000/60000 [==============================] - 32s 531us/step - loss: 0.0607 - acc: 0.9816 - val_loss: 0.0736 - val_acc: 0.9794\n",
      "\n",
      "Epoch 5/20\n",
      "60000/60000 [==============================]60000/60000 [==============================] - 32s 532us/step - loss: 0.0516 - acc: 0.9839 - val_loss: 0.0746 - val_acc: 0.9808\n",
      "\n",
      "Epoch 6/20\n",
      "60000/60000 [==============================]60000/60000 [==============================] - 31s 521us/step - loss: 0.0442 - acc: 0.9864 - val_loss: 0.0887 - val_acc: 0.9789\n",
      "\n",
      "Epoch 7/20\n",
      "60000/60000 [==============================]60000/60000 [==============================] - 31s 520us/step - loss: 0.0394 - acc: 0.9884 - val_loss: 0.0707 - val_acc: 0.9830\n",
      "\n",
      "Epoch 8/20\n",
      "60000/60000 [==============================]60000/60000 [==============================] - 36s 608us/step - loss: 0.0338 - acc: 0.9901 - val_loss: 0.0845 - val_acc: 0.9825\n",
      "\n",
      "Epoch 9/20\n",
      "60000/60000 [==============================]60000/60000 [==============================] - 39s 649us/step - loss: 0.0330 - acc: 0.9906 - val_loss: 0.0950 - val_acc: 0.9803\n",
      "\n",
      "Epoch 10/20\n",
      "60000/60000 [==============================]60000/60000 [==============================] - 39s 644us/step - loss: 0.0291 - acc: 0.9919 - val_loss: 0.0834 - val_acc: 0.9836\n",
      "\n",
      "Epoch 11/20\n",
      "60000/60000 [==============================]60000/60000 [==============================] - 39s 642us/step - loss: 0.0251 - acc: 0.9924 - val_loss: 0.0924 - val_acc: 0.9834\n",
      "\n",
      "Epoch 12/20\n",
      "60000/60000 [==============================]60000/60000 [==============================] - 40s 660us/step - loss: 0.0248 - acc: 0.9933 - val_loss: 0.0998 - val_acc: 0.9806\n",
      "\n",
      "Epoch 13/20\n",
      "60000/60000 [==============================]60000/60000 [==============================] - 39s 652us/step - loss: 0.0244 - acc: 0.9931 - val_loss: 0.1045 - val_acc: 0.9823\n",
      "\n",
      "Epoch 14/20\n",
      "60000/60000 [==============================]60000/60000 [==============================] - 35s 584us/step - loss: 0.0221 - acc: 0.9942 - val_loss: 0.1010 - val_acc: 0.9832\n",
      "\n",
      "Epoch 15/20\n",
      "60000/60000 [==============================]60000/60000 [==============================] - 40s 662us/step - loss: 0.0216 - acc: 0.9939 - val_loss: 0.0970 - val_acc: 0.9849\n",
      "\n",
      "Epoch 16/20\n",
      "60000/60000 [==============================]60000/60000 [==============================] - 39s 649us/step - loss: 0.0207 - acc: 0.9944 - val_loss: 0.1008 - val_acc: 0.9848\n",
      "\n",
      "Epoch 17/20\n",
      "60000/60000 [==============================]60000/60000 [==============================] - 39s 647us/step - loss: 0.0212 - acc: 0.9949 - val_loss: 0.1114 - val_acc: 0.9837\n",
      "\n",
      "Epoch 18/20\n",
      "60000/60000 [==============================]60000/60000 [==============================] - 40s 671us/step - loss: 0.0217 - acc: 0.9945 - val_loss: 0.1031 - val_acc: 0.9840\n",
      "\n",
      "Epoch 19/20\n",
      "60000/60000 [==============================]60000/60000 [==============================] - 39s 645us/step - loss: 0.0196 - acc: 0.9950 - val_loss: 0.1384 - val_acc: 0.9804\n",
      "\n",
      "Epoch 20/20\n",
      "60000/60000 [==============================]60000/60000 [==============================] - 38s 637us/step - loss: 0.0175 - acc: 0.9955 - val_loss: 0.1119 - val_acc: 0.9836\n",
      "\n"
     ]
    }
   ],
   "source": [
    "history = model.fit(x_train, y_train,\n",
    "                    batch_size=batch_size,\n",
    "                    epochs=epochs,\n",
    "                    verbose=1,\n",
    "validation_data=(x_test, y_test))"
   ]
  },
  {
   "cell_type": "code",
   "execution_count": 29,
   "metadata": {},
   "outputs": [
    {
     "name": "stdout",
     "output_type": "stream",
     "text": [
      "('Test loss:', 0.11189632623273196)\n",
      "('Test accuracy:', 0.9836)\n"
     ]
    }
   ],
   "source": [
    "score = model.evaluate(x_test, y_test, verbose=0)\n",
    "print('Test loss:', score[0])\n",
    "print('Test accuracy:', score[1])"
   ]
  }
 ],
 "metadata": {
  "kernelspec": {
   "display_name": "Python 2",
   "language": "python",
   "name": "python2"
  },
  "language_info": {
   "codemirror_mode": {
    "name": "ipython",
    "version": 2
   },
   "file_extension": ".py",
   "mimetype": "text/x-python",
   "name": "python",
   "nbconvert_exporter": "python",
   "pygments_lexer": "ipython2",
   "version": "2.7.15"
  }
 },
 "nbformat": 4,
 "nbformat_minor": 2
}
