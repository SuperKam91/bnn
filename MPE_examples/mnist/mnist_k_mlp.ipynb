{
 "cells": [
  {
   "cell_type": "code",
   "execution_count": 1,
   "metadata": {},
   "outputs": [
    {
     "name": "stderr",
     "output_type": "stream",
     "text": [
      "/home/astrophysics/anaconda2/lib/python2.7/site-packages/h5py/__init__.py:36: FutureWarning: Conversion of the second argument of issubdtype from `float` to `np.floating` is deprecated. In future, it will be treated as `np.float64 == np.dtype(float).type`.\n",
      "  from ._conv import register_converters as _register_converters\n"
     ]
    }
   ],
   "source": [
    "'''Trains a simple deep NN on the MNIST dataset.\n",
    "Gets to 98.40% test accuracy after 20 epochs\n",
    "(there is *a lot* of margin for parameter tuning).\n",
    "2 seconds per epoch on a K520 GPU.\n",
    "Adapted from https://github.com/keras-team/keras/blob/master/examples/mnist_mlp.py\n",
    "'''\n",
    "#installation of keras is screwed on ap laptop, so have to use tf module to use it.\n",
    "#for some reason can't import tf.keras, or tf.keras.other, so have to bind to names as follows\n",
    "import tensorflow as tf\n",
    "mnist = tf.keras.datasets.mnist\n",
    "Model = tf.keras.models.Model\n",
    "Input = tf.keras.layers.Input\n",
    "Dense = tf.keras.layers.Dense\n",
    "Dropout = tf.keras.layers.Dropout"
   ]
  },
  {
   "cell_type": "code",
   "execution_count": 2,
   "metadata": {},
   "outputs": [],
   "source": [
    "#number of epochs changed from 20 to 12 to match cnn example\n",
    "batch_size = 128\n",
    "num_classes = 10\n",
    "epochs = 12\n",
    "inp_shape = 784"
   ]
  },
  {
   "cell_type": "code",
   "execution_count": 3,
   "metadata": {},
   "outputs": [],
   "source": [
    "# the data, split between train and test sets\n",
    "#training set is 60k images, test set is 10k\n",
    "(x_train, y_train), (x_test, y_test) = mnist.load_data()"
   ]
  },
  {
   "cell_type": "code",
   "execution_count": 4,
   "metadata": {},
   "outputs": [
    {
     "name": "stdout",
     "output_type": "stream",
     "text": [
      "(10000,)\n"
     ]
    }
   ],
   "source": [
    "#flatten images for fully connected layer\n",
    "x_train = x_train.reshape(60000, inp_shape)\n",
    "x_test = x_test.reshape(10000, inp_shape)\n",
    "\n",
    "x_train = x_train.astype('float32')\n",
    "x_test = x_test.astype('float32')\n",
    "\n",
    "#normalise input value ranges to [0,1]\n",
    "x_train /= 255\n",
    "x_test /= 255\n",
    "\n",
    "# convert class scalars to binary class vectors\n",
    "y_train = tf.keras.utils.to_categorical(y_train, num_classes)\n",
    "y_test = tf.keras.utils.to_categorical(y_test, num_classes)"
   ]
  },
  {
   "cell_type": "code",
   "execution_count": 18,
   "metadata": {},
   "outputs": [],
   "source": [
    "def mlp_model1():\n",
    "    \"\"\"\n",
    "    keras model builder (using model api) for mlp for mnist classification.\n",
    "    one used in original tf example.\n",
    "    roughly 670k parameters.\n",
    "    \"\"\"\n",
    "    a0 = Input(shape = (inp_shape,))\n",
    "    a1 = Dense(512, activation = 'relu')(a0)\n",
    "    a1 = Dropout(0.2)(a1)\n",
    "    a2 = Dense(512, activation='relu')(a1)\n",
    "    a2 = Dropout(0.2)(a2)\n",
    "    prediction = Dense(num_classes, activation='softmax')(a2)\n",
    "    return Model(inputs = a0, outputs = prediction)\n",
    "\n",
    "def mlp_model2():\n",
    "    \"\"\"\n",
    "    slightly modified version of tf example (dropout changed to 0.25 to match cnn examples).\n",
    "    roughly 670k parameters\n",
    "    98.25% accuracy after 12 epochs.\n",
    "    \"\"\"\n",
    "    a0 = Input(shape = (inp_shape,))\n",
    "    a1 = Dense(512, activation = 'relu')(a0)\n",
    "    a1 = Dropout(0.25)(a1)\n",
    "    a2 = Dense(512, activation='relu')(a1)\n",
    "    a2 = Dropout(0.25)(a2)\n",
    "    prediction = Dense(num_classes, activation='softmax')(a2)\n",
    "    return Model(inputs = a0, outputs = prediction)\n",
    "\n",
    "def mlp_model3():\n",
    "    \"\"\"\n",
    "    modified version of mlp_model2 with much smaller layers.\n",
    "    roughly 23k parameters.\n",
    "    94% accuracy after 12 epochs.\n",
    "    \"\"\"\n",
    "    a0 = Input(shape = (inp_shape,))\n",
    "    a1 = Dense(28, activation = 'relu')(a0)\n",
    "    a1 = Dropout(0.25)(a1)\n",
    "    a2 = Dense(28, activation='relu')(a1)\n",
    "    a2 = Dropout(0.25)(a2)\n",
    "    prediction = Dense(num_classes, activation='softmax')(a2)\n",
    "    return Model(inputs = a0, outputs = prediction)\n",
    "\n",
    "def mlp_model4():\n",
    "    \"\"\"\n",
    "    even smaller version of mlp_model2.\n",
    "    roughly 13k parameters.\n",
    "    91.5% accuracy after 12 epochs.\n",
    "    \n",
    "    \"\"\"\n",
    "    a0 = Input(shape = (inp_shape,))\n",
    "    a1 = Dense(16, activation = 'relu')(a0)\n",
    "    a1 = Dropout(0.25)(a1)\n",
    "    a2 = Dense(16, activation='relu')(a1)\n",
    "    a2 = Dropout(0.25)(a2)\n",
    "    prediction = Dense(num_classes, activation='softmax')(a2)\n",
    "    return Model(inputs = a0, outputs = prediction)"
   ]
  },
  {
   "cell_type": "code",
   "execution_count": null,
   "metadata": {},
   "outputs": [],
   "source": [
    "#optimiser changed from rmsprop to adadelta to match cnn examples"
   ]
  },
  {
   "cell_type": "code",
   "execution_count": 9,
   "metadata": {},
   "outputs": [
    {
     "name": "stdout",
     "output_type": "stream",
     "text": [
      "_________________________________________________________________\n",
      "Layer (type)                 Output Shape              Param #   \n",
      "=================================================================\n",
      "input_2 (InputLayer)         (None, 784)               0         \n",
      "_________________________________________________________________\n",
      "dense_4 (Dense)              (None, 512)               401920    \n",
      "_________________________________________________________________\n",
      "dropout_3 (Dropout)          (None, 512)               0         \n",
      "_________________________________________________________________\n",
      "dense_5 (Dense)              (None, 512)               262656    \n",
      "_________________________________________________________________\n",
      "dropout_4 (Dropout)          (None, 512)               0         \n",
      "_________________________________________________________________\n",
      "dense_6 (Dense)              (None, 10)                5130      \n",
      "=================================================================\n",
      "Total params: 669,706\n",
      "Trainable params: 669,706\n",
      "Non-trainable params: 0\n",
      "_________________________________________________________________\n"
     ]
    }
   ],
   "source": [
    "model1 = mlp_model1()\n",
    "model1.summary()\n",
    "model1.compile(optimizer='adadelta',\n",
    "              loss='categorical_crossentropy',\n",
    "              metrics=['accuracy'])"
   ]
  },
  {
   "cell_type": "code",
   "execution_count": 10,
   "metadata": {},
   "outputs": [
    {
     "name": "stdout",
     "output_type": "stream",
     "text": [
      "_________________________________________________________________\n",
      "Layer (type)                 Output Shape              Param #   \n",
      "=================================================================\n",
      "input_3 (InputLayer)         (None, 784)               0         \n",
      "_________________________________________________________________\n",
      "dense_7 (Dense)              (None, 512)               401920    \n",
      "_________________________________________________________________\n",
      "dropout_5 (Dropout)          (None, 512)               0         \n",
      "_________________________________________________________________\n",
      "dense_8 (Dense)              (None, 512)               262656    \n",
      "_________________________________________________________________\n",
      "dropout_6 (Dropout)          (None, 512)               0         \n",
      "_________________________________________________________________\n",
      "dense_9 (Dense)              (None, 10)                5130      \n",
      "=================================================================\n",
      "Total params: 669,706\n",
      "Trainable params: 669,706\n",
      "Non-trainable params: 0\n",
      "_________________________________________________________________\n"
     ]
    }
   ],
   "source": [
    "model2 = mlp_model2()\n",
    "model2.summary()\n",
    "model2.compile(optimizer='adadelta',\n",
    "              loss='categorical_crossentropy',\n",
    "              metrics=['accuracy'])"
   ]
  },
  {
   "cell_type": "code",
   "execution_count": 15,
   "metadata": {},
   "outputs": [
    {
     "name": "stdout",
     "output_type": "stream",
     "text": [
      "_________________________________________________________________\n",
      "Layer (type)                 Output Shape              Param #   \n",
      "=================================================================\n",
      "input_4 (InputLayer)         (None, 784)               0         \n",
      "_________________________________________________________________\n",
      "dense_10 (Dense)             (None, 28)                21980     \n",
      "_________________________________________________________________\n",
      "dropout_7 (Dropout)          (None, 28)                0         \n",
      "_________________________________________________________________\n",
      "dense_11 (Dense)             (None, 28)                812       \n",
      "_________________________________________________________________\n",
      "dropout_8 (Dropout)          (None, 28)                0         \n",
      "_________________________________________________________________\n",
      "dense_12 (Dense)             (None, 10)                290       \n",
      "=================================================================\n",
      "Total params: 23,082\n",
      "Trainable params: 23,082\n",
      "Non-trainable params: 0\n",
      "_________________________________________________________________\n"
     ]
    }
   ],
   "source": [
    "model3 = mlp_model3()\n",
    "model3.summary()\n",
    "model3.compile(optimizer='adadelta',\n",
    "              loss='categorical_crossentropy',\n",
    "              metrics=['accuracy'])"
   ]
  },
  {
   "cell_type": "code",
   "execution_count": 19,
   "metadata": {},
   "outputs": [
    {
     "name": "stdout",
     "output_type": "stream",
     "text": [
      "_________________________________________________________________\n",
      "Layer (type)                 Output Shape              Param #   \n",
      "=================================================================\n",
      "input_5 (InputLayer)         (None, 784)               0         \n",
      "_________________________________________________________________\n",
      "dense_13 (Dense)             (None, 16)                12560     \n",
      "_________________________________________________________________\n",
      "dropout_9 (Dropout)          (None, 16)                0         \n",
      "_________________________________________________________________\n",
      "dense_14 (Dense)             (None, 16)                272       \n",
      "_________________________________________________________________\n",
      "dropout_10 (Dropout)         (None, 16)                0         \n",
      "_________________________________________________________________\n",
      "dense_15 (Dense)             (None, 10)                170       \n",
      "=================================================================\n",
      "Total params: 13,002\n",
      "Trainable params: 13,002\n",
      "Non-trainable params: 0\n",
      "_________________________________________________________________\n"
     ]
    }
   ],
   "source": [
    "model4 = mlp_model4()\n",
    "model4.summary()\n",
    "model4.compile(optimizer='adadelta',\n",
    "              loss='categorical_crossentropy',\n",
    "              metrics=['accuracy'])"
   ]
  },
  {
   "cell_type": "code",
   "execution_count": 15,
   "metadata": {},
   "outputs": [
    {
     "data": {
      "text/plain": [
       "<tf.Tensor 'input_7:0' shape=(?, 784) dtype=float32>"
      ]
     },
     "execution_count": 15,
     "metadata": {},
     "output_type": "execute_result"
    }
   ],
   "source": [
    "#for illustrative purposes, get input tensor for dense1 layer\n",
    "dense1 = model1.get_layer('dense_1')\n",
    "print dense1.input\n",
    "#note, cannot get input tensor before running Model() (unless you look at output of tensor to be used as input)"
   ]
  },
  {
   "cell_type": "code",
   "execution_count": null,
   "metadata": {},
   "outputs": [],
   "source": [
    "history1 = model1.fit(x_train, y_train,\n",
    "                    batch_size=batch_size,\n",
    "                    epochs=epochs,\n",
    "                    verbose=1,\n",
    "validation_data=(x_test, y_test))"
   ]
  },
  {
   "cell_type": "code",
   "execution_count": 11,
   "metadata": {
    "scrolled": false
   },
   "outputs": [
    {
     "name": "stdout",
     "output_type": "stream",
     "text": [
      "Train on 60000 samples, validate on 10000 samples\n",
      "Epoch 1/12\n",
      "60000/60000 [==============================]60000/60000 [==============================] - 55s 916us/step - loss: 0.3732 - acc: 0.8903 - val_loss: 0.1636 - val_acc: 0.9494\n",
      "\n",
      "Epoch 2/12\n",
      "60000/60000 [==============================]60000/60000 [==============================] - 59s 976us/step - loss: 0.1636 - acc: 0.9520 - val_loss: 0.1168 - val_acc: 0.9647\n",
      "\n",
      "Epoch 3/12\n",
      "60000/60000 [==============================]60000/60000 [==============================] - 56s 933us/step - loss: 0.1193 - acc: 0.9644 - val_loss: 0.0918 - val_acc: 0.9706\n",
      "\n",
      "Epoch 4/12\n",
      "60000/60000 [==============================]60000/60000 [==============================] - 47s 787us/step - loss: 0.0953 - acc: 0.9714 - val_loss: 0.0781 - val_acc: 0.9753\n",
      "\n",
      "Epoch 5/12\n",
      "60000/60000 [==============================]60000/60000 [==============================] - 56s 941us/step - loss: 0.0776 - acc: 0.9768 - val_loss: 0.0724 - val_acc: 0.9781\n",
      "\n",
      "Epoch 6/12\n",
      "60000/60000 [==============================]60000/60000 [==============================] - 61s 1ms/step - loss: 0.0676 - acc: 0.9792 - val_loss: 0.0704 - val_acc: 0.9778\n",
      "\n",
      "Epoch 7/12\n",
      "60000/60000 [==============================]60000/60000 [==============================] - 51s 855us/step - loss: 0.0581 - acc: 0.9818 - val_loss: 0.0677 - val_acc: 0.9783\n",
      "\n",
      "Epoch 8/12\n",
      "60000/60000 [==============================]60000/60000 [==============================] - 51s 842us/step - loss: 0.0519 - acc: 0.9843 - val_loss: 0.0626 - val_acc: 0.9805\n",
      "\n",
      "Epoch 9/12\n",
      "60000/60000 [==============================]60000/60000 [==============================] - 48s 805us/step - loss: 0.0452 - acc: 0.9859 - val_loss: 0.0647 - val_acc: 0.9785\n",
      "\n",
      "Epoch 10/12\n",
      "60000/60000 [==============================]60000/60000 [==============================] - 48s 799us/step - loss: 0.0407 - acc: 0.9874 - val_loss: 0.0607 - val_acc: 0.9813\n",
      "\n",
      "Epoch 11/12\n",
      "60000/60000 [==============================]60000/60000 [==============================] - 60s 999us/step - loss: 0.0376 - acc: 0.9886 - val_loss: 0.0607 - val_acc: 0.9825\n",
      "\n",
      "Epoch 12/12\n",
      "60000/60000 [==============================]60000/60000 [==============================] - 58s 970us/step - loss: 0.0324 - acc: 0.9900 - val_loss: 0.0593 - val_acc: 0.9824\n",
      "\n"
     ]
    }
   ],
   "source": [
    "history2 = model2.fit(x_train, y_train,\n",
    "                    batch_size=batch_size,\n",
    "                    epochs=epochs,\n",
    "                    verbose=1,\n",
    "validation_data=(x_test, y_test))"
   ]
  },
  {
   "cell_type": "code",
   "execution_count": 16,
   "metadata": {},
   "outputs": [
    {
     "name": "stdout",
     "output_type": "stream",
     "text": [
      "Train on 60000 samples, validate on 10000 samples\n",
      "Epoch 1/12\n",
      "60000/60000 [==============================]60000/60000 [==============================] - 5s 85us/step - loss: 1.1496 - acc: 0.6210 - val_loss: 0.4274 - val_acc: 0.8859\n",
      "\n",
      "Epoch 2/12\n",
      "60000/60000 [==============================]60000/60000 [==============================] - 6s 95us/step - loss: 0.6336 - acc: 0.8022 - val_loss: 0.3340 - val_acc: 0.9061\n",
      "\n",
      "Epoch 3/12\n",
      "60000/60000 [==============================]60000/60000 [==============================] - 5s 77us/step - loss: 0.5359 - acc: 0.8347 - val_loss: 0.2977 - val_acc: 0.9134\n",
      "\n",
      "Epoch 4/12\n",
      "60000/60000 [==============================]60000/60000 [==============================] - 5s 87us/step - loss: 0.4888 - acc: 0.8519 - val_loss: 0.2713 - val_acc: 0.9209\n",
      "\n",
      "Epoch 5/12\n",
      "60000/60000 [==============================]60000/60000 [==============================] - 5s 84us/step - loss: 0.4560 - acc: 0.8628 - val_loss: 0.2560 - val_acc: 0.9247\n",
      "\n",
      "Epoch 6/12\n",
      "60000/60000 [==============================]60000/60000 [==============================] - 5s 85us/step - loss: 0.4346 - acc: 0.8706 - val_loss: 0.2451 - val_acc: 0.9271\n",
      "\n",
      "Epoch 7/12\n",
      "60000/60000 [==============================]60000/60000 [==============================] - 5s 82us/step - loss: 0.4188 - acc: 0.8760 - val_loss: 0.2330 - val_acc: 0.9305\n",
      "\n",
      "Epoch 8/12\n",
      "60000/60000 [==============================]60000/60000 [==============================] - 7s 114us/step - loss: 0.4018 - acc: 0.8796 - val_loss: 0.2270 - val_acc: 0.9328\n",
      "\n",
      "Epoch 9/12\n",
      "60000/60000 [==============================]60000/60000 [==============================] - 5s 84us/step - loss: 0.3847 - acc: 0.8844 - val_loss: 0.2180 - val_acc: 0.9364\n",
      "\n",
      "Epoch 10/12\n",
      "60000/60000 [==============================]60000/60000 [==============================] - 5s 81us/step - loss: 0.3722 - acc: 0.8890 - val_loss: 0.2122 - val_acc: 0.9360\n",
      "\n",
      "Epoch 11/12\n",
      "60000/60000 [==============================]60000/60000 [==============================] - 5s 78us/step - loss: 0.3683 - acc: 0.8907 - val_loss: 0.2078 - val_acc: 0.9391\n",
      "\n",
      "Epoch 12/12\n",
      "60000/60000 [==============================]60000/60000 [==============================] - 6s 102us/step - loss: 0.3563 - acc: 0.8940 - val_loss: 0.2039 - val_acc: 0.9404\n",
      "\n"
     ]
    }
   ],
   "source": [
    "history3 = model3.fit(x_train, y_train,\n",
    "                    batch_size=batch_size,\n",
    "                    epochs=epochs,\n",
    "                    verbose=1,\n",
    "validation_data=(x_test, y_test))"
   ]
  },
  {
   "cell_type": "code",
   "execution_count": 20,
   "metadata": {},
   "outputs": [
    {
     "name": "stdout",
     "output_type": "stream",
     "text": [
      "Train on 60000 samples, validate on 10000 samples\n",
      "Epoch 1/12\n",
      "60000/60000 [==============================]60000/60000 [==============================] - 5s 91us/step - loss: 1.5546 - acc: 0.4467 - val_loss: 0.6980 - val_acc: 0.8436\n",
      "\n",
      "Epoch 2/12\n",
      "60000/60000 [==============================]60000/60000 [==============================] - 5s 79us/step - loss: 0.9547 - acc: 0.6859 - val_loss: 0.5034 - val_acc: 0.8760\n",
      "\n",
      "Epoch 3/12\n",
      "60000/60000 [==============================]60000/60000 [==============================] - 5s 82us/step - loss: 0.8287 - acc: 0.7299 - val_loss: 0.4303 - val_acc: 0.8912\n",
      "\n",
      "Epoch 4/12\n",
      "60000/60000 [==============================]60000/60000 [==============================] - 5s 82us/step - loss: 0.7728 - acc: 0.7515 - val_loss: 0.3971 - val_acc: 0.8980\n",
      "\n",
      "Epoch 5/12\n",
      "60000/60000 [==============================]60000/60000 [==============================] - 5s 80us/step - loss: 0.7311 - acc: 0.7671 - val_loss: 0.3709 - val_acc: 0.9013\n",
      "\n",
      "Epoch 6/12\n",
      "60000/60000 [==============================]60000/60000 [==============================] - 5s 75us/step - loss: 0.6990 - acc: 0.7778 - val_loss: 0.3582 - val_acc: 0.9042\n",
      "\n",
      "Epoch 7/12\n",
      "60000/60000 [==============================]60000/60000 [==============================] - 5s 79us/step - loss: 0.6770 - acc: 0.7842 - val_loss: 0.3459 - val_acc: 0.9061\n",
      "\n",
      "Epoch 8/12\n",
      "60000/60000 [==============================]60000/60000 [==============================] - 5s 81us/step - loss: 0.6652 - acc: 0.7897 - val_loss: 0.3345 - val_acc: 0.9095\n",
      "\n",
      "Epoch 9/12\n",
      "60000/60000 [==============================]60000/60000 [==============================] - 5s 83us/step - loss: 0.6502 - acc: 0.7957 - val_loss: 0.3259 - val_acc: 0.9105\n",
      "\n",
      "Epoch 10/12\n",
      "60000/60000 [==============================]60000/60000 [==============================] - 5s 86us/step - loss: 0.6342 - acc: 0.8002 - val_loss: 0.3191 - val_acc: 0.9127\n",
      "\n",
      "Epoch 11/12\n",
      "60000/60000 [==============================]60000/60000 [==============================] - 5s 81us/step - loss: 0.6298 - acc: 0.8009 - val_loss: 0.3117 - val_acc: 0.9137\n",
      "\n",
      "Epoch 12/12\n",
      "60000/60000 [==============================]60000/60000 [==============================] - 5s 86us/step - loss: 0.6176 - acc: 0.8060 - val_loss: 0.3047 - val_acc: 0.9144\n",
      "\n"
     ]
    }
   ],
   "source": [
    "history4 = model4.fit(x_train, y_train,\n",
    "                    batch_size=batch_size,\n",
    "                    epochs=epochs,\n",
    "                    verbose=1,\n",
    "validation_data=(x_test, y_test))"
   ]
  },
  {
   "cell_type": "code",
   "execution_count": null,
   "metadata": {},
   "outputs": [],
   "source": [
    "score1 = model1.evaluate(x_test, y_test, verbose=0)\n",
    "print('Test loss:', score1[0])\n",
    "print('Test accuracy:', score1[1])"
   ]
  },
  {
   "cell_type": "code",
   "execution_count": 13,
   "metadata": {},
   "outputs": [
    {
     "name": "stdout",
     "output_type": "stream",
     "text": [
      "('Test loss:', 0.05933389719272382)\n",
      "('Test accuracy:', 0.9824)\n"
     ]
    }
   ],
   "source": [
    "score2 = model2.evaluate(x_test, y_test, verbose=0)\n",
    "print('Test loss:', score2[0])\n",
    "print('Test accuracy:', score2[1])"
   ]
  },
  {
   "cell_type": "code",
   "execution_count": 17,
   "metadata": {},
   "outputs": [
    {
     "name": "stdout",
     "output_type": "stream",
     "text": [
      "('Test loss:', 0.2038772569000721)\n",
      "('Test accuracy:', 0.9404)\n"
     ]
    }
   ],
   "source": [
    "score3 = model3.evaluate(x_test, y_test, verbose=0)\n",
    "print('Test loss:', score3[0])\n",
    "print('Test accuracy:', score3[1])"
   ]
  },
  {
   "cell_type": "code",
   "execution_count": 21,
   "metadata": {},
   "outputs": [
    {
     "name": "stdout",
     "output_type": "stream",
     "text": [
      "('Test loss:', 0.30465324751734735)\n",
      "('Test accuracy:', 0.9144)\n"
     ]
    }
   ],
   "source": [
    "score4 = model4.evaluate(x_test, y_test, verbose=0)\n",
    "print('Test loss:', score4[0])\n",
    "print('Test accuracy:', score4[1])"
   ]
  },
  {
   "cell_type": "code",
   "execution_count": null,
   "metadata": {},
   "outputs": [],
   "source": []
  }
 ],
 "metadata": {
  "kernelspec": {
   "display_name": "Python 2",
   "language": "python",
   "name": "python2"
  },
  "language_info": {
   "codemirror_mode": {
    "name": "ipython",
    "version": 2
   },
   "file_extension": ".py",
   "mimetype": "text/x-python",
   "name": "python",
   "nbconvert_exporter": "python",
   "pygments_lexer": "ipython2",
   "version": "2.7.15"
  }
 },
 "nbformat": 4,
 "nbformat_minor": 2
}
