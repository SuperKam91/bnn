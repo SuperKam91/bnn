{
 "cells": [
  {
   "cell_type": "code",
   "execution_count": 1,
   "metadata": {
    "scrolled": true
   },
   "outputs": [
    {
     "name": "stderr",
     "output_type": "stream",
     "text": [
      "/home/astrophysics/anaconda2/lib/python2.7/site-packages/h5py/__init__.py:36: FutureWarning: Conversion of the second argument of issubdtype from `float` to `np.floating` is deprecated. In future, it will be treated as `np.float64 == np.dtype(float).type`.\n",
      "  from ._conv import register_converters as _register_converters\n"
     ]
    },
    {
     "name": "stdout",
     "output_type": "stream",
     "text": [
      "WARNING: Could not preload libmpi.so.If you are running with MPI, this may cause segfaults\n"
     ]
    }
   ],
   "source": [
    "import numpy as np\n",
    "import tensorflow as tf\n",
    "import tools\n",
    "import metrics\n",
    "import keras_losses as kl\n",
    "import keras_models as kms\n",
    "import bnn_predictions as bnn"
   ]
  },
  {
   "cell_type": "code",
   "execution_count": 2,
   "metadata": {},
   "outputs": [],
   "source": [
    "run_ns = range(1,11)\n",
    "#architecture parameters\n",
    "num_inputs = 13\n",
    "num_outputs = 1\n",
    "layer_sizes = []\n",
    "m = 506 #total number of records\n",
    "training_size = 253. / 506.\n",
    "test_size = 1 - training_size\n",
    "test_num = int(np.ceil(m * test_size))"
   ]
  },
  {
   "cell_type": "code",
   "execution_count": 3,
   "metadata": {},
   "outputs": [],
   "source": [
    "#following loops could easily be included into same loop, but currently have them separate for clarity"
   ]
  },
  {
   "cell_type": "code",
   "execution_count": 41,
   "metadata": {},
   "outputs": [],
   "source": [
    "MPE_test_losses = []\n",
    "for run_n in run_ns:\n",
    "    #load data\n",
    "    x_test = np.genfromtxt(\"../../data/uci/bh_50_x_te_\" + str(run_n) + \".csv\", delimiter = ',')\n",
    "    y_test = np.genfromtxt(\"../../data/uci/bh_50_y_te_\" + str(run_n) + \".csv\", delimiter = ',')\n",
    "    #load keras MPE model\n",
    "    model_r = tf.keras.models.load_model(\"../../MPE_examples/saved_keras_models/uci/bh_50_slp_\" + str(run_n) + \".h5\", custom_objects={'sum_of_squared_errors': kl.sum_of_squared_errors})\n",
    "    #calculate evaluation metrics for keras MPE\n",
    "    y_pred_r = model_r.predict(x_test)\n",
    "    y_test, y_pred_r = tools.check_dtypes(y_test, y_pred_r)\n",
    "    y_test = y_test.reshape(-1,1)\n",
    "    test_loss_r = metrics.mean_squared_error(y_test, y_pred_r) #averaged over test set size\n",
    "    MPE_test_losses.append(test_loss_r)"
   ]
  },
  {
   "cell_type": "code",
   "execution_count": 43,
   "metadata": {},
   "outputs": [],
   "source": [
    "#load in model from first run\n",
    "x_test = np.genfromtxt(\"../../data/uci/bh_50_x_te_\" + str(1) + \".csv\", delimiter = ',')\n",
    "y_test = np.genfromtxt(\"../../data/uci/bh_50_y_te_\" + str(1) + \".csv\", delimiter = ',')\n",
    "y_test = y_test.reshape(-1,1)\n",
    "#load keras MPE model\n",
    "model_r = tf.keras.models.load_model(\"../../MPE_examples/saved_keras_models/uci/bh_50_slp_\" + str(1) + \".h5\", custom_objects={'sum_of_squared_errors': kl.sum_of_squared_errors})\n",
    "#calculate evaluation metrics for keras MPE\n",
    "y_pred_r = model_r.predict(x_test)"
   ]
  },
  {
   "cell_type": "code",
   "execution_count": 44,
   "metadata": {},
   "outputs": [
    {
     "name": "stdout",
     "output_type": "stream",
     "text": [
      "('Test sum of squared loss:', 95.2628402709961)\n",
      "('Test mean squared loss:', 0.37552011013031006)\n"
     ]
    }
   ],
   "source": [
    "#this is for testing purposes \n",
    "#model.evaluate should be used with caution, as if mode contains regularisation, the method may include it\n",
    "#N.B. SEEMS THAT LOSS TERM DOES INCLUDE IT IN SOME SENSE, BUT METRIC TERM DOESN'T\n",
    "score_r = model_r.evaluate(x_test, y_test, verbose=0, batch_size=test_num)\n",
    "print('Test sum of squared loss:', score_r[0])\n",
    "print('Test mean squared loss:', score_r[1])"
   ]
  },
  {
   "cell_type": "code",
   "execution_count": 7,
   "metadata": {},
   "outputs": [
    {
     "name": "stdout",
     "output_type": "stream",
     "text": [
      "([0.26956007, 7.5576195e-06], 0.26956007)\n"
     ]
    },
    {
     "data": {
      "text/plain": [
       "[array([[-0.04792913],\n",
       "        [ 0.03673083],\n",
       "        [-0.05607983],\n",
       "        [ 0.07248197],\n",
       "        [-0.03298995],\n",
       "        [ 0.14594354],\n",
       "        [-0.03973474],\n",
       "        [-0.00864891],\n",
       "        [-0.02216069],\n",
       "        [-0.04240055],\n",
       "        [-0.09921065],\n",
       "        [ 0.0569996 ],\n",
       "        [-0.14558701]], dtype=float32), array([-7.5576195e-06], dtype=float32)]"
      ]
     },
     "execution_count": 7,
     "metadata": {},
     "output_type": "execute_result"
    }
   ],
   "source": [
    "print tools.get_km_weight_magnitudes(model_r)\n",
    "model_r.get_weights()"
   ]
  },
  {
   "cell_type": "code",
   "execution_count": 7,
   "metadata": {},
   "outputs": [],
   "source": [
    "#cpp bnn"
   ]
  },
  {
   "cell_type": "code",
   "execution_count": 31,
   "metadata": {},
   "outputs": [],
   "source": [
    "# bnn expected estimates\n",
    "bnn_test_losses = []\n",
    "for run_n in run_ns:\n",
    "    chains_file = '../cpp_models/cpp_chains/bh_50_slp_' + str(run_n) + '.txt'\n",
    "    x_test = np.genfromtxt(\"../../data/uci/bh_50_x_te_\" + str(run_n) + \".csv\", delimiter=',')\n",
    "    y_test = np.genfromtxt(\"../../data/uci/bh_50_y_te_\" + str(run_n) + \".csv\", delimiter=',')\n",
    "    y_test = y_test.reshape(-1,1)\n",
    "    bmodel = kms.slp(num_inputs, num_outputs, layer_sizes)\n",
    "    bnn_model = bnn.bnn_predictor(bmodel, x_test, y_test, chains_file)\n",
    "    by_pred = bnn_model.predictions_expectation()\n",
    "    y_test, by_pred = tools.check_dtypes(y_test, by_pred)\n",
    "    b_test_loss = metrics.mean_squared_error(y_test, by_pred)\n",
    "    b_test_acc = metrics.mean_squared_error(y_test, by_pred)\n",
    "    bnn_test_losses.append(b_test_loss)"
   ]
  },
  {
   "cell_type": "code",
   "execution_count": 30,
   "metadata": {},
   "outputs": [
    {
     "ename": "ValueError",
     "evalue": "Error when checking : expected input_14 to have shape (None, 13) but got array with shape (16, 14)",
     "output_type": "error",
     "traceback": [
      "\u001b[0;31m---------------------------------------------------------------------------\u001b[0m",
      "\u001b[0;31mValueError\u001b[0m                                Traceback (most recent call last)",
      "\u001b[0;32m<ipython-input-30-473b09cd159f>\u001b[0m in \u001b[0;36m<module>\u001b[0;34m()\u001b[0m\n\u001b[1;32m      8\u001b[0m     \u001b[0mbmodel\u001b[0m \u001b[0;34m=\u001b[0m \u001b[0mkms\u001b[0m\u001b[0;34m.\u001b[0m\u001b[0mslp\u001b[0m\u001b[0;34m(\u001b[0m\u001b[0mnum_inputs\u001b[0m\u001b[0;34m,\u001b[0m \u001b[0mnum_outputs\u001b[0m\u001b[0;34m,\u001b[0m \u001b[0mlayer_sizes\u001b[0m\u001b[0;34m)\u001b[0m\u001b[0;34m\u001b[0m\u001b[0m\n\u001b[1;32m      9\u001b[0m     \u001b[0mbnn_model\u001b[0m \u001b[0;34m=\u001b[0m \u001b[0mbnn\u001b[0m\u001b[0;34m.\u001b[0m\u001b[0mbnn_predictor\u001b[0m\u001b[0;34m(\u001b[0m\u001b[0mbmodel\u001b[0m\u001b[0;34m,\u001b[0m \u001b[0mx_test\u001b[0m\u001b[0;34m,\u001b[0m \u001b[0my_test\u001b[0m\u001b[0;34m,\u001b[0m \u001b[0mchains_file\u001b[0m\u001b[0;34m)\u001b[0m\u001b[0;34m\u001b[0m\u001b[0m\n\u001b[0;32m---> 10\u001b[0;31m     \u001b[0mby_pred\u001b[0m \u001b[0;34m=\u001b[0m \u001b[0mbnn_model\u001b[0m\u001b[0;34m.\u001b[0m\u001b[0mMPE_prediction\u001b[0m\u001b[0;34m(\u001b[0m\u001b[0;34m)\u001b[0m\u001b[0;34m\u001b[0m\u001b[0m\n\u001b[0m\u001b[1;32m     11\u001b[0m     \u001b[0my_test\u001b[0m\u001b[0;34m,\u001b[0m \u001b[0mby_pred\u001b[0m \u001b[0;34m=\u001b[0m \u001b[0mtools\u001b[0m\u001b[0;34m.\u001b[0m\u001b[0mcheck_dtypes\u001b[0m\u001b[0;34m(\u001b[0m\u001b[0my_test\u001b[0m\u001b[0;34m,\u001b[0m \u001b[0mby_pred\u001b[0m\u001b[0;34m)\u001b[0m\u001b[0;34m\u001b[0m\u001b[0m\n\u001b[1;32m     12\u001b[0m     \u001b[0mb_test_loss\u001b[0m \u001b[0;34m=\u001b[0m \u001b[0mmetrics\u001b[0m\u001b[0;34m.\u001b[0m\u001b[0mcategorical_crossentropy\u001b[0m\u001b[0;34m(\u001b[0m\u001b[0my_test\u001b[0m\u001b[0;34m,\u001b[0m \u001b[0mby_pred\u001b[0m\u001b[0;34m)\u001b[0m\u001b[0;34m\u001b[0m\u001b[0m\n",
      "\u001b[0;32m/home/astrophysics/bnn/forward_models/python_models/bnn_predictions.pyc\u001b[0m in \u001b[0;36mMPE_prediction\u001b[0;34m(self)\u001b[0m\n\u001b[1;32m     64\u001b[0m                 \u001b[0mMPE_nn_param_set\u001b[0m \u001b[0;34m=\u001b[0m \u001b[0mself\u001b[0m\u001b[0;34m.\u001b[0m\u001b[0mnn_param_sets\u001b[0m\u001b[0;34m[\u001b[0m\u001b[0margmax\u001b[0m\u001b[0;34m]\u001b[0m\u001b[0;34m\u001b[0m\u001b[0m\n\u001b[1;32m     65\u001b[0m                 \u001b[0mself\u001b[0m\u001b[0;34m.\u001b[0m\u001b[0mset_k_weights\u001b[0m\u001b[0;34m(\u001b[0m\u001b[0mMPE_nn_param_set\u001b[0m\u001b[0;34m)\u001b[0m\u001b[0;34m\u001b[0m\u001b[0m\n\u001b[0;32m---> 66\u001b[0;31m                 \u001b[0;32mreturn\u001b[0m \u001b[0mself\u001b[0m\u001b[0;34m.\u001b[0m\u001b[0mmodel\u001b[0m\u001b[0;34m.\u001b[0m\u001b[0mpredict\u001b[0m\u001b[0;34m(\u001b[0m\u001b[0mself\u001b[0m\u001b[0;34m.\u001b[0m\u001b[0mx\u001b[0m\u001b[0;34m)\u001b[0m\u001b[0;34m\u001b[0m\u001b[0m\n\u001b[0m\u001b[1;32m     67\u001b[0m \u001b[0;34m\u001b[0m\u001b[0m\n\u001b[1;32m     68\u001b[0m         \u001b[0;32mdef\u001b[0m \u001b[0mMLE_prediction\u001b[0m\u001b[0;34m(\u001b[0m\u001b[0mself\u001b[0m\u001b[0;34m)\u001b[0m\u001b[0;34m:\u001b[0m\u001b[0;34m\u001b[0m\u001b[0m\n",
      "\u001b[0;32m/home/astrophysics/anaconda2/lib/python2.7/site-packages/tensorflow/python/keras/_impl/keras/engine/training.pyc\u001b[0m in \u001b[0;36mpredict\u001b[0;34m(self, x, batch_size, verbose, steps)\u001b[0m\n\u001b[1;32m   1793\u001b[0m         \u001b[0mself\u001b[0m\u001b[0;34m.\u001b[0m\u001b[0m_feed_input_names\u001b[0m\u001b[0;34m,\u001b[0m\u001b[0;34m\u001b[0m\u001b[0m\n\u001b[1;32m   1794\u001b[0m         \u001b[0mself\u001b[0m\u001b[0;34m.\u001b[0m\u001b[0m_feed_input_shapes\u001b[0m\u001b[0;34m,\u001b[0m\u001b[0;34m\u001b[0m\u001b[0m\n\u001b[0;32m-> 1795\u001b[0;31m         check_batch_axis=False)\n\u001b[0m\u001b[1;32m   1796\u001b[0m     \u001b[0;32mif\u001b[0m \u001b[0mself\u001b[0m\u001b[0;34m.\u001b[0m\u001b[0mstateful\u001b[0m\u001b[0;34m:\u001b[0m\u001b[0;34m\u001b[0m\u001b[0m\n\u001b[1;32m   1797\u001b[0m       \u001b[0;32mif\u001b[0m \u001b[0mx\u001b[0m\u001b[0;34m[\u001b[0m\u001b[0;36m0\u001b[0m\u001b[0;34m]\u001b[0m\u001b[0;34m.\u001b[0m\u001b[0mshape\u001b[0m\u001b[0;34m[\u001b[0m\u001b[0;36m0\u001b[0m\u001b[0;34m]\u001b[0m \u001b[0;34m>\u001b[0m \u001b[0mbatch_size\u001b[0m \u001b[0;32mand\u001b[0m \u001b[0mx\u001b[0m\u001b[0;34m[\u001b[0m\u001b[0;36m0\u001b[0m\u001b[0;34m]\u001b[0m\u001b[0;34m.\u001b[0m\u001b[0mshape\u001b[0m\u001b[0;34m[\u001b[0m\u001b[0;36m0\u001b[0m\u001b[0;34m]\u001b[0m \u001b[0;34m%\u001b[0m \u001b[0mbatch_size\u001b[0m \u001b[0;34m!=\u001b[0m \u001b[0;36m0\u001b[0m\u001b[0;34m:\u001b[0m\u001b[0;34m\u001b[0m\u001b[0m\n",
      "\u001b[0;32m/home/astrophysics/anaconda2/lib/python2.7/site-packages/tensorflow/python/keras/_impl/keras/engine/training.pyc\u001b[0m in \u001b[0;36m_standardize_input_data\u001b[0;34m(data, names, shapes, check_batch_axis, exception_prefix)\u001b[0m\n\u001b[1;32m    152\u001b[0m                              \u001b[0;34m': expected '\u001b[0m \u001b[0;34m+\u001b[0m \u001b[0mnames\u001b[0m\u001b[0;34m[\u001b[0m\u001b[0mi\u001b[0m\u001b[0;34m]\u001b[0m \u001b[0;34m+\u001b[0m \u001b[0;34m' to have shape '\u001b[0m \u001b[0;34m+\u001b[0m\u001b[0;34m\u001b[0m\u001b[0m\n\u001b[1;32m    153\u001b[0m                              \u001b[0mstr\u001b[0m\u001b[0;34m(\u001b[0m\u001b[0mshapes\u001b[0m\u001b[0;34m[\u001b[0m\u001b[0mi\u001b[0m\u001b[0;34m]\u001b[0m\u001b[0;34m)\u001b[0m \u001b[0;34m+\u001b[0m \u001b[0;34m' but got array with shape '\u001b[0m \u001b[0;34m+\u001b[0m\u001b[0;34m\u001b[0m\u001b[0m\n\u001b[0;32m--> 154\u001b[0;31m                              str(array.shape))\n\u001b[0m\u001b[1;32m    155\u001b[0m   \u001b[0;32mreturn\u001b[0m \u001b[0marrays\u001b[0m\u001b[0;34m\u001b[0m\u001b[0m\n\u001b[1;32m    156\u001b[0m \u001b[0;34m\u001b[0m\u001b[0m\n",
      "\u001b[0;31mValueError\u001b[0m: Error when checking : expected input_14 to have shape (None, 13) but got array with shape (16, 14)"
     ]
    }
   ],
   "source": [
    "# bnn MPE estimates\n",
    "bnn_MPE_test_losses = []\n",
    "for run_n in run_ns:\n",
    "    chains_file = '../cpp_models/cpp_chains/bh_50_slp_' + str(run_n) + '.txt'\n",
    "    x_test = np.genfromtxt(\"../../data/uci/bh_50_x_te_\" + str(run_n) + \".csv\", delimiter=',')\n",
    "    y_test = np.genfromtxt(\"../../data/uci/bh_50_y_te_\" + str(run_n) + \".csv\", delimiter=',')\n",
    "    y_test = y_test.reshape(-1,1)\n",
    "    bmodel = kms.slp(num_inputs, num_outputs, layer_sizes)\n",
    "    bnn_model = bnn.bnn_predictor(bmodel, x_test, y_test, chains_file)\n",
    "    by_pred = bnn_model.MPE_prediction()\n",
    "    y_test, by_pred = tools.check_dtypes(y_test, by_pred)\n",
    "    b_test_loss = metrics.mean_squared_error(y_test, by_pred)\n",
    "    bnn_MPE_test_losses.append(b_test_loss)"
   ]
  },
  {
   "cell_type": "code",
   "execution_count": 12,
   "metadata": {
    "scrolled": true
   },
   "outputs": [
    {
     "name": "stdout",
     "output_type": "stream",
     "text": [
      "[[-0.85722125  2.201045  ]\n",
      " [-1.128426   -0.9618036 ]\n",
      " [-0.01186933 -0.07161662]\n",
      " [-0.19148481  1.4325533 ]\n",
      " [-1.3325505  -1.288243  ]\n",
      " [ 1.5406443   0.49094737]\n",
      " [ 1.111408    2.7693534 ]\n",
      " [ 0.07202915  0.6641578 ]\n",
      " [-0.30221823  1.0426121 ]\n",
      " [-0.5718678   0.97703904]\n",
      " [ 1.7841057  -0.41787377]\n",
      " [-0.16570689 -0.02360797]\n",
      " [-1.1184111  -1.1554649 ]\n",
      " [-0.08572011 -0.22775735]]\n",
      "[-0.9668519 -1.263194 ]\n",
      "5.810641\n",
      "1.5907425\n",
      "6.024451\n",
      "([5.810641, 1.5907425], 6.024451)\n"
     ]
    }
   ],
   "source": [
    "print tools.get_km_weight_magnitudes(bnn_model.model)"
   ]
  },
  {
   "cell_type": "code",
   "execution_count": 42,
   "metadata": {},
   "outputs": [
    {
     "name": "stdout",
     "output_type": "stream",
     "text": [
      "[0.3755200976351585, 0.4310342366377511, 0.3055748111011398, 0.4016756274901759, 0.3061682867671988, 0.36535111052988056, 0.4083179007306738, 0.335208736172516, 0.2755627818288049, 0.29718509469210913]\n",
      "0.35015986835854085\n",
      "0.05095928137196495\n"
     ]
    }
   ],
   "source": [
    "print MPE_test_losses\n",
    "print np.mean(MPE_test_losses)\n",
    "print np.std(MPE_test_losses)"
   ]
  },
  {
   "cell_type": "code",
   "execution_count": 34,
   "metadata": {
    "scrolled": true
   },
   "outputs": [
    {
     "name": "stdout",
     "output_type": "stream",
     "text": [
      "[0.28373624897904387, 0.43408530398391826, 0.30772015412517006, 0.4017370011645803, 0.30664926346380283, 0.3650593383390473, 0.4086402663314116, 0.3346326578033962, 0.27587627825660727, 0.2972387508625599]\n",
      "0.3415375263309538\n",
      "0.05410025203529773\n"
     ]
    }
   ],
   "source": [
    "print bnn_test_losses\n",
    "print np.mean(bnn_test_losses)\n",
    "print np.std(bnn_test_losses)"
   ]
  },
  {
   "cell_type": "code",
   "execution_count": 14,
   "metadata": {},
   "outputs": [
    {
     "name": "stdout",
     "output_type": "stream",
     "text": [
      "[0.8409075339178537, 0.8671017332912981, 0.550785078166951, 0.7411403889394357, 0.25798395642442773, 0.7648644009996977, 0.27389507183596595, 0.6367651840596237, 0.9569289182702858, 0.5288760076862427]\n",
      "[0.5625, 0.625, 0.75, 0.625, 0.9375, 0.8125, 0.875, 0.8125, 0.625, 0.75]\n"
     ]
    }
   ],
   "source": [
    "print bnn_MPE_test_losses\n",
    "print bnn_MPE_test_accuracies"
   ]
  },
  {
   "cell_type": "code",
   "execution_count": 5,
   "metadata": {
    "scrolled": true
   },
   "outputs": [],
   "source": [
    "#just look at first run from cpp chains\n",
    "chains_file = '../cpp_models/cpp_chains/bh_50_slp_' + str(1) + '.txt'\n",
    "x_test = np.genfromtxt(\"../../data/uci/bh_50_x_te_\" + str(1) + \".csv\", delimiter=',')\n",
    "y_test = np.genfromtxt(\"../../data/uci/bh_50_y_te_\" + str(1) + \".csv\", delimiter=',')\n",
    "y_test = y_test.reshape(-1, 1)\n",
    "bmodel = kms.slp(num_inputs, num_outputs, layer_sizes)\n",
    "bnn_model = bnn.bnn_predictor(bmodel, x_test, y_test, chains_file)\n",
    "bnn_model.setup_LL('squared_error')"
   ]
  },
  {
   "cell_type": "code",
   "execution_count": 9,
   "metadata": {},
   "outputs": [],
   "source": [
    "bnn_model.y_pred_paramnames('bh_50_slp_pred_' + str(1))"
   ]
  },
  {
   "cell_type": "code",
   "execution_count": 11,
   "metadata": {},
   "outputs": [
    {
     "data": {
      "text/plain": [
       "array([[3.18120668e-154, 7.60750497e+002, 3.63046212e-007,\n",
       "        9.99999642e-001],\n",
       "       [7.49849493e-149, 7.36007763e+002, 3.97993386e-001,\n",
       "        6.02006614e-001],\n",
       "       [5.00839506e-140, 6.95366406e+002, 9.41447735e-001,\n",
       "        5.85522838e-002],\n",
       "       ...,\n",
       "       [1.56641763e-002, 1.61902841e+001, 9.68318820e-001,\n",
       "        3.16811278e-002],\n",
       "       [1.71406913e-002, 1.60101263e+001, 9.20546710e-001,\n",
       "        7.94532746e-002],\n",
       "       [2.66659221e-002, 1.51262639e+001, 9.51721430e-001,\n",
       "        4.82785702e-002]])"
      ]
     },
     "execution_count": 11,
     "metadata": {},
     "output_type": "execute_result"
    }
   ],
   "source": [
    "bnn_model.y_pred_chains('../cpp_models/cpp_chains/bh_50_slp_pred_' + str(1) + '_' + str(1), test_index = 1)"
   ]
  },
  {
   "cell_type": "code",
   "execution_count": 10,
   "metadata": {},
   "outputs": [
    {
     "data": {
      "text/plain": [
       "array([[6.9351736e-05, 9.9993062e-01],\n",
       "       [7.4244219e-01, 2.5755775e-01],\n",
       "       [4.2735225e-01, 5.7264781e-01],\n",
       "       [9.2278069e-01, 7.7219315e-02],\n",
       "       [2.0204382e-01, 7.9795611e-01],\n",
       "       [7.2129518e-01, 2.7870479e-01],\n",
       "       [5.0906497e-01, 4.9093500e-01],\n",
       "       [4.5925999e-04, 9.9954081e-01],\n",
       "       [3.8758034e-01, 6.1241972e-01],\n",
       "       [1.1770270e-01, 8.8229728e-01],\n",
       "       [9.8896092e-01, 1.1039097e-02],\n",
       "       [2.9892327e-02, 9.7010761e-01],\n",
       "       [7.9502410e-01, 2.0497583e-01],\n",
       "       [9.3773438e-04, 9.9906224e-01],\n",
       "       [5.5223264e-02, 9.4477671e-01],\n",
       "       [9.2320722e-01, 7.6792717e-02]], dtype=float32)"
      ]
     },
     "execution_count": 10,
     "metadata": {},
     "output_type": "execute_result"
    }
   ],
   "source": [
    "bnn_model.MPE_prediction()"
   ]
  },
  {
   "cell_type": "code",
   "execution_count": 12,
   "metadata": {},
   "outputs": [
    {
     "data": {
      "text/plain": [
       "array([[1.7810422e-05, 9.9998224e-01],\n",
       "       [9.5172143e-01, 4.8278570e-02],\n",
       "       [2.7556656e-02, 9.7244328e-01],\n",
       "       [9.9632108e-01, 3.6789160e-03],\n",
       "       [5.9966612e-01, 4.0033394e-01],\n",
       "       [8.6174303e-01, 1.3825704e-01],\n",
       "       [3.3111984e-01, 6.6888016e-01],\n",
       "       [3.4005450e-05, 9.9996603e-01],\n",
       "       [9.9820960e-01, 1.7903876e-03],\n",
       "       [4.8865047e-01, 5.1134950e-01],\n",
       "       [9.9952435e-01, 4.7566410e-04],\n",
       "       [2.6356284e-02, 9.7364378e-01],\n",
       "       [8.0469024e-01, 1.9530970e-01],\n",
       "       [9.4777233e-06, 9.9999046e-01],\n",
       "       [2.3397352e-01, 7.6602656e-01],\n",
       "       [8.8386852e-01, 1.1613145e-01]], dtype=float32)"
      ]
     },
     "execution_count": 12,
     "metadata": {},
     "output_type": "execute_result"
    }
   ],
   "source": [
    "bnn_model.MLE_prediction()"
   ]
  },
  {
   "cell_type": "code",
   "execution_count": null,
   "metadata": {},
   "outputs": [],
   "source": []
  }
 ],
 "metadata": {
  "kernelspec": {
   "display_name": "Python 2",
   "language": "python",
   "name": "python2"
  },
  "language_info": {
   "codemirror_mode": {
    "name": "ipython",
    "version": 2
   },
   "file_extension": ".py",
   "mimetype": "text/x-python",
   "name": "python",
   "nbconvert_exporter": "python",
   "pygments_lexer": "ipython2",
   "version": "2.7.15"
  }
 },
 "nbformat": 4,
 "nbformat_minor": 2
}
