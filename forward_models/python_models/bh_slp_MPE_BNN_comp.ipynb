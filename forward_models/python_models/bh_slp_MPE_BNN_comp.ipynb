{
 "cells": [
  {
   "cell_type": "code",
   "execution_count": 1,
   "metadata": {
    "scrolled": true
   },
   "outputs": [
    {
     "name": "stderr",
     "output_type": "stream",
     "text": [
      "/home/astrophysics/anaconda2/lib/python2.7/site-packages/h5py/__init__.py:36: FutureWarning: Conversion of the second argument of issubdtype from `float` to `np.floating` is deprecated. In future, it will be treated as `np.float64 == np.dtype(float).type`.\n",
      "  from ._conv import register_converters as _register_converters\n"
     ]
    },
    {
     "name": "stdout",
     "output_type": "stream",
     "text": [
      "WARNING: Could not preload libmpi.so.If you are running with MPI, this may cause segfaults\n"
     ]
    }
   ],
   "source": [
    "import numpy as np\n",
    "import tensorflow as tf\n",
    "import tools\n",
    "import metrics\n",
    "import keras_losses as kl\n",
    "import keras_models as kms\n",
    "import bnn_predictions as bnn\n",
    "import output_tools\n",
    "import scipy.stats.stats"
   ]
  },
  {
   "cell_type": "code",
   "execution_count": 2,
   "metadata": {},
   "outputs": [],
   "source": [
    "run_ns = range(1,11)\n",
    "#architecture parameters\n",
    "num_inputs = 13\n",
    "num_outputs = 1\n",
    "layer_sizes = []\n",
    "m = 506 #total number of records\n",
    "training_size = 253. / 506.\n",
    "test_size = 1 - training_size\n",
    "test_num = int(np.ceil(m * test_size))"
   ]
  },
  {
   "cell_type": "code",
   "execution_count": 8,
   "metadata": {},
   "outputs": [],
   "source": [
    "#following loops could easily be included into same loop, but currently have them separate for clarity"
   ]
  },
  {
   "cell_type": "code",
   "execution_count": 41,
   "metadata": {},
   "outputs": [],
   "source": [
    "MPE_test_losses = []\n",
    "for run_n in run_ns:\n",
    "    #load data\n",
    "    x_test = np.genfromtxt(\"../../data/uci/bh_50_x_te_\" + str(run_n) + \".csv\", delimiter = ',')\n",
    "    y_test = np.genfromtxt(\"../../data/uci/bh_50_y_te_\" + str(run_n) + \".csv\", delimiter = ',')\n",
    "    #load keras MPE model\n",
    "    model_r = tf.keras.models.load_model(\"../../MPE_examples/saved_keras_models/uci/bh_50_slp_\" + str(run_n) + \".h5\", custom_objects={'sum_of_squared_errors': kl.sum_of_squared_errors})\n",
    "    #calculate evaluation metrics for keras MPE\n",
    "    y_pred_r = model_r.predict(x_test)\n",
    "    y_test, y_pred_r = tools.check_dtypes(y_test, y_pred_r)\n",
    "    y_test = y_test.reshape(-1,1)\n",
    "    test_loss_r = metrics.mean_squared_error(y_test, y_pred_r) #averaged over test set size\n",
    "    MPE_test_losses.append(test_loss_r)"
   ]
  },
  {
   "cell_type": "code",
   "execution_count": 43,
   "metadata": {},
   "outputs": [],
   "source": [
    "#load in model from first run\n",
    "x_test = np.genfromtxt(\"../../data/uci/bh_50_x_te_\" + str(1) + \".csv\", delimiter = ',')\n",
    "y_test = np.genfromtxt(\"../../data/uci/bh_50_y_te_\" + str(1) + \".csv\", delimiter = ',')\n",
    "y_test = y_test.reshape(-1,1)\n",
    "#load keras MPE model\n",
    "model_r = tf.keras.models.load_model(\"../../MPE_examples/saved_keras_models/uci/bh_50_slp_\" + str(1) + \".h5\", custom_objects={'sum_of_squared_errors': kl.sum_of_squared_errors})\n",
    "#calculate evaluation metrics for keras MPE\n",
    "y_pred_r = model_r.predict(x_test)"
   ]
  },
  {
   "cell_type": "code",
   "execution_count": 44,
   "metadata": {},
   "outputs": [
    {
     "name": "stdout",
     "output_type": "stream",
     "text": [
      "('Test sum of squared loss:', 95.2628402709961)\n",
      "('Test mean squared loss:', 0.37552011013031006)\n"
     ]
    }
   ],
   "source": [
    "#this is for testing purposes \n",
    "#model.evaluate should be used with caution, as if mode contains regularisation, the method may include it\n",
    "#N.B. SEEMS THAT LOSS TERM DOES INCLUDE IT IN SOME SENSE, BUT METRIC TERM DOESN'T\n",
    "score_r = model_r.evaluate(x_test, y_test, verbose=0, batch_size=test_num)\n",
    "print('Test sum of squared loss:', score_r[0])\n",
    "print('Test mean squared loss:', score_r[1])"
   ]
  },
  {
   "cell_type": "code",
   "execution_count": 7,
   "metadata": {},
   "outputs": [
    {
     "name": "stdout",
     "output_type": "stream",
     "text": [
      "([0.26956007, 7.5576195e-06], 0.26956007)\n"
     ]
    },
    {
     "data": {
      "text/plain": [
       "[array([[-0.04792913],\n",
       "        [ 0.03673083],\n",
       "        [-0.05607983],\n",
       "        [ 0.07248197],\n",
       "        [-0.03298995],\n",
       "        [ 0.14594354],\n",
       "        [-0.03973474],\n",
       "        [-0.00864891],\n",
       "        [-0.02216069],\n",
       "        [-0.04240055],\n",
       "        [-0.09921065],\n",
       "        [ 0.0569996 ],\n",
       "        [-0.14558701]], dtype=float32), array([-7.5576195e-06], dtype=float32)]"
      ]
     },
     "execution_count": 7,
     "metadata": {},
     "output_type": "execute_result"
    }
   ],
   "source": [
    "print tools.get_km_weight_magnitudes(model_r)\n",
    "model_r.get_weights()"
   ]
  },
  {
   "cell_type": "code",
   "execution_count": 7,
   "metadata": {},
   "outputs": [],
   "source": [
    "#cpp bnn"
   ]
  },
  {
   "cell_type": "code",
   "execution_count": 10,
   "metadata": {},
   "outputs": [
    {
     "name": "stdout",
     "output_type": "stream",
     "text": [
      "WARNING:tensorflow:From /home/astrophysics/anaconda2/lib/python2.7/site-packages/tensorflow/python/keras/_impl/keras/backend.py:1557: calling reduce_mean (from tensorflow.python.ops.math_ops) with keep_dims is deprecated and will be removed in a future version.\n",
      "Instructions for updating:\n",
      "keep_dims is deprecated, use keepdims instead\n"
     ]
    }
   ],
   "source": [
    "# bnn expected estimates\n",
    "bnn_test_losses = []\n",
    "for run_n in run_ns:\n",
    "    chains_file = '../cpp_models/cpp_chains/bh_50_slp_' + str(run_n) + '.txt'\n",
    "    x_test = np.genfromtxt(\"../../data/uci/bh_50_x_te_\" + str(run_n) + \".csv\", delimiter=',')\n",
    "    y_test = np.genfromtxt(\"../../data/uci/bh_50_y_te_\" + str(run_n) + \".csv\", delimiter=',')\n",
    "    y_test = y_test.reshape(-1,1)\n",
    "    bmodel = kms.slp(num_inputs, num_outputs, layer_sizes)\n",
    "    bnn_model = bnn.bnn_predictor(bmodel, x_test, y_test, chains_file)\n",
    "    by_pred = bnn_model.predictions_expectation()\n",
    "    y_test, by_pred = tools.check_dtypes(y_test, by_pred)\n",
    "    b_test_loss = metrics.mean_squared_error(y_test, by_pred)\n",
    "    bnn_test_losses.append(b_test_loss)"
   ]
  },
  {
   "cell_type": "code",
   "execution_count": 3,
   "metadata": {},
   "outputs": [
    {
     "name": "stdout",
     "output_type": "stream",
     "text": [
      "WARNING:tensorflow:From /home/astrophysics/anaconda2/lib/python2.7/site-packages/tensorflow/python/keras/_impl/keras/backend.py:1557: calling reduce_mean (from tensorflow.python.ops.math_ops) with keep_dims is deprecated and will be removed in a future version.\n",
      "Instructions for updating:\n",
      "keep_dims is deprecated, use keepdims instead\n"
     ]
    }
   ],
   "source": [
    "# bnn MPE estimates\n",
    "bnn_MPE_test_losses = []\n",
    "for run_n in run_ns:\n",
    "    chains_file = '../cpp_models/cpp_chains/bh_50_slp_' + str(run_n) + '.txt'\n",
    "    x_test = np.genfromtxt(\"../../data/uci/bh_50_x_te_\" + str(run_n) + \".csv\", delimiter=',')\n",
    "    y_test = np.genfromtxt(\"../../data/uci/bh_50_y_te_\" + str(run_n) + \".csv\", delimiter=',')\n",
    "    y_test = y_test.reshape(-1,1)\n",
    "    bmodel = kms.slp(num_inputs, num_outputs, layer_sizes)\n",
    "    bnn_model = bnn.bnn_predictor(bmodel, x_test, y_test, chains_file)\n",
    "    by_pred = bnn_model.MPE_prediction()\n",
    "    y_test, by_pred = tools.check_dtypes(y_test, by_pred)\n",
    "    b_test_loss = metrics.mean_squared_error(y_test, by_pred)\n",
    "    bnn_MPE_test_losses.append(b_test_loss)"
   ]
  },
  {
   "cell_type": "code",
   "execution_count": 12,
   "metadata": {
    "scrolled": true
   },
   "outputs": [
    {
     "name": "stdout",
     "output_type": "stream",
     "text": [
      "[[-0.85722125  2.201045  ]\n",
      " [-1.128426   -0.9618036 ]\n",
      " [-0.01186933 -0.07161662]\n",
      " [-0.19148481  1.4325533 ]\n",
      " [-1.3325505  -1.288243  ]\n",
      " [ 1.5406443   0.49094737]\n",
      " [ 1.111408    2.7693534 ]\n",
      " [ 0.07202915  0.6641578 ]\n",
      " [-0.30221823  1.0426121 ]\n",
      " [-0.5718678   0.97703904]\n",
      " [ 1.7841057  -0.41787377]\n",
      " [-0.16570689 -0.02360797]\n",
      " [-1.1184111  -1.1554649 ]\n",
      " [-0.08572011 -0.22775735]]\n",
      "[-0.9668519 -1.263194 ]\n",
      "5.810641\n",
      "1.5907425\n",
      "6.024451\n",
      "([5.810641, 1.5907425], 6.024451)\n"
     ]
    }
   ],
   "source": [
    "print tools.get_km_weight_magnitudes(bnn_model.model)"
   ]
  },
  {
   "cell_type": "code",
   "execution_count": 42,
   "metadata": {},
   "outputs": [
    {
     "name": "stdout",
     "output_type": "stream",
     "text": [
      "[0.3755200976351585, 0.4310342366377511, 0.3055748111011398, 0.4016756274901759, 0.3061682867671988, 0.36535111052988056, 0.4083179007306738, 0.335208736172516, 0.2755627818288049, 0.29718509469210913]\n",
      "0.35015986835854085\n",
      "0.05095928137196495\n"
     ]
    }
   ],
   "source": [
    "print MPE_test_losses\n",
    "print np.mean(MPE_test_losses)\n",
    "print np.std(MPE_test_losses)"
   ]
  },
  {
   "cell_type": "code",
   "execution_count": 11,
   "metadata": {
    "scrolled": true
   },
   "outputs": [
    {
     "name": "stdout",
     "output_type": "stream",
     "text": [
      "[0.28373624897904387, 0.43408530398391826, 0.30772015412517006, 0.4017370011645803, 0.30664926346380283, 0.3650593383390473, 0.4086402663314116, 0.3346326578033962, 0.27587627825660727, 0.2972387508625599]\n",
      "0.3415375263309538\n",
      "0.05410025203529773\n"
     ]
    }
   ],
   "source": [
    "print bnn_test_losses\n",
    "print np.mean(bnn_test_losses)\n",
    "print np.std(bnn_test_losses)"
   ]
  },
  {
   "cell_type": "code",
   "execution_count": 12,
   "metadata": {},
   "outputs": [
    {
     "name": "stdout",
     "output_type": "stream",
     "text": [
      "(0.28408615368681156, 0.42633279569214677)\n"
     ]
    }
   ],
   "source": [
    "bnn_evidence = []\n",
    "bnn_evidence_e = []\n",
    "for run_n in run_ns:\n",
    "    stats_file = '../cpp_models/cpp_chains/bh_50_slp_' + str(run_n) + '.stats'\n",
    "    ev, ev_e = output_tools.read_evidence(stats_file)\n",
    "    bnn_evidence.append(ev)\n",
    "    bnn_evidence_e.append(ev_e)\n",
    "print scipy.stats.stats.pearsonr(bnn_test_losses, bnn_evidence)"
   ]
  },
  {
   "cell_type": "code",
   "execution_count": 5,
   "metadata": {
    "scrolled": true
   },
   "outputs": [],
   "source": [
    "#just look at first run from cpp chains\n",
    "chains_file = '../cpp_models/cpp_chains/bh_50_slp_' + str(1) + '.txt'\n",
    "x_test = np.genfromtxt(\"../../data/uci/bh_50_x_te_\" + str(1) + \".csv\", delimiter=',')\n",
    "y_test = np.genfromtxt(\"../../data/uci/bh_50_y_te_\" + str(1) + \".csv\", delimiter=',')\n",
    "y_test = y_test.reshape(-1, 1)\n",
    "bmodel = kms.slp(num_inputs, num_outputs, layer_sizes)\n",
    "bnn_model = bnn.bnn_predictor(bmodel, x_test, y_test, chains_file)\n",
    "bnn_model.setup_LL('squared_error')"
   ]
  },
  {
   "cell_type": "code",
   "execution_count": 9,
   "metadata": {},
   "outputs": [],
   "source": [
    "bnn_model.y_pred_paramnames('bh_50_slp_pred_' + str(1))"
   ]
  },
  {
   "cell_type": "code",
   "execution_count": 11,
   "metadata": {},
   "outputs": [
    {
     "data": {
      "text/plain": [
       "array([[3.18120668e-154, 7.60750497e+002, 3.63046212e-007,\n",
       "        9.99999642e-001],\n",
       "       [7.49849493e-149, 7.36007763e+002, 3.97993386e-001,\n",
       "        6.02006614e-001],\n",
       "       [5.00839506e-140, 6.95366406e+002, 9.41447735e-001,\n",
       "        5.85522838e-002],\n",
       "       ...,\n",
       "       [1.56641763e-002, 1.61902841e+001, 9.68318820e-001,\n",
       "        3.16811278e-002],\n",
       "       [1.71406913e-002, 1.60101263e+001, 9.20546710e-001,\n",
       "        7.94532746e-002],\n",
       "       [2.66659221e-002, 1.51262639e+001, 9.51721430e-001,\n",
       "        4.82785702e-002]])"
      ]
     },
     "execution_count": 11,
     "metadata": {},
     "output_type": "execute_result"
    }
   ],
   "source": [
    "bnn_model.y_pred_chains('../cpp_models/cpp_chains/bh_50_slp_pred_' + str(1) + '_' + str(1), test_index = 1)"
   ]
  },
  {
   "cell_type": "code",
   "execution_count": 13,
   "metadata": {},
   "outputs": [],
   "source": [
    "# bnn single sh expected estimates\n",
    "n_stoc = 1\n",
    "sh_bnn_test_losses = []\n",
    "for run_n in run_ns:\n",
    "    chains_file = '../cpp_models/cpp_chains/bh_50_sh_slp_' + str(run_n) + '.txt'\n",
    "    x_test = np.genfromtxt(\"../../data/uci/bh_50_x_te_\" + str(run_n) + \".csv\", delimiter=',')\n",
    "    y_test = np.genfromtxt(\"../../data/uci/bh_50_y_te_\" + str(run_n) + \".csv\", delimiter=',')\n",
    "    y_test = y_test.reshape(-1,1)\n",
    "    bmodel = kms.slp(num_inputs, num_outputs, layer_sizes)\n",
    "    bnn_model = bnn.bnn_predictor(bmodel, x_test, y_test, chains_file, n_stoc)\n",
    "    by_pred = bnn_model.predictions_expectation()\n",
    "    y_test, by_pred = tools.check_dtypes(y_test, by_pred)\n",
    "    sh_b_test_loss = metrics.mean_squared_error(y_test, by_pred)\n",
    "    sh_bnn_test_losses.append(sh_b_test_loss)"
   ]
  },
  {
   "cell_type": "code",
   "execution_count": 14,
   "metadata": {},
   "outputs": [
    {
     "name": "stdout",
     "output_type": "stream",
     "text": [
      "[0.28658966019238963, 0.442737895890976, 0.3111487493247008, 0.4068349450629251, 0.30837865378706514, 0.3647521764876046, 0.4040777403407942, 0.33165227681190756, 0.2770991846583203, 0.29658339345681856]\n",
      "0.34298546760135024\n",
      "0.05499786304098376\n"
     ]
    }
   ],
   "source": [
    "print sh_bnn_test_losses\n",
    "print np.mean(sh_bnn_test_losses)\n",
    "print np.std(sh_bnn_test_losses)"
   ]
  },
  {
   "cell_type": "code",
   "execution_count": 15,
   "metadata": {},
   "outputs": [
    {
     "name": "stdout",
     "output_type": "stream",
     "text": [
      "(0.248231081666487, 0.4892349039165358)\n"
     ]
    }
   ],
   "source": [
    "sh_bnn_evidence = []\n",
    "sh_bnn_evidence_e = []\n",
    "for run_n in run_ns:\n",
    "    stats_file = '../cpp_models/cpp_chains/bh_50_sh_slp_' + str(run_n) + '.stats'\n",
    "    ev, ev_e = output_tools.read_evidence(stats_file)\n",
    "    sh_bnn_evidence.append(ev)\n",
    "    sh_bnn_evidence_e.append(ev_e)\n",
    "print scipy.stats.stats.pearsonr(sh_bnn_test_losses, sh_bnn_evidence)"
   ]
  },
  {
   "cell_type": "code",
   "execution_count": 16,
   "metadata": {},
   "outputs": [],
   "source": [
    "# bnn input_size number of sh expected estimates\n",
    "n_stoc = 14\n",
    "ih_bnn_test_losses = []\n",
    "for run_n in run_ns:\n",
    "    chains_file = '../cpp_models/cpp_chains/bh_50_ih_slp_' + str(run_n) + '.txt'\n",
    "    x_test = np.genfromtxt(\"../../data/uci/bh_50_x_te_\" + str(run_n) + \".csv\", delimiter=',')\n",
    "    y_test = np.genfromtxt(\"../../data/uci/bh_50_y_te_\" + str(run_n) + \".csv\", delimiter=',')\n",
    "    y_test = y_test.reshape(-1,1)\n",
    "    bmodel = kms.slp(num_inputs, num_outputs, layer_sizes)\n",
    "    bnn_model = bnn.bnn_predictor(bmodel, x_test, y_test, chains_file, n_stoc)\n",
    "    by_pred = bnn_model.predictions_expectation()\n",
    "    y_test, by_pred = tools.check_dtypes(y_test, by_pred)\n",
    "    ih_b_test_loss = metrics.mean_squared_error(y_test, by_pred)\n",
    "    ih_bnn_test_losses.append(ih_b_test_loss)"
   ]
  },
  {
   "cell_type": "code",
   "execution_count": 17,
   "metadata": {},
   "outputs": [
    {
     "name": "stdout",
     "output_type": "stream",
     "text": [
      "[0.28429470340433793, 0.435421339364113, 0.3087640886837946, 0.4027301822796694, 0.306906237147917, 0.36520873863048126, 0.40657481323777495, 0.3346206292498219, 0.27564281846908745, 0.29704376767109275]\n",
      "0.341720731813809\n",
      "0.05410024635854808\n"
     ]
    }
   ],
   "source": [
    "print ih_bnn_test_losses\n",
    "print np.mean(ih_bnn_test_losses)\n",
    "print np.std(ih_bnn_test_losses)"
   ]
  },
  {
   "cell_type": "code",
   "execution_count": 18,
   "metadata": {},
   "outputs": [
    {
     "name": "stdout",
     "output_type": "stream",
     "text": [
      "(0.24299240314787576, 0.4987431473767305)\n"
     ]
    }
   ],
   "source": [
    "ih_bnn_evidence = []\n",
    "ih_bnn_evidence_e = []\n",
    "for run_n in run_ns:\n",
    "    stats_file = '../cpp_models/cpp_chains/bh_50_ih_slp_' + str(run_n) + '.stats'\n",
    "    ev, ev_e = output_tools.read_evidence(stats_file)\n",
    "    ih_bnn_evidence.append(ev)\n",
    "    ih_bnn_evidence_e.append(ev_e)\n",
    "print  scipy.stats.stats.pearsonr(ih_bnn_test_losses, ih_bnn_evidence)"
   ]
  },
  {
   "cell_type": "code",
   "execution_count": 3,
   "metadata": {},
   "outputs": [
    {
     "name": "stdout",
     "output_type": "stream",
     "text": [
      "WARNING:tensorflow:From /home/astrophysics/anaconda2/lib/python2.7/site-packages/tensorflow/python/keras/_impl/keras/backend.py:1557: calling reduce_mean (from tensorflow.python.ops.math_ops) with keep_dims is deprecated and will be removed in a future version.\n",
      "Instructions for updating:\n",
      "keep_dims is deprecated, use keepdims instead\n"
     ]
    }
   ],
   "source": [
    "# bnn single sh single sv expected estimates\n",
    "n_stoc = 1\n",
    "n_stoc_var = 1\n",
    "sh_sv_bnn_test_losses = []\n",
    "for run_n in run_ns:\n",
    "    chains_file = '../cpp_models/cpp_chains/bh_50_sh_sv_slp_' + str(run_n) + '.txt'\n",
    "    x_test = np.genfromtxt(\"../../data/uci/bh_50_x_te_\" + str(run_n) + \".csv\", delimiter=',')\n",
    "    y_test = np.genfromtxt(\"../../data/uci/bh_50_y_te_\" + str(run_n) + \".csv\", delimiter=',')\n",
    "    y_test = y_test.reshape(-1,1)\n",
    "    bmodel = kms.slp(num_inputs, num_outputs, layer_sizes)\n",
    "    bnn_model = bnn.bnn_predictor(bmodel, x_test, y_test, chains_file, n_stoc, n_stoc_var)\n",
    "    by_pred = bnn_model.predictions_expectation()\n",
    "    y_test, by_pred = tools.check_dtypes(y_test, by_pred)\n",
    "    sh_sv_b_test_loss = metrics.mean_squared_error(y_test, by_pred)\n",
    "    sh_sv_bnn_test_losses.append(sh_sv_b_test_loss)"
   ]
  },
  {
   "cell_type": "code",
   "execution_count": 4,
   "metadata": {},
   "outputs": [
    {
     "name": "stdout",
     "output_type": "stream",
     "text": [
      "[0.2823283696034877, 0.43543835782854884, 0.3092685092584913, 0.4025503295159994, 0.305891248959838, 0.36636849967547463, 0.40823413737402786, 0.33438807591374864, 0.2751784013806746, 0.29699637811955026]\n",
      "0.34166423076298413\n",
      "0.05464523374752586\n"
     ]
    }
   ],
   "source": [
    "print sh_sv_bnn_test_losses\n",
    "print np.mean(sh_sv_bnn_test_losses)\n",
    "print np.std(sh_sv_bnn_test_losses)"
   ]
  },
  {
   "cell_type": "code",
   "execution_count": 5,
   "metadata": {},
   "outputs": [
    {
     "name": "stdout",
     "output_type": "stream",
     "text": [
      "(0.2841469577718949, 0.4262294669573053)\n"
     ]
    }
   ],
   "source": [
    "sh_sv_bnn_evidence = []\n",
    "sh_sv_bnn_evidence_e = []\n",
    "for run_n in run_ns:\n",
    "    stats_file = '../cpp_models/cpp_chains/bh_50_sh_sv_slp_' + str(run_n) + '.stats'\n",
    "    ev, ev_e = output_tools.read_evidence(stats_file)\n",
    "    sh_sv_bnn_evidence.append(ev)\n",
    "    sh_sv_bnn_evidence_e.append(ev_e)\n",
    "print scipy.stats.stats.pearsonr(sh_sv_bnn_test_losses, sh_sv_bnn_evidence)"
   ]
  },
  {
   "cell_type": "code",
   "execution_count": null,
   "metadata": {},
   "outputs": [],
   "source": []
  }
 ],
 "metadata": {
  "kernelspec": {
   "display_name": "Python 2",
   "language": "python",
   "name": "python2"
  },
  "language_info": {
   "codemirror_mode": {
    "name": "ipython",
    "version": 2
   },
   "file_extension": ".py",
   "mimetype": "text/x-python",
   "name": "python",
   "nbconvert_exporter": "python",
   "pygments_lexer": "ipython2",
   "version": "2.7.15"
  }
 },
 "nbformat": 4,
 "nbformat_minor": 2
}
