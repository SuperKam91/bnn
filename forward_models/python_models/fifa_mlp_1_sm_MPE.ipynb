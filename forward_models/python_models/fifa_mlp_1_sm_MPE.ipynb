{
 "cells": [
  {
   "cell_type": "code",
   "execution_count": 8,
   "metadata": {},
   "outputs": [],
   "source": [
    "import keras_models as kms\n",
    "import keras_losses as kl\n",
    "import numpy as np"
   ]
  },
  {
   "cell_type": "code",
   "execution_count": 2,
   "metadata": {},
   "outputs": [],
   "source": [
    "#MPE with prior (regularisation)"
   ]
  },
  {
   "cell_type": "code",
   "execution_count": 5,
   "metadata": {},
   "outputs": [],
   "source": [
    "#could load arbitrary version of x here to get some shape parameters, but cba\n",
    "#architecture parameters\n",
    "num_inputs = 14 #aka n in ml terminology\n",
    "num_outputs = 2 #dimensionality of output y (for single record)\n",
    "layer_sizes = [4]\n",
    "reg_coeffs = [0.5, 0.5, 0.5, 0.5]\n",
    "#propagation parameters\n",
    "epochs = 1000\n",
    "m = 64 #total number of records\n",
    "training_size = 48. / 64.\n",
    "train_num = int(m * training_size)\n",
    "batch_num = 1 * train_num"
   ]
  },
  {
   "cell_type": "code",
   "execution_count": 6,
   "metadata": {},
   "outputs": [
    {
     "name": "stdout",
     "output_type": "stream",
     "text": [
      "WARNING:tensorflow:From /home/astrophysics/anaconda2/lib/python2.7/site-packages/tensorflow/python/keras/_impl/keras/backend.py:1456: calling reduce_sum (from tensorflow.python.ops.math_ops) with keep_dims is deprecated and will be removed in a future version.\n",
      "Instructions for updating:\n",
      "keep_dims is deprecated, use keepdims instead\n",
      "WARNING:tensorflow:From /home/astrophysics/anaconda2/lib/python2.7/site-packages/tensorflow/python/keras/_impl/keras/backend.py:1557: calling reduce_mean (from tensorflow.python.ops.math_ops) with keep_dims is deprecated and will be removed in a future version.\n",
      "Instructions for updating:\n",
      "keep_dims is deprecated, use keepdims instead\n",
      "_________________________________________________________________\n",
      "Layer (type)                 Output Shape              Param #   \n",
      "=================================================================\n",
      "input_1 (InputLayer)         (None, 14)                0         \n",
      "_________________________________________________________________\n",
      "dense_1 (Dense)              (None, 4)                 60        \n",
      "_________________________________________________________________\n",
      "dense_2 (Dense)              (None, 2)                 10        \n",
      "=================================================================\n",
      "Total params: 70\n",
      "Trainable params: 70\n",
      "Non-trainable params: 0\n",
      "_________________________________________________________________\n"
     ]
    }
   ],
   "source": [
    "#compile model\n",
    "model_r = kms.mlp_1_sm_r(num_inputs, num_outputs, layer_sizes, reg_coeffs)\n",
    "model_r.compile(optimizer='adagrad',\n",
    "              loss=kl.sum_of_categorical_crossentropy,\n",
    "              metrics=['accuracy'])\n",
    "model_r.summary()"
   ]
  },
  {
   "cell_type": "code",
   "execution_count": 9,
   "metadata": {},
   "outputs": [],
   "source": [
    "run_ns = range(1,11)\n",
    "for run_n in run_ns:\n",
    "    #load data\n",
    "    x_train = np.genfromtxt(\"../../data/kaggle/FIFA_2018_Statistics_x_tr_\" + str(run_n) + \".csv\", delimiter = ',')\n",
    "    y_train = np.genfromtxt(\"../../data/kaggle/FIFA_2018_Statistics_y_tr_\" + str(run_n) + \".csv\", delimiter = ',')\n",
    "\n",
    "    #train model\n",
    "    history_r = model_r.fit(x_train, y_train,\n",
    "                        batch_size=batch_num,\n",
    "                        epochs=epochs,\n",
    "                        verbose=0)\n",
    "                            \n",
    "    #save model\n",
    "    model_r.save(\"../../MPE_examples/saved_keras_models/kaggle/FIFA_2018_Statistics_mlp_1_sm_\" + str(run_n) + \".h5\")"
   ]
  }
 ],
 "metadata": {
  "kernelspec": {
   "display_name": "Python 2",
   "language": "python",
   "name": "python2"
  },
  "language_info": {
   "codemirror_mode": {
    "name": "ipython",
    "version": 2
   },
   "file_extension": ".py",
   "mimetype": "text/x-python",
   "name": "python",
   "nbconvert_exporter": "python",
   "pygments_lexer": "ipython2",
   "version": "2.7.15"
  }
 },
 "nbformat": 4,
 "nbformat_minor": 2
}
