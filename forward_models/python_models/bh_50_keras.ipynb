{
 "cells": [
  {
   "cell_type": "code",
   "execution_count": 1,
   "metadata": {},
   "outputs": [],
   "source": [
    "import keras_models as kms\n",
    "import keras_losses as kl\n",
    "import numpy as np\n",
    "import metrics as mets"
   ]
  },
  {
   "cell_type": "code",
   "execution_count": 2,
   "metadata": {},
   "outputs": [],
   "source": [
    "#slp with prior (regularisation)"
   ]
  },
  {
   "cell_type": "code",
   "execution_count": 3,
   "metadata": {},
   "outputs": [],
   "source": [
    "#could load arbitrary version of x here to get some shape parameters, but cba\n",
    "#architecture parameters\n",
    "num_inputs = 13 #aka n in ml terminology\n",
    "num_outputs = 1 #dimensionality of output y (for single record)\n",
    "layer_sizes = []\n",
    "reg_coeffs = [.5, .5]\n",
    "#propagation parameters\n",
    "epochs = 1000\n",
    "m = 506 #total number of records\n",
    "training_size = 253. / 506.\n",
    "train_num = int(m * training_size)\n",
    "batch_num = 1 * train_num\n",
    "run_ns = range(1,11)"
   ]
  },
  {
   "cell_type": "code",
   "execution_count": 4,
   "metadata": {},
   "outputs": [
    {
     "name": "stdout",
     "output_type": "stream",
     "text": [
      "_________________________________________________________________\n",
      "Layer (type)                 Output Shape              Param #   \n",
      "=================================================================\n",
      "input_1 (InputLayer)         (None, 13)                0         \n",
      "_________________________________________________________________\n",
      "dense (Dense)                (None, 1)                 14        \n",
      "=================================================================\n",
      "Total params: 14\n",
      "Trainable params: 14\n",
      "Non-trainable params: 0\n",
      "_________________________________________________________________\n"
     ]
    }
   ],
   "source": [
    "#compile model\n",
    "model = kms.slp_r(num_inputs, num_outputs, layer_sizes, reg_coeffs)\n",
    "model.compile(optimizer='adam',\n",
    "              loss=kl.sum_of_squared_errors,\n",
    "              metrics=['mean_squared_error'])\n",
    "model.summary()"
   ]
  },
  {
   "cell_type": "code",
   "execution_count": 19,
   "metadata": {},
   "outputs": [],
   "source": [
    "for run_n in run_ns:\n",
    "    #load data\n",
    "    x_train = np.genfromtxt(\"../../data/uci/bh_50_x_tr_\" + str(run_n) + \".csv\", delimiter = ',')\n",
    "    y_train = np.genfromtxt(\"../../data/uci/bh_50_y_tr_\" + str(run_n) + \".csv\", delimiter = ',')\n",
    "\n",
    "    #train model\n",
    "    history = model.fit(x_train, y_train,\n",
    "                        batch_size=batch_num,\n",
    "                        epochs=epochs,\n",
    "                        verbose=0)\n",
    "                            \n",
    "    #save model\n",
    "    model.save(\"../../MPE_examples/saved_keras_models/uci/bh_50_slp_\" + str(run_n) + \".h5\")"
   ]
  },
  {
   "cell_type": "code",
   "execution_count": null,
   "metadata": {},
   "outputs": [],
   "source": [
    "#load model"
   ]
  },
  {
   "cell_type": "code",
   "execution_count": 10,
   "metadata": {},
   "outputs": [
    {
     "ename": "TypeError",
     "evalue": "sum_of_squared_errors() takes exactly 2 arguments (0 given)",
     "output_type": "error",
     "traceback": [
      "\u001b[0;31m---------------------------------------------------------------------------\u001b[0m",
      "\u001b[0;31mTypeError\u001b[0m                                 Traceback (most recent call last)",
      "\u001b[0;32m<ipython-input-10-430ba206ee2a>\u001b[0m in \u001b[0;36m<module>\u001b[0;34m()\u001b[0m\n\u001b[0;32m----> 1\u001b[0;31m \u001b[0mmodel_r\u001b[0m\u001b[0;34m.\u001b[0m\u001b[0mloss\u001b[0m\u001b[0;34m(\u001b[0m\u001b[0;34m)\u001b[0m\u001b[0;34m\u001b[0m\u001b[0m\n\u001b[0m",
      "\u001b[0;31mTypeError\u001b[0m: sum_of_squared_errors() takes exactly 2 arguments (0 given)"
     ]
    }
   ],
   "source": [
    "MPE_test_losses = []\n",
    "for run_n in run_ns:\n",
    "    #load data\n",
    "    x_test = np.genfromtxt(\"../../data/uci/bh_50_x_te_\" + str(run_n) + \".csv\", delimiter = ',')\n",
    "    y_test = np.genfromtxt(\"../../data/uci/bh_50_y_te_\" + str(run_n) + \".csv\", delimiter = ',')\n",
    "    #load keras MPE model\n",
    "    model = tf.keras.models.load_model(\"../../MPE_examples/saved_keras_models/uci/bh_50_slp_\" + str(run_n) + \".h5\", custom_objects={'sum_of_squared_errors': kl.sum_of_squared_errors})\n",
    "    #calculate evaluation metrics for keras MPE\n",
    "    y_pred = model.predict(x_test)\n",
    "    y_test, y_pred = tools.check_dtypes(y_test, y_pred)\n",
    "    y_test = y_test.reshape(-1,1)\n",
    "    test_loss = metrics.mean_squared_error(y_test, y_pred) #averaged over test set size\n",
    "    MPE_test_losses.append(test_loss)"
   ]
  },
  {
   "cell_type": "code",
   "execution_count": null,
   "metadata": {},
   "outputs": [],
   "source": [
    "print MPE_test_losses\n",
    "print np.mean(MPE_test_losses)\n",
    "print np.std(MPE_test_losses)"
   ]
  }
 ],
 "metadata": {
  "kernelspec": {
   "display_name": "Python 2",
   "language": "python",
   "name": "python2"
  },
  "language_info": {
   "codemirror_mode": {
    "name": "ipython",
    "version": 2
   },
   "file_extension": ".py",
   "mimetype": "text/x-python",
   "name": "python",
   "nbconvert_exporter": "python",
   "pygments_lexer": "ipython2",
   "version": "2.7.15"
  }
 },
 "nbformat": 4,
 "nbformat_minor": 2
}
