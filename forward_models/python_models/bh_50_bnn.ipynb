{
 "cells": [
  {
   "cell_type": "code",
   "execution_count": 1,
   "metadata": {
    "scrolled": true
   },
   "outputs": [
    {
     "name": "stdout",
     "output_type": "stream",
     "text": [
      "WARNING: Could not preload libmpi.so.If you are running with MPI, this may cause segfaults\n"
     ]
    }
   ],
   "source": [
    "import numpy as np\n",
    "import tools\n",
    "import metrics\n",
    "import keras_models as kms\n",
    "import bnn_predictions as bnn\n",
    "import output_tools\n",
    "import scipy.stats.stats"
   ]
  },
  {
   "cell_type": "code",
   "execution_count": 2,
   "metadata": {},
   "outputs": [],
   "source": [
    "run_ns = range(1,11)\n",
    "#architecture parameters\n",
    "num_inputs = 13\n",
    "num_outputs = 1"
   ]
  },
  {
   "cell_type": "code",
   "execution_count": 85,
   "metadata": {},
   "outputs": [],
   "source": [
    "# bh_50_slp"
   ]
  },
  {
   "cell_type": "code",
   "execution_count": 92,
   "metadata": {},
   "outputs": [],
   "source": [
    "layer_sizes = []"
   ]
  },
  {
   "cell_type": "code",
   "execution_count": 87,
   "metadata": {},
   "outputs": [],
   "source": [
    "# bh_50_slp"
   ]
  },
  {
   "cell_type": "code",
   "execution_count": 88,
   "metadata": {},
   "outputs": [],
   "source": [
    "n_stoc = 0\n",
    "n_stoc_var = 0\n",
    "bh_50_slp_test_losses = []\n",
    "bh_50_slp_test_loss_errors = []\n",
    "for run_n in run_ns:\n",
    "    chains_file = '../cpp_models/cpp_chains/bh_50_slp_' + str(run_n) + '.txt'\n",
    "    x_test = np.genfromtxt(\"../../data/uci/bh_50_x_te_\" + str(run_n) + \".csv\", delimiter=',')\n",
    "    y_test = np.genfromtxt(\"../../data/uci/bh_50_y_te_\" + str(run_n) + \".csv\", delimiter=',')\n",
    "    y_test = y_test.reshape(-1,1)\n",
    "    model = kms.slp(num_inputs, num_outputs, layer_sizes)\n",
    "    bnn_model = bnn.bnn_predictor(model, x_test, y_test, chains_file, n_stoc, n_stoc_var)\n",
    "    y_pred, y_pred_e = bnn_model.predictions_expectation_and_std()\n",
    "    np.savetxt(\"../../data/uci/predictions/bh_50_slp_\" + str(run_n) + \"_y_te_pr.csv\", np.hstack([y_pred, y_pred_e]), delimiter=',')\n",
    "    y_test, y_pred = tools.check_dtypes(y_test, y_pred)\n",
    "    test_loss = metrics.mean_squared_error(y_test, y_pred)\n",
    "    test_loss_error = metrics.mean_squared_error_std_dev(y_test, y_pred, y_pred_e)\n",
    "    bh_50_slp_test_losses.append(test_loss)\n",
    "    bh_50_slp_test_loss_errors.append(test_loss_error)"
   ]
  },
  {
   "cell_type": "code",
   "execution_count": 21,
   "metadata": {},
   "outputs": [
    {
     "name": "stdout",
     "output_type": "stream",
     "text": [
      "[0.28373624897904387, 0.43408530398391826, 0.30772015412517006, 0.4017370011645803, 0.30664926346380283, 0.3650593383390473, 0.4086402663314116, 0.3346326578033962, 0.27587627825660727, 0.2972387508625599]\n",
      "[0.018977143378831912, 0.023973865354790926, 0.018632405566908684, 0.026795714980597577, 0.021130513537481212, 0.022796029155831173, 0.029154239618960923, 0.019065763471886807, 0.018200014979360704, 0.020186800889413697]\n",
      "0.3415375263309538\n",
      "0.05410025203529773\n"
     ]
    }
   ],
   "source": [
    "print bh_50_slp_test_losses\n",
    "print bh_50_slp_test_loss_errors\n",
    "print np.mean(bh_50_slp_test_losses)\n",
    "print np.std(bh_50_slp_test_losses)"
   ]
  },
  {
   "cell_type": "code",
   "execution_count": 22,
   "metadata": {},
   "outputs": [],
   "source": [
    "bh_50_slp_evidence = []\n",
    "bh_50_slp_evidence_e = []\n",
    "for run_n in run_ns:\n",
    "    stats_file = '../cpp_models/cpp_chains/bh_50_slp_' + str(run_n) + '.stats'\n",
    "    ev, ev_e = output_tools.read_evidence(stats_file)\n",
    "    bh_50_slp_evidence.append(ev)\n",
    "    bh_50_slp_evidence_e.append(ev_e)"
   ]
  },
  {
   "cell_type": "code",
   "execution_count": 23,
   "metadata": {},
   "outputs": [
    {
     "name": "stdout",
     "output_type": "stream",
     "text": [
      "[-301.378396679949, -303.657051109056, -299.321989681431, -299.234113138935, -297.525429459281, -292.796909596338, -292.381145790317, -298.548157664632, -304.929595480418, -298.151221082759]\n",
      "[0.165030615984415, 0.166182188848395, 0.166117284882396, 0.165477337031975, 0.166475524103161, 0.166813667060443, 0.165777557282139, 0.167772946187348, 0.166875990067329, 0.166602367438396]\n",
      "-298.79240096831165\n",
      "3.84212204555136\n"
     ]
    }
   ],
   "source": [
    "print bh_50_slp_evidence\n",
    "print bh_50_slp_evidence_e\n",
    "print np.mean(bh_50_slp_evidence)\n",
    "print np.std(bh_50_slp_evidence)"
   ]
  },
  {
   "cell_type": "code",
   "execution_count": 93,
   "metadata": {},
   "outputs": [],
   "source": [
    "# bh_50_sh_slp"
   ]
  },
  {
   "cell_type": "code",
   "execution_count": 94,
   "metadata": {},
   "outputs": [],
   "source": [
    "n_stoc = 1\n",
    "n_stoc_var = 0\n",
    "bh_50_sh_slp_test_losses = []\n",
    "bh_50_sh_slp_test_loss_errors = []\n",
    "for run_n in run_ns:\n",
    "    chains_file = '../cpp_models/cpp_chains/bh_50_sh_slp_' + str(run_n) + '.txt'\n",
    "    x_test = np.genfromtxt(\"../../data/uci/bh_50_x_te_\" + str(run_n) + \".csv\", delimiter=',')\n",
    "    y_test = np.genfromtxt(\"../../data/uci/bh_50_y_te_\" + str(run_n) + \".csv\", delimiter=',')\n",
    "    y_test = y_test.reshape(-1,1)\n",
    "    model = kms.slp(num_inputs, num_outputs, layer_sizes)\n",
    "    bnn_model = bnn.bnn_predictor(model, x_test, y_test, chains_file, n_stoc, n_stoc_var)\n",
    "    y_pred, y_pred_e = bnn_model.predictions_expectation_and_std()\n",
    "    np.savetxt(\"../../data/uci/predictions/bh_50_sh_slp_\" + str(run_n) + \"_y_te_pr.csv\", np.hstack([y_pred, y_pred_e]), delimiter=',')\n",
    "    y_test, y_pred = tools.check_dtypes(y_test, y_pred)\n",
    "    test_loss = metrics.mean_squared_error(y_test, y_pred)\n",
    "    test_loss_error = metrics.mean_squared_error_std_dev(y_test, y_pred, y_pred_e)\n",
    "    bh_50_sh_slp_test_losses.append(test_loss)\n",
    "    bh_50_sh_slp_test_loss_errors.append(test_loss_error)"
   ]
  },
  {
   "cell_type": "code",
   "execution_count": 95,
   "metadata": {},
   "outputs": [
    {
     "name": "stdout",
     "output_type": "stream",
     "text": [
      "[0.28658966019238963, 0.442737895890976, 0.3111487493247008, 0.4068349450629251, 0.30837865378706514, 0.3647521764876046, 0.4040777403407942, 0.33165227681190756, 0.2770991846583203, 0.29658339345681856]\n",
      "[0.018893125617519685, 0.023256508964600697, 0.018211130319452637, 0.026659219195301342, 0.020807567184808216, 0.021993009920282136, 0.02742523314296922, 0.018542680695345166, 0.017833310955567398, 0.01963018211061907]\n",
      "0.34298546760135024\n",
      "0.05499786304098376\n"
     ]
    }
   ],
   "source": [
    "print bh_50_sh_slp_test_losses\n",
    "print bh_50_sh_slp_test_loss_errors\n",
    "print np.mean(bh_50_sh_slp_test_losses)\n",
    "print np.std(bh_50_sh_slp_test_losses)"
   ]
  },
  {
   "cell_type": "code",
   "execution_count": 96,
   "metadata": {},
   "outputs": [],
   "source": [
    "bh_50_sh_slp_evidence = []\n",
    "bh_50_sh_slp_evidence_e = []\n",
    "for run_n in run_ns:\n",
    "    stats_file = '../cpp_models/cpp_chains/bh_50_sh_slp_' + str(run_n) + '.stats'\n",
    "    ev, ev_e = output_tools.read_evidence(stats_file)\n",
    "    bh_50_sh_slp_evidence.append(ev)\n",
    "    bh_50_sh_slp_evidence_e.append(ev_e)"
   ]
  },
  {
   "cell_type": "code",
   "execution_count": 97,
   "metadata": {},
   "outputs": [
    {
     "name": "stdout",
     "output_type": "stream",
     "text": [
      "[-295.078548103036, -297.088992189459, -292.633515379288, -292.858184583027, -291.208419871806, -286.05570283705, -285.880196179542, -292.313586666469, -298.294211703032, -292.012240665486]\n",
      "[0.145223240643616, 0.146429758860006, 0.145815294824679, 0.145928614426472, 0.14713581048724, 0.146588098742155, 0.145669484561409, 0.14881768384728, 0.146909444616624, 0.147969710233929]\n",
      "-292.3423598178195\n",
      "3.853178870081302\n"
     ]
    }
   ],
   "source": [
    "print bh_50_sh_slp_evidence\n",
    "print bh_50_sh_slp_evidence_e\n",
    "print np.mean(bh_50_sh_slp_evidence)\n",
    "print np.std(bh_50_sh_slp_evidence)"
   ]
  },
  {
   "cell_type": "code",
   "execution_count": 98,
   "metadata": {},
   "outputs": [],
   "source": [
    "# bh_50_ih_slp"
   ]
  },
  {
   "cell_type": "code",
   "execution_count": 99,
   "metadata": {},
   "outputs": [],
   "source": [
    "n_stoc = 14\n",
    "n_stoc_var = 0\n",
    "bh_50_ih_slp_test_losses = []\n",
    "bh_50_ih_slp_test_loss_errors = []\n",
    "for run_n in run_ns:\n",
    "    chains_file = '../cpp_models/cpp_chains/bh_50_ih_slp_' + str(run_n) + '.txt'\n",
    "    x_test = np.genfromtxt(\"../../data/uci/bh_50_x_te_\" + str(run_n) + \".csv\", delimiter=',')\n",
    "    y_test = np.genfromtxt(\"../../data/uci/bh_50_y_te_\" + str(run_n) + \".csv\", delimiter=',')\n",
    "    y_test = y_test.reshape(-1,1)\n",
    "    model = kms.slp(num_inputs, num_outputs, layer_sizes)\n",
    "    bnn_model = bnn.bnn_predictor(model, x_test, y_test, chains_file, n_stoc, n_stoc_var)\n",
    "    y_pred, y_pred_e = bnn_model.predictions_expectation_and_std()\n",
    "    np.savetxt(\"../../data/uci/predictions/bh_50_ih_slp_\" + str(run_n) + \"_y_te_pr.csv\", np.hstack([y_pred, y_pred_e]), delimiter=',')\n",
    "    y_test, y_pred = tools.check_dtypes(y_test, y_pred)\n",
    "    test_loss = metrics.mean_squared_error(y_test, y_pred)\n",
    "    test_loss_error = metrics.mean_squared_error_std_dev(y_test, y_pred, y_pred_e)\n",
    "    bh_50_ih_slp_test_losses.append(test_loss)\n",
    "    bh_50_ih_slp_test_loss_errors.append(test_loss_error)"
   ]
  },
  {
   "cell_type": "code",
   "execution_count": 100,
   "metadata": {},
   "outputs": [
    {
     "name": "stdout",
     "output_type": "stream",
     "text": [
      "[0.28429470340433793, 0.435421339364113, 0.3087640886837946, 0.4027301822796694, 0.306906237147917, 0.36520873863048126, 0.40657481323777495, 0.3346206292498219, 0.27564281846908745, 0.29704376767109275]\n",
      "[0.01884536380743622, 0.024288095365989294, 0.018582334000765626, 0.026915935163605697, 0.021626762689314634, 0.022486730880380248, 0.02867384977705435, 0.0191402657605685, 0.01820582740743961, 0.019900472972960766]\n",
      "0.341720731813809\n",
      "0.05410024635854808\n"
     ]
    }
   ],
   "source": [
    "print bh_50_ih_slp_test_losses\n",
    "print bh_50_ih_slp_test_loss_errors\n",
    "print np.mean(bh_50_ih_slp_test_losses)\n",
    "print np.std(bh_50_ih_slp_test_losses)"
   ]
  },
  {
   "cell_type": "code",
   "execution_count": 101,
   "metadata": {},
   "outputs": [],
   "source": [
    "ih_bnn_evidence = []\n",
    "ih_bnn_evidence_e = []\n",
    "for run_n in run_ns:\n",
    "    stats_file = '../cpp_models/cpp_chains/bh_50_ih_slp_' + str(run_n) + '.stats'\n",
    "    ev, ev_e = output_tools.read_evidence(stats_file)\n",
    "    ih_bnn_evidence.append(ev)\n",
    "    ih_bnn_evidence_e.append(ev_e)"
   ]
  },
  {
   "cell_type": "code",
   "execution_count": 102,
   "metadata": {},
   "outputs": [
    {
     "name": "stdout",
     "output_type": "stream",
     "text": [
      "[-303.190597645308, -305.748657567082, -300.94413589888, -301.026292635395, -299.575898572758, -294.383462586552, -294.48075959511, -300.287646400356, -306.571072558413, -299.561984694464]\n",
      "[0.170764013293254, 0.172043450370925, 0.170968177330526, 0.170902228099498, 0.171673749518226, 0.172127909707239, 0.171924644879759, 0.172734682916174, 0.171861166247475, 0.171311514804836]\n",
      "-300.5770508154318\n",
      "3.8403480506667473\n"
     ]
    }
   ],
   "source": [
    "print ih_bnn_evidence\n",
    "print ih_bnn_evidence_e\n",
    "print np.mean(ih_bnn_evidence)\n",
    "print np.std(ih_bnn_evidence)"
   ]
  },
  {
   "cell_type": "code",
   "execution_count": 103,
   "metadata": {},
   "outputs": [],
   "source": [
    "# bh_50_sh_sv_slp"
   ]
  },
  {
   "cell_type": "code",
   "execution_count": 104,
   "metadata": {},
   "outputs": [],
   "source": [
    "n_stoc = 1\n",
    "n_stoc_var = 1\n",
    "bh_50_sh_sv_slp_test_losses = []\n",
    "bh_50_sh_sv_slp_test_loss_errors = []\n",
    "for run_n in run_ns:\n",
    "    chains_file = '../cpp_models/cpp_chains/bh_50_sh_sv_slp_' + str(run_n) + '.txt'\n",
    "    x_test = np.genfromtxt(\"../../data/uci/bh_50_x_te_\" + str(run_n) + \".csv\", delimiter=',')\n",
    "    y_test = np.genfromtxt(\"../../data/uci/bh_50_y_te_\" + str(run_n) + \".csv\", delimiter=',')\n",
    "    y_test = y_test.reshape(-1,1)\n",
    "    model = kms.slp(num_inputs, num_outputs, layer_sizes)\n",
    "    bnn_model = bnn.bnn_predictor(model, x_test, y_test, chains_file, n_stoc, n_stoc_var)\n",
    "    y_pred, y_pred_e = bnn_model.predictions_expectation_and_std()\n",
    "    np.savetxt(\"../../data/uci/predictions/bh_50_sh_sv_slp_\" + str(run_n) + \"_y_te_pr.csv\", np.hstack([y_pred, y_pred_e]), delimiter=',')\n",
    "    y_test, y_pred = tools.check_dtypes(y_test, y_pred)\n",
    "    test_loss = metrics.mean_squared_error(y_test, y_pred)\n",
    "    test_loss_error = metrics.mean_squared_error_std_dev(y_test, y_pred, y_pred_e)\n",
    "    bh_50_sh_sv_slp_test_losses.append(test_loss)\n",
    "    bh_50_sh_sv_slp_test_loss_errors.append(test_loss_error)"
   ]
  },
  {
   "cell_type": "code",
   "execution_count": 105,
   "metadata": {},
   "outputs": [
    {
     "name": "stdout",
     "output_type": "stream",
     "text": [
      "[0.2823283696034877, 0.43543835782854884, 0.3092685092584913, 0.4025503295159994, 0.305891248959838, 0.36636849967547463, 0.40823413737402786, 0.33438807591374864, 0.2751784013806746, 0.2969963586016859]\n",
      "[0.010182212101243177, 0.013507147387874587, 0.009695160741961757, 0.014236539312484526, 0.010919225920578276, 0.010555758406335604, 0.013532581948178933, 0.009839561976791531, 0.010294849005255015, 0.010440086826533175]\n",
      "0.3416642288111977\n",
      "0.05464523534294634\n"
     ]
    }
   ],
   "source": [
    "print bh_50_sh_sv_slp_test_losses\n",
    "print bh_50_sh_sv_slp_test_loss_errors\n",
    "print np.mean(bh_50_sh_sv_slp_test_losses)\n",
    "print np.std(bh_50_sh_sv_slp_test_losses)"
   ]
  },
  {
   "cell_type": "code",
   "execution_count": 106,
   "metadata": {},
   "outputs": [],
   "source": [
    "bh_50_sh_sv_slp_evidence = []\n",
    "bh_50_sh_sv_slp_evidence_e = []\n",
    "for run_n in run_ns:\n",
    "    stats_file = '../cpp_models/cpp_chains/bh_50_sh_sv_slp_' + str(run_n) + '.stats'\n",
    "    ev, ev_e = output_tools.read_evidence(stats_file)\n",
    "    bh_50_sh_sv_slp_evidence.append(ev)\n",
    "    bh_50_sh_sv_slp_evidence_e.append(ev_e)"
   ]
  },
  {
   "cell_type": "code",
   "execution_count": 107,
   "metadata": {},
   "outputs": [
    {
     "name": "stdout",
     "output_type": "stream",
     "text": [
      "[-235.137574291628, -242.408417944205, -226.744750708954, -227.789323105434, -221.162000161327, -199.307794910974, -199.912798453003, -223.243285101888, -245.487205535135, -222.794779652344]\n",
      "[0.45053944457431, 0.179161398950273, 0.181394904613144, 0.182287180963425, 0.18480706546125, 0.19098988526134, 0.188515237442299, 0.185322276224989, 0.178909813852959, 0.184469296197217]\n",
      "-224.3987929864892\n",
      "14.645461306295749\n"
     ]
    }
   ],
   "source": [
    "print bh_50_sh_sv_slp_evidence\n",
    "print bh_50_sh_sv_slp_evidence_e\n",
    "print np.mean(bh_50_sh_sv_slp_evidence)\n",
    "print np.std(bh_50_sh_sv_slp_evidence)"
   ]
  },
  {
   "cell_type": "code",
   "execution_count": 108,
   "metadata": {},
   "outputs": [],
   "source": [
    "# bh_50_lh_sv_slp"
   ]
  },
  {
   "cell_type": "code",
   "execution_count": 109,
   "metadata": {},
   "outputs": [],
   "source": [
    "n_stoc = 2\n",
    "n_stoc_var = 1\n",
    "bh_50_lh_sv_slp_test_losses = []\n",
    "bh_50_lh_sv_slp_test_loss_errors = []\n",
    "for run_n in run_ns:\n",
    "    chains_file = '../cpp_models/cpp_chains/bh_50_lh_sv_slp_' + str(run_n) + '.txt'\n",
    "    x_test = np.genfromtxt(\"../../data/uci/bh_50_x_te_\" + str(run_n) + \".csv\", delimiter=',')\n",
    "    y_test = np.genfromtxt(\"../../data/uci/bh_50_y_te_\" + str(run_n) + \".csv\", delimiter=',')\n",
    "    y_test = y_test.reshape(-1,1)\n",
    "    model = kms.slp(num_inputs, num_outputs, layer_sizes)\n",
    "    bnn_model = bnn.bnn_predictor(model, x_test, y_test, chains_file, n_stoc, n_stoc_var)\n",
    "    y_pred, y_pred_e = bnn_model.predictions_expectation_and_std()\n",
    "    np.savetxt(\"../../data/uci/predictions/bh_50_lh_sv_slp_\" + str(run_n) + \"_y_te_pr.csv\", np.hstack([y_pred, y_pred_e]), delimiter=',')\n",
    "    y_test, y_pred = tools.check_dtypes(y_test, y_pred)\n",
    "    test_loss = metrics.mean_squared_error(y_test, y_pred)\n",
    "    test_loss_error = metrics.mean_squared_error_std_dev(y_test, y_pred, y_pred_e)\n",
    "    bh_50_lh_sv_slp_test_losses.append(test_loss)\n",
    "    bh_50_lh_sv_slp_test_loss_errors.append(test_loss_error)"
   ]
  },
  {
   "cell_type": "code",
   "execution_count": 110,
   "metadata": {},
   "outputs": [
    {
     "name": "stdout",
     "output_type": "stream",
     "text": [
      "[0.2836821922487735, 0.4355698707587794, 0.3089284433115223, 0.4026004923242665, 0.3055266620977994, 0.3661559572510269, 0.4093956452163833, 0.3342882041338399, 0.27576605518683556, 0.2968767470245926]\n",
      "[0.010210264406996811, 0.013530188906986622, 0.009793303539447525, 0.013971871586703063, 0.010843932734689568, 0.010537247009201483, 0.013789815546800917, 0.009801074998199467, 0.010313242031269293, 0.010503468880695187]\n",
      "0.3418790269553819\n",
      "0.05464502854271606\n"
     ]
    }
   ],
   "source": [
    "print bh_50_lh_sv_slp_test_losses\n",
    "print bh_50_lh_sv_slp_test_loss_errors\n",
    "print np.mean(bh_50_lh_sv_slp_test_losses)\n",
    "print np.std(bh_50_lh_sv_slp_test_losses)"
   ]
  },
  {
   "cell_type": "code",
   "execution_count": 111,
   "metadata": {},
   "outputs": [],
   "source": [
    "bh_50_lh_sv_slp_evidence = []\n",
    "bh_50_lh_sv_slp_evidence_e = []\n",
    "for run_n in run_ns:\n",
    "    stats_file = '../cpp_models/cpp_chains/bh_50_lh_sv_slp_' + str(run_n) + '.stats'\n",
    "    ev, ev_e = output_tools.read_evidence(stats_file)\n",
    "    bh_50_lh_sv_slp_evidence.append(ev)\n",
    "    bh_50_lh_sv_slp_evidence_e.append(ev_e)"
   ]
  },
  {
   "cell_type": "code",
   "execution_count": 112,
   "metadata": {},
   "outputs": [
    {
     "name": "stdout",
     "output_type": "stream",
     "text": [
      "[-236.404879140289, -243.402631604356, -227.879864144912, -228.295734642266, -221.547699924879, -200.548020377103, -200.511828044095, -224.374014126762, -246.595488612766, -223.669458921792]\n",
      "[0.182296153270309, 0.182089037132442, 0.185931822319182, 0.18430328425798, 0.186269367861433, 0.207588982042148, 0.189533889431246, 0.188745443352599, 0.181937749075435, 0.18656430125744]\n",
      "-225.322961953922\n",
      "14.71345008346592\n"
     ]
    }
   ],
   "source": [
    "print bh_50_lh_sv_slp_evidence\n",
    "print bh_50_lh_sv_slp_evidence_e\n",
    "print np.mean(bh_50_lh_sv_slp_evidence)\n",
    "print np.std(bh_50_lh_sv_slp_evidence)"
   ]
  },
  {
   "cell_type": "code",
   "execution_count": 113,
   "metadata": {},
   "outputs": [],
   "source": [
    "# bh_50_ih_sv_slp"
   ]
  },
  {
   "cell_type": "code",
   "execution_count": 114,
   "metadata": {},
   "outputs": [],
   "source": [
    "n_stoc = 14\n",
    "n_stoc_var = 1\n",
    "bh_50_ih_sv_slp_test_losses = []\n",
    "bh_50_ih_sv_slp_test_loss_errors = []\n",
    "for run_n in run_ns:\n",
    "    chains_file = '../cpp_models/cpp_chains/bh_50_ih_sv_slp_' + str(run_n) + '.txt'\n",
    "    x_test = np.genfromtxt(\"../../data/uci/bh_50_x_te_\" + str(run_n) + \".csv\", delimiter=',')\n",
    "    y_test = np.genfromtxt(\"../../data/uci/bh_50_y_te_\" + str(run_n) + \".csv\", delimiter=',')\n",
    "    y_test = y_test.reshape(-1,1)\n",
    "    model = kms.slp(num_inputs, num_outputs, layer_sizes)\n",
    "    bnn_model = bnn.bnn_predictor(model, x_test, y_test, chains_file, n_stoc, n_stoc_var)\n",
    "    y_pred, y_pred_e = bnn_model.predictions_expectation_and_std()\n",
    "    np.savetxt(\"../../data/uci/predictions/bh_50_ih_sv_slp_\" + str(run_n) + \"_y_te_pr.csv\", np.hstack([y_pred, y_pred_e]), delimiter=',')\n",
    "    y_test, y_pred = tools.check_dtypes(y_test, y_pred)\n",
    "    test_loss = metrics.mean_squared_error(y_test, y_pred)\n",
    "    test_loss_error = metrics.mean_squared_error_std_dev(y_test, y_pred, y_pred_e)\n",
    "    bh_50_ih_sv_slp_test_losses.append(test_loss)\n",
    "    bh_50_ih_sv_slp_test_loss_errors.append(test_loss_error)"
   ]
  },
  {
   "cell_type": "code",
   "execution_count": 115,
   "metadata": {},
   "outputs": [
    {
     "name": "stdout",
     "output_type": "stream",
     "text": [
      "[0.2834359788100014, 0.4330630680994367, 0.307602095398629, 0.401923196226245, 0.3063115057256566, 0.3662200379653919, 0.40895331979504684, 0.33582673201100105, 0.27584559342135334, 0.29734634530915066]\n",
      "[0.010382882840012897, 0.013515865525845194, 0.009733802306250386, 0.01433021179295497, 0.01079565174262354, 0.010554913181309368, 0.013571985149616519, 0.009474900531169415, 0.010330012977446606, 0.010474702650579176]\n",
      "0.34165278727619125\n",
      "0.05408004825134937\n"
     ]
    }
   ],
   "source": [
    "print bh_50_ih_sv_slp_test_losses\n",
    "print bh_50_ih_sv_slp_test_loss_errors\n",
    "print np.mean(bh_50_ih_sv_slp_test_losses)\n",
    "print np.std(bh_50_ih_sv_slp_test_losses)"
   ]
  },
  {
   "cell_type": "code",
   "execution_count": 116,
   "metadata": {},
   "outputs": [],
   "source": [
    "bh_50_ih_sv_slp_evidence = []\n",
    "bh_50_ih_sv_slp_evidence_e = []\n",
    "for run_n in run_ns:\n",
    "    stats_file = '../cpp_models/cpp_chains/bh_50_ih_sv_slp_' + str(run_n) + '.stats'\n",
    "    ev, ev_e = output_tools.read_evidence(stats_file)\n",
    "    bh_50_ih_sv_slp_evidence.append(ev)\n",
    "    bh_50_ih_sv_slp_evidence_e.append(ev_e)"
   ]
  },
  {
   "cell_type": "code",
   "execution_count": 117,
   "metadata": {},
   "outputs": [
    {
     "name": "stdout",
     "output_type": "stream",
     "text": [
      "[-243.661128157396, -251.198801782631, -235.084797825471, -235.979285157365, -228.620153603471, -207.525669101772, -207.972994810014, -231.294418277131, -253.509121921791, -230.692136093862]\n",
      "[0.201143697993428, 0.202230681494013, 0.203230844797817, 0.203353177423049, 0.20448254976907, 0.208935274332973, 0.208956699527822, 0.534449321426558, 0.200017973353203, 0.204364915361499]\n",
      "-232.55385067309038\n",
      "14.762868875965797\n"
     ]
    }
   ],
   "source": [
    "print bh_50_ih_sv_slp_evidence\n",
    "print bh_50_ih_sv_slp_evidence_e\n",
    "print np.mean(bh_50_ih_sv_slp_evidence)\n",
    "print np.std(bh_50_ih_sv_slp_evidence)"
   ]
  },
  {
   "cell_type": "code",
   "execution_count": 118,
   "metadata": {},
   "outputs": [],
   "source": [
    "# bh_50_mlp_2"
   ]
  },
  {
   "cell_type": "code",
   "execution_count": 119,
   "metadata": {},
   "outputs": [],
   "source": [
    "layer_sizes = [2]"
   ]
  },
  {
   "cell_type": "code",
   "execution_count": 120,
   "metadata": {},
   "outputs": [],
   "source": [
    "# bh_50_mlp_2"
   ]
  },
  {
   "cell_type": "code",
   "execution_count": 121,
   "metadata": {},
   "outputs": [],
   "source": [
    "n_stoc = 0\n",
    "n_stoc_var = 0\n",
    "bh_50_mlp_2_test_losses = []\n",
    "bh_50_mlp_2_test_loss_errors = []\n",
    "for run_n in run_ns:\n",
    "    chains_file = '../cpp_models/cpp_chains/bh_50_mlp_2_' + str(run_n) + '.txt'\n",
    "    x_test = np.genfromtxt(\"../../data/uci/bh_50_x_te_\" + str(run_n) + \".csv\", delimiter=',')\n",
    "    y_test = np.genfromtxt(\"../../data/uci/bh_50_y_te_\" + str(run_n) + \".csv\", delimiter=',')\n",
    "    y_test = y_test.reshape(-1,1)\n",
    "    model = kms.mlp_1(num_inputs, num_outputs, layer_sizes)\n",
    "    bnn_model = bnn.bnn_predictor(model, x_test, y_test, chains_file, n_stoc, n_stoc_var)\n",
    "    y_pred, y_pred_e = bnn_model.predictions_expectation_and_std()\n",
    "    np.savetxt(\"../../data/uci/predictions/bh_50_mlp_2_\" + str(run_n) + \"_y_te_pr.csv\", np.hstack([y_pred, y_pred_e]), delimiter=',')\n",
    "    y_test, y_pred = tools.check_dtypes(y_test, y_pred)\n",
    "    test_loss = metrics.mean_squared_error(y_test, y_pred)\n",
    "    test_loss_error = metrics.mean_squared_error_std_dev(y_test, y_pred, y_pred_e)\n",
    "    bh_50_mlp_2_test_losses.append(test_loss)\n",
    "    bh_50_mlp_2_test_loss_errors.append(test_loss_error)"
   ]
  },
  {
   "cell_type": "code",
   "execution_count": 122,
   "metadata": {},
   "outputs": [
    {
     "name": "stdout",
     "output_type": "stream",
     "text": [
      "[0.23541930038624648, 0.3618373590811095, 0.20697501486733408, 0.36237640150712425, 0.23899957374502565, 0.3004489419248265, 0.3234835155982037, 0.2623115925421306, 0.23606389963866928, 0.21847951274836777]\n",
      "[0.024554698144063195, 0.03475009541466368, 0.02245221515924443, 0.03549491669861705, 0.02735675131451776, 0.028259768230943505, 0.027259939525967367, 0.023425898427550582, 0.02693377543781506, 0.027352531373025422]\n",
      "0.2746395112039038\n",
      "0.05525758321690244\n"
     ]
    }
   ],
   "source": [
    "print bh_50_mlp_2_test_losses\n",
    "print bh_50_mlp_2_test_loss_errors\n",
    "print np.mean(bh_50_mlp_2_test_losses)\n",
    "print np.std(bh_50_mlp_2_test_losses)"
   ]
  },
  {
   "cell_type": "code",
   "execution_count": 123,
   "metadata": {},
   "outputs": [],
   "source": [
    "bh_50_mlp_2_evidence = []\n",
    "bh_50_mlp_2_evidence_e = []\n",
    "for run_n in run_ns:\n",
    "    stats_file = '../cpp_models/cpp_chains/bh_50_mlp_2_' + str(run_n) + '.stats'\n",
    "    ev, ev_e = output_tools.read_evidence(stats_file)\n",
    "    bh_50_mlp_2_evidence.append(ev)\n",
    "    bh_50_mlp_2_evidence_e.append(ev_e)"
   ]
  },
  {
   "cell_type": "code",
   "execution_count": 124,
   "metadata": {},
   "outputs": [
    {
     "name": "stdout",
     "output_type": "stream",
     "text": [
      "[-292.39853815329, -295.395343540657, -292.645544143193, -293.237998851191, -290.900183149592, -285.762860847664, -284.784539418607, -290.458300157892, -293.367788124647, -291.693389856803]\n",
      "[0.156175179381306, 0.159752580518592, 0.163897398850139, 0.152657916357163, 0.15624929671636, 0.150931547204274, 0.155637992876451, 0.16748740926358, 0.166567525239848, 0.155292881943867]\n",
      "-291.0644486243536\n",
      "3.1843376218454615\n"
     ]
    }
   ],
   "source": [
    "print bh_50_mlp_2_evidence\n",
    "print bh_50_mlp_2_evidence_e\n",
    "print np.mean(bh_50_mlp_2_evidence)\n",
    "print np.std(bh_50_mlp_2_evidence)"
   ]
  },
  {
   "cell_type": "code",
   "execution_count": 125,
   "metadata": {},
   "outputs": [],
   "source": [
    "# bh_50_r_mlp_2"
   ]
  },
  {
   "cell_type": "code",
   "execution_count": 126,
   "metadata": {},
   "outputs": [],
   "source": [
    "n_stoc = 0\n",
    "n_stoc_var = 0\n",
    "bh_50_r_mlp_2_test_losses = []\n",
    "bh_50_r_mlp_2_test_loss_errors = []\n",
    "for run_n in run_ns:\n",
    "    chains_file = '../cpp_models/cpp_chains/bh_50_r_mlp_2_' + str(run_n) + '.txt'\n",
    "    x_test = np.genfromtxt(\"../../data/uci/bh_50_x_te_\" + str(run_n) + \".csv\", delimiter=',')\n",
    "    y_test = np.genfromtxt(\"../../data/uci/bh_50_y_te_\" + str(run_n) + \".csv\", delimiter=',')\n",
    "    y_test = y_test.reshape(-1,1)\n",
    "    model = kms.relu_mlp_1(num_inputs, num_outputs, layer_sizes)\n",
    "    bnn_model = bnn.bnn_predictor(model, x_test, y_test, chains_file, n_stoc, n_stoc_var)\n",
    "    y_pred, y_pred_e = bnn_model.predictions_expectation_and_std()\n",
    "    np.savetxt(\"../../data/uci/predictions/bh_50_r_mlp_2_\" + str(run_n) + \"_y_te_pr.csv\", np.hstack([y_pred, y_pred_e]), delimiter=',')\n",
    "    y_test, y_pred = tools.check_dtypes(y_test, y_pred)\n",
    "    test_loss = metrics.mean_squared_error(y_test, y_pred)\n",
    "    test_loss_error = metrics.mean_squared_error_std_dev(y_test, y_pred, y_pred_e)\n",
    "    bh_50_r_mlp_2_test_losses.append(test_loss)\n",
    "    bh_50_r_mlp_2_test_loss_errors.append(test_loss_error)"
   ]
  },
  {
   "cell_type": "code",
   "execution_count": 127,
   "metadata": {},
   "outputs": [
    {
     "name": "stdout",
     "output_type": "stream",
     "text": [
      "[0.20074239717673625, 0.32850723979848295, 0.21613645022322792, 0.30440592368763003, 0.23849498816599046, 0.27607675161940964, 0.31441809454690833, 0.23547076582418128, 0.20697606235524002, 0.2055389047852266]\n",
      "[0.023749586694556644, 0.029685006528785546, 0.022652550467837942, 0.03259146575858556, 0.024427809758421685, 0.02237206563707515, 0.026526363210314416, 0.023935966793940184, 0.024528993035505074, 0.02227156114500898]\n",
      "0.25267675781830334\n",
      "0.04650354004755895\n"
     ]
    }
   ],
   "source": [
    "print bh_50_r_mlp_2_test_losses\n",
    "print bh_50_r_mlp_2_test_loss_errors\n",
    "print np.mean(bh_50_r_mlp_2_test_losses)\n",
    "print np.std(bh_50_r_mlp_2_test_losses)"
   ]
  },
  {
   "cell_type": "code",
   "execution_count": 128,
   "metadata": {},
   "outputs": [],
   "source": [
    "bh_50_r_mlp_2_evidence = []\n",
    "bh_50_r_mlp_2_evidence_e = []\n",
    "for run_n in run_ns:\n",
    "    stats_file = '../cpp_models/cpp_chains/bh_50_r_mlp_2_' + str(run_n) + '.stats'\n",
    "    ev, ev_e = output_tools.read_evidence(stats_file)\n",
    "    bh_50_r_mlp_2_evidence.append(ev)\n",
    "    bh_50_r_mlp_2_evidence_e.append(ev_e)"
   ]
  },
  {
   "cell_type": "code",
   "execution_count": 129,
   "metadata": {},
   "outputs": [
    {
     "name": "stdout",
     "output_type": "stream",
     "text": [
      "[-286.093116716444, -289.715462117642, -284.640417234716, -285.184566594408, -283.876346575477, -279.547374827286, -276.478118469543, -284.142724440993, -288.811654997753, -286.544178400483]\n",
      "[0.147567665302801, 0.142830984557224, 0.155070358466866, 0.149267710506916, 0.141424183440562, 0.142833208408826, 0.141609570153994, 0.151581856064704, 0.149079569384291, 0.141480073965597]\n",
      "-284.5033960374745\n",
      "3.7734864783880178\n"
     ]
    }
   ],
   "source": [
    "print bh_50_r_mlp_2_evidence\n",
    "print bh_50_r_mlp_2_evidence_e\n",
    "print np.mean(bh_50_r_mlp_2_evidence)\n",
    "print np.std(bh_50_r_mlp_2_evidence)"
   ]
  },
  {
   "cell_type": "code",
   "execution_count": 130,
   "metadata": {},
   "outputs": [],
   "source": [
    "# bh_50_sh_sv_mlp_2"
   ]
  },
  {
   "cell_type": "code",
   "execution_count": 131,
   "metadata": {},
   "outputs": [],
   "source": [
    "n_stoc = 1\n",
    "n_stoc_var = 1\n",
    "bh_50_sh_sv_mlp_2_test_losses = []\n",
    "bh_50_sh_sv_mlp_2_test_loss_errors = []\n",
    "for run_n in run_ns:\n",
    "    chains_file = '../cpp_models/cpp_chains/bh_50_sh_sv_mlp_2_' + str(run_n) + '.txt'\n",
    "    x_test = np.genfromtxt(\"../../data/uci/bh_50_x_te_\" + str(run_n) + \".csv\", delimiter=',')\n",
    "    y_test = np.genfromtxt(\"../../data/uci/bh_50_y_te_\" + str(run_n) + \".csv\", delimiter=',')\n",
    "    y_test = y_test.reshape(-1,1)\n",
    "    model = kms.mlp_1(num_inputs, num_outputs, layer_sizes)\n",
    "    bnn_model = bnn.bnn_predictor(model, x_test, y_test, chains_file, n_stoc, n_stoc_var)\n",
    "    y_pred, y_pred_e = bnn_model.predictions_expectation_and_std()\n",
    "    np.savetxt(\"../../data/uci/predictions/bh_50_sh_sv_mlp_2_\" + str(run_n) + \"_y_te_pr.csv\", np.hstack([y_pred, y_pred_e]), delimiter=',')\n",
    "    y_test, y_pred = tools.check_dtypes(y_test, y_pred)\n",
    "    test_loss = metrics.mean_squared_error(y_test, y_pred)\n",
    "    test_loss_error = metrics.mean_squared_error_std_dev(y_test, y_pred, y_pred_e)\n",
    "    bh_50_sh_sv_mlp_2_test_losses.append(test_loss)\n",
    "    bh_50_sh_sv_mlp_2_test_loss_errors.append(test_loss_error)"
   ]
  },
  {
   "cell_type": "code",
   "execution_count": 132,
   "metadata": {},
   "outputs": [
    {
     "name": "stdout",
     "output_type": "stream",
     "text": [
      "[0.1554936528792531, 0.2635373979118109, 0.1972356647033818, 0.27506537273330933, 0.1784275683742476, 0.261250217229457, 0.26480981008391946, 0.21603489782050803, 0.20108003738942037, 0.16905421902184997]\n",
      "[0.0133807802166069, 0.019448329821623807, 0.011834903967240074, 0.022666346059348592, 0.012742036733217865, 0.012566615471506223, 0.009735160208901895, 0.040171053037292105, 0.011002223788791411, 0.01225094707019591]\n",
      "0.2181988838147158\n",
      "0.04240456351489215\n"
     ]
    }
   ],
   "source": [
    "print bh_50_sh_sv_mlp_2_test_losses\n",
    "print bh_50_sh_sv_mlp_2_test_loss_errors\n",
    "print np.mean(bh_50_sh_sv_mlp_2_test_losses)\n",
    "print np.std(bh_50_sh_sv_mlp_2_test_losses)"
   ]
  },
  {
   "cell_type": "code",
   "execution_count": 133,
   "metadata": {},
   "outputs": [],
   "source": [
    "bh_50_sh_sv_mlp_2_evidence = []\n",
    "bh_50_sh_sv_mlp_2_evidence_e = []\n",
    "for run_n in run_ns:\n",
    "    stats_file = '../cpp_models/cpp_chains/bh_50_sh_sv_mlp_2_' + str(run_n) + '.stats'\n",
    "    ev, ev_e = output_tools.read_evidence(stats_file)\n",
    "    bh_50_sh_sv_mlp_2_evidence.append(ev)\n",
    "    bh_50_sh_sv_mlp_2_evidence_e.append(ev_e)"
   ]
  },
  {
   "cell_type": "code",
   "execution_count": 134,
   "metadata": {},
   "outputs": [
    {
     "name": "stdout",
     "output_type": "stream",
     "text": [
      "[-178.651811482731, -205.099353885749, -179.735348046765, -191.505108692016, -184.234799006386, -147.374064688259, -147.906618120134, -167.818821398579, -188.410300543074, -192.65522063661]\n",
      "[1.30813796905563, 0.249699793052412, 0.711692738116075, 0.276802810896619, 0.430265831665565, 0.905556279792782, 0.745922912522783, 1.43327017574248, 0.52717725155505, 0.339328793933805]\n",
      "-178.3391446500303\n",
      "17.967435972557457\n"
     ]
    }
   ],
   "source": [
    "print bh_50_sh_sv_mlp_2_evidence\n",
    "print bh_50_sh_sv_mlp_2_evidence_e\n",
    "print np.mean(bh_50_sh_sv_mlp_2_evidence)\n",
    "print np.std(bh_50_sh_sv_mlp_2_evidence)"
   ]
  },
  {
   "cell_type": "code",
   "execution_count": 135,
   "metadata": {},
   "outputs": [],
   "source": [
    "# bh_50_lh_sv_mlp_2"
   ]
  },
  {
   "cell_type": "code",
   "execution_count": 136,
   "metadata": {},
   "outputs": [],
   "source": [
    "n_stoc = 4\n",
    "n_stoc_var = 1\n",
    "bh_50_lh_sv_mlp_2_test_losses = []\n",
    "bh_50_lh_sv_mlp_2_test_loss_errors = []\n",
    "for run_n in run_ns:\n",
    "    chains_file = '../cpp_models/cpp_chains/bh_50_lh_sv_mlp_2_' + str(run_n) + '.txt'\n",
    "    x_test = np.genfromtxt(\"../../data/uci/bh_50_x_te_\" + str(run_n) + \".csv\", delimiter=',')\n",
    "    y_test = np.genfromtxt(\"../../data/uci/bh_50_y_te_\" + str(run_n) + \".csv\", delimiter=',')\n",
    "    y_test = y_test.reshape(-1,1)\n",
    "    model = kms.mlp_1(num_inputs, num_outputs, layer_sizes)\n",
    "    bnn_model = bnn.bnn_predictor(model, x_test, y_test, chains_file, n_stoc, n_stoc_var)\n",
    "    np.savetxt(\"../../data/uci/predictions/bh_50_lh_sv_mlp_2_\" + str(run_n) + \"_y_te_pr.csv\", np.hstack([y_pred, y_pred_e]), delimiter=',')\n",
    "    y_pred, y_pred_e = bnn_model.predictions_expectation_and_std()\n",
    "    y_test, y_pred = tools.check_dtypes(y_test, y_pred)\n",
    "    test_loss = metrics.mean_squared_error(y_test, y_pred)\n",
    "    test_loss_error = metrics.mean_squared_error_std_dev(y_test, y_pred, y_pred_e)\n",
    "    bh_50_lh_sv_mlp_2_test_losses.append(test_loss)\n",
    "    bh_50_lh_sv_mlp_2_test_loss_errors.append(test_loss_error)"
   ]
  },
  {
   "cell_type": "code",
   "execution_count": 137,
   "metadata": {},
   "outputs": [
    {
     "name": "stdout",
     "output_type": "stream",
     "text": [
      "[0.15640162729171805, 0.2482044291308965, 0.2036036447512287, 0.19460329280958663, 0.16906828010174754, 0.25994804835008584, 0.2654493291231611, 0.22662205115490314, 0.2021179364225054, 0.16445852920271606]\n",
      "[0.016471105031871613, 0.016216182658598803, 0.011242488741783548, 0.02875443102248653, 0.01250119616419326, 0.010952237832485967, 0.009265297834861512, 0.019785341193334062, 0.01063220208275292, 0.01062631242363328]\n",
      "0.20904771683385487\n",
      "0.03776050037263817\n"
     ]
    }
   ],
   "source": [
    "print bh_50_lh_sv_mlp_2_test_losses\n",
    "print bh_50_lh_sv_mlp_2_test_loss_errors\n",
    "print np.mean(bh_50_lh_sv_mlp_2_test_losses)\n",
    "print np.std(bh_50_lh_sv_mlp_2_test_losses)"
   ]
  },
  {
   "cell_type": "code",
   "execution_count": 138,
   "metadata": {},
   "outputs": [],
   "source": [
    "bh_50_lh_sv_mlp_2_evidence = []\n",
    "bh_50_lh_sv_mlp_2_evidence_e = []\n",
    "for run_n in run_ns:\n",
    "    stats_file = '../cpp_models/cpp_chains/bh_50_lh_sv_mlp_2_' + str(run_n) + '.stats'\n",
    "    ev, ev_e = output_tools.read_evidence(stats_file)\n",
    "    bh_50_lh_sv_mlp_2_evidence.append(ev)\n",
    "    bh_50_lh_sv_mlp_2_evidence_e.append(ev_e)"
   ]
  },
  {
   "cell_type": "code",
   "execution_count": 139,
   "metadata": {},
   "outputs": [
    {
     "name": "stdout",
     "output_type": "stream",
     "text": [
      "[-169.117876241461, -197.717843765623, -172.452173912294, -179.889074957079, -172.31316306761, -142.81770218861, -139.082802130781, -156.031152865633, -183.365532524559, -185.630296642525]\n",
      "[1.22483546699517, 0.697260394617246, 0.558786652393559, 1.6371794043395, 0.494982970729856, 0.285796360076415, 0.338635846128268, 1.30347624787488, 0.389144520462414, 0.529196116617339]\n",
      "-169.8417618296175\n",
      "17.86277430129106\n"
     ]
    }
   ],
   "source": [
    "print bh_50_lh_sv_mlp_2_evidence\n",
    "print bh_50_lh_sv_mlp_2_evidence_e\n",
    "print np.mean(bh_50_lh_sv_mlp_2_evidence)\n",
    "print np.std(bh_50_lh_sv_mlp_2_evidence)"
   ]
  },
  {
   "cell_type": "code",
   "execution_count": 140,
   "metadata": {},
   "outputs": [],
   "source": [
    "# bh_50_ih_sv_mlp_2"
   ]
  },
  {
   "cell_type": "code",
   "execution_count": null,
   "metadata": {},
   "outputs": [],
   "source": [
    "n_stoc = 17\n",
    "n_stoc_var = 1\n",
    "bh_50_ih_sv_mlp_2_test_losses = []\n",
    "bh_50_ih_sv_mlp_2_test_loss_errors = []\n",
    "for run_n in run_ns:\n",
    "    chains_file = '../cpp_models/cpp_chains/bh_50_ih_sv_mlp_2_' + str(run_n) + '.txt'\n",
    "    x_test = np.genfromtxt(\"../../data/uci/bh_50_x_te_\" + str(run_n) + \".csv\", delimiter=',')\n",
    "    y_test = np.genfromtxt(\"../../data/uci/bh_50_y_te_\" + str(run_n) + \".csv\", delimiter=',')\n",
    "    y_test = y_test.reshape(-1,1)\n",
    "    model = kms.mlp_1(num_inputs, num_outputs, layer_sizes)\n",
    "    bnn_model = bnn.bnn_predictor(model, x_test, y_test, chains_file, n_stoc, n_stoc_var)\n",
    "    y_pred, y_pred_e = bnn_model.predictions_expectation_and_std()\n",
    "    np.savetxt(\"../../data/uci/predictions/bh_50_ih_sv_mlp_2_\" + str(run_n) + \"_y_te_pr.csv\", np.hstack([y_pred, y_pred_e]), delimiter=',')\n",
    "    y_test, y_pred = tools.check_dtypes(y_test, y_pred)\n",
    "    test_loss = metrics.mean_squared_error(y_test, y_pred)\n",
    "    test_loss_error = metrics.mean_squared_error_std_dev(y_test, y_pred, y_pred_e)\n",
    "    bh_50_ih_sv_mlp_2_test_losses.append(test_loss)\n",
    "    bh_50_ih_sv_mlp_2_test_loss_errors.append(test_loss_error)"
   ]
  },
  {
   "cell_type": "code",
   "execution_count": null,
   "metadata": {},
   "outputs": [],
   "source": [
    "print bh_50_ih_sv_mlp_2_test_losses\n",
    "print bh_50_ih_sv_mlp_2_test_loss_errors\n",
    "print np.mean(bh_50_ih_sv_mlp_2_test_losses)\n",
    "print np.std(bh_50_ih_sv_mlp_2_test_losses)"
   ]
  },
  {
   "cell_type": "code",
   "execution_count": null,
   "metadata": {},
   "outputs": [],
   "source": [
    "bh_50_ih_sv_mlp_2_evidence = []\n",
    "bh_50_ih_sv_mlp_2_evidence_e = []\n",
    "for run_n in run_ns:\n",
    "    stats_file = '../cpp_models/cpp_chains/bh_50_ih_sv_mlp_2_' + str(run_n) + '.stats'\n",
    "    ev, ev_e = output_tools.read_evidence(stats_file)\n",
    "    bh_50_ih_sv_mlp_2_evidence.append(ev)\n",
    "    bh_50_ih_sv_mlp_2_evidence_e.append(ev_e)"
   ]
  },
  {
   "cell_type": "code",
   "execution_count": null,
   "metadata": {},
   "outputs": [],
   "source": [
    "print bh_50_ih_sv_mlp_2_evidence\n",
    "print bh_50_ih_sv_mlp_2_evidence_e\n",
    "print np.mean(bh_50_ih_sv_mlp_2_evidence)\n",
    "print np.std(bh_50_ih_sv_mlp_2_evidence)"
   ]
  },
  {
   "cell_type": "code",
   "execution_count": null,
   "metadata": {},
   "outputs": [],
   "source": [
    "# bh_50_mlp_4"
   ]
  },
  {
   "cell_type": "code",
   "execution_count": null,
   "metadata": {},
   "outputs": [],
   "source": [
    "layer_sizes = [4]"
   ]
  },
  {
   "cell_type": "code",
   "execution_count": null,
   "metadata": {},
   "outputs": [],
   "source": [
    "# bh_50_mlp_4"
   ]
  },
  {
   "cell_type": "code",
   "execution_count": null,
   "metadata": {},
   "outputs": [],
   "source": [
    "n_stoc = 0\n",
    "n_stoc_var = 0\n",
    "bh_50_mlp_4_test_losses = []\n",
    "bh_50_mlp_4_test_loss_errors = []\n",
    "for run_n in run_ns:\n",
    "    chains_file = '../cpp_models/cpp_chains/bh_50_mlp_4_' + str(run_n) + '.txt'\n",
    "    x_test = np.genfromtxt(\"../../data/uci/bh_50_x_te_\" + str(run_n) + \".csv\", delimiter=',')\n",
    "    y_test = np.genfromtxt(\"../../data/uci/bh_50_y_te_\" + str(run_n) + \".csv\", delimiter=',')\n",
    "    y_test = y_test.reshape(-1,1)\n",
    "    model = kms.mlp_1(num_inputs, num_outputs, layer_sizes)\n",
    "    bnn_model = bnn.bnn_predictor(model, x_test, y_test, chains_file, n_stoc, n_stoc_var)\n",
    "    y_pred, y_pred_e = bnn_model.predictions_expectation_and_std()\n",
    "    np.savetxt(\"../../data/uci/predictions/bh_50_mlp_4_\" + str(run_n) + \"_y_te_pr.csv\", np.hstack([y_pred, y_pred_e]), delimiter=',')\n",
    "    y_test, y_pred = tools.check_dtypes(y_test, y_pred)\n",
    "    test_loss = metrics.mean_squared_error(y_test, y_pred)\n",
    "    test_loss_error = metrics.mean_squared_error_std_dev(y_test, y_pred, y_pred_e)\n",
    "    bh_50_mlp_4_test_losses.append(test_loss)\n",
    "    bh_50_mlp_4_test_loss_errors.append(test_loss_error)"
   ]
  },
  {
   "cell_type": "code",
   "execution_count": null,
   "metadata": {},
   "outputs": [],
   "source": [
    "print bh_50_mlp_4_test_losses\n",
    "print bh_50_mlp_4_test_loss_errors\n",
    "print np.mean(bh_50_mlp_4_test_losses)\n",
    "print np.std(bh_50_mlp_4_test_losses)"
   ]
  },
  {
   "cell_type": "code",
   "execution_count": null,
   "metadata": {},
   "outputs": [],
   "source": [
    "bh_50_mlp_4_evidence = []\n",
    "bh_50_mlp_4_evidence_e = []\n",
    "for run_n in run_ns:\n",
    "    stats_file = '../cpp_models/cpp_chains/bh_50_mlp_4_' + str(run_n) + '.stats'\n",
    "    ev, ev_e = output_tools.read_evidence(stats_file)\n",
    "    bh_50_mlp_4_evidence.append(ev)\n",
    "    bh_50_mlp_4_evidence_e.append(ev_e)"
   ]
  },
  {
   "cell_type": "code",
   "execution_count": null,
   "metadata": {},
   "outputs": [],
   "source": [
    "print bh_50_mlp_4_evidence\n",
    "print bh_50_mlp_4_evidence_e\n",
    "print np.mean(bh_50_mlp_4_evidence)\n",
    "print np.std(bh_50_mlp_4_evidence)"
   ]
  },
  {
   "cell_type": "code",
   "execution_count": null,
   "metadata": {},
   "outputs": [],
   "source": [
    "# bh_50_r_mlp_4"
   ]
  },
  {
   "cell_type": "code",
   "execution_count": null,
   "metadata": {},
   "outputs": [],
   "source": [
    "n_stoc = 0\n",
    "n_stoc_var = 0\n",
    "bh_50_r_mlp_4_test_losses = []\n",
    "bh_50_r_mlp_4_test_loss_errors = []\n",
    "for run_n in run_ns:\n",
    "    chains_file = '../cpp_models/cpp_chains/bh_50_r_mlp_4_' + str(run_n) + '.txt'\n",
    "    x_test = np.genfromtxt(\"../../data/uci/bh_50_x_te_\" + str(run_n) + \".csv\", delimiter=',')\n",
    "    y_test = np.genfromtxt(\"../../data/uci/bh_50_y_te_\" + str(run_n) + \".csv\", delimiter=',')\n",
    "    y_test = y_test.reshape(-1,1)\n",
    "    model = kms.relu_mlp_1(num_inputs, num_outputs, layer_sizes)\n",
    "    bnn_model = bnn.bnn_predictor(model, x_test, y_test, chains_file, n_stoc, n_stoc_var)\n",
    "    y_pred, y_pred_e = bnn_model.predictions_expectation_and_std()\n",
    "    np.savetxt(\"../../data/uci/predictions/bh_50_r_mlp_4_\" + str(run_n) + \"_y_te_pr.csv\", np.hstack([y_pred, y_pred_e]), delimiter=',')\n",
    "    y_test, y_pred = tools.check_dtypes(y_test, y_pred)\n",
    "    test_loss = metrics.mean_squared_error(y_test, y_pred)\n",
    "    test_loss_error = metrics.mean_squared_error_std_dev(y_test, y_pred, y_pred_e)\n",
    "    bh_50_r_mlp_4_test_losses.append(test_loss)\n",
    "    bh_50_r_mlp_4_test_loss_errors.append(test_loss_error)"
   ]
  },
  {
   "cell_type": "code",
   "execution_count": null,
   "metadata": {},
   "outputs": [],
   "source": [
    "print bh_50_r_mlp_4_test_losses\n",
    "print bh_50_r_mlp_4_test_loss_errors\n",
    "print np.mean(bh_50_r_mlp_4_test_losses)\n",
    "print np.std(bh_50_r_mlp_4_test_losses)"
   ]
  },
  {
   "cell_type": "code",
   "execution_count": null,
   "metadata": {},
   "outputs": [],
   "source": [
    "bh_50_r_mlp_4_evidence = []\n",
    "bh_50_r_mlp_4_evidence_e = []\n",
    "for run_n in run_ns:\n",
    "    stats_file = '../cpp_models/cpp_chains/bh_50_r_mlp_4_' + str(run_n) + '.stats'\n",
    "    ev, ev_e = output_tools.read_evidence(stats_file)\n",
    "    bh_50_r_mlp_4_evidence.append(ev)\n",
    "    bh_50_r_mlp_4_evidence_e.append(ev_e)"
   ]
  },
  {
   "cell_type": "code",
   "execution_count": null,
   "metadata": {},
   "outputs": [],
   "source": [
    "print bh_50_r_mlp_4_evidence\n",
    "print bh_50_r_mlp_4_evidence_e\n",
    "print np.mean(bh_50_r_mlp_4_evidence)\n",
    "print np.std(bh_50_r_mlp_4_evidence)"
   ]
  },
  {
   "cell_type": "code",
   "execution_count": null,
   "metadata": {},
   "outputs": [],
   "source": [
    "# bh_50_sh_sv_mlp_4"
   ]
  },
  {
   "cell_type": "code",
   "execution_count": null,
   "metadata": {},
   "outputs": [],
   "source": [
    "n_stoc = 1\n",
    "n_stoc_var = 1\n",
    "bh_50_sh_sv_mlp_4_test_losses = []\n",
    "bh_50_sh_sv_mlp_4_test_loss_errors = []\n",
    "for run_n in run_ns:\n",
    "    chains_file = '../cpp_models/cpp_chains/bh_50_sh_sv_mlp_4_' + str(run_n) + '.txt'\n",
    "    x_test = np.genfromtxt(\"../../data/uci/bh_50_x_te_\" + str(run_n) + \".csv\", delimiter=',')\n",
    "    y_test = np.genfromtxt(\"../../data/uci/bh_50_y_te_\" + str(run_n) + \".csv\", delimiter=',')\n",
    "    y_test = y_test.reshape(-1,1)\n",
    "    model = kms.mlp_1(num_inputs, num_outputs, layer_sizes)\n",
    "    bnn_model = bnn.bnn_predictor(model, x_test, y_test, chains_file, n_stoc, n_stoc_var)\n",
    "    y_pred, y_pred_e = bnn_model.predictions_expectation_and_std()\n",
    "    np.savetxt(\"../../data/uci/predictions/bh_50_sh_sv_mlp_4_\" + str(run_n) + \"_y_te_pr.csv\", np.hstack([y_pred, y_pred_e]), delimiter=',')\n",
    "    y_test, y_pred = tools.check_dtypes(y_test, y_pred)\n",
    "    test_loss = metrics.mean_squared_error(y_test, y_pred)\n",
    "    test_loss_error = metrics.mean_squared_error_std_dev(y_test, y_pred, y_pred_e)\n",
    "    bh_50_sh_sv_mlp_4_test_losses.append(test_loss)\n",
    "    bh_50_sh_sv_mlp_4_test_loss_errors.append(test_loss_error)"
   ]
  },
  {
   "cell_type": "code",
   "execution_count": null,
   "metadata": {},
   "outputs": [],
   "source": [
    "print bh_50_sh_sv_mlp_4_test_losses\n",
    "print bh_50_sh_sv_mlp_4_test_loss_errors\n",
    "print np.mean(bh_50_sh_sv_mlp_4_test_losses)\n",
    "print np.std(bh_50_sh_sv_mlp_4_test_losses)"
   ]
  },
  {
   "cell_type": "code",
   "execution_count": null,
   "metadata": {},
   "outputs": [],
   "source": [
    "bh_50_sh_sv_mlp_4_evidence = []\n",
    "bh_50_sh_sv_mlp_4_evidence_e = []\n",
    "for run_n in run_ns:\n",
    "    stats_file = '../cpp_models/cpp_chains/bh_50_sh_sv_mlp_4_' + str(run_n) + '.stats'\n",
    "    ev, ev_e = output_tools.read_evidence(stats_file)\n",
    "    bh_50_sh_sv_mlp_4_evidence.append(ev)\n",
    "    bh_50_sh_sv_mlp_4_evidence_e.append(ev_e)"
   ]
  },
  {
   "cell_type": "code",
   "execution_count": null,
   "metadata": {},
   "outputs": [],
   "source": [
    "print bh_50_sh_sv_mlp_4_evidence\n",
    "print bh_50_sh_sv_mlp_4_evidence_e\n",
    "print np.mean(bh_50_sh_sv_mlp_4_evidence)\n",
    "print np.std(bh_50_sh_sv_mlp_4_evidence)"
   ]
  },
  {
   "cell_type": "code",
   "execution_count": null,
   "metadata": {},
   "outputs": [],
   "source": [
    "# bh_50_lh_sv_mlp_4"
   ]
  },
  {
   "cell_type": "code",
   "execution_count": null,
   "metadata": {},
   "outputs": [],
   "source": [
    "n_stoc = 4\n",
    "n_stoc_var = 1\n",
    "bh_50_lh_sv_mlp_4_test_losses = []\n",
    "bh_50_lh_sv_mlp_4_test_loss_errors = []\n",
    "for run_n in run_ns:\n",
    "    chains_file = '../cpp_models/cpp_chains/bh_50_lh_sv_mlp_4_' + str(run_n) + '.txt'\n",
    "    x_test = np.genfromtxt(\"../../data/uci/bh_50_x_te_\" + str(run_n) + \".csv\", delimiter=',')\n",
    "    y_test = np.genfromtxt(\"../../data/uci/bh_50_y_te_\" + str(run_n) + \".csv\", delimiter=',')\n",
    "    y_test = y_test.reshape(-1,1)\n",
    "    model = kms.mlp_1(num_inputs, num_outputs, layer_sizes)\n",
    "    bnn_model = bnn.bnn_predictor(model, x_test, y_test, chains_file, n_stoc, n_stoc_var)\n",
    "    y_pred, y_pred_e = bnn_model.predictions_expectation_and_std()\n",
    "    np.savetxt(\"../../data/uci/predictions/bh_50_lh_sv_mlp_4_\" + str(run_n) + \"_y_te_pr.csv\", np.hstack([y_pred, y_pred_e]), delimiter=',')\n",
    "    y_test, y_pred = tools.check_dtypes(y_test, y_pred)\n",
    "    test_loss = metrics.mean_squared_error(y_test, y_pred)\n",
    "    test_loss_error = metrics.mean_squared_error_std_dev(y_test, y_pred, y_pred_e)\n",
    "    bh_50_lh_sv_mlp_4_test_losses.append(test_loss)\n",
    "    bh_50_lh_sv_mlp_4_test_loss_errors.append(test_loss_error)"
   ]
  },
  {
   "cell_type": "code",
   "execution_count": null,
   "metadata": {},
   "outputs": [],
   "source": [
    "print bh_50_lh_sv_mlp_4_test_losses\n",
    "print bh_50_lh_sv_mlp_4_test_loss_errors\n",
    "print np.mean(bh_50_lh_sv_mlp_4_test_losses)\n",
    "print np.std(bh_50_lh_sv_mlp_4_test_losses)"
   ]
  },
  {
   "cell_type": "code",
   "execution_count": null,
   "metadata": {},
   "outputs": [],
   "source": [
    "bh_50_lh_sv_mlp_4_evidence = []\n",
    "bh_50_lh_sv_mlp_4_evidence_e = []\n",
    "for run_n in run_ns:\n",
    "    stats_file = '../cpp_models/cpp_chains/bh_50_lh_sv_mlp_4_' + str(run_n) + '.stats'\n",
    "    ev, ev_e = output_tools.read_evidence(stats_file)\n",
    "    bh_50_lh_sv_mlp_4_evidence.append(ev)\n",
    "    bh_50_lh_sv_mlp_4_evidence_e.append(ev_e)"
   ]
  },
  {
   "cell_type": "code",
   "execution_count": null,
   "metadata": {},
   "outputs": [],
   "source": [
    "print bh_50_lh_sv_mlp_4_evidence\n",
    "print bh_50_lh_sv_mlp_4_evidence_e\n",
    "print np.mean(bh_50_lh_sv_mlp_4_evidence)\n",
    "print np.std(bh_50_lh_sv_mlp_4_evidence)"
   ]
  },
  {
   "cell_type": "code",
   "execution_count": null,
   "metadata": {},
   "outputs": [],
   "source": [
    "# bh_50_ih_sv_mlp_4"
   ]
  },
  {
   "cell_type": "code",
   "execution_count": null,
   "metadata": {},
   "outputs": [],
   "source": [
    "n_stoc = 19\n",
    "n_stoc_var = 1\n",
    "bh_50_ih_sv_mlp_4_test_losses = []\n",
    "bh_50_ih_sv_mlp_4_test_loss_errors = []\n",
    "for run_n in run_ns:\n",
    "    chains_file = '../cpp_models/cpp_chains/bh_50_ih_sv_mlp_4_' + str(run_n) + '.txt'\n",
    "    x_test = np.genfromtxt(\"../../data/uci/bh_50_x_te_\" + str(run_n) + \".csv\", delimiter=',')\n",
    "    y_test = np.genfromtxt(\"../../data/uci/bh_50_y_te_\" + str(run_n) + \".csv\", delimiter=',')\n",
    "    y_test = y_test.reshape(-1,1)\n",
    "    model = kms.mlp_1(num_inputs, num_outputs, layer_sizes)\n",
    "    bnn_model = bnn.bnn_predictor(model, x_test, y_test, chains_file, n_stoc, n_stoc_var)\n",
    "    y_pred, y_pred_e = bnn_model.predictions_expectation_and_std()\n",
    "    np.savetxt(\"../../data/uci/predictions/bh_50_ih_sv_mlp_4_\" + str(run_n) + \"_y_te_pr.csv\", np.hstack([y_pred, y_pred_e]), delimiter=',')\n",
    "    y_test, y_pred = tools.check_dtypes(y_test, y_pred)\n",
    "    test_loss = metrics.mean_squared_error(y_test, y_pred)\n",
    "    test_loss_error = metrics.mean_squared_error_std_dev(y_test, y_pred, y_pred_e)\n",
    "    bh_50_ih_sv_mlp_4_test_losses.append(test_loss)\n",
    "    bh_50_ih_sv_mlp_4_test_loss_errors.append(test_loss_error)"
   ]
  },
  {
   "cell_type": "code",
   "execution_count": null,
   "metadata": {},
   "outputs": [],
   "source": [
    "print bh_50_ih_sv_mlp_4_test_losses\n",
    "print bh_50_ih_sv_mlp_4_test_loss_errors\n",
    "print np.mean(bh_50_ih_sv_mlp_4_test_losses)\n",
    "print np.std(bh_50_ih_sv_mlp_4_test_losses)"
   ]
  },
  {
   "cell_type": "code",
   "execution_count": null,
   "metadata": {},
   "outputs": [],
   "source": [
    "bh_50_ih_sv_mlp_4_evidence = []\n",
    "bh_50_ih_sv_mlp_4_evidence_e = []\n",
    "for run_n in run_ns:\n",
    "    stats_file = '../cpp_models/cpp_chains/bh_50_ih_sv_mlp_4_' + str(run_n) + '.stats'\n",
    "    ev, ev_e = output_tools.read_evidence(stats_file)\n",
    "    bh_50_ih_sv_mlp_4_evidence.append(ev)\n",
    "    bh_50_ih_sv_mlp_4_evidence_e.append(ev_e)"
   ]
  },
  {
   "cell_type": "code",
   "execution_count": null,
   "metadata": {},
   "outputs": [],
   "source": [
    "print bh_50_ih_sv_mlp_4_evidence\n",
    "print bh_50_ih_sv_mlp_4_evidence_e\n",
    "print np.mean(bh_50_ih_sv_mlp_4_evidence)\n",
    "print np.std(bh_50_ih_sv_mlp_4_evidence)"
   ]
  },
  {
   "cell_type": "code",
   "execution_count": null,
   "metadata": {},
   "outputs": [],
   "source": [
    "# bh_50_mlp_8"
   ]
  },
  {
   "cell_type": "code",
   "execution_count": null,
   "metadata": {},
   "outputs": [],
   "source": [
    "layer_sizes = [8]"
   ]
  },
  {
   "cell_type": "code",
   "execution_count": null,
   "metadata": {},
   "outputs": [],
   "source": [
    "# bh_50_mlp_8"
   ]
  },
  {
   "cell_type": "code",
   "execution_count": null,
   "metadata": {},
   "outputs": [],
   "source": [
    "n_stoc = 0\n",
    "n_stoc_var = 0\n",
    "bh_50_mlp_8_test_losses = []\n",
    "bh_50_mlp_8_test_loss_errors = []\n",
    "for run_n in run_ns:\n",
    "    chains_file = '../cpp_models/cpp_chains/bh_50_mlp_8_' + str(run_n) + '.txt'\n",
    "    x_test = np.genfromtxt(\"../../data/uci/bh_50_x_te_\" + str(run_n) + \".csv\", delimiter=',')\n",
    "    y_test = np.genfromtxt(\"../../data/uci/bh_50_y_te_\" + str(run_n) + \".csv\", delimiter=',')\n",
    "    y_test = y_test.reshape(-1,1)\n",
    "    model = kms.mlp_1(num_inputs, num_outputs, layer_sizes)\n",
    "    bnn_model = bnn.bnn_predictor(model, x_test, y_test, chains_file, n_stoc, n_stoc_var)\n",
    "    y_pred, y_pred_e = bnn_model.predictions_expectation_and_std()\n",
    "    np.savetxt(\"../../data/uci/predictions/bh_50_mlp_8_\" + str(run_n) + \"_y_te_pr.csv\", np.hstack([y_pred, y_pred_e]), delimiter=',')\n",
    "    y_test, y_pred = tools.check_dtypes(y_test, y_pred)\n",
    "    test_loss = metrics.mean_squared_error(y_test, y_pred)\n",
    "    test_loss_error = metrics.mean_squared_error_std_dev(y_test, y_pred, y_pred_e)\n",
    "    bh_50_mlp_8_test_losses.append(test_loss)\n",
    "    bh_50_mlp_8_test_loss_errors.append(test_loss_error)"
   ]
  },
  {
   "cell_type": "code",
   "execution_count": null,
   "metadata": {},
   "outputs": [],
   "source": [
    "print bh_50_mlp_8_test_losses\n",
    "print bh_50_mlp_8_test_loss_errors\n",
    "print np.mean(bh_50_mlp_8_test_losses)\n",
    "print np.std(bh_50_mlp_8_test_losses)"
   ]
  },
  {
   "cell_type": "code",
   "execution_count": null,
   "metadata": {},
   "outputs": [],
   "source": [
    "bh_50_mlp_8_evidence = []\n",
    "bh_50_mlp_8_evidence_e = []\n",
    "for run_n in run_ns:\n",
    "    stats_file = '../cpp_models/cpp_chains/bh_50_mlp_8_' + str(run_n) + '.stats'\n",
    "    ev, ev_e = output_tools.read_evidence(stats_file)\n",
    "    bh_50_mlp_8_evidence.append(ev)\n",
    "    bh_50_mlp_8_evidence_e.append(ev_e)"
   ]
  },
  {
   "cell_type": "code",
   "execution_count": null,
   "metadata": {},
   "outputs": [],
   "source": [
    "print bh_50_mlp_8_evidence\n",
    "print bh_50_mlp_8_evidence_e\n",
    "print np.mean(bh_50_mlp_8_evidence)\n",
    "print np.std(bh_50_mlp_8_evidence)"
   ]
  },
  {
   "cell_type": "code",
   "execution_count": null,
   "metadata": {},
   "outputs": [],
   "source": [
    "# bh_50_r_mlp_8"
   ]
  },
  {
   "cell_type": "code",
   "execution_count": null,
   "metadata": {},
   "outputs": [],
   "source": [
    "n_stoc = 0\n",
    "n_stoc_var = 0\n",
    "bh_50_r_mlp_8_test_losses = []\n",
    "bh_50_r_mlp_8_test_loss_errors = []\n",
    "for run_n in run_ns:\n",
    "    chains_file = '../cpp_models/cpp_chains/bh_50_r_mlp_8_' + str(run_n) + '.txt'\n",
    "    x_test = np.genfromtxt(\"../../data/uci/bh_50_x_te_\" + str(run_n) + \".csv\", delimiter=',')\n",
    "    y_test = np.genfromtxt(\"../../data/uci/bh_50_y_te_\" + str(run_n) + \".csv\", delimiter=',')\n",
    "    y_test = y_test.reshape(-1,1)\n",
    "    model = kms.relu_mlp_1(num_inputs, num_outputs, layer_sizes)\n",
    "    bnn_model = bnn.bnn_predictor(model, x_test, y_test, chains_file, n_stoc, n_stoc_var)\n",
    "    y_pred, y_pred_e = bnn_model.predictions_expectation_and_std()\n",
    "    np.savetxt(\"../../data/uci/predictions/bh_50_r_mlp_8_\" + str(run_n) + \"_y_te_pr.csv\", np.hstack([y_pred, y_pred_e]), delimiter=',')\n",
    "    y_test, y_pred = tools.check_dtypes(y_test, y_pred)\n",
    "    test_loss = metrics.mean_squared_error(y_test, y_pred)\n",
    "    test_loss_error = metrics.mean_squared_error_std_dev(y_test, y_pred, y_pred_e)\n",
    "    bh_50_r_mlp_8_test_losses.append(test_loss)\n",
    "    bh_50_r_mlp_8_test_loss_errors.append(test_loss_error)"
   ]
  },
  {
   "cell_type": "code",
   "execution_count": null,
   "metadata": {},
   "outputs": [],
   "source": [
    "print bh_50_r_mlp_8_test_losses\n",
    "print bh_50_r_mlp_8_test_loss_errors\n",
    "print np.mean(bh_50_r_mlp_8_test_losses)\n",
    "print np.std(bh_50_r_mlp_8_test_losses)"
   ]
  },
  {
   "cell_type": "code",
   "execution_count": null,
   "metadata": {},
   "outputs": [],
   "source": [
    "bh_50_r_mlp_8_evidence = []\n",
    "bh_50_r_mlp_8_evidence_e = []\n",
    "for run_n in run_ns:\n",
    "    stats_file = '../cpp_models/cpp_chains/bh_50_r_mlp_8_' + str(run_n) + '.stats'\n",
    "    ev, ev_e = output_tools.read_evidence(stats_file)\n",
    "    bh_50_r_mlp_8_evidence.append(ev)\n",
    "    bh_50_r_mlp_8_evidence_e.append(ev_e)"
   ]
  },
  {
   "cell_type": "code",
   "execution_count": null,
   "metadata": {},
   "outputs": [],
   "source": [
    "print bh_50_r_mlp_8_evidence\n",
    "print bh_50_r_mlp_8_evidence_e\n",
    "print np.mean(bh_50_r_mlp_8_evidence)\n",
    "print np.std(bh_50_r_mlp_8_evidence)"
   ]
  },
  {
   "cell_type": "code",
   "execution_count": null,
   "metadata": {},
   "outputs": [],
   "source": [
    "# bh_50_sh_sv_mlp_8"
   ]
  },
  {
   "cell_type": "code",
   "execution_count": null,
   "metadata": {},
   "outputs": [],
   "source": [
    "n_stoc = 1\n",
    "n_stoc_var = 1\n",
    "bh_50_sh_sv_mlp_8_test_losses = []\n",
    "bh_50_sh_sv_mlp_8_test_loss_errors = []\n",
    "for run_n in run_ns:\n",
    "    chains_file = '../cpp_models/cpp_chains/bh_50_sh_sv_mlp_8_' + str(run_n) + '.txt'\n",
    "    x_test = np.genfromtxt(\"../../data/uci/bh_50_x_te_\" + str(run_n) + \".csv\", delimiter=',')\n",
    "    y_test = np.genfromtxt(\"../../data/uci/bh_50_y_te_\" + str(run_n) + \".csv\", delimiter=',')\n",
    "    y_test = y_test.reshape(-1,1)\n",
    "    model = kms.mlp_1(num_inputs, num_outputs, layer_sizes)\n",
    "    bnn_model = bnn.bnn_predictor(model, x_test, y_test, chains_file, n_stoc, n_stoc_var)\n",
    "    y_pred, y_pred_e = bnn_model.predictions_expectation_and_std()\n",
    "    np.savetxt(\"../../data/uci/predictions/bh_50_sh_sv_mlp_8_\" + str(run_n) + \"_y_te_pr.csv\", np.hstack([y_pred, y_pred_e]), delimiter=',')\n",
    "    y_test, y_pred = tools.check_dtypes(y_test, y_pred)\n",
    "    test_loss = metrics.mean_squared_error(y_test, y_pred)\n",
    "    test_loss_error = metrics.mean_squared_error_std_dev(y_test, y_pred, y_pred_e)\n",
    "    bh_50_sh_sv_mlp_8_test_losses.append(test_loss)\n",
    "    bh_50_sh_sv_mlp_8_test_loss_errors.append(test_loss_error)"
   ]
  },
  {
   "cell_type": "code",
   "execution_count": null,
   "metadata": {},
   "outputs": [],
   "source": [
    "print bh_sh_sv_50_mlp_8_test_losses\n",
    "print bh_50_sh_sv_mlp_8_test_loss_errors\n",
    "print np.mean(bh_50_sh_sv_mlp_8_test_losses)\n",
    "print np.std(bh_50_sh_sv_mlp_8_test_losses)"
   ]
  },
  {
   "cell_type": "code",
   "execution_count": null,
   "metadata": {},
   "outputs": [],
   "source": [
    "bh_50_sh_sv_mlp_8_evidence = []\n",
    "bh_50_sh_sv_mlp_8_evidence_e = []\n",
    "for run_n in run_ns:\n",
    "    stats_file = '../cpp_models/cpp_chains/bh_50_sh_sv_mlp_8_' + str(run_n) + '.stats'\n",
    "    ev, ev_e = output_tools.read_evidence(stats_file)\n",
    "    bh_50_sh_sv_mlp_8_evidence.append(ev)\n",
    "    bh_50_sh_sv_mlp_8_evidence_e.append(ev_e)"
   ]
  },
  {
   "cell_type": "code",
   "execution_count": null,
   "metadata": {},
   "outputs": [],
   "source": [
    "print bh_50_sh_sv_mlp_8_evidence\n",
    "print bh_50_sh_sv_mlp_8_evidence_e\n",
    "print np.mean(bh_50_sh_sv_mlp_8_evidence)\n",
    "print np.std(bh_50_sh_sv_mlp_8_evidence)"
   ]
  },
  {
   "cell_type": "code",
   "execution_count": null,
   "metadata": {},
   "outputs": [],
   "source": [
    "# bh_50_lh_sv_mlp_8"
   ]
  },
  {
   "cell_type": "code",
   "execution_count": null,
   "metadata": {},
   "outputs": [],
   "source": [
    "n_stoc = 4\n",
    "n_stoc_var = 1\n",
    "bh_50_lh_sv_mlp_8_test_losses = []\n",
    "bh_50_lh_sv_mlp_8_test_loss_errors = []\n",
    "for run_n in run_ns:\n",
    "    chains_file = '../cpp_models/cpp_chains/bh_50_lh_sv_mlp_8_' + str(run_n) + '.txt'\n",
    "    x_test = np.genfromtxt(\"../../data/uci/bh_50_x_te_\" + str(run_n) + \".csv\", delimiter=',')\n",
    "    y_test = np.genfromtxt(\"../../data/uci/bh_50_y_te_\" + str(run_n) + \".csv\", delimiter=',')\n",
    "    y_test = y_test.reshape(-1,1)\n",
    "    model = kms.mlp_1(num_inputs, num_outputs, layer_sizes)\n",
    "    bnn_model = bnn.bnn_predictor(model, x_test, y_test, chains_file, n_stoc, n_stoc_var)\n",
    "    y_pred, y_pred_e = bnn_model.predictions_expectation_and_std()\n",
    "    np.savetxt(\"../../data/uci/predictions/bh_50_lh_sv_mlp_8_\" + str(run_n) + \"_y_te_pr.csv\", np.hstack([y_pred, y_pred_e]), delimiter=',')\n",
    "    y_test, y_pred = tools.check_dtypes(y_test, y_pred)\n",
    "    test_loss = metrics.mean_squared_error(y_test, y_pred)\n",
    "    test_loss_error = metrics.mean_squared_error_std_dev(y_test, y_pred, y_pred_e)\n",
    "    bh_50_lh_sv_mlp_8_test_losses.append(test_loss)\n",
    "    bh_50_lh_sv_mlp_8_test_loss_errors.append(test_loss_error)"
   ]
  },
  {
   "cell_type": "code",
   "execution_count": null,
   "metadata": {},
   "outputs": [],
   "source": [
    "print bh_50_lh_sv_mlp_8_test_losses\n",
    "print bh_50_lh_sv_mlp_8_test_loss_errors\n",
    "print np.mean(bh_50_lh_sv_mlp_8_test_losses)\n",
    "print np.std(bh_50_lh_sv_mlp_8_test_losses)"
   ]
  },
  {
   "cell_type": "code",
   "execution_count": null,
   "metadata": {},
   "outputs": [],
   "source": [
    "bh_50_lh_sv_mlp_8_evidence = []\n",
    "bh_50_lh_sv_mlp_8_evidence_e = []\n",
    "for run_n in run_ns:\n",
    "    stats_file = '../cpp_models/cpp_chains/bh_50_lh_sv_mlp_8_' + str(run_n) + '.stats'\n",
    "    ev, ev_e = output_tools.read_evidence(stats_file)\n",
    "    bh_50_lh_sv_mlp_8_evidence.append(ev)\n",
    "    bh_50_lh_sv_mlp_8_evidence_e.append(ev_e)"
   ]
  },
  {
   "cell_type": "code",
   "execution_count": null,
   "metadata": {},
   "outputs": [],
   "source": [
    "print bh_50_lh_sv_mlp_8_evidence\n",
    "print bh_50_lh_sv_mlp_8_evidence_e\n",
    "print np.mean(bh_50_lh_sv_mlp_8_evidence)\n",
    "print np.std(bh_50_lh_sv_mlp_8_evidence)"
   ]
  },
  {
   "cell_type": "code",
   "execution_count": null,
   "metadata": {},
   "outputs": [],
   "source": [
    "# bh_50_ih_sv_mlp_8"
   ]
  },
  {
   "cell_type": "code",
   "execution_count": null,
   "metadata": {},
   "outputs": [],
   "source": [
    "n_stoc = 23\n",
    "n_stoc_var = 1\n",
    "bh_50_ih_sv_mlp_8_test_losses = []\n",
    "bh_50_ih_sv_mlp_8_test_loss_errors = []\n",
    "for run_n in run_ns:\n",
    "    chains_file = '../cpp_models/cpp_chains/bh_50_ih_sv_mlp_8_' + str(run_n) + '.txt'\n",
    "    x_test = np.genfromtxt(\"../../data/uci/bh_50_x_te_\" + str(run_n) + \".csv\", delimiter=',')\n",
    "    y_test = np.genfromtxt(\"../../data/uci/bh_50_y_te_\" + str(run_n) + \".csv\", delimiter=',')\n",
    "    y_test = y_test.reshape(-1,1)\n",
    "    model = kms.mlp_1(num_inputs, num_outputs, layer_sizes)\n",
    "    bnn_model = bnn.bnn_predictor(model, x_test, y_test, chains_file, n_stoc, n_stoc_var)\n",
    "    y_pred, y_pred_e = bnn_model.predictions_expectation_and_std()\n",
    "    np.savetxt(\"../../data/uci/predictions/bh_50_ih_sv_mlp_8_\" + str(run_n) + \"_y_te_pr.csv\", np.hstack([y_pred, y_pred_e]), delimiter=',')\n",
    "    y_test, y_pred = tools.check_dtypes(y_test, y_pred)\n",
    "    test_loss = metrics.mean_squared_error(y_test, y_pred)\n",
    "    test_loss_error = metrics.mean_squared_error_std_dev(y_test, y_pred, y_pred_e)\n",
    "    bh_50_ih_sv_mlp_8_test_losses.append(test_loss)\n",
    "    bh_50_ih_sv_mlp_8_test_loss_errors.append(test_loss_error)"
   ]
  },
  {
   "cell_type": "code",
   "execution_count": null,
   "metadata": {},
   "outputs": [],
   "source": [
    "print bh_50_ih_sv_mlp_8_test_losses\n",
    "print bh_50_ih_sv_mlp_8_test_loss_errors\n",
    "print np.mean(bh_50_ih_sv_mlp_8_test_losses)\n",
    "print np.std(bh_50_ih_sv_mlp_8_test_losses)"
   ]
  },
  {
   "cell_type": "code",
   "execution_count": null,
   "metadata": {},
   "outputs": [],
   "source": [
    "bh_50_ih_sv_mlp_8_evidence = []\n",
    "bh_50_ih_sv_mlp_8_evidence_e = []\n",
    "for run_n in run_ns:\n",
    "    stats_file = '../cpp_models/cpp_chains/bh_50_ih_sv_mlp_8_' + str(run_n) + '.stats'\n",
    "    ev, ev_e = output_tools.read_evidence(stats_file)\n",
    "    bh_50_ih_sv_mlp_8_evidence.append(ev)\n",
    "    bh_50_ih_sv_mlp_8_evidence_e.append(ev_e)"
   ]
  },
  {
   "cell_type": "code",
   "execution_count": null,
   "metadata": {},
   "outputs": [],
   "source": [
    "print bh_50_ih_sv_mlp_8_evidence\n",
    "print bh_50_ih_sv_mlp_8_evidence_e\n",
    "print np.mean(bh_50_ih_sv_mlp_8_evidence)\n",
    "print np.std(bh_50_ih_sv_mlp_8_evidence)"
   ]
  },
  {
   "cell_type": "code",
   "execution_count": null,
   "metadata": {},
   "outputs": [],
   "source": [
    "# bh_50_mlp_2_2"
   ]
  },
  {
   "cell_type": "code",
   "execution_count": null,
   "metadata": {},
   "outputs": [],
   "source": [
    "layer_sizes = [2, 2]"
   ]
  },
  {
   "cell_type": "code",
   "execution_count": null,
   "metadata": {},
   "outputs": [],
   "source": [
    "# bh_50_mlp_2_2"
   ]
  },
  {
   "cell_type": "code",
   "execution_count": null,
   "metadata": {},
   "outputs": [],
   "source": [
    "n_stoc = 0\n",
    "n_stoc_var = 0\n",
    "bh_50_mlp_2_2_test_losses = []\n",
    "bh_50_mlp_2_2_test_loss_errors = []\n",
    "for run_n in run_ns:\n",
    "    chains_file = '../cpp_models/cpp_chains/bh_50_mlp_2_2_' + str(run_n) + '.txt'\n",
    "    x_test = np.genfromtxt(\"../../data/uci/bh_50_x_te_\" + str(run_n) + \".csv\", delimiter=',')\n",
    "    y_test = np.genfromtxt(\"../../data/uci/bh_50_y_te_\" + str(run_n) + \".csv\", delimiter=',')\n",
    "    y_test = y_test.reshape(-1,1)\n",
    "    model = kms.mlp_2(num_inputs, num_outputs, layer_sizes)\n",
    "    bnn_model = bnn.bnn_predictor(model, x_test, y_test, chains_file, n_stoc, n_stoc_var)\n",
    "    y_pred, y_pred_e = bnn_model.predictions_expectation_and_std()\n",
    "    np.savetxt(\"../../data/uci/predictions/bh_50_mlp_2_2_\" + str(run_n) + \"_y_te_pr.csv\", np.hstack([y_pred, y_pred_e]), delimiter=',')\n",
    "    y_test, y_pred = tools.check_dtypes(y_test, y_pred)\n",
    "    test_loss = metrics.mean_squared_error(y_test, y_pred)\n",
    "    test_loss_error = metrics.mean_squared_error_std_dev(y_test, y_pred, y_pred_e)\n",
    "    bh_50_mlp_2_2_test_losses.append(test_loss)\n",
    "    bh_50_mlp_2_2_test_loss_errors.append(test_loss_error)"
   ]
  },
  {
   "cell_type": "code",
   "execution_count": null,
   "metadata": {},
   "outputs": [],
   "source": [
    "print bh_50_mlp_test_2_2_losses\n",
    "print bh_50_mlp_2_2_test_loss_errors\n",
    "print np.mean(bh_50_mlp_2_2_test_losses)\n",
    "print np.std(bh_50_mlp_2_2_test_losses)"
   ]
  },
  {
   "cell_type": "code",
   "execution_count": null,
   "metadata": {},
   "outputs": [],
   "source": [
    "bh_50_mlp_2_2_evidence = []\n",
    "bh_50_mlp_2_2_evidence_e = []\n",
    "for run_n in run_ns:\n",
    "    stats_file = '../cpp_models/cpp_chains/bh_50_mlp_2_2_' + str(run_n) + '.stats'\n",
    "    ev, ev_e = output_tools.read_evidence(stats_file)\n",
    "    bh_50_mlp_2_2_evidence.append(ev)\n",
    "    bh_50_mlp_2_2_evidence_e.append(ev_e)"
   ]
  },
  {
   "cell_type": "code",
   "execution_count": null,
   "metadata": {},
   "outputs": [],
   "source": [
    "print bh_50_mlp_2_2_evidence\n",
    "print bh_50_mlp_2_2_evidence_e\n",
    "print np.mean(bh_50_mlp_2_2_evidence)\n",
    "print np.std(bh_50_mlp_2_2_evidence)"
   ]
  },
  {
   "cell_type": "code",
   "execution_count": null,
   "metadata": {},
   "outputs": [],
   "source": [
    "# bh_50_r_mlp_2_2"
   ]
  },
  {
   "cell_type": "code",
   "execution_count": null,
   "metadata": {},
   "outputs": [],
   "source": [
    "n_stoc = 0\n",
    "n_stoc_var = 0\n",
    "bh_50_r_mlp_2_2_test_losses = []\n",
    "bh_50_r_mlp_2_2_test_loss_errors = []\n",
    "for run_n in run_ns:\n",
    "    chains_file = '../cpp_models/cpp_chains/bh_50_r_mlp_2_2_' + str(run_n) + '.txt'\n",
    "    x_test = np.genfromtxt(\"../../data/uci/bh_50_x_te_\" + str(run_n) + \".csv\", delimiter=',')\n",
    "    y_test = np.genfromtxt(\"../../data/uci/bh_50_y_te_\" + str(run_n) + \".csv\", delimiter=',')\n",
    "    y_test = y_test.reshape(-1,1)\n",
    "    model = kms.relu_mlp_2(num_inputs, num_outputs, layer_sizes)\n",
    "    bnn_model = bnn.bnn_predictor(model, x_test, y_test, chains_file, n_stoc, n_stoc_var)\n",
    "    y_pred, y_pred_e = bnn_model.predictions_expectation_and_std()\n",
    "    np.savetxt(\"../../data/uci/predictions/bh_50_r_mlp_2_2_\" + str(run_n) + \"_y_te_pr.csv\", np.hstack([y_pred, y_pred_e]), delimiter=',')\n",
    "    y_test, y_pred = tools.check_dtypes(y_test, y_pred)\n",
    "    test_loss = metrics.mean_squared_error(y_test, y_pred)\n",
    "    test_loss_error = metrics.mean_squared_error_std_dev(y_test, y_pred, y_pred_e)\n",
    "    bh_50_r_mlp_2_2_test_losses.append(test_loss)\n",
    "    bh_50_r_mlp_2_2_test_loss_errors.append(test_loss_error)"
   ]
  },
  {
   "cell_type": "code",
   "execution_count": null,
   "metadata": {},
   "outputs": [],
   "source": [
    "print bh_50_r_mlp_2_2_test_losses\n",
    "print bh_50_r_mlp_2_2_test_loss_errors\n",
    "print np.mean(bh_50_r_mlp_2_2_test_losses)\n",
    "print np.std(bh_50_r_mlp_2_2_test_losses)"
   ]
  },
  {
   "cell_type": "code",
   "execution_count": null,
   "metadata": {},
   "outputs": [],
   "source": [
    "bh_50_r_mlp_2_2_evidence = []\n",
    "bh_50_r_mlp_2_2_evidence_e = []\n",
    "for run_n in run_ns:\n",
    "    stats_file = '../cpp_models/cpp_chains/bh_50_r_mlp_2_2_' + str(run_n) + '.stats'\n",
    "    ev, ev_e = output_tools.read_evidence(stats_file)\n",
    "    bh_50_r_mlp_2_2_evidence.append(ev)\n",
    "    bh_50_r_mlp_2_2_evidence_e.append(ev_e)"
   ]
  },
  {
   "cell_type": "code",
   "execution_count": null,
   "metadata": {},
   "outputs": [],
   "source": [
    "print bh_50_r_mlp_2_2_evidence\n",
    "print bh_50_r_mlp_2_2_evidence_e\n",
    "print np.mean(bh_50_r_mlp_2_2_evidence)\n",
    "print np.std(bh_50_r_mlp_2_2_evidence)"
   ]
  },
  {
   "cell_type": "code",
   "execution_count": null,
   "metadata": {},
   "outputs": [],
   "source": [
    "# bh_50_sh_sv_mlp_2_2"
   ]
  },
  {
   "cell_type": "code",
   "execution_count": null,
   "metadata": {},
   "outputs": [],
   "source": [
    "n_stoc = 1\n",
    "n_stoc_var = 1\n",
    "bh_50_sh_sv_mlp_2_2_test_losses = []\n",
    "bh_50_sh_sv_mlp_2_2_test_loss_errors = []\n",
    "for run_n in run_ns:\n",
    "    chains_file = '../cpp_models/cpp_chains/bh_50_sh_sv_mlp_2_2_' + str(run_n) + '.txt'\n",
    "    x_test = np.genfromtxt(\"../../data/uci/bh_50_x_te_\" + str(run_n) + \".csv\", delimiter=',')\n",
    "    y_test = np.genfromtxt(\"../../data/uci/bh_50_y_te_\" + str(run_n) + \".csv\", delimiter=',')\n",
    "    y_test = y_test.reshape(-1,1)\n",
    "    model = kms.mlp_2(num_inputs, num_outputs, layer_sizes)\n",
    "    bnn_model = bnn.bnn_predictor(model, x_test, y_test, chains_file, n_stoc, n_stoc_var)\n",
    "    y_pred, y_pred_e = bnn_model.predictions_expectation_and_std()\n",
    "    np.savetxt(\"../../data/uci/predictions/bh_50_sh_sv_mlp_2_2_\" + str(run_n) + \"_y_te_pr.csv\", np.hstack([y_pred, y_pred_e]), delimiter=',')\n",
    "    y_test, y_pred = tools.check_dtypes(y_test, y_pred)\n",
    "    test_loss = metrics.mean_squared_error(y_test, y_pred)\n",
    "    test_loss_error = metrics.mean_squared_error_std_dev(y_test, y_pred, y_pred_e)\n",
    "    bh_50_sh_sv_mlp_2_2_test_losses.append(test_loss)\n",
    "    bh_50_sh_sv_mlp_2_2_test_loss_errors.append(test_loss_error)"
   ]
  },
  {
   "cell_type": "code",
   "execution_count": null,
   "metadata": {},
   "outputs": [],
   "source": [
    "print bh_sh_sv_50_mlp_2_2_test_losses\n",
    "print bh_50_sh_sv_mlp_2_2_test_loss_errors\n",
    "print np.mean(bh_50_sh_sv_mlp_2_2_test_losses)\n",
    "print np.std(bh_50_sh_sv_mlp_2_2_test_losses)"
   ]
  },
  {
   "cell_type": "code",
   "execution_count": null,
   "metadata": {},
   "outputs": [],
   "source": [
    "bh_50_sh_sv_mlp_2_2_evidence = []\n",
    "bh_50_sh_sv_mlp_2_2_evidence_e = []\n",
    "for run_n in run_ns:\n",
    "    stats_file = '../cpp_models/cpp_chains/bh_50_sh_sv_mlp_2_2_' + str(run_n) + '.stats'\n",
    "    ev, ev_e = output_tools.read_evidence(stats_file)\n",
    "    bh_50_sh_sv_mlp_2_2_evidence.append(ev)\n",
    "    bh_50_sh_sv_mlp_2_2_evidence_e.append(ev_e)"
   ]
  },
  {
   "cell_type": "code",
   "execution_count": null,
   "metadata": {},
   "outputs": [],
   "source": [
    "print bh_50_sh_sv_mlp_2_2_evidence\n",
    "print bh_50_sh_sv_mlp_2_2_evidence_e\n",
    "print np.mean(bh_50_sh_sv_mlp_2_2_evidence)\n",
    "print np.std(bh_50_sh_sv_mlp_2_2_evidence)"
   ]
  },
  {
   "cell_type": "code",
   "execution_count": null,
   "metadata": {},
   "outputs": [],
   "source": [
    "# bh_50_lh_sv_mlp_2_2"
   ]
  },
  {
   "cell_type": "code",
   "execution_count": null,
   "metadata": {},
   "outputs": [],
   "source": [
    "n_stoc = 6\n",
    "n_stoc_var = 1\n",
    "bh_50_lh_sv_mlp_2_2_test_losses = []\n",
    "bh_50_lh_sv_mlp_2_2_test_loss_errors = []\n",
    "for run_n in run_ns:\n",
    "    chains_file = '../cpp_models/cpp_chains/bh_50_lh_sv_mlp_2_2_' + str(run_n) + '.txt'\n",
    "    x_test = np.genfromtxt(\"../../data/uci/bh_50_x_te_\" + str(run_n) + \".csv\", delimiter=',')\n",
    "    y_test = np.genfromtxt(\"../../data/uci/bh_50_y_te_\" + str(run_n) + \".csv\", delimiter=',')\n",
    "    y_test = y_test.reshape(-1,1)\n",
    "    model = kms.mlp_2(num_inputs, num_outputs, layer_sizes)\n",
    "    bnn_model = bnn.bnn_predictor(model, x_test, y_test, chains_file, n_stoc, n_stoc_var)\n",
    "    y_pred, y_pred_e = bnn_model.predictions_expectation_and_std()\n",
    "    np.savetxt(\"../../data/uci/predictions/bh_50_lh_sv_mlp_2_2_\" + str(run_n) + \"_y_te_pr.csv\", np.hstack([y_pred, y_pred_e]), delimiter=',')\n",
    "    y_test, y_pred = tools.check_dtypes(y_test, y_pred)\n",
    "    test_loss = metrics.mean_squared_error(y_test, y_pred)\n",
    "    test_loss_error = metrics.mean_squared_error_std_dev(y_test, y_pred, y_pred_e)\n",
    "    bh_50_lh_sv_mlp_2_2_test_losses.append(test_loss)\n",
    "    bh_50_lh_sv_mlp_2_2_test_loss_errors.append(test_loss_error)"
   ]
  },
  {
   "cell_type": "code",
   "execution_count": null,
   "metadata": {},
   "outputs": [],
   "source": [
    "print bh_50_lh_sv_mlp_2_2_test_losses\n",
    "print bh_50_lh_sv_mlp_2_2_test_loss_errors\n",
    "print np.mean(bh_50_lh_sv_mlp_2_2_test_losses)\n",
    "print np.std(bh_50_lh_sv_mlp_2_2_test_losses)"
   ]
  },
  {
   "cell_type": "code",
   "execution_count": null,
   "metadata": {},
   "outputs": [],
   "source": [
    "bh_50_lh_sv_mlp_2_2_evidence = []\n",
    "bh_50_lh_sv_mlp_2_2_evidence_e = []\n",
    "for run_n in run_ns:\n",
    "    stats_file = '../cpp_models/cpp_chains/bh_50_lh_sv_mlp_2_2_' + str(run_n) + '.stats'\n",
    "    ev, ev_e = output_tools.read_evidence(stats_file)\n",
    "    bh_50_lh_sv_mlp_2_2_evidence.append(ev)\n",
    "    bh_50_lh_sv_mlp_2_2_evidence_e.append(ev_e)"
   ]
  },
  {
   "cell_type": "code",
   "execution_count": null,
   "metadata": {},
   "outputs": [],
   "source": [
    "print bh_50_lh_sv_mlp_2_2_evidence\n",
    "print bh_50_lh_sv_mlp_2_2_evidence_e\n",
    "print np.mean(bh_50_lh_sv_mlp_2_2_evidence)\n",
    "print np.std(bh_50_lh_sv_mlp_2_2_evidence)"
   ]
  },
  {
   "cell_type": "code",
   "execution_count": null,
   "metadata": {},
   "outputs": [],
   "source": [
    "# bh_50_ih_sv_mlp_2_2"
   ]
  },
  {
   "cell_type": "code",
   "execution_count": null,
   "metadata": {},
   "outputs": [],
   "source": [
    "n_stoc = 20\n",
    "n_stoc_var = 1\n",
    "bh_50_ih_sv_mlp_2_2_test_losses = []\n",
    "bh_50_ih_sv_mlp_2_2_test_loss_errors = []\n",
    "for run_n in run_ns:\n",
    "    chains_file = '../cpp_models/cpp_chains/bh_50_ih_sv_mlp_2_2_' + str(run_n) + '.txt'\n",
    "    x_test = np.genfromtxt(\"../../data/uci/bh_50_x_te_\" + str(run_n) + \".csv\", delimiter=',')\n",
    "    y_test = np.genfromtxt(\"../../data/uci/bh_50_y_te_\" + str(run_n) + \".csv\", delimiter=',')\n",
    "    y_test = y_test.reshape(-1,1)\n",
    "    model = kms.mlp_2(num_inputs, num_outputs, layer_sizes)\n",
    "    bnn_model = bnn.bnn_predictor(model, x_test, y_test, chains_file, n_stoc, n_stoc_var)\n",
    "    y_pred, y_pred_e = bnn_model.predictions_expectation_and_std()\n",
    "    np.savetxt(\"../../data/uci/predictions/bh_50_ih_sv_mlp_2_2_\" + str(run_n) + \"_y_te_pr.csv\", np.hstack([y_pred, y_pred_e]), delimiter=',')\n",
    "    y_test, y_pred = tools.check_dtypes(y_test, y_pred)\n",
    "    test_loss = metrics.mean_squared_error(y_test, y_pred)\n",
    "    test_loss_error = metrics.mean_squared_error_std_dev(y_test, y_pred, y_pred_e)\n",
    "    bh_50_ih_sv_mlp_2_2_test_losses.append(test_loss)\n",
    "    bh_50_ih_sv_mlp_2_2_test_loss_errors.append(test_loss_error)"
   ]
  },
  {
   "cell_type": "code",
   "execution_count": null,
   "metadata": {},
   "outputs": [],
   "source": [
    "print bh_50_ih_sv_mlp_2_2_test_losses\n",
    "print bh_50_ih_sv_mlp_2_2_test_loss_errors\n",
    "print np.mean(bh_50_ih_sv_mlp_2_2_test_losses)\n",
    "print np.std(bh_50_ih_sv_mlp_2_2_test_losses)"
   ]
  },
  {
   "cell_type": "code",
   "execution_count": null,
   "metadata": {},
   "outputs": [],
   "source": [
    "bh_50_ih_sv_mlp_2_2_evidence = []\n",
    "bh_50_ih_sv_mlp_2_2_evidence_e = []\n",
    "for run_n in run_ns:\n",
    "    stats_file = '../cpp_models/cpp_chains/bh_50_ih_sv_mlp_2_2_' + str(run_n) + '.stats'\n",
    "    ev, ev_e = output_tools.read_evidence(stats_file)\n",
    "    bh_50_ih_sv_mlp_2_2_evidence.append(ev)\n",
    "    bh_50_ih_sv_mlp_2_2_evidence_e.append(ev_e)"
   ]
  },
  {
   "cell_type": "code",
   "execution_count": null,
   "metadata": {},
   "outputs": [],
   "source": [
    "print bh_50_ih_sv_mlp_2_2_evidence\n",
    "print bh_50_ih_sv_mlp_2_2_evidence_e\n",
    "print np.mean(bh_50_ih_sv_mlp_2_2_evidence)\n",
    "print np.std(bh_50_ih_sv_mlp_2_2_evidence)"
   ]
  },
  {
   "cell_type": "code",
   "execution_count": null,
   "metadata": {},
   "outputs": [],
   "source": [
    "# bh_50_mlp_4_4"
   ]
  },
  {
   "cell_type": "code",
   "execution_count": null,
   "metadata": {},
   "outputs": [],
   "source": [
    "layer_sizes = [4, 4]"
   ]
  },
  {
   "cell_type": "code",
   "execution_count": null,
   "metadata": {},
   "outputs": [],
   "source": [
    "# bh_50_mlp_4_4"
   ]
  },
  {
   "cell_type": "code",
   "execution_count": null,
   "metadata": {},
   "outputs": [],
   "source": [
    "n_stoc = 0\n",
    "n_stoc_var = 0\n",
    "bh_50_mlp_4_4_test_losses = []\n",
    "bh_50_mlp_4_4_test_loss_errors = []\n",
    "for run_n in run_ns:\n",
    "    chains_file = '../cpp_models/cpp_chains/bh_50_mlp_4_4_' + str(run_n) + '.txt'\n",
    "    x_test = np.genfromtxt(\"../../data/uci/bh_50_x_te_\" + str(run_n) + \".csv\", delimiter=',')\n",
    "    y_test = np.genfromtxt(\"../../data/uci/bh_50_y_te_\" + str(run_n) + \".csv\", delimiter=',')\n",
    "    y_test = y_test.reshape(-1,1)\n",
    "    model = kms.mlp_2(num_inputs, num_outputs, layer_sizes)\n",
    "    bnn_model = bnn.bnn_predictor(model, x_test, y_test, chains_file, n_stoc, n_stoc_var)\n",
    "    y_pred, y_pred_e = bnn_model.predictions_expectation_and_std()\n",
    "    np.savetxt(\"../../data/uci/predictions/bh_50_mlp_4_4_\" + str(run_n) + \"_y_te_pr.csv\", np.hstack([y_pred, y_pred_e]), delimiter=',')\n",
    "    y_test, y_pred = tools.check_dtypes(y_test, y_pred)\n",
    "    test_loss = metrics.mean_squared_error(y_test, y_pred)\n",
    "    test_loss_error = metrics.mean_squared_error_std_dev(y_test, y_pred, y_pred_e)\n",
    "    bh_50_mlp_4_4_test_losses.append(test_loss)\n",
    "    bh_50_mlp_4_4_test_loss_errors.append(test_loss_error)"
   ]
  },
  {
   "cell_type": "code",
   "execution_count": null,
   "metadata": {},
   "outputs": [],
   "source": [
    "print bh_50_mlp_4_4_test_losses\n",
    "print bh_50_mlp_4_4_test_loss_errors\n",
    "print np.mean(bh_50_mlp_4_4_test_losses)\n",
    "print np.std(bh_50_mlp_4_4_test_losses)"
   ]
  },
  {
   "cell_type": "code",
   "execution_count": null,
   "metadata": {},
   "outputs": [],
   "source": [
    "bh_50_mlp_4_4_evidence = []\n",
    "bh_50_mlp_4_4_evidence_e = []\n",
    "for run_n in run_ns:\n",
    "    stats_file = '../cpp_models/cpp_chains/bh_50_mlp_4_4_' + str(run_n) + '.stats'\n",
    "    ev, ev_e = output_tools.read_evidence(stats_file)\n",
    "    bh_50_mlp_4_4_evidence.append(ev)\n",
    "    bh_50_mlp_4_4_evidence_e.append(ev_e)"
   ]
  },
  {
   "cell_type": "code",
   "execution_count": null,
   "metadata": {},
   "outputs": [],
   "source": [
    "print bh_50_mlp_4_4_evidence\n",
    "print bh_50_mlp_4_4_evidence_e\n",
    "print np.mean(bh_50_mlp_4_4_evidence)\n",
    "print np.std(bh_50_mlp_4_4_evidence)"
   ]
  },
  {
   "cell_type": "code",
   "execution_count": null,
   "metadata": {},
   "outputs": [],
   "source": [
    "# bh_50_r_mlp_4_4"
   ]
  },
  {
   "cell_type": "code",
   "execution_count": null,
   "metadata": {},
   "outputs": [],
   "source": [
    "n_stoc = 0\n",
    "n_stoc_var = 0\n",
    "bh_50_r_mlp_4_4_test_losses = []\n",
    "bh_50_r_mlp_4_4_test_loss_errors = []\n",
    "for run_n in run_ns:\n",
    "    chains_file = '../cpp_models/cpp_chains/bh_50_r_mlp_4_4_' + str(run_n) + '.txt'\n",
    "    x_test = np.genfromtxt(\"../../data/uci/bh_50_x_te_\" + str(run_n) + \".csv\", delimiter=',')\n",
    "    y_test = np.genfromtxt(\"../../data/uci/bh_50_y_te_\" + str(run_n) + \".csv\", delimiter=',')\n",
    "    y_test = y_test.reshape(-1,1)\n",
    "    model = kms.relu_mlp_2(num_inputs, num_outputs, layer_sizes)\n",
    "    bnn_model = bnn.bnn_predictor(model, x_test, y_test, chains_file, n_stoc, n_stoc_var)\n",
    "    y_pred, y_pred_e = bnn_model.predictions_expectation_and_std()\n",
    "    np.savetxt(\"../../data/uci/predictions/bh_50_r_mlp_4_4_\" + str(run_n) + \"_y_te_pr.csv\", np.hstack([y_pred, y_pred_e]), delimiter=',')\n",
    "    y_test, y_pred = tools.check_dtypes(y_test, y_pred)\n",
    "    test_loss = metrics.mean_squared_error(y_test, y_pred)\n",
    "    test_loss_error = metrics.mean_squared_error_std_dev(y_test, y_pred, y_pred_e)\n",
    "    bh_50_r_mlp_4_4_test_losses.append(test_loss)\n",
    "    bh_50_r_mlp_4_4_test_loss_errors.append(test_loss_error)"
   ]
  },
  {
   "cell_type": "code",
   "execution_count": null,
   "metadata": {},
   "outputs": [],
   "source": [
    "print bh_50_r_mlp_4_4_test_losses\n",
    "print bh_50_r_mlp_4_4_test_loss_errors\n",
    "print np.mean(bh_50_r_mlp_4_4_test_losses)\n",
    "print np.std(bh_50_r_mlp_4_4_test_losses)"
   ]
  },
  {
   "cell_type": "code",
   "execution_count": null,
   "metadata": {},
   "outputs": [],
   "source": [
    "bh_50_r_mlp_4_4_evidence = []\n",
    "bh_50_r_mlp_4_4_evidence_e = []\n",
    "for run_n in run_ns:\n",
    "    stats_file = '../cpp_models/cpp_chains/bh_50_r_mlp_4_4_' + str(run_n) + '.stats'\n",
    "    ev, ev_e = output_tools.read_evidence(stats_file)\n",
    "    bh_50_r_mlp_4_4_evidence.append(ev)\n",
    "    bh_50_r_mlp_4_4_evidence_e.append(ev_e)"
   ]
  },
  {
   "cell_type": "code",
   "execution_count": null,
   "metadata": {},
   "outputs": [],
   "source": [
    "print bh_50_r_mlp_4_4_evidence\n",
    "print bh_50_r_mlp_4_4_evidence_e\n",
    "print np.mean(bh_50_r_mlp_4_4_evidence)\n",
    "print np.std(bh_50_r_mlp_4_4_evidence)"
   ]
  },
  {
   "cell_type": "code",
   "execution_count": null,
   "metadata": {},
   "outputs": [],
   "source": [
    "# bh_50_sh_sv_mlp_4_4"
   ]
  },
  {
   "cell_type": "code",
   "execution_count": null,
   "metadata": {},
   "outputs": [],
   "source": [
    "n_stoc = 1\n",
    "n_stoc_var = 1\n",
    "bh_50_sh_sv_mlp_4_4_test_losses = []\n",
    "bh_50_sh_sv_mlp_4_4_test_loss_errors = []\n",
    "for run_n in run_ns:\n",
    "    chains_file = '../cpp_models/cpp_chains/bh_50_sh_sv_mlp_4_4_' + str(run_n) + '.txt'\n",
    "    x_test = np.genfromtxt(\"../../data/uci/bh_50_x_te_\" + str(run_n) + \".csv\", delimiter=',')\n",
    "    y_test = np.genfromtxt(\"../../data/uci/bh_50_y_te_\" + str(run_n) + \".csv\", delimiter=',')\n",
    "    y_test = y_test.reshape(-1,1)\n",
    "    model = kms.mlp_2(num_inputs, num_outputs, layer_sizes)\n",
    "    bnn_model = bnn.bnn_predictor(model, x_test, y_test, chains_file, n_stoc, n_stoc_var)\n",
    "    y_pred, y_pred_e = bnn_model.predictions_expectation_and_std()\n",
    "    np.savetxt(\"../../data/uci/predictions/bh_50_sh_sv_mlp_4_4_\" + str(run_n) + \"_y_te_pr.csv\", np.hstack([y_pred, y_pred_e]), delimiter=',')\n",
    "    y_test, y_pred = tools.check_dtypes(y_test, y_pred)\n",
    "    test_loss = metrics.mean_squared_error(y_test, y_pred)\n",
    "    test_loss_error = metrics.mean_squared_error_std_dev(y_test, y_pred, y_pred_e)\n",
    "    bh_50_sh_sv_mlp_4_4_test_losses.append(test_loss)\n",
    "    bh_50_sh_sv_mlp_4_4_test_loss_errors.append(test_loss_error)"
   ]
  },
  {
   "cell_type": "code",
   "execution_count": null,
   "metadata": {},
   "outputs": [],
   "source": [
    "print bh_sh_sv_50_mlp_4_4_test_losses\n",
    "print bh_50_sh_sv_mlp_4_4_test_loss_errors\n",
    "print np.mean(bh_50_sh_sv_mlp_4_4_test_losses)\n",
    "print np.std(bh_50_sh_sv_mlp_4_4_test_losses)"
   ]
  },
  {
   "cell_type": "code",
   "execution_count": null,
   "metadata": {},
   "outputs": [],
   "source": [
    "bh_50_sh_sv_mlp_4_4_evidence = []\n",
    "bh_50_sh_sv_mlp_4_4_evidence_e = []\n",
    "for run_n in run_ns:\n",
    "    stats_file = '../cpp_models/cpp_chains/bh_50_sh_sv_mlp_4_4_' + str(run_n) + '.stats'\n",
    "    ev, ev_e = output_tools.read_evidence(stats_file)\n",
    "    bh_50_sh_sv_mlp_4_4_evidence.append(ev)\n",
    "    bh_50_sh_sv_mlp_4_4_evidence_e.append(ev_e)"
   ]
  },
  {
   "cell_type": "code",
   "execution_count": null,
   "metadata": {},
   "outputs": [],
   "source": [
    "print bh_50_sh_sv_mlp_4_4_evidence\n",
    "print bh_50_sh_sv_mlp_4_4_evidence_e\n",
    "print np.mean(bh_50_sh_sv_mlp_4_4_evidence)\n",
    "print np.std(bh_50_sh_sv_mlp_4_4_evidence)"
   ]
  },
  {
   "cell_type": "code",
   "execution_count": null,
   "metadata": {},
   "outputs": [],
   "source": [
    "# bh_50_lh_sv_mlp_4_4"
   ]
  },
  {
   "cell_type": "code",
   "execution_count": null,
   "metadata": {},
   "outputs": [],
   "source": [
    "n_stoc = 6\n",
    "n_stoc_var = 1\n",
    "bh_50_lh_sv_mlp_4_4_test_losses = []\n",
    "bh_50_lh_sv_mlp_4_4_test_loss_errors = []\n",
    "for run_n in run_ns:\n",
    "    chains_file = '../cpp_models/cpp_chains/bh_50_lh_sv_mlp_4_4_' + str(run_n) + '.txt'\n",
    "    x_test = np.genfromtxt(\"../../data/uci/bh_50_x_te_\" + str(run_n) + \".csv\", delimiter=',')\n",
    "    y_test = np.genfromtxt(\"../../data/uci/bh_50_y_te_\" + str(run_n) + \".csv\", delimiter=',')\n",
    "    y_test = y_test.reshape(-1,1)\n",
    "    model = kms.mlp_2(num_inputs, num_outputs, layer_sizes)\n",
    "    bnn_model = bnn.bnn_predictor(model, x_test, y_test, chains_file, n_stoc, n_stoc_var)\n",
    "    y_pred, y_pred_e = bnn_model.predictions_expectation_and_std()\n",
    "    np.savetxt(\"../../data/uci/predictions/bh_50_lh_sv_mlp_4_4_\" + str(run_n) + \"_y_te_pr.csv\", np.hstack([y_pred, y_pred_e]), delimiter=',')\n",
    "    y_test, y_pred = tools.check_dtypes(y_test, y_pred)\n",
    "    test_loss = metrics.mean_squared_error(y_test, y_pred)\n",
    "    test_loss_error = metrics.mean_squared_error_std_dev(y_test, y_pred, y_pred_e)\n",
    "    bh_50_lh_sv_mlp_4_4_test_losses.append(test_loss)\n",
    "    bh_50_lh_sv_mlp_4_4_test_loss_errors.append(test_loss_error)"
   ]
  },
  {
   "cell_type": "code",
   "execution_count": null,
   "metadata": {},
   "outputs": [],
   "source": [
    "print bh_50_lh_sv_mlp_4_4_test_losses\n",
    "print bh_50_lh_sv_mlp_4_4_test_loss_errors\n",
    "print np.mean(bh_50_lh_sv_mlp_4_4_test_losses)\n",
    "print np.std(bh_50_lh_sv_mlp_4_4_test_losses)"
   ]
  },
  {
   "cell_type": "code",
   "execution_count": null,
   "metadata": {},
   "outputs": [],
   "source": [
    "bh_50_lh_sv_mlp_4_4_evidence = []\n",
    "bh_50_lh_sv_mlp_4_4_evidence_e = []\n",
    "for run_n in run_ns:\n",
    "    stats_file = '../cpp_models/cpp_chains/bh_50_lh_sv_mlp_4_4_' + str(run_n) + '.stats'\n",
    "    ev, ev_e = output_tools.read_evidence(stats_file)\n",
    "    bh_50_lh_sv_mlp_4_4_evidence.append(ev)\n",
    "    bh_50_lh_sv_mlp_4_4_evidence_e.append(ev_e)"
   ]
  },
  {
   "cell_type": "code",
   "execution_count": null,
   "metadata": {},
   "outputs": [],
   "source": [
    "print bh_50_lh_sv_mlp_4_4_evidence\n",
    "print bh_50_lh_sv_mlp_4_4_evidence_e\n",
    "print np.mean(bh_50_lh_sv_mlp_4_4_evidence)\n",
    "print np.std(bh_50_lh_sv_mlp_4_4_evidence)"
   ]
  },
  {
   "cell_type": "code",
   "execution_count": null,
   "metadata": {},
   "outputs": [],
   "source": [
    "# bh_50_ih_sv_mlp_4_4"
   ]
  },
  {
   "cell_type": "code",
   "execution_count": null,
   "metadata": {},
   "outputs": [],
   "source": [
    "n_stoc = 24\n",
    "n_stoc_var = 1\n",
    "bh_50_ih_sv_mlp_4_4_test_losses = []\n",
    "bh_50_ih_sv_mlp_4_4_test_loss_errors = []\n",
    "for run_n in run_ns:\n",
    "    chains_file = '../cpp_models/cpp_chains/bh_50_ih_sv_mlp_4_4_' + str(run_n) + '.txt'\n",
    "    x_test = np.genfromtxt(\"../../data/uci/bh_50_x_te_\" + str(run_n) + \".csv\", delimiter=',')\n",
    "    y_test = np.genfromtxt(\"../../data/uci/bh_50_y_te_\" + str(run_n) + \".csv\", delimiter=',')\n",
    "    y_test = y_test.reshape(-1,1)\n",
    "    model = kms.mlp_2(num_inputs, num_outputs, layer_sizes)\n",
    "    bnn_model = bnn.bnn_predictor(model, x_test, y_test, chains_file, n_stoc, n_stoc_var)\n",
    "    y_pred, y_pred_e = bnn_model.predictions_expectation_and_std()\n",
    "    np.savetxt(\"../../data/uci/predictions/bh_50_ih_sv_mlp_4_4_\" + str(run_n) + \"_y_te_pr.csv\", np.hstack([y_pred, y_pred_e]), delimiter=',')\n",
    "    y_test, y_pred = tools.check_dtypes(y_test, y_pred)\n",
    "    test_loss = metrics.mean_squared_error(y_test, y_pred)\n",
    "    test_loss_error = metrics.mean_squared_error_std_dev(y_test, y_pred, y_pred_e)\n",
    "    bh_50_ih_sv_mlp_4_4_test_losses.append(test_loss)\n",
    "    bh_50_ih_sv_mlp_4_4_test_loss_errors.append(test_loss_error)"
   ]
  },
  {
   "cell_type": "code",
   "execution_count": null,
   "metadata": {},
   "outputs": [],
   "source": [
    "print bh_50_ih_sv_mlp_4_4_test_losses\n",
    "print bh_50_ih_sv_mlp_4_4_test_loss_errors\n",
    "print np.mean(bh_50_ih_sv_mlp_4_4_test_losses)\n",
    "print np.std(bh_50_ih_sv_mlp_4_4_test_losses)"
   ]
  },
  {
   "cell_type": "code",
   "execution_count": null,
   "metadata": {},
   "outputs": [],
   "source": [
    "bh_50_ih_sv_mlp_4_4_evidence = []\n",
    "bh_50_ih_sv_mlp_4_4_evidence_e = []\n",
    "for run_n in run_ns:\n",
    "    stats_file = '../cpp_models/cpp_chains/bh_50_ih_sv_mlp_4_4_' + str(run_n) + '.stats'\n",
    "    ev, ev_e = output_tools.read_evidence(stats_file)\n",
    "    bh_50_ih_sv_mlp_4_4_evidence.append(ev)\n",
    "    bh_50_ih_sv_mlp_4_4_evidence_e.append(ev_e)"
   ]
  },
  {
   "cell_type": "code",
   "execution_count": null,
   "metadata": {},
   "outputs": [],
   "source": [
    "print bh_50_ih_sv_mlp_4_4_evidence\n",
    "print bh_50_ih_sv_mlp_4_4_evidence_e\n",
    "print np.mean(bh_50_ih_sv_mlp_4_4_evidence)\n",
    "print np.std(bh_50_ih_sv_mlp_4_4_evidence)"
   ]
  },
  {
   "cell_type": "code",
   "execution_count": null,
   "metadata": {},
   "outputs": [],
   "source": [
    "# bh_50_mlp_2_2_2"
   ]
  },
  {
   "cell_type": "code",
   "execution_count": null,
   "metadata": {},
   "outputs": [],
   "source": [
    "layer_sizes = [2, 2, 2]"
   ]
  },
  {
   "cell_type": "code",
   "execution_count": null,
   "metadata": {},
   "outputs": [],
   "source": [
    "# bh_50_mlp_2_2_2"
   ]
  },
  {
   "cell_type": "code",
   "execution_count": null,
   "metadata": {},
   "outputs": [],
   "source": [
    "n_stoc = 0\n",
    "n_stoc_var = 0\n",
    "bh_50_mlp_2_2_2_test_losses = []\n",
    "bh_50_mlp_2_2_2_test_loss_errors = []\n",
    "for run_n in run_ns:\n",
    "    chains_file = '../cpp_models/cpp_chains/bh_50_mlp_2_2_2_' + str(run_n) + '.txt'\n",
    "    x_test = np.genfromtxt(\"../../data/uci/bh_50_x_te_\" + str(run_n) + \".csv\", delimiter=',')\n",
    "    y_test = np.genfromtxt(\"../../data/uci/bh_50_y_te_\" + str(run_n) + \".csv\", delimiter=',')\n",
    "    y_test = y_test.reshape(-1,1)\n",
    "    model = kms.mlp_3(num_inputs, num_outputs, layer_sizes)\n",
    "    bnn_model = bnn.bnn_predictor(model, x_test, y_test, chains_file, n_stoc, n_stoc_var)\n",
    "    y_pred, y_pred_e = bnn_model.predictions_expectation_and_std()\n",
    "    np.savetxt(\"../../data/uci/predictions/bh_50_mlp_2_2_2_\" + str(run_n) + \"_y_te_pr.csv\", np.hstack([y_pred, y_pred_e]), delimiter=',')\n",
    "    y_test, y_pred = tools.check_dtypes(y_test, y_pred)\n",
    "    test_loss = metrics.mean_squared_error(y_test, y_pred)\n",
    "    test_loss_error = metrics.mean_squared_error_std_dev(y_test, y_pred, y_pred_e)\n",
    "    bh_50_mlp_2_2_2_test_losses.append(test_loss)\n",
    "    bh_50_mlp_2_2_2_test_loss_errors.append(test_loss_error)"
   ]
  },
  {
   "cell_type": "code",
   "execution_count": null,
   "metadata": {},
   "outputs": [],
   "source": [
    "print bh_50_mlp_2_2_2_test_losses\n",
    "print bh_50_mlp_2_2_2_test_loss_errors\n",
    "print np.mean(bh_50_mlp_2_2_2_test_losses)\n",
    "print np.std(bh_50_mlp_2_2_2_test_losses)"
   ]
  },
  {
   "cell_type": "code",
   "execution_count": null,
   "metadata": {},
   "outputs": [],
   "source": [
    "bh_50_mlp_2_2_2_evidence = []\n",
    "bh_50_mlp_2_2_2_evidence_e = []\n",
    "for run_n in run_ns:\n",
    "    stats_file = '../cpp_models/cpp_chains/bh_50_mlp_2_2_2_' + str(run_n) + '.stats'\n",
    "    ev, ev_e = output_tools.read_evidence(stats_file)\n",
    "    bh_50_mlp_2_2_2_evidence.append(ev)\n",
    "    bh_50_mlp_2_2_2_evidence_e.append(ev_e)"
   ]
  },
  {
   "cell_type": "code",
   "execution_count": null,
   "metadata": {},
   "outputs": [],
   "source": [
    "print bh_50_mlp_2_2_2_evidence\n",
    "print bh_50_mlp_2_2_2_evidence_e\n",
    "print np.mean(bh_50_mlp_2_2_2_evidence)\n",
    "print np.std(bh_50_mlp_2_2_2_evidence)"
   ]
  },
  {
   "cell_type": "code",
   "execution_count": null,
   "metadata": {},
   "outputs": [],
   "source": [
    "# bh_50_r_mlp_2_2_2"
   ]
  },
  {
   "cell_type": "code",
   "execution_count": null,
   "metadata": {},
   "outputs": [],
   "source": [
    "n_stoc = 0\n",
    "n_stoc_var = 0\n",
    "bh_50_r_mlp_2_2_2_test_losses = []\n",
    "bh_50_r_mlp_2_2_2_test_loss_errors = []\n",
    "for run_n in run_ns:\n",
    "    chains_file = '../cpp_models/cpp_chains/bh_50_r_mlp_2_2_2_' + str(run_n) + '.txt'\n",
    "    x_test = np.genfromtxt(\"../../data/uci/bh_50_x_te_\" + str(run_n) + \".csv\", delimiter=',')\n",
    "    y_test = np.genfromtxt(\"../../data/uci/bh_50_y_te_\" + str(run_n) + \".csv\", delimiter=',')\n",
    "    y_test = y_test.reshape(-1,1)\n",
    "    model = kms.relu_mlp_3(num_inputs, num_outputs, layer_sizes)\n",
    "    bnn_model = bnn.bnn_predictor(model, x_test, y_test, chains_file, n_stoc, n_stoc_var)\n",
    "    y_pred, y_pred_e = bnn_model.predictions_expectation_and_std()\n",
    "    np.savetxt(\"../../data/uci/predictions/bh_50_r_mlp_2_2_2_\" + str(run_n) + \"_y_te_pr.csv\", np.hstack([y_pred, y_pred_e]), delimiter=',')\n",
    "    y_test, y_pred = tools.check_dtypes(y_test, y_pred)\n",
    "    test_loss = metrics.mean_squared_error(y_test, y_pred)\n",
    "    test_loss_error = metrics.mean_squared_error_std_dev(y_test, y_pred, y_pred_e)\n",
    "    bh_50_r_mlp_2_2_2_test_losses.append(test_loss)\n",
    "    bh_50_r_mlp_2_2_2_test_loss_errors.append(test_loss_error)"
   ]
  },
  {
   "cell_type": "code",
   "execution_count": null,
   "metadata": {},
   "outputs": [],
   "source": [
    "print bh_50_r_mlp_2_2_2_test_losses\n",
    "print bh_50_r_mlp_2_2_2_test_loss_errors\n",
    "print np.mean(bh_50_r_mlp_2_2_2_test_losses)\n",
    "print np.std(bh_50_r_mlp_2_2_2_test_losses)"
   ]
  },
  {
   "cell_type": "code",
   "execution_count": null,
   "metadata": {},
   "outputs": [],
   "source": [
    "bh_50_r_mlp_2_2_2_evidence = []\n",
    "bh_50_r_mlp_2_2_2_evidence_e = []\n",
    "for run_n in run_ns:\n",
    "    stats_file = '../cpp_models/cpp_chains/bh_50_r_mlp_2_2_2_' + str(run_n) + '.stats'\n",
    "    ev, ev_e = output_tools.read_evidence(stats_file)\n",
    "    bh_50_r_mlp_2_2_2_evidence.append(ev)\n",
    "    bh_50_r_mlp_2_2_2_evidence_e.append(ev_e)"
   ]
  },
  {
   "cell_type": "code",
   "execution_count": null,
   "metadata": {},
   "outputs": [],
   "source": [
    "print bh_50_r_mlp_2_2_2_evidence\n",
    "print bh_50_r_mlp_2_2_2_evidence_e\n",
    "print np.mean(bh_50_r_mlp_2_2_2_evidence)\n",
    "print np.std(bh_50_r_mlp_2_2_2_evidence)"
   ]
  },
  {
   "cell_type": "code",
   "execution_count": null,
   "metadata": {},
   "outputs": [],
   "source": [
    "# bh_50_sh_sv_mlp_2_2_2"
   ]
  },
  {
   "cell_type": "code",
   "execution_count": null,
   "metadata": {},
   "outputs": [],
   "source": [
    "n_stoc = 1\n",
    "n_stoc_var = 1\n",
    "bh_50_sh_sv_mlp_2_2_2_test_losses = []\n",
    "bh_50_sh_sv_mlp_2_2_2_test_loss_errors = []\n",
    "for run_n in run_ns:\n",
    "    chains_file = '../cpp_models/cpp_chains/bh_50_sh_sv_mlp_2_2_2_' + str(run_n) + '.txt'\n",
    "    x_test = np.genfromtxt(\"../../data/uci/bh_50_x_te_\" + str(run_n) + \".csv\", delimiter=',')\n",
    "    y_test = np.genfromtxt(\"../../data/uci/bh_50_y_te_\" + str(run_n) + \".csv\", delimiter=',')\n",
    "    y_test = y_test.reshape(-1,1)\n",
    "    model = kms.mlp_3(num_inputs, num_outputs, layer_sizes)\n",
    "    bnn_model = bnn.bnn_predictor(model, x_test, y_test, chains_file, n_stoc, n_stoc_var)\n",
    "    y_pred, y_pred_e = bnn_model.predictions_expectation_and_std()\n",
    "    np.savetxt(\"../../data/uci/predictions/bh_50_sh_sv_mlp_2_2_2_\" + str(run_n) + \"_y_te_pr.csv\", np.hstack([y_pred, y_pred_e]), delimiter=',')\n",
    "    y_test, y_pred = tools.check_dtypes(y_test, y_pred)\n",
    "    test_loss = metrics.mean_squared_error(y_test, y_pred)\n",
    "    test_loss_error = metrics.mean_squared_error_std_dev(y_test, y_pred, y_pred_e)\n",
    "    bh_50_sh_sv_mlp_2_2_2_test_losses.append(test_loss)\n",
    "    bh_50_sh_sv_mlp_2_2_2_test_loss_errors.append(test_loss_error)"
   ]
  },
  {
   "cell_type": "code",
   "execution_count": null,
   "metadata": {},
   "outputs": [],
   "source": [
    "print bh_sh_sv_50_mlp_2_2_2_test_losses\n",
    "print bh_50_sh_sv_mlp_2_2_2_test_loss_errors\n",
    "print np.mean(bh_50_sh_sv_mlp_2_2_2_test_losses)\n",
    "print np.std(bh_50_sh_sv_mlp_2_2_2_test_losses)"
   ]
  },
  {
   "cell_type": "code",
   "execution_count": null,
   "metadata": {},
   "outputs": [],
   "source": [
    "bh_50_sh_sv_mlp_2_2_2_evidence = []\n",
    "bh_50_sh_sv_mlp_2_2_2_evidence_e = []\n",
    "for run_n in run_ns:\n",
    "    stats_file = '../cpp_models/cpp_chains/bh_50_sh_sv_mlp_2_2_2_' + str(run_n) + '.stats'\n",
    "    ev, ev_e = output_tools.read_evidence(stats_file)\n",
    "    bh_50_sh_sv_mlp_2_2_2_evidence.append(ev)\n",
    "    bh_50_sh_sv_mlp_2_2_2_evidence_e.append(ev_e)"
   ]
  },
  {
   "cell_type": "code",
   "execution_count": null,
   "metadata": {},
   "outputs": [],
   "source": [
    "print bh_50_sh_sv_mlp_2_2_2_evidence\n",
    "print bh_50_sh_sv_mlp_2_2_2_evidence_e\n",
    "print np.mean(bh_50_sh_sv_mlp_2_2_2_evidence)\n",
    "print np.std(bh_50_sh_sv_mlp_2_2_2_evidence)"
   ]
  },
  {
   "cell_type": "code",
   "execution_count": null,
   "metadata": {},
   "outputs": [],
   "source": [
    "# bh_50_lh_sv_mlp_2_2_2"
   ]
  },
  {
   "cell_type": "code",
   "execution_count": null,
   "metadata": {},
   "outputs": [],
   "source": [
    "n_stoc = 8\n",
    "n_stoc_var = 1\n",
    "bh_50_lh_sv_mlp_2_2_2_test_losses = []\n",
    "bh_50_lh_sv_mlp_2_2_2_test_loss_errors = []\n",
    "for run_n in run_ns:\n",
    "    chains_file = '../cpp_models/cpp_chains/bh_50_lh_sv_mlp_2_2_2_' + str(run_n) + '.txt'\n",
    "    x_test = np.genfromtxt(\"../../data/uci/bh_50_x_te_\" + str(run_n) + \".csv\", delimiter=',')\n",
    "    y_test = np.genfromtxt(\"../../data/uci/bh_50_y_te_\" + str(run_n) + \".csv\", delimiter=',')\n",
    "    y_test = y_test.reshape(-1,1)\n",
    "    model = kms.mlp_3(num_inputs, num_outputs, layer_sizes)\n",
    "    bnn_model = bnn.bnn_predictor(model, x_test, y_test, chains_file, n_stoc, n_stoc_var)\n",
    "    y_pred, y_pred_e = bnn_model.predictions_expectation_and_std()\n",
    "    np.savetxt(\"../../data/uci/predictions/bh_50_lh_sv_mlp_2_2_2_\" + str(run_n) + \"_y_te_pr.csv\", np.hstack([y_pred, y_pred_e]), delimiter=',')\n",
    "    y_test, y_pred = tools.check_dtypes(y_test, y_pred)\n",
    "    test_loss = metrics.mean_squared_error(y_test, y_pred)\n",
    "    test_loss_error = metrics.mean_squared_error_std_dev(y_test, y_pred, y_pred_e)\n",
    "    bh_50_lh_sv_mlp_2_2_2_test_losses.append(test_loss)\n",
    "    bh_50_lh_sv_mlp_2_2_2_test_loss_errors.append(test_loss_error)"
   ]
  },
  {
   "cell_type": "code",
   "execution_count": null,
   "metadata": {},
   "outputs": [],
   "source": [
    "print bh_50_lh_sv_mlp_2_2_2_test_losses\n",
    "print bh_50_lh_sv_mlp_2_2_2_test_loss_errors\n",
    "print np.mean(bh_50_lh_sv_mlp_2_2_2_test_losses)\n",
    "print np.std(bh_50_lh_sv_mlp_2_2_2_test_losses)"
   ]
  },
  {
   "cell_type": "code",
   "execution_count": null,
   "metadata": {},
   "outputs": [],
   "source": [
    "bh_50_lh_sv_mlp_2_2_2_evidence = []\n",
    "bh_50_lh_sv_mlp_2_2_2_evidence_e = []\n",
    "for run_n in run_ns:\n",
    "    stats_file = '../cpp_models/cpp_chains/bh_50_lh_sv_mlp_2_2_2_' + str(run_n) + '.stats'\n",
    "    ev, ev_e = output_tools.read_evidence(stats_file)\n",
    "    bh_50_lh_sv_mlp_2_2_2_evidence.append(ev)\n",
    "    bh_50_lh_sv_mlp_2_2_2_evidence_e.append(ev_e)"
   ]
  },
  {
   "cell_type": "code",
   "execution_count": null,
   "metadata": {},
   "outputs": [],
   "source": [
    "print bh_50_lh_sv_mlp_2_2_2_evidence\n",
    "print bh_50_lh_sv_mlp_2_2_2_evidence_e\n",
    "print np.mean(bh_50_lh_sv_mlp_2_2_2_evidence)\n",
    "print np.std(bh_50_lh_sv_mlp_2_2_2_evidence)"
   ]
  },
  {
   "cell_type": "code",
   "execution_count": null,
   "metadata": {},
   "outputs": [],
   "source": [
    "# bh_50_ih_sv_mlp_2_2_2"
   ]
  },
  {
   "cell_type": "code",
   "execution_count": null,
   "metadata": {},
   "outputs": [],
   "source": [
    "n_stoc = 23\n",
    "n_stoc_var = 1\n",
    "bh_50_ih_sv_mlp_2_2_2_test_losses = []\n",
    "bh_50_ih_sv_mlp_2_2_2_test_loss_errors = []\n",
    "for run_n in run_ns:\n",
    "    chains_file = '../cpp_models/cpp_chains/bh_50_ih_sv_mlp_2_2_2_' + str(run_n) + '.txt'\n",
    "    x_test = np.genfromtxt(\"../../data/uci/bh_50_x_te_\" + str(run_n) + \".csv\", delimiter=',')\n",
    "    y_test = np.genfromtxt(\"../../data/uci/bh_50_y_te_\" + str(run_n) + \".csv\", delimiter=',')\n",
    "    y_test = y_test.reshape(-1,1)\n",
    "    model = kms.mlp_3(num_inputs, num_outputs, layer_sizes)\n",
    "    bnn_model = bnn.bnn_predictor(model, x_test, y_test, chains_file, n_stoc, n_stoc_var)\n",
    "    y_pred, y_pred_e = bnn_model.predictions_expectation_and_std()\n",
    "    np.savetxt(\"../../data/uci/predictions/bh_ih_sv_50_mlp_2_2_2_\" + str(run_n) + \"_y_te_pr.csv\", np.hstack([y_pred, y_pred_e]), delimiter=',')\n",
    "    y_test, y_pred = tools.check_dtypes(y_test, y_pred)\n",
    "    test_loss = metrics.mean_squared_error(y_test, y_pred)\n",
    "    test_loss_error = metrics.mean_squared_error_std_dev(y_test, y_pred, y_pred_e)\n",
    "    bh_50_ih_sv_mlp_2_2_2_test_losses.append(test_loss)\n",
    "    bh_50_ih_sv_mlp_2_2_2_test_loss_errors.append(test_loss_error)"
   ]
  },
  {
   "cell_type": "code",
   "execution_count": null,
   "metadata": {},
   "outputs": [],
   "source": [
    "print bh_50_ih_sv_mlp_2_2_2_test_losses\n",
    "print bh_50_ih_sv_mlp_2_2_2_test_loss_errors\n",
    "print np.mean(bh_50_ih_sv_mlp_2_2_2_test_losses)\n",
    "print np.std(bh_50_ih_sv_mlp_2_2_2_test_losses)"
   ]
  },
  {
   "cell_type": "code",
   "execution_count": null,
   "metadata": {},
   "outputs": [],
   "source": [
    "bh_50_ih_sv_mlp_2_2_2_evidence = []\n",
    "bh_50_ih_sv_mlp_2_2_2_evidence_e = []\n",
    "for run_n in run_ns:\n",
    "    stats_file = '../cpp_models/cpp_chains/bh_50_ih_sv_mlp_2_2_2_' + str(run_n) + '.stats'\n",
    "    ev, ev_e = output_tools.read_evidence(stats_file)\n",
    "    bh_50_ih_sv_mlp_2_2_2_evidence.append(ev)\n",
    "    bh_50_ih_sv_mlp_2_2_2_evidence_e.append(ev_e)"
   ]
  },
  {
   "cell_type": "code",
   "execution_count": null,
   "metadata": {},
   "outputs": [],
   "source": [
    "print bh_50_ih_sv_mlp_2_2_2_evidence\n",
    "print bh_50_ih_sv_mlp_2_2_2_evidence_e\n",
    "print np.mean(bh_50_ih_sv_mlp_2_2_2_evidence)\n",
    "print np.std(bh_50_ih_sv_mlp_2_2_2_evidence)"
   ]
  },
  {
   "cell_type": "code",
   "execution_count": null,
   "metadata": {},
   "outputs": [],
   "source": [
    "# bh_50_mlp_4_4_4"
   ]
  },
  {
   "cell_type": "code",
   "execution_count": null,
   "metadata": {},
   "outputs": [],
   "source": [
    "layer_sizes = [4, 4, 4]"
   ]
  },
  {
   "cell_type": "code",
   "execution_count": null,
   "metadata": {},
   "outputs": [],
   "source": [
    "# bh_50_mlp_4_4_4"
   ]
  },
  {
   "cell_type": "code",
   "execution_count": null,
   "metadata": {},
   "outputs": [],
   "source": [
    "n_stoc = 0\n",
    "n_stoc_var = 0\n",
    "bh_50_mlp_4_4_4_test_losses = []\n",
    "bh_50_mlp_4_4_4_test_loss_errors = []\n",
    "for run_n in run_ns:\n",
    "    chains_file = '../cpp_models/cpp_chains/bh_50_mlp_4_4_4_' + str(run_n) + '.txt'\n",
    "    x_test = np.genfromtxt(\"../../data/uci/bh_50_x_te_\" + str(run_n) + \".csv\", delimiter=',')\n",
    "    y_test = np.genfromtxt(\"../../data/uci/bh_50_y_te_\" + str(run_n) + \".csv\", delimiter=',')\n",
    "    y_test = y_test.reshape(-1,1)\n",
    "    model = kms.mlp_3(num_inputs, num_outputs, layer_sizes)\n",
    "    bnn_model = bnn.bnn_predictor(model, x_test, y_test, chains_file, n_stoc, n_stoc_var)\n",
    "    y_pred, y_pred_e = bnn_model.predictions_expectation_and_std()\n",
    "    np.savetxt(\"../../data/uci/predictions/bh_50_mlp_4_4_4_\" + str(run_n) + \"_y_te_pr.csv\", np.hstack([y_pred, y_pred_e]), delimiter=',')\n",
    "    y_test, y_pred = tools.check_dtypes(y_test, y_pred)\n",
    "    test_loss = metrics.mean_squared_error(y_test, y_pred)\n",
    "    test_loss_error = metrics.mean_squared_error_std_dev(y_test, y_pred, y_pred_e)\n",
    "    bh_50_mlp_4_4_4_test_losses.append(test_loss)\n",
    "    bh_50_mlp_4_4_4_test_loss_errors.append(test_loss_error)"
   ]
  },
  {
   "cell_type": "code",
   "execution_count": null,
   "metadata": {},
   "outputs": [],
   "source": [
    "print bh_50_mlp_4_4_4_test_losses\n",
    "print bh_50_mlp_4_4_4_test_loss_errors\n",
    "print np.mean(bh_50_mlp_4_4_4_test_losses)\n",
    "print np.std(bh_50_mlp_4_4_4_test_losses)"
   ]
  },
  {
   "cell_type": "code",
   "execution_count": null,
   "metadata": {},
   "outputs": [],
   "source": [
    "bh_50_mlp_4_4_4_evidence = []\n",
    "bh_50_mlp_4_4_4_evidence_e = []\n",
    "for run_n in run_ns:\n",
    "    stats_file = '../cpp_models/cpp_chains/bh_50_mlp_4_4_4_' + str(run_n) + '.stats'\n",
    "    ev, ev_e = output_tools.read_evidence(stats_file)\n",
    "    bh_50_mlp_4_4_4_evidence.append(ev)\n",
    "    bh_50_mlp_4_4_4_evidence_e.append(ev_e)"
   ]
  },
  {
   "cell_type": "code",
   "execution_count": null,
   "metadata": {},
   "outputs": [],
   "source": [
    "print bh_50_mlp_4_4_4_evidence\n",
    "print bh_50_mlp_4_4_4_evidence_e\n",
    "print np.mean(bh_50_mlp_4_4_4_evidence)\n",
    "print np.std(bh_50_mlp_4_4_4_evidence)"
   ]
  },
  {
   "cell_type": "code",
   "execution_count": null,
   "metadata": {},
   "outputs": [],
   "source": [
    "# bh_50_r_mlp_4_4_4"
   ]
  },
  {
   "cell_type": "code",
   "execution_count": null,
   "metadata": {},
   "outputs": [],
   "source": [
    "n_stoc = 0\n",
    "n_stoc_var = 0\n",
    "bh_50_r_mlp_4_4_4_test_losses = []\n",
    "bh_50_r_mlp_4_4_4_test_loss_errors = []\n",
    "for run_n in run_ns:\n",
    "    chains_file = '../cpp_models/cpp_chains/bh_50_r_mlp_4_4_4_' + str(run_n) + '.txt'\n",
    "    x_test = np.genfromtxt(\"../../data/uci/bh_50_x_te_\" + str(run_n) + \".csv\", delimiter=',')\n",
    "    y_test = np.genfromtxt(\"../../data/uci/bh_50_y_te_\" + str(run_n) + \".csv\", delimiter=',')\n",
    "    y_test = y_test.reshape(-1,1)\n",
    "    model = kms.relu_mlp_3(num_inputs, num_outputs, layer_sizes)\n",
    "    bnn_model = bnn.bnn_predictor(model, x_test, y_test, chains_file, n_stoc, n_stoc_var)\n",
    "    y_pred, y_pred_e = bnn_model.predictions_expectation_and_std()\n",
    "    np.savetxt(\"../../data/uci/predictions/bh_50_r_mlp_4_4_4_\" + str(run_n) + \"_y_te_pr.csv\", np.hstack([y_pred, y_pred_e]), delimiter=',')\n",
    "    y_test, y_pred = tools.check_dtypes(y_test, y_pred)\n",
    "    test_loss = metrics.mean_squared_error(y_test, y_pred)\n",
    "    test_loss_error = metrics.mean_squared_error_std_dev(y_test, y_pred, y_pred_e)\n",
    "    bh_50_r_mlp_4_4_4_test_losses.append(test_loss)\n",
    "    bh_50_r_mlp_4_4_4_test_loss_errors.append(test_loss_error)"
   ]
  },
  {
   "cell_type": "code",
   "execution_count": null,
   "metadata": {},
   "outputs": [],
   "source": [
    "print bh_50_r_mlp_4_4_4_test_losses\n",
    "print bh_50_r_mlp_4_4_4_test_loss_errors\n",
    "print np.mean(bh_50_r_mlp_4_4_4_test_losses)\n",
    "print np.std(bh_50_r_mlp_4_4_4_test_losses)"
   ]
  },
  {
   "cell_type": "code",
   "execution_count": null,
   "metadata": {},
   "outputs": [],
   "source": [
    "bh_50_r_mlp_4_4_4_evidence = []\n",
    "bh_50_r_mlp_4_4_4_evidence_e = []\n",
    "for run_n in run_ns:\n",
    "    stats_file = '../cpp_models/cpp_chains/bh_50_r_mlp_4_4_4_' + str(run_n) + '.stats'\n",
    "    ev, ev_e = output_tools.read_evidence(stats_file)\n",
    "    bh_50_r_mlp_4_4_4_evidence.append(ev)\n",
    "    bh_50_r_mlp_4_4_4_evidence_e.append(ev_e)"
   ]
  },
  {
   "cell_type": "code",
   "execution_count": null,
   "metadata": {},
   "outputs": [],
   "source": [
    "print bh_50_r_mlp_4_4_4_evidence\n",
    "print bh_50_r_mlp_4_4_4_evidence_e\n",
    "print np.mean(bh_50_r_mlp_4_4_4_evidence)\n",
    "print np.std(bh_50_r_mlp_4_4_4_evidence)"
   ]
  },
  {
   "cell_type": "code",
   "execution_count": null,
   "metadata": {},
   "outputs": [],
   "source": [
    "# bh_50_sh_sv_mlp_4_4_4"
   ]
  },
  {
   "cell_type": "code",
   "execution_count": null,
   "metadata": {},
   "outputs": [],
   "source": [
    "n_stoc = 1\n",
    "n_stoc_var = 1\n",
    "bh_50_sh_sv_mlp_4_4_4_test_losses = []\n",
    "bh_50_sh_sv_mlp_4_4_4_test_loss_errors = []\n",
    "for run_n in run_ns:\n",
    "    chains_file = '../cpp_models/cpp_chains/bh_50_sh_sv_mlp_4_4_4_' + str(run_n) + '.txt'\n",
    "    x_test = np.genfromtxt(\"../../data/uci/bh_50_x_te_\" + str(run_n) + \".csv\", delimiter=',')\n",
    "    y_test = np.genfromtxt(\"../../data/uci/bh_50_y_te_\" + str(run_n) + \".csv\", delimiter=',')\n",
    "    y_test = y_test.reshape(-1,1)\n",
    "    model = kms.mlp_3(num_inputs, num_outputs, layer_sizes)\n",
    "    bnn_model = bnn.bnn_predictor(model, x_test, y_test, chains_file, n_stoc, n_stoc_var)\n",
    "    y_pred, y_pred_e = bnn_model.predictions_expectation_and_std()\n",
    "    np.savetxt(\"../../data/uci/predictions/bh_50_sh_sv_mlp_4_4_4_\" + str(run_n) + \"_y_te_pr.csv\", np.hstack([y_pred, y_pred_e]), delimiter=',')\n",
    "    y_test, y_pred = tools.check_dtypes(y_test, y_pred)\n",
    "    test_loss = metrics.mean_squared_error(y_test, y_pred)\n",
    "    test_loss_error = metrics.mean_squared_error_std_dev(y_test, y_pred, y_pred_e)\n",
    "    bh_50_sh_sv_mlp_4_4_4_test_losses.append(test_loss)\n",
    "    bh_50_sh_sv_mlp_4_4_4_test_loss_errors.append(test_loss_error)"
   ]
  },
  {
   "cell_type": "code",
   "execution_count": null,
   "metadata": {},
   "outputs": [],
   "source": [
    "print bh_sh_sv_50_mlp_4_4_4_test_losses\n",
    "print bh_50_sh_sv_mlp_4_4_4_test_loss_errors\n",
    "print np.mean(bh_50_sh_sv_mlp_4_4_4_test_losses)\n",
    "print np.std(bh_50_sh_sv_mlp_4_4_4_test_losses)"
   ]
  },
  {
   "cell_type": "code",
   "execution_count": null,
   "metadata": {},
   "outputs": [],
   "source": [
    "bh_50_sh_sv_mlp_4_4_4_evidence = []\n",
    "bh_50_sh_sv_mlp_4_4_4_evidence_e = []\n",
    "for run_n in run_ns:\n",
    "    stats_file = '../cpp_models/cpp_chains/bh_50_sh_sv_mlp_4_4_4_' + str(run_n) + '.stats'\n",
    "    ev, ev_e = output_tools.read_evidence(stats_file)\n",
    "    bh_50_sh_sv_mlp_4_4_4_evidence.append(ev)\n",
    "    bh_50_sh_sv_mlp_4_4_4_evidence_e.append(ev_e)"
   ]
  },
  {
   "cell_type": "code",
   "execution_count": null,
   "metadata": {},
   "outputs": [],
   "source": [
    "print bh_50_sh_sv_mlp_4_4_4_evidence\n",
    "print bh_50_sh_sv_mlp_4_4_4_evidence_e\n",
    "print np.mean(bh_50_sh_sv_mlp_4_4_4_evidence)\n",
    "print np.std(bh_50_sh_sv_mlp_4_4_4_evidence)"
   ]
  },
  {
   "cell_type": "code",
   "execution_count": null,
   "metadata": {},
   "outputs": [],
   "source": [
    "# bh_50_lh_sv_mlp_4_4_4"
   ]
  },
  {
   "cell_type": "code",
   "execution_count": null,
   "metadata": {},
   "outputs": [],
   "source": [
    "n_stoc = 8\n",
    "n_stoc_var = 1\n",
    "bh_50_lh_sv_mlp_4_4_4_test_losses = []\n",
    "bh_50_lh_sv_mlp_4_4_4_test_loss_errors = []\n",
    "for run_n in run_ns:\n",
    "    chains_file = '../cpp_models/cpp_chains/bh_50_lh_sv_mlp_4_4_4_' + str(run_n) + '.txt'\n",
    "    x_test = np.genfromtxt(\"../../data/uci/bh_50_x_te_\" + str(run_n) + \".csv\", delimiter=',')\n",
    "    y_test = np.genfromtxt(\"../../data/uci/bh_50_y_te_\" + str(run_n) + \".csv\", delimiter=',')\n",
    "    y_test = y_test.reshape(-1,1)\n",
    "    model = kms.mlp_3(num_inputs, num_outputs, layer_sizes)\n",
    "    bnn_model = bnn.bnn_predictor(model, x_test, y_test, chains_file, n_stoc, n_stoc_var)\n",
    "    y_pred, y_pred_e = bnn_model.predictions_expectation_and_std()\n",
    "    np.savetxt(\"../../data/uci/predictions/bh_lh_sv_50_mlp_4_4_4_\" + str(run_n) + \"_y_te_pr.csv\", np.hstack([y_pred, y_pred_e]), delimiter=',')\n",
    "    y_test, y_pred = tools.check_dtypes(y_test, y_pred)\n",
    "    test_loss = metrics.mean_squared_error(y_test, y_pred)\n",
    "    test_loss_error = metrics.mean_squared_error_std_dev(y_test, y_pred, y_pred_e)\n",
    "    bh_50_lh_sv_mlp_4_4_4_test_losses.append(test_loss)\n",
    "    bh_50_lh_sv_mlp_4_4_4_test_loss_errors.append(test_loss_error)"
   ]
  },
  {
   "cell_type": "code",
   "execution_count": null,
   "metadata": {},
   "outputs": [],
   "source": [
    "print bh_50_lh_sv_mlp_4_4_4_test_losses\n",
    "print bh_50_lh_sv_mlp_4_4_4_test_loss_errors\n",
    "print np.mean(bh_50_lh_sv_mlp_4_4_4_test_losses)\n",
    "print np.std(bh_50_lh_sv_mlp_4_4_4_test_losses)"
   ]
  },
  {
   "cell_type": "code",
   "execution_count": null,
   "metadata": {},
   "outputs": [],
   "source": [
    "bh_50_lh_sv_mlp_4_4_4_evidence = []\n",
    "bh_50_lh_sv_mlp_4_4_4_evidence_e = []\n",
    "for run_n in run_ns:\n",
    "    stats_file = '../cpp_models/cpp_chains/bh_50_lh_sv_mlp_4_4_4_' + str(run_n) + '.stats'\n",
    "    ev, ev_e = output_tools.read_evidence(stats_file)\n",
    "    bh_50_lh_sv_mlp_4_4_4_evidence.append(ev)\n",
    "    bh_50_lh_sv_mlp_4_4_4_evidence_e.append(ev_e)"
   ]
  },
  {
   "cell_type": "code",
   "execution_count": null,
   "metadata": {},
   "outputs": [],
   "source": [
    "print bh_50_lh_sv_mlp_4_4_4_evidence\n",
    "print bh_50_lh_sv_mlp_4_4_4_evidence_e\n",
    "print np.mean(bh_50_lh_sv_mlp_4_4_4_evidence)\n",
    "print np.std(bh_50_lh_sv_mlp_4_4_4_evidence)"
   ]
  },
  {
   "cell_type": "code",
   "execution_count": null,
   "metadata": {},
   "outputs": [],
   "source": [
    "# bh_50_ih_sv_mlp_4_4_4"
   ]
  },
  {
   "cell_type": "code",
   "execution_count": null,
   "metadata": {},
   "outputs": [],
   "source": [
    "n_stoc = 29\n",
    "n_stoc_var = 1\n",
    "bh_50_ih_sv_mlp_4_4_4_test_losses = []\n",
    "bh_50_ih_sv_mlp_4_4_4_test_loss_errors = []\n",
    "for run_n in run_ns:\n",
    "    chains_file = '../cpp_models/cpp_chains/bh_50_ih_sv_mlp_4_4_4_' + str(run_n) + '.txt'\n",
    "    x_test = np.genfromtxt(\"../../data/uci/bh_50_x_te_\" + str(run_n) + \".csv\", delimiter=',')\n",
    "    y_test = np.genfromtxt(\"../../data/uci/bh_50_y_te_\" + str(run_n) + \".csv\", delimiter=',')\n",
    "    y_test = y_test.reshape(-1,1)\n",
    "    model = kms.mlp_3(num_inputs, num_outputs, layer_sizes)\n",
    "    bnn_model = bnn.bnn_predictor(model, x_test, y_test, chains_file, n_stoc, n_stoc_var)\n",
    "    y_pred, y_pred_e = bnn_model.predictions_expectation_and_std()\n",
    "    np.savetxt(\"../../data/uci/predictions/bh_ih_sv_50_mlp_4_4_4_\" + str(run_n) + \"_y_te_pr.csv\", np.hstack([y_pred, y_pred_e]), delimiter=',')\n",
    "    y_test, y_pred = tools.check_dtypes(y_test, y_pred)\n",
    "    test_loss = metrics.mean_squared_error(y_test, y_pred)\n",
    "    test_loss_error = metrics.mean_squared_error_std_dev(y_test, y_pred, y_pred_e)\n",
    "    bh_50_ih_sv_mlp_4_4_4_test_losses.append(test_loss)\n",
    "    bh_50_ih_sv_mlp_4_4_4_test_loss_errors.append(test_loss_error)"
   ]
  },
  {
   "cell_type": "code",
   "execution_count": null,
   "metadata": {},
   "outputs": [],
   "source": [
    "print bh_50_ih_sv_mlp_4_4_4_test_losses\n",
    "print bh_50_ih_sv_mlp_4_4_4_test_loss_errors\n",
    "print np.mean(bh_50_ih_sv_mlp_4_4_4_test_losses)\n",
    "print np.std(bh_50_ih_sv_mlp_4_4_4_test_losses)"
   ]
  },
  {
   "cell_type": "code",
   "execution_count": null,
   "metadata": {},
   "outputs": [],
   "source": [
    "bh_50_ih_sv_mlp_4_4_4_evidence = []\n",
    "bh_50_ih_sv_mlp_4_4_4_evidence_e = []\n",
    "for run_n in run_ns:\n",
    "    stats_file = '../cpp_models/cpp_chains/bh_50_ih_sv_mlp_4_4_4_' + str(run_n) + '.stats'\n",
    "    ev, ev_e = output_tools.read_evidence(stats_file)\n",
    "    bh_50_ih_sv_mlp_4_4_4_evidence.append(ev)\n",
    "    bh_50_ih_sv_mlp_4_4_4_evidence_e.append(ev_e)"
   ]
  },
  {
   "cell_type": "code",
   "execution_count": null,
   "metadata": {},
   "outputs": [],
   "source": [
    "print bh_50_ih_sv_mlp_4_4_4_evidence\n",
    "print bh_50_ih_sv_mlp_4_4_4_evidence_e\n",
    "print np.mean(bh_50_ih_sv_mlp_4_4_4_evidence)\n",
    "print np.std(bh_50_ih_sv_mlp_4_4_4_evidence)"
   ]
  },
  {
   "cell_type": "code",
   "execution_count": null,
   "metadata": {},
   "outputs": [],
   "source": [
    "# bh_50_mlp_2_2_2_2"
   ]
  },
  {
   "cell_type": "code",
   "execution_count": null,
   "metadata": {},
   "outputs": [],
   "source": [
    "layer_sizes = [2, 2, 2, 2]"
   ]
  },
  {
   "cell_type": "code",
   "execution_count": null,
   "metadata": {},
   "outputs": [],
   "source": [
    "# bh_50_mlp_2_2_2_2"
   ]
  },
  {
   "cell_type": "code",
   "execution_count": null,
   "metadata": {},
   "outputs": [],
   "source": [
    "n_stoc = 0\n",
    "n_stoc_var = 0\n",
    "bh_50_mlp_2_2_2_2_test_losses = []\n",
    "bh_50_mlp_2_2_2_2_test_loss_errors = []\n",
    "for run_n in run_ns:\n",
    "    chains_file = '../cpp_models/cpp_chains/bh_50_mlp_2_2_2_2_' + str(run_n) + '.txt'\n",
    "    x_test = np.genfromtxt(\"../../data/uci/bh_50_x_te_\" + str(run_n) + \".csv\", delimiter=',')\n",
    "    y_test = np.genfromtxt(\"../../data/uci/bh_50_y_te_\" + str(run_n) + \".csv\", delimiter=',')\n",
    "    y_test = y_test.reshape(-1,1)\n",
    "    model = kms.mlp_4(num_inputs, num_outputs, layer_sizes)\n",
    "    bnn_model = bnn.bnn_predictor(model, x_test, y_test, chains_file, n_stoc, n_stoc_var)\n",
    "    y_pred, y_pred_e = bnn_model.predictions_expectation_and_std()\n",
    "    np.savetxt(\"../../data/uci/predictions/bh_50_mlp_2_2_2_2_\" + str(run_n) + \"_y_te_pr.csv\", np.hstack([y_pred, y_pred_e]), delimiter=',')\n",
    "    y_test, y_pred = tools.check_dtypes(y_test, y_pred)\n",
    "    test_loss = metrics.mean_squared_error(y_test, y_pred)\n",
    "    test_loss_error = metrics.mean_squared_error_std_dev(y_test, y_pred, y_pred_e)\n",
    "    bh_50_mlp_2_2_2_2_test_losses.append(test_loss)\n",
    "    bh_50_mlp_2_2_2_2_test_loss_errors.append(test_loss_error)"
   ]
  },
  {
   "cell_type": "code",
   "execution_count": null,
   "metadata": {},
   "outputs": [],
   "source": [
    "print bh_50_mlp_2_2_2_2_test_losses\n",
    "print bh_50_mlp_2_2_2_2_test_loss_errors\n",
    "print np.mean(bh_50_mlp_2_2_2_2_test_losses)\n",
    "print np.std(bh_50_mlp_2_2_2_2_test_losses)"
   ]
  },
  {
   "cell_type": "code",
   "execution_count": null,
   "metadata": {},
   "outputs": [],
   "source": [
    "bh_50_mlp_2_2_2_2_evidence = []\n",
    "bh_50_mlp_2_2_2_2_evidence_e = []\n",
    "for run_n in run_ns:\n",
    "    stats_file = '../cpp_models/cpp_chains/bh_50_mlp_2_2_2_2_' + str(run_n) + '.stats'\n",
    "    ev, ev_e = output_tools.read_evidence(stats_file)\n",
    "    bh_50_mlp_2_2_2_2_evidence.append(ev)\n",
    "    bh_50_mlp_2_2_2_2_evidence_e.append(ev_e)"
   ]
  },
  {
   "cell_type": "code",
   "execution_count": null,
   "metadata": {},
   "outputs": [],
   "source": [
    "print bh_50_mlp_2_2_2_2_evidence\n",
    "print bh_50_mlp_2_2_2_2_evidence_e\n",
    "print np.mean(bh_50_mlp_2_2_2_2_evidence)\n",
    "print np.std(bh_50_mlp_2_2_2_2_evidence)"
   ]
  },
  {
   "cell_type": "code",
   "execution_count": null,
   "metadata": {},
   "outputs": [],
   "source": [
    "# bh_50_r_mlp_2_2_2_2"
   ]
  },
  {
   "cell_type": "code",
   "execution_count": null,
   "metadata": {},
   "outputs": [],
   "source": [
    "n_stoc = 0\n",
    "n_stoc_var = 0\n",
    "bh_50_r_mlp_2_2_2_2_test_losses = []\n",
    "bh_50_r_mlp_2_2_2_2_test_loss_errors = []\n",
    "for run_n in run_ns:\n",
    "    chains_file = '../cpp_models/cpp_chains/bh_50_r_mlp_2_2_2_2_' + str(run_n) + '.txt'\n",
    "    x_test = np.genfromtxt(\"../../data/uci/bh_50_x_te_\" + str(run_n) + \".csv\", delimiter=',')\n",
    "    y_test = np.genfromtxt(\"../../data/uci/bh_50_y_te_\" + str(run_n) + \".csv\", delimiter=',')\n",
    "    y_test = y_test.reshape(-1,1)\n",
    "    model = kms.relu_mlp_4(num_inputs, num_outputs, layer_sizes)\n",
    "    bnn_model = bnn.bnn_predictor(model, x_test, y_test, chains_file, n_stoc, n_stoc_var)\n",
    "    y_pred, y_pred_e = bnn_model.predictions_expectation_and_std()\n",
    "    np.savetxt(\"../../data/uci/predictions/bh_50_r_mlp_2_2_2_2_\" + str(run_n) + \"_y_te_pr.csv\", np.hstack([y_pred, y_pred_e]), delimiter=',')\n",
    "    y_test, y_pred = tools.check_dtypes(y_test, y_pred)\n",
    "    test_loss = metrics.mean_squared_error(y_test, y_pred)\n",
    "    test_loss_error = metrics.mean_squared_error_std_dev(y_test, y_pred, y_pred_e)\n",
    "    bh_50_r_mlp_2_2_2_2_test_losses.append(test_loss)\n",
    "    bh_50_r_mlp_2_2_2_2_test_loss_errors.append(test_loss_error)"
   ]
  },
  {
   "cell_type": "code",
   "execution_count": null,
   "metadata": {},
   "outputs": [],
   "source": [
    "print bh_50_r_mlp_2_2_2_2_test_losses\n",
    "print bh_50_r_mlp_2_2_2_2_test_loss_errors\n",
    "print np.mean(bh_50_r_mlp_2_2_2_2_test_losses)\n",
    "print np.std(bh_50_r_mlp_2_2_2_2_test_losses)"
   ]
  },
  {
   "cell_type": "code",
   "execution_count": null,
   "metadata": {},
   "outputs": [],
   "source": [
    "bh_50_r_mlp_2_2_2_2_evidence = []\n",
    "bh_50_r_mlp_2_2_2_2_evidence_e = []\n",
    "for run_n in run_ns:\n",
    "    stats_file = '../cpp_models/cpp_chains/bh_50_r_mlp_2_2_2_2_' + str(run_n) + '.stats'\n",
    "    ev, ev_e = output_tools.read_evidence(stats_file)\n",
    "    bh_50_r_mlp_2_2_2_2_evidence.append(ev)\n",
    "    bh_50_r_mlp_2_2_2_2_evidence_e.append(ev_e)"
   ]
  },
  {
   "cell_type": "code",
   "execution_count": null,
   "metadata": {},
   "outputs": [],
   "source": [
    "print bh_50_r_mlp_2_2_2_2_evidence\n",
    "print bh_50_r_mlp_2_2_2_2_evidence_e\n",
    "print np.mean(bh_50_r_mlp_2_2_2_2_evidence)\n",
    "print np.std(bh_50_r_mlp_2_2_2_2_evidence)"
   ]
  },
  {
   "cell_type": "code",
   "execution_count": null,
   "metadata": {},
   "outputs": [],
   "source": [
    "# bh_50_sh_sv_mlp_2_2_2_2"
   ]
  },
  {
   "cell_type": "code",
   "execution_count": null,
   "metadata": {},
   "outputs": [],
   "source": [
    "n_stoc = 1\n",
    "n_stoc_var = 1\n",
    "bh_50_sh_sv_mlp_2_2_2_2_test_losses = []\n",
    "bh_50_sh_sv_mlp_2_2_2_2_test_loss_errors = []\n",
    "for run_n in run_ns:\n",
    "    chains_file = '../cpp_models/cpp_chains/bh_50_sh_sv_mlp_2_2_2_2_' + str(run_n) + '.txt'\n",
    "    x_test = np.genfromtxt(\"../../data/uci/bh_50_x_te_\" + str(run_n) + \".csv\", delimiter=',')\n",
    "    y_test = np.genfromtxt(\"../../data/uci/bh_50_y_te_\" + str(run_n) + \".csv\", delimiter=',')\n",
    "    y_test = y_test.reshape(-1,1)\n",
    "    model = kms.mlp_4(num_inputs, num_outputs, layer_sizes)\n",
    "    bnn_model = bnn.bnn_predictor(model, x_test, y_test, chains_file, n_stoc, n_stoc_var)\n",
    "    y_pred, y_pred_e = bnn_model.predictions_expectation_and_std()\n",
    "    np.savetxt(\"../../data/uci/predictions/bh_50_sh_sv_mlp_2_2_2_2_\" + str(run_n) + \"_y_te_pr.csv\", np.hstack([y_pred, y_pred_e]), delimiter=',')\n",
    "    y_test, y_pred = tools.check_dtypes(y_test, y_pred)\n",
    "    test_loss = metrics.mean_squared_error(y_test, y_pred)\n",
    "    test_loss_error = metrics.mean_squared_error_std_dev(y_test, y_pred, y_pred_e)\n",
    "    bh_50_sh_sv_mlp_2_2_2_2_test_losses.append(test_loss)\n",
    "    bh_50_sh_sv_mlp_2_2_2_2_test_loss_errors.append(test_loss_error)"
   ]
  },
  {
   "cell_type": "code",
   "execution_count": null,
   "metadata": {},
   "outputs": [],
   "source": [
    "print bh_sh_sv_50_mlp_2_2_2_2_test_losses\n",
    "print bh_50_sh_sv_mlp_2_2_2_2_test_loss_errors\n",
    "print np.mean(bh_50_sh_sv_mlp_2_2_2_2_test_losses)\n",
    "print np.std(bh_50_sh_sv_mlp_2_2_2_2_test_losses)"
   ]
  },
  {
   "cell_type": "code",
   "execution_count": null,
   "metadata": {},
   "outputs": [],
   "source": [
    "bh_50_sh_sv_mlp_2_2_2_2_evidence = []\n",
    "bh_50_sh_sv_mlp_2_2_2_2_evidence_e = []\n",
    "for run_n in run_ns:\n",
    "    stats_file = '../cpp_models/cpp_chains/bh_50_sh_sv_mlp_2_2_2_2_' + str(run_n) + '.stats'\n",
    "    ev, ev_e = output_tools.read_evidence(stats_file)\n",
    "    bh_50_sh_sv_mlp_2_2_2_2_evidence.append(ev)\n",
    "    bh_50_sh_sv_mlp_2_2_2_2_evidence_e.append(ev_e)"
   ]
  },
  {
   "cell_type": "code",
   "execution_count": null,
   "metadata": {},
   "outputs": [],
   "source": [
    "print bh_50_sh_sv_mlp_2_2_2_2_evidence\n",
    "print bh_50_sh_sv_mlp_2_2_2_2_evidence_e\n",
    "print np.mean(bh_50_sh_sv_mlp_2_2_2_2_evidence)\n",
    "print np.std(bh_50_sh_sv_mlp_2_2_2_2_evidence)"
   ]
  },
  {
   "cell_type": "code",
   "execution_count": null,
   "metadata": {},
   "outputs": [],
   "source": [
    "# bh_50_lh_sv_mlp_2_2_2_2"
   ]
  },
  {
   "cell_type": "code",
   "execution_count": null,
   "metadata": {},
   "outputs": [],
   "source": [
    "n_stoc = 10\n",
    "n_stoc_var = 1\n",
    "bh_50_lh_sv_mlp_2_2_2_2_test_losses = []\n",
    "bh_50_lh_sv_mlp_2_2_2_2_test_loss_errors = []\n",
    "for run_n in run_ns:\n",
    "    chains_file = '../cpp_models/cpp_chains/bh_50_lh_sv_mlp_2_2_2_2_' + str(run_n) + '.txt'\n",
    "    x_test = np.genfromtxt(\"../../data/uci/bh_50_x_te_\" + str(run_n) + \".csv\", delimiter=',')\n",
    "    y_test = np.genfromtxt(\"../../data/uci/bh_50_y_te_\" + str(run_n) + \".csv\", delimiter=',')\n",
    "    y_test = y_test.reshape(-1,1)\n",
    "    model = kms.mlp_4(num_inputs, num_outputs, layer_sizes)\n",
    "    bnn_model = bnn.bnn_predictor(model, x_test, y_test, chains_file, n_stoc, n_stoc_var)\n",
    "    y_pred, y_pred_e = bnn_model.predictions_expectation_and_std()\n",
    "    np.savetxt(\"../../data/uci/predictions/bh_50_lh_sv_mlp_2_2_2_2_\" + str(run_n) + \"_y_te_pr.csv\", np.hstack([y_pred, y_pred_e]), delimiter=',')\n",
    "    y_test, y_pred = tools.check_dtypes(y_test, y_pred)\n",
    "    test_loss = metrics.mean_squared_error(y_test, y_pred)\n",
    "    test_loss_error = metrics.mean_squared_error_std_dev(y_test, y_pred, y_pred_e)\n",
    "    bh_50_lh_sv_mlp_2_2_2_2_test_losses.append(test_loss)\n",
    "    bh_50_lh_sv_mlp_2_2_2_2_test_loss_errors.append(test_loss_error)"
   ]
  },
  {
   "cell_type": "code",
   "execution_count": null,
   "metadata": {},
   "outputs": [],
   "source": [
    "print bh_50_lh_sv_mlp_2_2_2_2_test_losses\n",
    "print bh_50_lh_sv_mlp_2_2_2_2_test_loss_errors\n",
    "print np.mean(bh_50_lh_sv_mlp_2_2_2_2_test_losses)\n",
    "print np.std(bh_50_lh_sv_mlp_2_2_2_2_test_losses)"
   ]
  },
  {
   "cell_type": "code",
   "execution_count": null,
   "metadata": {},
   "outputs": [],
   "source": [
    "bh_50_lh_sv_mlp_2_2_2_2_evidence = []\n",
    "bh_50_lh_sv_mlp_2_2_2_2_evidence_e = []\n",
    "for run_n in run_ns:\n",
    "    stats_file = '../cpp_models/cpp_chains/bh_50_lh_sv_mlp_2_2_2_2_' + str(run_n) + '.stats'\n",
    "    ev, ev_e = output_tools.read_evidence(stats_file)\n",
    "    bh_50_lh_sv_mlp_2_2_2_2_evidence.append(ev)\n",
    "    bh_50_lh_sv_mlp_2_2_2_2_evidence_e.append(ev_e)"
   ]
  },
  {
   "cell_type": "code",
   "execution_count": null,
   "metadata": {},
   "outputs": [],
   "source": [
    "print bh_50_lh_sv_mlp_2_2_2_2_evidence\n",
    "print bh_50_lh_sv_mlp_2_2_2_2_evidence_e\n",
    "print np.mean(bh_50_lh_sv_mlp_2_2_2_2_evidence)\n",
    "print np.std(bh_50_lh_sv_mlp_2_2_2_2_evidence)"
   ]
  },
  {
   "cell_type": "code",
   "execution_count": null,
   "metadata": {},
   "outputs": [],
   "source": [
    "# bh_50_ih_sv_mlp_2_2_2_2"
   ]
  },
  {
   "cell_type": "code",
   "execution_count": null,
   "metadata": {},
   "outputs": [],
   "source": [
    "n_stoc = 26\n",
    "n_stoc_var = 1\n",
    "bh_50_ih_sv_mlp_2_2_2_2_test_losses = []\n",
    "bh_50_ih_sv_mlp_2_2_2_2_test_loss_errors = []\n",
    "for run_n in run_ns:\n",
    "    chains_file = '../cpp_models/cpp_chains/bh_50_ih_sv_mlp_2_2_2_2_' + str(run_n) + '.txt'\n",
    "    x_test = np.genfromtxt(\"../../data/uci/bh_50_x_te_\" + str(run_n) + \".csv\", delimiter=',')\n",
    "    y_test = np.genfromtxt(\"../../data/uci/bh_50_y_te_\" + str(run_n) + \".csv\", delimiter=',')\n",
    "    y_test = y_test.reshape(-1,1)\n",
    "    model = kms.mlp_4(num_inputs, num_outputs, layer_sizes)\n",
    "    bnn_model = bnn.bnn_predictor(model, x_test, y_test, chains_file, n_stoc, n_stoc_var)\n",
    "    y_pred, y_pred_e = bnn_model.predictions_expectation_and_std()\n",
    "    np.savetxt(\"../../data/uci/predictions/bh_50_ih_sv_mlp_2_2_2_2_\" + str(run_n) + \"_y_te_pr.csv\", np.hstack([y_pred, y_pred_e]), delimiter=',')\n",
    "    y_test, y_pred = tools.check_dtypes(y_test, y_pred)\n",
    "    test_loss = metrics.mean_squared_error(y_test, y_pred)\n",
    "    test_loss_error = metrics.mean_squared_error_std_dev(y_test, y_pred, y_pred_e)\n",
    "    bh_50_ih_sv_mlp_2_2_2_2_test_losses.append(test_loss)\n",
    "    bh_50_ih_sv_mlp_2_2_2_2_test_loss_errors.append(test_loss_error)"
   ]
  },
  {
   "cell_type": "code",
   "execution_count": null,
   "metadata": {},
   "outputs": [],
   "source": [
    "print bh_50_ih_sv_mlp_2_2_2_2_test_losses\n",
    "print bh_50_ih_sv_mlp_2_2_2_2_test_loss_errors\n",
    "print np.mean(bh_50_ih_sv_mlp_2_2_2_2_test_losses)\n",
    "print np.std(bh_50_ih_sv_mlp_2_2_2_2_test_losses)"
   ]
  },
  {
   "cell_type": "code",
   "execution_count": null,
   "metadata": {},
   "outputs": [],
   "source": [
    "bh_50_ih_sv_mlp_2_2_2_2_evidence = []\n",
    "bh_50_ih_sv_mlp_2_2_2_2_evidence_e = []\n",
    "for run_n in run_ns:\n",
    "    stats_file = '../cpp_models/cpp_chains/bh_50_ih_sv_mlp_2_2_2_2_' + str(run_n) + '.stats'\n",
    "    ev, ev_e = output_tools.read_evidence(stats_file)\n",
    "    bh_50_ih_sv_mlp_2_2_2_2_evidence.append(ev)\n",
    "    bh_50_ih_sv_mlp_2_2_2_2_evidence_e.append(ev_e)"
   ]
  },
  {
   "cell_type": "code",
   "execution_count": null,
   "metadata": {},
   "outputs": [],
   "source": [
    "print bh_50_ih_sv_mlp_2_2_2_2_evidence\n",
    "print bh_50_ih_sv_mlp_2_2_2_2_evidence_e\n",
    "print np.mean(bh_50_ih_sv_mlp_2_2_2_2_evidence)\n",
    "print np.std(bh_50_ih_sv_mlp_2_2_2_2_evidence)"
   ]
  },
  {
   "cell_type": "code",
   "execution_count": null,
   "metadata": {},
   "outputs": [],
   "source": [
    "# bh_50_mlp_4_4_4_4"
   ]
  },
  {
   "cell_type": "code",
   "execution_count": null,
   "metadata": {},
   "outputs": [],
   "source": [
    "layer_sizes = [4, 4, 4, 4]"
   ]
  },
  {
   "cell_type": "code",
   "execution_count": null,
   "metadata": {},
   "outputs": [],
   "source": [
    "# bh_50_mlp_4_4_4_4"
   ]
  },
  {
   "cell_type": "code",
   "execution_count": null,
   "metadata": {},
   "outputs": [],
   "source": [
    "n_stoc = 0\n",
    "n_stoc_var = 0\n",
    "bh_50_mlp_4_4_4_4_test_losses = []\n",
    "bh_50_mlp_4_4_4_4_test_loss_errors = []\n",
    "for run_n in run_ns:\n",
    "    chains_file = '../cpp_models/cpp_chains/bh_50_mlp_4_4_4_4_' + str(run_n) + '.txt'\n",
    "    x_test = np.genfromtxt(\"../../data/uci/bh_50_x_te_\" + str(run_n) + \".csv\", delimiter=',')\n",
    "    y_test = np.genfromtxt(\"../../data/uci/bh_50_y_te_\" + str(run_n) + \".csv\", delimiter=',')\n",
    "    y_test = y_test.reshape(-1,1)\n",
    "    model = kms.mlp_4(num_inputs, num_outputs, layer_sizes)\n",
    "    bnn_model = bnn.bnn_predictor(model, x_test, y_test, chains_file, n_stoc, n_stoc_var)\n",
    "    y_pred, y_pred_e = bnn_model.predictions_expectation_and_std()\n",
    "    np.savetxt(\"../../data/uci/predictions/bh_50_mlp_4_4_4_4_\" + str(run_n) + \"_y_te_pr.csv\", np.hstack([y_pred, y_pred_e]), delimiter=',')\n",
    "    y_test, y_pred = tools.check_dtypes(y_test, y_pred)\n",
    "    test_loss = metrics.mean_squared_error(y_test, y_pred)\n",
    "    test_loss_error = metrics.mean_squared_error_std_dev(y_test, y_pred, y_pred_e)\n",
    "    bh_50_mlp_4_4_4_4_test_losses.append(test_loss)\n",
    "    bh_50_mlp_4_4_4_4_test_loss_errors.append(test_loss_error)"
   ]
  },
  {
   "cell_type": "code",
   "execution_count": null,
   "metadata": {},
   "outputs": [],
   "source": [
    "print bh_50_mlp_4_4_4_4_test_losses\n",
    "print bh_50_mlp_4_4_4_4_test_loss_errors\n",
    "print np.mean(bh_50_mlp_4_4_4_4_test_losses)\n",
    "print np.std(bh_50_mlp_4_4_4_4_test_losses)"
   ]
  },
  {
   "cell_type": "code",
   "execution_count": null,
   "metadata": {},
   "outputs": [],
   "source": [
    "bh_50_mlp_4_4_4_4_evidence = []\n",
    "bh_50_mlp_4_4_4_4_evidence_e = []\n",
    "for run_n in run_ns:\n",
    "    stats_file = '../cpp_models/cpp_chains/bh_50_mlp_4_4_4_4_' + str(run_n) + '.stats'\n",
    "    ev, ev_e = output_tools.read_evidence(stats_file)\n",
    "    bh_50_mlp_4_4_4_4_evidence.append(ev)\n",
    "    bh_50_mlp_4_4_4_4_evidence_e.append(ev_e)"
   ]
  },
  {
   "cell_type": "code",
   "execution_count": null,
   "metadata": {},
   "outputs": [],
   "source": [
    "print bh_50_mlp_4_4_4_4_evidence\n",
    "print bh_50_mlp_4_4_4_4_evidence_e\n",
    "print np.mean(bh_50_mlp_4_4_4_4_evidence)\n",
    "print np.std(bh_50_mlp_4_4_4_4_evidence)"
   ]
  },
  {
   "cell_type": "code",
   "execution_count": null,
   "metadata": {},
   "outputs": [],
   "source": [
    "# bh_50_r_mlp_4_4_4_4"
   ]
  },
  {
   "cell_type": "code",
   "execution_count": null,
   "metadata": {},
   "outputs": [],
   "source": [
    "n_stoc = 0\n",
    "n_stoc_var = 0\n",
    "bh_50_r_mlp_4_4_4_4_test_losses = []\n",
    "bh_50_r_mlp_4_4_4_4_test_loss_errors = []\n",
    "for run_n in run_ns:\n",
    "    chains_file = '../cpp_models/cpp_chains/bh_50_r_mlp_4_4_4_4_' + str(run_n) + '.txt'\n",
    "    x_test = np.genfromtxt(\"../../data/uci/bh_50_x_te_\" + str(run_n) + \".csv\", delimiter=',')\n",
    "    y_test = np.genfromtxt(\"../../data/uci/bh_50_y_te_\" + str(run_n) + \".csv\", delimiter=',')\n",
    "    y_test = y_test.reshape(-1,1)\n",
    "    model = kms.relu_mlp_4(num_inputs, num_outputs, layer_sizes)\n",
    "    bnn_model = bnn.bnn_predictor(model, x_test, y_test, chains_file, n_stoc, n_stoc_var)\n",
    "    y_pred, y_pred_e = bnn_model.predictions_expectation_and_std()\n",
    "    np.savetxt(\"../../data/uci/predictions/bh_50_r_mlp_4_4_4_4_\" + str(run_n) + \"_y_te_pr.csv\", np.hstack([y_pred, y_pred_e]), delimiter=',')\n",
    "    y_test, y_pred = tools.check_dtypes(y_test, y_pred)\n",
    "    test_loss = metrics.mean_squared_error(y_test, y_pred)\n",
    "    test_loss_error = metrics.mean_squared_error_std_dev(y_test, y_pred, y_pred_e)\n",
    "    bh_50_r_mlp_4_4_4_4_test_losses.append(test_loss)\n",
    "    bh_50_r_mlp_4_4_4_4_test_loss_errors.append(test_loss_error)"
   ]
  },
  {
   "cell_type": "code",
   "execution_count": null,
   "metadata": {},
   "outputs": [],
   "source": [
    "print bh_50_r_mlp_4_4_4_4_test_losses\n",
    "print bh_50_r_mlp_4_4_4_4_test_loss_errors\n",
    "print np.mean(bh_50_r_mlp_4_4_4_4_test_losses)\n",
    "print np.std(bh_50_r_mlp_4_4_4_4_test_losses)"
   ]
  },
  {
   "cell_type": "code",
   "execution_count": null,
   "metadata": {},
   "outputs": [],
   "source": [
    "bh_50_r_mlp_4_4_4_4_evidence = []\n",
    "bh_50_r_mlp_4_4_4_4_evidence_e = []\n",
    "for run_n in run_ns:\n",
    "    stats_file = '../cpp_models/cpp_chains/bh_50_r_mlp_4_4_4_4_' + str(run_n) + '.stats'\n",
    "    ev, ev_e = output_tools.read_evidence(stats_file)\n",
    "    bh_50_r_mlp_4_4_4_4_evidence.append(ev)\n",
    "    bh_50_r_mlp_4_4_4_4_evidence_e.append(ev_e)"
   ]
  },
  {
   "cell_type": "code",
   "execution_count": null,
   "metadata": {},
   "outputs": [],
   "source": [
    "print bh_50_r_mlp_4_4_4_4_evidence\n",
    "print bh_50_r_mlp_4_4_4_4_evidence_e\n",
    "print np.mean(bh_50_r_mlp_4_4_4_4_evidence)\n",
    "print np.std(bh_50_r_mlp_4_4_4_4_evidence)"
   ]
  },
  {
   "cell_type": "code",
   "execution_count": null,
   "metadata": {},
   "outputs": [],
   "source": [
    "# bh_50_sh_sv_mlp_4_4_4_4"
   ]
  },
  {
   "cell_type": "code",
   "execution_count": null,
   "metadata": {},
   "outputs": [],
   "source": [
    "n_stoc = 1\n",
    "n_stoc_var = 1\n",
    "bh_50_sh_sv_mlp_4_4_4_4_test_losses = []\n",
    "bh_50_sh_sv_mlp_4_4_4_4_test_loss_errors = []\n",
    "for run_n in run_ns:\n",
    "    chains_file = '../cpp_models/cpp_chains/bh_50_sh_sv_mlp_4_4_4_4_' + str(run_n) + '.txt'\n",
    "    x_test = np.genfromtxt(\"../../data/uci/bh_50_x_te_\" + str(run_n) + \".csv\", delimiter=',')\n",
    "    y_test = np.genfromtxt(\"../../data/uci/bh_50_y_te_\" + str(run_n) + \".csv\", delimiter=',')\n",
    "    y_test = y_test.reshape(-1,1)\n",
    "    model = kms.mlp_4(num_inputs, num_outputs, layer_sizes)\n",
    "    bnn_model = bnn.bnn_predictor(model, x_test, y_test, chains_file, n_stoc, n_stoc_var)\n",
    "    y_pred, y_pred_e = bnn_model.predictions_expectation_and_std()\n",
    "    np.savetxt(\"../../data/uci/predictions/bh_50_sh_sv_mlp_4_4_4_4_\" + str(run_n) + \"_y_te_pr.csv\", np.hstack([y_pred, y_pred_e]), delimiter=',')\n",
    "    y_test, y_pred = tools.check_dtypes(y_test, y_pred)\n",
    "    test_loss = metrics.mean_squared_error(y_test, y_pred)\n",
    "    test_loss_error = metrics.mean_squared_error_std_dev(y_test, y_pred, y_pred_e)\n",
    "    bh_50_sh_sv_mlp_4_4_4_4_test_losses.append(test_loss)\n",
    "    bh_50_sh_sv_mlp_4_4_4_4_test_loss_errors.append(test_loss_error)"
   ]
  },
  {
   "cell_type": "code",
   "execution_count": null,
   "metadata": {},
   "outputs": [],
   "source": [
    "print bh_sh_sv_50_mlp_4_4_4_4_test_losses\n",
    "print bh_50_sh_sv_mlp_4_4_4_4_test_loss_errors\n",
    "print np.mean(bh_50_sh_sv_mlp_4_4_4_4_test_losses)\n",
    "print np.std(bh_50_sh_sv_mlp_4_4_4_4_test_losses)"
   ]
  },
  {
   "cell_type": "code",
   "execution_count": null,
   "metadata": {},
   "outputs": [],
   "source": [
    "bh_50_sh_sv_mlp_4_4_4_4_evidence = []\n",
    "bh_50_sh_sv_mlp_4_4_4_4_evidence_e = []\n",
    "for run_n in run_ns:\n",
    "    stats_file = '../cpp_models/cpp_chains/bh_50_sh_sv_mlp_4_4_4_4_' + str(run_n) + '.stats'\n",
    "    ev, ev_e = output_tools.read_evidence(stats_file)\n",
    "    bh_50_sh_sv_mlp_4_4_4_4_evidence.append(ev)\n",
    "    bh_50_sh_sv_mlp_4_4_4_4_evidence_e.append(ev_e)"
   ]
  },
  {
   "cell_type": "code",
   "execution_count": null,
   "metadata": {},
   "outputs": [],
   "source": [
    "print bh_50_sh_sv_mlp_4_4_4_4_evidence\n",
    "print bh_50_sh_sv_mlp_4_4_4_4_evidence_e\n",
    "print np.mean(bh_50_sh_sv_mlp_4_4_4_4_evidence)\n",
    "print np.std(bh_50_sh_sv_mlp_4_4_4_4_evidence)"
   ]
  },
  {
   "cell_type": "code",
   "execution_count": null,
   "metadata": {},
   "outputs": [],
   "source": [
    "# bh_50_lh_sv_mlp_4_4_4_4"
   ]
  },
  {
   "cell_type": "code",
   "execution_count": null,
   "metadata": {},
   "outputs": [],
   "source": [
    "n_stoc = 10\n",
    "n_stoc_var = 1\n",
    "bh_50_lh_sv_mlp_4_4_4_4_test_losses = []\n",
    "bh_50_lh_sv_mlp_4_4_4_4_test_loss_errors = []\n",
    "for run_n in run_ns:\n",
    "    chains_file = '../cpp_models/cpp_chains/bh_50_lh_sv_mlp_4_4_4_4_' + str(run_n) + '.txt'\n",
    "    x_test = np.genfromtxt(\"../../data/uci/bh_50_x_te_\" + str(run_n) + \".csv\", delimiter=',')\n",
    "    y_test = np.genfromtxt(\"../../data/uci/bh_50_y_te_\" + str(run_n) + \".csv\", delimiter=',')\n",
    "    y_test = y_test.reshape(-1,1)\n",
    "    model = kms.mlp_4(num_inputs, num_outputs, layer_sizes)\n",
    "    bnn_model = bnn.bnn_predictor(model, x_test, y_test, chains_file, n_stoc, n_stoc_var)\n",
    "    y_pred, y_pred_e = bnn_model.predictions_expectation_and_std()\n",
    "    np.savetxt(\"../../data/uci/predictions/bh_50_lh_sv_mlp_4_4_4_4_\" + str(run_n) + \"_y_te_pr.csv\", np.hstack([y_pred, y_pred_e]), delimiter=',')\n",
    "    y_test, y_pred = tools.check_dtypes(y_test, y_pred)\n",
    "    test_loss = metrics.mean_squared_error(y_test, y_pred)\n",
    "    test_loss_error = metrics.mean_squared_error_std_dev(y_test, y_pred, y_pred_e)\n",
    "    bh_50_lh_sv_mlp_4_4_4_4_test_losses.append(test_loss)\n",
    "    bh_50_lh_sv_mlp_4_4_4_4_test_loss_errors.append(test_loss_error)"
   ]
  },
  {
   "cell_type": "code",
   "execution_count": null,
   "metadata": {},
   "outputs": [],
   "source": [
    "print bh_50_lh_sv_mlp_4_4_4_4_test_losses\n",
    "print bh_50_lh_sv_mlp_4_4_4_4_test_loss_errors\n",
    "print np.mean(bh_50_lh_sv_mlp_4_4_4_4_test_losses)\n",
    "print np.std(bh_50_lh_sv_mlp_4_4_4_4_test_losses)"
   ]
  },
  {
   "cell_type": "code",
   "execution_count": null,
   "metadata": {},
   "outputs": [],
   "source": [
    "bh_50_lh_sv_mlp_4_4_4_4_evidence = []\n",
    "bh_50_lh_sv_mlp_4_4_4_4_evidence_e = []\n",
    "for run_n in run_ns:\n",
    "    stats_file = '../cpp_models/cpp_chains/bh_50_lh_sv_mlp_4_4_4_4_' + str(run_n) + '.stats'\n",
    "    ev, ev_e = output_tools.read_evidence(stats_file)\n",
    "    bh_50_lh_sv_mlp_4_4_4_4_evidence.append(ev)\n",
    "    bh_50_lh_sv_mlp_4_4_4_4_evidence_e.append(ev_e)"
   ]
  },
  {
   "cell_type": "code",
   "execution_count": null,
   "metadata": {},
   "outputs": [],
   "source": [
    "print bh_50_lh_sv_mlp_4_4_4_4_evidence\n",
    "print bh_50_lh_sv_mlp_4_4_4_4_evidence_e\n",
    "print np.mean(bh_50_lh_sv_mlp_4_4_4_4_evidence)\n",
    "print np.std(bh_50_lh_sv_mlp_4_4_4_4_evidence)"
   ]
  },
  {
   "cell_type": "code",
   "execution_count": null,
   "metadata": {},
   "outputs": [],
   "source": [
    "# bh_50_ih_sv_mlp_4_4_4_4"
   ]
  },
  {
   "cell_type": "code",
   "execution_count": null,
   "metadata": {},
   "outputs": [],
   "source": [
    "n_stoc = 34\n",
    "n_stoc_var = 1\n",
    "bh_50_ih_sv_mlp_4_4_4_4_test_losses = []\n",
    "bh_50_ih_sv_mlp_4_4_4_4_test_loss_errors = []\n",
    "for run_n in run_ns:\n",
    "    chains_file = '../cpp_models/cpp_chains/bh_50_ih_sv_mlp_4_4_4_4_' + str(run_n) + '.txt'\n",
    "    x_test = np.genfromtxt(\"../../data/uci/bh_50_x_te_\" + str(run_n) + \".csv\", delimiter=',')\n",
    "    y_test = np.genfromtxt(\"../../data/uci/bh_50_y_te_\" + str(run_n) + \".csv\", delimiter=',')\n",
    "    y_test = y_test.reshape(-1,1)\n",
    "    model = kms.mlp_4(num_inputs, num_outputs, layer_sizes)\n",
    "    bnn_model = bnn.bnn_predictor(model, x_test, y_test, chains_file, n_stoc, n_stoc_var)\n",
    "    y_pred, y_pred_e = bnn_model.predictions_expectation_and_std()\n",
    "    np.savetxt(\"../../data/uci/predictions/bh_50_ih_sv_mlp_4_4_4_4_\" + str(run_n) + \"_y_te_pr.csv\", np.hstack([y_pred, y_pred_e]), delimiter=',')\n",
    "    y_test, y_pred = tools.check_dtypes(y_test, y_pred)\n",
    "    test_loss = metrics.mean_squared_error(y_test, y_pred)\n",
    "    test_loss_error = metrics.mean_squared_error_std_dev(y_test, y_pred, y_pred_e)\n",
    "    bh_50_ih_sv_mlp_4_4_4_4_test_losses.append(test_loss)\n",
    "    bh_50_ih_sv_mlp_4_4_4_4_test_loss_errors.append(test_loss_error)"
   ]
  },
  {
   "cell_type": "code",
   "execution_count": null,
   "metadata": {},
   "outputs": [],
   "source": [
    "print bh_50_ih_sv_mlp_4_4_4_4_test_losses\n",
    "print bh_50_ih_sv_mlp_4_4_4_4_test_loss_errors\n",
    "print np.mean(bh_50_ih_sv_mlp_4_4_4_4_test_losses)\n",
    "print np.std(bh_50_ih_sv_mlp_4_4_4_4_test_losses)"
   ]
  },
  {
   "cell_type": "code",
   "execution_count": null,
   "metadata": {},
   "outputs": [],
   "source": [
    "bh_50_ih_sv_mlp_4_4_4_4_evidence = []\n",
    "bh_50_ih_sv_mlp_4_4_4_4_evidence_e = []\n",
    "for run_n in run_ns:\n",
    "    stats_file = '../cpp_models/cpp_chains/bh_50_ih_sv_mlp_4_4_4_4_' + str(run_n) + '.stats'\n",
    "    ev, ev_e = output_tools.read_evidence(stats_file)\n",
    "    bh_50_ih_sv_mlp_4_4_4_4_evidence.append(ev)\n",
    "    bh_50_ih_sv_mlp_4_4_4_4_evidence_e.append(ev_e)"
   ]
  },
  {
   "cell_type": "code",
   "execution_count": null,
   "metadata": {},
   "outputs": [],
   "source": [
    "print bh_50_ih_sv_mlp_4_4_4_4_evidence\n",
    "print bh_50_ih_sv_mlp_4_4_4_4_evidence_e\n",
    "print np.mean(bh_50_ih_sv_mlp_4_4_4_4_evidence)\n",
    "print np.std(bh_50_ih_sv_mlp_4_4_4_4_evidence)"
   ]
  },
  {
   "cell_type": "code",
   "execution_count": null,
   "metadata": {},
   "outputs": [],
   "source": []
  }
 ],
 "metadata": {
  "kernelspec": {
   "display_name": "Python 2",
   "language": "python",
   "name": "python2"
  },
  "language_info": {
   "codemirror_mode": {
    "name": "ipython",
    "version": 2
   },
   "file_extension": ".py",
   "mimetype": "text/x-python",
   "name": "python",
   "nbconvert_exporter": "python",
   "pygments_lexer": "ipython2",
   "version": "2.7.15"
  }
 },
 "nbformat": 4,
 "nbformat_minor": 2
}
