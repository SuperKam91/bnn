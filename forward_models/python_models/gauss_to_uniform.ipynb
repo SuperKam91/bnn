{
 "cells": [
  {
   "cell_type": "code",
   "execution_count": 2,
   "metadata": {},
   "outputs": [],
   "source": [
    "import numpy as np\n",
    "import matplotlib.pyplot as plt\n",
    "%matplotlib inline"
   ]
  },
  {
   "cell_type": "code",
   "execution_count": 124,
   "metadata": {},
   "outputs": [],
   "source": [
    "#generate gaussian rvs\n",
    "np.random.seed(1)\n",
    "n_samples = 10000\n",
    "n_dims = 50 #hypothetical dimensionality of parameter space\n",
    "g_rvs = np.random.normal(size = (n_samples, n_dims))"
   ]
  },
  {
   "cell_type": "code",
   "execution_count": 125,
   "metadata": {},
   "outputs": [],
   "source": [
    "#perform aggregation over n_dims gaussian rvs and convert to positive integers for seed\n",
    "#then set seeds to values, and generate n_samples random numbers"
   ]
  },
  {
   "cell_type": "code",
   "execution_count": 126,
   "metadata": {},
   "outputs": [],
   "source": [
    "#abs sum of gauss rvs\n",
    "g_rvs_sum = g_rvs.sum(axis = 1)\n",
    "sum_seeds = g_rvs_sum.astype(int)\n",
    "abs_sum_seeds = np.abs(sum_seeds)\n",
    "abs_sum_uniform = np.zeros(n_samples)\n",
    "abs_sum_y = np.array([1]*n_samples)\n",
    "for i, seed in enumerate(abs_sum_seeds):\n",
    "    np.random.seed(seed)\n",
    "    abs_sum_uniform[i] = np.random.uniform()"
   ]
  },
  {
   "cell_type": "code",
   "execution_count": 127,
   "metadata": {},
   "outputs": [],
   "source": [
    "#abs prod of gauss rvs\n",
    "g_rvs_prod = g_rvs.prod(axis = 1)\n",
    "prod_seeds = g_rvs_prod.astype(int)\n",
    "abs_prod_seeds = np.abs(prod_seeds)\n",
    "abs_prod_uniform = np.zeros(n_samples)\n",
    "abs_prod_y = np.array([2]*n_samples)\n",
    "for i, seed in enumerate(abs_prod_seeds):\n",
    "    np.random.seed(seed)\n",
    "    abs_prod_uniform[i] = np.random.uniform()"
   ]
  },
  {
   "cell_type": "code",
   "execution_count": 128,
   "metadata": {},
   "outputs": [],
   "source": [
    "#abs sum of (gauss rvs * n_dims)\n",
    "g_rvs_n_dims = g_rvs * n_dims\n",
    "g_rvs_sum_n_dims = g_rvs_n_dims.sum(axis = 1)\n",
    "sum_n_dims_seeds = g_rvs_sum_n_dims.astype(int)\n",
    "abs_sum_n_dims_seeds = np.abs(sum_n_dims_seeds)\n",
    "abs_sum_n_dims_uniform = np.zeros(n_samples)\n",
    "abs_sum_n_dims_y = np.array([3]*n_samples)\n",
    "for i, seed in enumerate(abs_sum_n_dims_seeds):\n",
    "    np.random.seed(seed)\n",
    "    abs_sum_n_dims_uniform[i] = np.random.uniform()"
   ]
  },
  {
   "cell_type": "code",
   "execution_count": 129,
   "metadata": {},
   "outputs": [],
   "source": [
    "#abs sum of (gauss rvs * log(n_dims))\n",
    "g_rvs_log_n_dims = g_rvs * np.log(n_dims)\n",
    "g_rvs_sum_log_n_dims = g_rvs_log_n_dims.sum(axis = 1)\n",
    "sum_log_n_dims_seeds = g_rvs_sum_log_n_dims.astype(int)\n",
    "abs_sum_log_n_dims_seeds = np.abs(sum_log_n_dims_seeds)\n",
    "abs_sum_log_n_dims_uniform = np.zeros(n_samples)\n",
    "abs_sum_log_n_dims_y = np.array([4]*n_samples)\n",
    "for i, seed in enumerate(abs_sum_log_n_dims_seeds):\n",
    "    np.random.seed(seed)\n",
    "    abs_sum_log_n_dims_uniform[i] = np.random.uniform()"
   ]
  },
  {
   "cell_type": "code",
   "execution_count": 130,
   "metadata": {},
   "outputs": [
    {
     "ename": "ValueError",
     "evalue": "Seed must be between 0 and 2**32 - 1",
     "output_type": "error",
     "traceback": [
      "\u001b[0;31m---------------------------------------------------------------------------\u001b[0m",
      "\u001b[0;31mValueError\u001b[0m                                Traceback (most recent call last)",
      "\u001b[0;32m<ipython-input-130-86a87cad996d>\u001b[0m in \u001b[0;36m<module>\u001b[0;34m()\u001b[0m\n\u001b[1;32m      7\u001b[0m \u001b[0mabs_prod_n_dims_y\u001b[0m \u001b[0;34m=\u001b[0m \u001b[0mnp\u001b[0m\u001b[0;34m.\u001b[0m\u001b[0marray\u001b[0m\u001b[0;34m(\u001b[0m\u001b[0;34m[\u001b[0m\u001b[0;36m5\u001b[0m\u001b[0;34m]\u001b[0m\u001b[0;34m*\u001b[0m\u001b[0mn_samples\u001b[0m\u001b[0;34m)\u001b[0m\u001b[0;34m\u001b[0m\u001b[0m\n\u001b[1;32m      8\u001b[0m \u001b[0;32mfor\u001b[0m \u001b[0mi\u001b[0m\u001b[0;34m,\u001b[0m \u001b[0mseed\u001b[0m \u001b[0;32min\u001b[0m \u001b[0menumerate\u001b[0m\u001b[0;34m(\u001b[0m\u001b[0mabs_prod_n_dims_seeds\u001b[0m\u001b[0;34m)\u001b[0m\u001b[0;34m:\u001b[0m\u001b[0;34m\u001b[0m\u001b[0m\n\u001b[0;32m----> 9\u001b[0;31m     \u001b[0mnp\u001b[0m\u001b[0;34m.\u001b[0m\u001b[0mrandom\u001b[0m\u001b[0;34m.\u001b[0m\u001b[0mseed\u001b[0m\u001b[0;34m(\u001b[0m\u001b[0mseed\u001b[0m\u001b[0;34m)\u001b[0m\u001b[0;34m\u001b[0m\u001b[0m\n\u001b[0m\u001b[1;32m     10\u001b[0m     \u001b[0mabs_prod_n_dims_uniform\u001b[0m\u001b[0;34m[\u001b[0m\u001b[0mi\u001b[0m\u001b[0;34m]\u001b[0m \u001b[0;34m=\u001b[0m \u001b[0mnp\u001b[0m\u001b[0;34m.\u001b[0m\u001b[0mrandom\u001b[0m\u001b[0;34m.\u001b[0m\u001b[0muniform\u001b[0m\u001b[0;34m(\u001b[0m\u001b[0;34m)\u001b[0m\u001b[0;34m\u001b[0m\u001b[0m\n\u001b[1;32m     11\u001b[0m \u001b[0;31m#DOESN'T PRODUCE RESULTS, SEEDS TOO BIG\u001b[0m\u001b[0;34m\u001b[0m\u001b[0;34m\u001b[0m\u001b[0m\n",
      "\u001b[0;32mmtrand.pyx\u001b[0m in \u001b[0;36mmtrand.RandomState.seed\u001b[0;34m()\u001b[0m\n",
      "\u001b[0;31mValueError\u001b[0m: Seed must be between 0 and 2**32 - 1"
     ]
    }
   ],
   "source": [
    "#abs prod of (gauss rvs * n_dims)\n",
    "g_rvs_n_dims = g_rvs * n_dims\n",
    "g_rvs_prod_n_dims = g_rvs_n_dims.prod(axis = 1)\n",
    "prod_n_dims_seeds = g_rvs_prod_n_dims.astype(int)\n",
    "abs_prod_n_dims_seeds = np.abs(prod_n_dims_seeds)\n",
    "abs_prod_n_dims_uniform = np.zeros(n_samples)\n",
    "abs_prod_n_dims_y = np.array([5]*n_samples)\n",
    "for i, seed in enumerate(abs_prod_n_dims_seeds):\n",
    "    np.random.seed(seed)\n",
    "    abs_prod_n_dims_uniform[i] = np.random.uniform()\n",
    "#DOESN'T PRODUCE RESULTS, SEEDS TOO BIG"
   ]
  },
  {
   "cell_type": "code",
   "execution_count": 131,
   "metadata": {},
   "outputs": [
    {
     "ename": "ValueError",
     "evalue": "Seed must be between 0 and 2**32 - 1",
     "output_type": "error",
     "traceback": [
      "\u001b[0;31m---------------------------------------------------------------------------\u001b[0m",
      "\u001b[0;31mValueError\u001b[0m                                Traceback (most recent call last)",
      "\u001b[0;32m<ipython-input-131-5b8e09333430>\u001b[0m in \u001b[0;36m<module>\u001b[0;34m()\u001b[0m\n\u001b[1;32m      7\u001b[0m \u001b[0mabs_prod_log_n_dims_y\u001b[0m \u001b[0;34m=\u001b[0m \u001b[0mnp\u001b[0m\u001b[0;34m.\u001b[0m\u001b[0marray\u001b[0m\u001b[0;34m(\u001b[0m\u001b[0;34m[\u001b[0m\u001b[0;36m6\u001b[0m\u001b[0;34m]\u001b[0m\u001b[0;34m*\u001b[0m\u001b[0mn_samples\u001b[0m\u001b[0;34m)\u001b[0m\u001b[0;34m\u001b[0m\u001b[0m\n\u001b[1;32m      8\u001b[0m \u001b[0;32mfor\u001b[0m \u001b[0mi\u001b[0m\u001b[0;34m,\u001b[0m \u001b[0mseed\u001b[0m \u001b[0;32min\u001b[0m \u001b[0menumerate\u001b[0m\u001b[0;34m(\u001b[0m\u001b[0mabs_prod_log_n_dims_seeds\u001b[0m\u001b[0;34m)\u001b[0m\u001b[0;34m:\u001b[0m\u001b[0;34m\u001b[0m\u001b[0m\n\u001b[0;32m----> 9\u001b[0;31m     \u001b[0mnp\u001b[0m\u001b[0;34m.\u001b[0m\u001b[0mrandom\u001b[0m\u001b[0;34m.\u001b[0m\u001b[0mseed\u001b[0m\u001b[0;34m(\u001b[0m\u001b[0mseed\u001b[0m\u001b[0;34m)\u001b[0m\u001b[0;34m\u001b[0m\u001b[0m\n\u001b[0m\u001b[1;32m     10\u001b[0m     \u001b[0mabs_prod_log_n_dims_uniform\u001b[0m\u001b[0;34m[\u001b[0m\u001b[0mi\u001b[0m\u001b[0;34m]\u001b[0m \u001b[0;34m=\u001b[0m \u001b[0mnp\u001b[0m\u001b[0;34m.\u001b[0m\u001b[0mrandom\u001b[0m\u001b[0;34m.\u001b[0m\u001b[0muniform\u001b[0m\u001b[0;34m(\u001b[0m\u001b[0;34m)\u001b[0m\u001b[0;34m\u001b[0m\u001b[0m\n\u001b[1;32m     11\u001b[0m \u001b[0;31m#DOESN'T PRODUCE RESULTS, SEEDS TOO BIG\u001b[0m\u001b[0;34m\u001b[0m\u001b[0;34m\u001b[0m\u001b[0m\n",
      "\u001b[0;32mmtrand.pyx\u001b[0m in \u001b[0;36mmtrand.RandomState.seed\u001b[0;34m()\u001b[0m\n",
      "\u001b[0;31mValueError\u001b[0m: Seed must be between 0 and 2**32 - 1"
     ]
    }
   ],
   "source": [
    "#abs prod of (gauss rvs * log(n_dims))\n",
    "g_rvs_log_n_dims = g_rvs * np.log(n_dims)\n",
    "g_rvs_prod_log_n_dims = g_rvs_log_n_dims.prod(axis = 1)\n",
    "prod_log_n_dims_seeds = g_rvs_prod_log_n_dims.astype(int)\n",
    "abs_prod_log_n_dims_seeds = np.abs(prod_log_n_dims_seeds)\n",
    "abs_prod_log_n_dims_uniform = np.zeros(n_samples)\n",
    "abs_prod_log_n_dims_y = np.array([6]*n_samples)\n",
    "for i, seed in enumerate(abs_prod_log_n_dims_seeds):\n",
    "    np.random.seed(seed)\n",
    "    abs_prod_log_n_dims_uniform[i] = np.random.uniform()\n",
    "#DOESN'T PRODUCE RESULTS, SEEDS TOO BIG"
   ]
  },
  {
   "cell_type": "code",
   "execution_count": 132,
   "metadata": {},
   "outputs": [
    {
     "data": {
      "text/plain": [
       "<matplotlib.legend.Legend at 0x7f5d467e5d50>"
      ]
     },
     "execution_count": 132,
     "metadata": {},
     "output_type": "execute_result"
    },
    {
     "data": {
      "image/png": "[encoded data removed]",
      "text/plain": [
       "<Figure size 432x288 with 1 Axes>"
      ]
     },
     "metadata": {
      "needs_background": "light"
     },
     "output_type": "display_data"
    }
   ],
   "source": [
    "plt.figure()\n",
    "plt.axis('off')\n",
    "plt.scatter(abs_sum_uniform, abs_sum_y, s = 2, label = 'abs(int(sum(g_rvs)))')\n",
    "plt.scatter(abs_prod_uniform, abs_prod_y, s = 2, label = 'abs(int(prod(g_rvs)))')\n",
    "plt.scatter(abs_sum_n_dims_uniform, abs_sum_n_dims_y, s = 2, label = 'abs(int(sum(n_dims * g_rvs))')\n",
    "plt.scatter(abs_sum_log_n_dims_uniform, abs_sum_log_n_dims_y, s = 2, label = 'abs(int(sum(log(n_dims) * g_rvs)))')\n",
    "# plt.scatter(abs_prod_n_dims_uniform, abs_prod_n_dims_y, s = 2, label = 'abs(int(prod(n_dims * g_rvs)))') #no results\n",
    "# plt.scatter(abs_prod_log_n_dims_uniform, abs_prod_log_n_dims_y, s = 2, label = 'abs(int(prod(log(n_dims) * g_rvs)))') # no results\n",
    "plt.legend(bbox_to_anchor=(1.1, 1.1))"
   ]
  },
  {
   "cell_type": "code",
   "execution_count": 136,
   "metadata": {},
   "outputs": [
    {
     "data": {
      "text/plain": [
       "3"
      ]
     },
     "execution_count": 136,
     "metadata": {},
     "output_type": "execute_result"
    }
   ],
   "source": []
  },
  {
   "cell_type": "code",
   "execution_count": null,
   "metadata": {},
   "outputs": [],
   "source": []
  }
 ],
 "metadata": {
  "kernelspec": {
   "display_name": "Python 2",
   "language": "python",
   "name": "python2"
  },
  "language_info": {
   "codemirror_mode": {
    "name": "ipython",
    "version": 2
   },
   "file_extension": ".py",
   "mimetype": "text/x-python",
   "name": "python",
   "nbconvert_exporter": "python",
   "pygments_lexer": "ipython2",
   "version": "2.7.15"
  }
 },
 "nbformat": 4,
 "nbformat_minor": 2
}
