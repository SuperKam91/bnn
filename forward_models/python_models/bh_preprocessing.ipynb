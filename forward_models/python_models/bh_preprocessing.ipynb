{
 "cells": [
  {
   "cell_type": "code",
   "execution_count": 1,
   "metadata": {},
   "outputs": [
    {
     "name": "stderr",
     "output_type": "stream",
     "text": [
      "/home/astrophysics/anaconda2/lib/python2.7/site-packages/h5py/__init__.py:36: FutureWarning: Conversion of the second argument of issubdtype from `float` to `np.floating` is deprecated. In future, it will be treated as `np.float64 == np.dtype(float).type`.\n",
      "  from ._conv import register_converters as _register_converters\n"
     ]
    }
   ],
   "source": [
    "import numpy as np\n",
    "import sklearn.model_selection\n",
    "import sklearn.preprocessing\n",
    "import tensorflow as tf"
   ]
  },
  {
   "cell_type": "code",
   "execution_count": 2,
   "metadata": {},
   "outputs": [
    {
     "name": "stdout",
     "output_type": "stream",
     "text": [
      "(506, 13) (506,)\n"
     ]
    }
   ],
   "source": [
    "bh_a = np.genfromtxt('../../data/uci/bh_orig.txt')\n",
    "x = bh_a[:,:-1]\n",
    "y = bh_a[:,-1]\n",
    "print x.shape, y.shape"
   ]
  },
  {
   "cell_type": "code",
   "execution_count": 17,
   "metadata": {},
   "outputs": [],
   "source": [
    "m = x.shape[0]\n",
    "num_outputs = 1\n",
    "#neal uses half of data for training and half for testing,\n",
    "#quinlan uses 10-fold cross validation with 90% used for training and 10% for testing\n",
    "#gal uses 10% of data for testing, 18% for cross validation (hyperparam tuning) and 72% for training.\n",
    "#kaggle uses roughly two thirds for training and one third for testing\n",
    "training_size = 253. / 506.\n",
    "test_size = 1 - training_size\n",
    "train_num = int(m * training_size)\n",
    "test_num = int(np.ceil(m * test_size))"
   ]
  },
  {
   "cell_type": "code",
   "execution_count": 18,
   "metadata": {},
   "outputs": [],
   "source": [
    "seed_ns = range(1,11)\n",
    "for seed_n in seed_ns:\n",
    "    np.random.seed(seed_n)\n",
    "    x_train, x_test, y_train, y_test = sklearn.model_selection.train_test_split(x, y, test_size = test_size)\n",
    "    y_test = y_test.reshape(-1,1)\n",
    "    y_train = y_train.reshape(-1,1)\n",
    "    \n",
    "    #scale training data to have zero mean and unit variance\n",
    "    x_scaler = sklearn.preprocessing.StandardScaler(copy = False)\n",
    "    x_scaler.fit(x_train)\n",
    "    x_scaler.transform(x_train)\n",
    "    x_scaler.transform(x_test)\n",
    "    y_scaler = sklearn.preprocessing.StandardScaler(copy = False)\n",
    "    y_scaler.fit(y_train)\n",
    "    y_scaler.transform(y_train)\n",
    "    y_scaler.transform(y_test)\n",
    "    \n",
    "    #for sake of fairness, try all analysis with same training/test split, so save these to disc.\n",
    "    #note y is now stored in categorical form\n",
    "    np.savetxt(\"../../data/uci/bh_50_x_tr_\" + str(seed_n) + \".csv\", x_train, delimiter=\",\")\n",
    "    np.savetxt(\"../../data/uci/bh_50_y_tr_\" + str(seed_n) + \".csv\", y_train, delimiter=\",\")\n",
    "    np.savetxt(\"../../data/uci/bh_50_x_te_\" + str(seed_n) + \".csv\", x_test, delimiter=\",\")\n",
    "    np.savetxt(\"../../data/uci/bh_50_y_te_\" + str(seed_n) + \".csv\", y_test, delimiter=\",\")"
   ]
  },
  {
   "cell_type": "code",
   "execution_count": null,
   "metadata": {},
   "outputs": [],
   "source": []
  }
 ],
 "metadata": {
  "kernelspec": {
   "display_name": "Python 2",
   "language": "python",
   "name": "python2"
  },
  "language_info": {
   "codemirror_mode": {
    "name": "ipython",
    "version": 2
   },
   "file_extension": ".py",
   "mimetype": "text/x-python",
   "name": "python",
   "nbconvert_exporter": "python",
   "pygments_lexer": "ipython2",
   "version": "2.7.15"
  }
 },
 "nbformat": 4,
 "nbformat_minor": 2
}
