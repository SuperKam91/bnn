{
 "cells": [
  {
   "cell_type": "code",
   "execution_count": 1,
   "metadata": {},
   "outputs": [
    {
     "name": "stderr",
     "output_type": "stream",
     "text": [
      "/home/astrophysics/anaconda2/lib/python2.7/site-packages/h5py/__init__.py:36: FutureWarning: Conversion of the second argument of issubdtype from `float` to `np.floating` is deprecated. In future, it will be treated as `np.float64 == np.dtype(float).type`.\n",
      "  from ._conv import register_converters as _register_converters\n"
     ]
    }
   ],
   "source": [
    "import keras_models as kms\n",
    "import keras_losses as kl\n",
    "import numpy as np\n",
    "import metrics as mets"
   ]
  },
  {
   "cell_type": "code",
   "execution_count": 2,
   "metadata": {},
   "outputs": [],
   "source": [
    "#MPE with prior (regularisation)"
   ]
  },
  {
   "cell_type": "code",
   "execution_count": 17,
   "metadata": {},
   "outputs": [],
   "source": [
    "#could load arbitrary version of x here to get some shape parameters, but cba\n",
    "#architecture parameters\n",
    "num_inputs = 13 #aka n in ml terminology\n",
    "num_outputs = 1 #dimensionality of output y (for single record)\n",
    "layer_sizes = []\n",
    "reg_coeffs = [.5, .5]\n",
    "#propagation parameters\n",
    "epochs = 1000\n",
    "m = 506 #total number of records\n",
    "training_size = 253. / 506.\n",
    "train_num = int(m * training_size)\n",
    "batch_num = 1 * train_num"
   ]
  },
  {
   "cell_type": "code",
   "execution_count": 18,
   "metadata": {},
   "outputs": [
    {
     "name": "stdout",
     "output_type": "stream",
     "text": [
      "_________________________________________________________________\n",
      "Layer (type)                 Output Shape              Param #   \n",
      "=================================================================\n",
      "input_6 (InputLayer)         (None, 13)                0         \n",
      "_________________________________________________________________\n",
      "dense_6 (Dense)              (None, 1)                 14        \n",
      "=================================================================\n",
      "Total params: 14\n",
      "Trainable params: 14\n",
      "Non-trainable params: 0\n",
      "_________________________________________________________________\n"
     ]
    }
   ],
   "source": [
    "#compile model\n",
    "model_r = kms.slp_r(num_inputs, num_outputs, layer_sizes, reg_coeffs)\n",
    "model_r.compile(optimizer='adam',\n",
    "              loss=kl.sum_of_squared_errors,\n",
    "              metrics=['mean_squared_error'])\n",
    "model_r.summary()"
   ]
  },
  {
   "cell_type": "code",
   "execution_count": 19,
   "metadata": {},
   "outputs": [],
   "source": [
    "run_ns = range(1,11)\n",
    "for run_n in run_ns:\n",
    "    #load data\n",
    "    x_train = np.genfromtxt(\"../../data/uci/bh_50_x_tr_\" + str(run_n) + \".csv\", delimiter = ',')\n",
    "    y_train = np.genfromtxt(\"../../data/uci/bh_50_y_tr_\" + str(run_n) + \".csv\", delimiter = ',')\n",
    "\n",
    "    #train model\n",
    "    history_r = model_r.fit(x_train, y_train,\n",
    "                        batch_size=batch_num,\n",
    "                        epochs=epochs,\n",
    "                        verbose=0)\n",
    "                            \n",
    "    #save model\n",
    "    model_r.save(\"../../MPE_examples/saved_keras_models/uci/bh_50_slp_\" + str(run_n) + \".h5\")"
   ]
  },
  {
   "cell_type": "code",
   "execution_count": null,
   "metadata": {},
   "outputs": [],
   "source": []
  }
 ],
 "metadata": {
  "kernelspec": {
   "display_name": "Python 2",
   "language": "python",
   "name": "python2"
  },
  "language_info": {
   "codemirror_mode": {
    "name": "ipython",
    "version": 2
   },
   "file_extension": ".py",
   "mimetype": "text/x-python",
   "name": "python",
   "nbconvert_exporter": "python",
   "pygments_lexer": "ipython2",
   "version": "2.7.15"
  }
 },
 "nbformat": 4,
 "nbformat_minor": 2
}
