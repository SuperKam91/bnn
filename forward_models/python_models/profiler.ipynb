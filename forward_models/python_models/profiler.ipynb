{
 "cells": [
  {
   "cell_type": "code",
   "execution_count": null,
   "metadata": {},
   "outputs": [],
   "source": [
    "import keras_models as kms\n",
    "import keras_forward as kf\n",
    "import np_models as npms\n",
    "import np_forward as npf\n",
    "import tf_graphs as tfgs\n",
    "import tf_forward as tff\n",
    "import tools\n",
    "import PyPolyChord\n",
    "import PyPolyChord.settings\n",
    "import inverse_priors\n",
    "import polychord_tools\n",
    "import output\n",
    "import input_tools\n",
    "import forward_tests\n",
    "import prior_tests"
   ]
  },
  {
   "cell_type": "code",
   "execution_count": null,
   "metadata": {},
   "outputs": [],
   "source": [
    "###### load training data\n",
    "data = 'simple_tanh'\n",
    "data_dir = '../../data/'\n",
    "data_prefix = data_dir + data\n",
    "x_tr, y_tr = input_tools.get_x_y_tr_data(data_prefix)\n",
    "batch_size = x_tr.shape[0]"
   ]
  },
  {
   "cell_type": "code",
   "execution_count": null,
   "metadata": {
    "scrolled": true
   },
   "outputs": [],
   "source": [
    "###### get weight information\n",
    "a1_size = 2\n",
    "layer_sizes = [a1_size]\n",
    "m_trainable_arr = [True, False]\n",
    "b_trainable_arr = [False, False]\n",
    "num_inputs = tools.get_num_inputs(x_tr)\n",
    "num_outputs = tools.get_num_outputs(y_tr)\n",
    "num_weights = tools.calc_num_weights3(num_inputs, layer_sizes, num_outputs, m_trainable_arr, b_trainable_arr)"
   ]
  },
  {
   "cell_type": "code",
   "execution_count": null,
   "metadata": {},
   "outputs": [],
   "source": [
    "###### check shapes of training data\n",
    "x_tr, y_tr = tools.reshape_x_y_twod(x_tr, y_tr)"
   ]
  },
  {
   "cell_type": "code",
   "execution_count": null,
   "metadata": {},
   "outputs": [],
   "source": [
    "###### setup keras model\n",
    "model = kms.slp_model(num_inputs, num_outputs, layer_sizes)\n",
    "km = kf.keras_model(model, x_tr, y_tr, batch_size)\n",
    "loss = 'mse' \n",
    "km.setup_LL(loss)"
   ]
  },
  {
   "cell_type": "code",
   "execution_count": null,
   "metadata": {},
   "outputs": [],
   "source": [
    "#setup tf graph\n",
    "tf_graph = tfgs.slp_graph\n",
    "tfm = tff.tf_model(tf_graph, x_tr, y_tr, batch_size, layer_sizes, m_trainable_arr, b_trainable_arr)\n",
    "fit_metric = 'chisq'\n",
    "tfm.setup_LL(fit_metric)"
   ]
  },
  {
   "cell_type": "code",
   "execution_count": null,
   "metadata": {},
   "outputs": [],
   "source": [
    "#set up np model\n",
    "np_nn = npms.slp_nn\n",
    "npm = npf.np_model(np_nn, x_tr, y_tr, batch_size, layer_sizes, m_trainable_arr, b_trainable_arr)\n",
    "ll_type = 'gauss'\n",
    "npm.setup_LL(ll_type)"
   ]
  },
  {
   "cell_type": "code",
   "execution_count": null,
   "metadata": {},
   "outputs": [],
   "source": [
    "#time forward_propagation using keras model\n",
    "forward_tests.forward_test_linear([km], print_out = False)"
   ]
  },
  {
   "cell_type": "code",
   "execution_count": null,
   "metadata": {},
   "outputs": [],
   "source": [
    "#time forward_propagation using tensorflow model\n",
    "forward_tests.forward_test_linear([tfm], print_out = False)"
   ]
  },
  {
   "cell_type": "code",
   "execution_count": null,
   "metadata": {},
   "outputs": [],
   "source": [
    "#time forward_propagation using np model\n",
    "forward_tests.forward_test_linear([npm], print_out = False)"
   ]
  },
  {
   "cell_type": "code",
   "execution_count": null,
   "metadata": {},
   "outputs": [],
   "source": [
    "###### setup prior\n",
    "prior_types = [7]\n",
    "prior_hyperparams = [[-2., 2.]]\n",
    "weight_shapes = get_weight_shapes3(num_inputs, layer_sizes, num_outputs, m_trainable_arr, b_trainable_arr)\n",
    "dependence_lengths = get_degen_dependence_lengths(weight_shapes)\n",
    "param_prior_types = [0]\n",
    "prior = inverse_prior(prior_types, prior_hyperparams, dependence_lengths, param_prior_types, num_weights)"
   ]
  },
  {
   "cell_type": "code",
   "execution_count": null,
   "metadata": {},
   "outputs": [],
   "source": [
    "###### time prior output from nn setup\n",
    "prior_tests.nn_prior_test(prior, print_out = False)"
   ]
  },
  {
   "cell_type": "code",
   "execution_count": null,
   "metadata": {},
   "outputs": [],
   "source": [
    "###### setup polychord\n",
    "nDerived = 0\n",
    "settings = PyPolyChord.settings.PolyChordSettings(num_weights, nDerived)\n",
    "settings.file_root = data\n",
    "settings.nlive = 200\n",
    "#supress output for timing purposes TODO"
   ]
  },
  {
   "cell_type": "code",
   "execution_count": null,
   "metadata": {},
   "outputs": [],
   "source": [
    "#time polychord with keras model\n",
    "settings.base_dir = './keras_chains/'\n",
    "PyPolyChord.run_polychord(km, num_weights, nDerived, settings, prior, polychord_tools.dumper)"
   ]
  },
  {
   "cell_type": "code",
   "execution_count": null,
   "metadata": {},
   "outputs": [],
   "source": [
    "#time polychord with tf model\n",
    "settings.base_dir = './tf_chains/'\n",
    "PyPolyChord.run_polychord(tfm, num_weights, nDerived, settings, prior, polychord_tools.dumper)"
   ]
  },
  {
   "cell_type": "code",
   "execution_count": null,
   "metadata": {},
   "outputs": [],
   "source": [
    "#time polychord with np model\n",
    "settings.base_dir = './np_chains/'\n",
    "PyPolyChord.run_polychord(npm, num_weights, nDerived, settings, prior, polychord_tools.dumper)"
   ]
  },
  {
   "cell_type": "code",
   "execution_count": null,
   "metadata": {},
   "outputs": [],
   "source": [
    "import pstats, cProfile"
   ]
  },
  {
   "cell_type": "code",
   "execution_count": null,
   "metadata": {},
   "outputs": [],
   "source": [
    "cProfile.runctx(function to be profiled, globals(), locals(), name of prof file)\n",
    "\n",
    "s = pstats.Stats(name of prof file)\n",
    "s.strip_dirs().sort_stats(\"time\").print_stats()\n"
   ]
  }
 ],
 "metadata": {
  "kernelspec": {
   "display_name": "Python 2",
   "language": "python",
   "name": "python2"
  },
  "language_info": {
   "codemirror_mode": {
    "name": "ipython",
    "version": 2
   },
   "file_extension": ".py",
   "mimetype": "text/x-python",
   "name": "python",
   "nbconvert_exporter": "python",
   "pygments_lexer": "ipython2",
   "version": "2.7.15"
  }
 },
 "nbformat": 4,
 "nbformat_minor": 2
}
