{
 "cells": [
  {
   "cell_type": "code",
   "execution_count": 1,
   "metadata": {},
   "outputs": [
    {
     "name": "stderr",
     "output_type": "stream",
     "text": [
      "/home/astrophysics/anaconda2/lib/python2.7/site-packages/h5py/__init__.py:36: FutureWarning: Conversion of the second argument of issubdtype from `float` to `np.floating` is deprecated. In future, it will be treated as `np.float64 == np.dtype(float).type`.\n",
      "  from ._conv import register_converters as _register_converters\n"
     ]
    },
    {
     "name": "stdout",
     "output_type": "stream",
     "text": [
      "WARNING: Could not preload libmpi.so.If you are running with MPI, this may cause segfaults\n"
     ]
    }
   ],
   "source": [
    "import keras_models as kms\n",
    "import keras_forward as kf\n",
    "import np_models as npms\n",
    "import np_forward as npf\n",
    "import tf_graphs as tfgs\n",
    "import tf_forward as tff\n",
    "import tools\n",
    "import PyPolyChord\n",
    "import PyPolyChord.settings\n",
    "import inverse_priors\n",
    "import polychord_tools\n",
    "import output\n",
    "import input_tools\n",
    "import forward_tests\n",
    "import prior_tests"
   ]
  },
  {
   "cell_type": "code",
   "execution_count": 2,
   "metadata": {},
   "outputs": [],
   "source": [
    "###### load training data\n",
    "data = 'simple_tanh'\n",
    "data_dir = '../../data/'\n",
    "data_prefix = data_dir + data\n",
    "x_tr, y_tr = input_tools.get_x_y_tr_data(data_prefix)\n",
    "batch_size = x_tr.shape[0]"
   ]
  },
  {
   "cell_type": "code",
   "execution_count": 3,
   "metadata": {
    "scrolled": true
   },
   "outputs": [],
   "source": [
    "###### get weight information\n",
    "a1_size = 2\n",
    "layer_sizes = [a1_size]\n",
    "m_trainable_arr = [True, False]\n",
    "b_trainable_arr = [False, False]\n",
    "num_inputs = tools.get_num_inputs(x_tr)\n",
    "num_outputs = tools.get_num_outputs(y_tr)\n",
    "num_weights = tools.calc_num_weights3(num_inputs, layer_sizes, num_outputs, m_trainable_arr, b_trainable_arr)"
   ]
  },
  {
   "cell_type": "code",
   "execution_count": 4,
   "metadata": {},
   "outputs": [],
   "source": [
    "###### check shapes of training data\n",
    "x_tr, y_tr = tools.reshape_x_y_twod(x_tr, y_tr)"
   ]
  },
  {
   "cell_type": "code",
   "execution_count": 5,
   "metadata": {},
   "outputs": [
    {
     "name": "stdout",
     "output_type": "stream",
     "text": [
      "WARNING:tensorflow:From /home/astrophysics/anaconda2/lib/python2.7/site-packages/tensorflow/python/keras/_impl/keras/backend.py:1557: calling reduce_mean (from tensorflow.python.ops.math_ops) with keep_dims is deprecated and will be removed in a future version.\n",
      "Instructions for updating:\n",
      "keep_dims is deprecated, use keepdims instead\n"
     ]
    }
   ],
   "source": [
    "###### setup keras model\n",
    "model = kms.slp_model(num_inputs, num_outputs, layer_sizes)\n",
    "km = kf.keras_model(model, x_tr, y_tr, batch_size)\n",
    "loss = 'mse' \n",
    "km.setup_LL(loss)"
   ]
  },
  {
   "cell_type": "code",
   "execution_count": 6,
   "metadata": {},
   "outputs": [
    {
     "name": "stdout",
     "output_type": "stream",
     "text": [
      "[(1, 2)]\n"
     ]
    }
   ],
   "source": [
    "#setup tf graph\n",
    "tf_graph = tfgs.slp_graph\n",
    "tfm = tff.tf_model(tf_graph, x_tr, y_tr, batch_size, layer_sizes, m_trainable_arr, b_trainable_arr)\n",
    "fit_metric = 'chisq'\n",
    "tfm.setup_LL(fit_metric)"
   ]
  },
  {
   "cell_type": "code",
   "execution_count": 7,
   "metadata": {},
   "outputs": [],
   "source": [
    "#set up np model\n",
    "np_nn = npms.slp_nn\n",
    "npm = npf.np_model(np_nn, x_tr, y_tr, batch_size, layer_sizes, m_trainable_arr, b_trainable_arr)\n",
    "ll_type = 'gauss'\n",
    "npm.setup_LL(ll_type)"
   ]
  },
  {
   "cell_type": "code",
   "execution_count": 8,
   "metadata": {},
   "outputs": [
    {
     "name": "stdout",
     "output_type": "stream",
     "text": [
      "The slowest run took 21.82 times longer than the fastest. This could mean that an intermediate result is being cached.\n",
      "100 loops, best of 3: 2.68 ms per loop\n"
     ]
    }
   ],
   "source": [
    "#time forward_propagation using keras model\n",
    "%timeit forward_tests.forward_test_linear([km], num_weights, data_dir, print_out = False)"
   ]
  },
  {
   "cell_type": "code",
   "execution_count": 9,
   "metadata": {
    "scrolled": false
   },
   "outputs": [
    {
     "name": "stdout",
     "output_type": "stream",
     "text": [
      "The slowest run took 14.52 times longer than the fastest. This could mean that an intermediate result is being cached.\n",
      "1000 loops, best of 3: 994 µs per loop\n"
     ]
    }
   ],
   "source": [
    "#time forward_propagation using tensorflow model\n",
    "# import tensorflow as tf\n",
    "# sess = tf.Session() \n",
    "%timeit forward_tests.forward_test_linear([tfm], num_weights, data_dir, print_out = False)"
   ]
  },
  {
   "cell_type": "code",
   "execution_count": 10,
   "metadata": {},
   "outputs": [
    {
     "name": "stdout",
     "output_type": "stream",
     "text": [
      "The slowest run took 21.44 times longer than the fastest. This could mean that an intermediate result is being cached.\n",
      "1000 loops, best of 3: 542 µs per loop\n"
     ]
    }
   ],
   "source": [
    "#time forward_propagation using np model\n",
    "%timeit forward_tests.forward_test_linear([npm], num_weights, data_dir, print_out = False)"
   ]
  },
  {
   "cell_type": "code",
   "execution_count": 12,
   "metadata": {},
   "outputs": [],
   "source": [
    "###### setup prior\n",
    "prior_types = [7]\n",
    "prior_hyperparams = [[-1., 1.]]\n",
    "weight_shapes = tools.get_weight_shapes3(num_inputs, layer_sizes, num_outputs, m_trainable_arr, b_trainable_arr)\n",
    "dependence_lengths = tools.get_degen_dependence_lengths(weight_shapes)\n",
    "param_prior_types = [0]\n",
    "prior = inverse_priors.inverse_prior(prior_types, prior_hyperparams, dependence_lengths, param_prior_types, num_weights)"
   ]
  },
  {
   "cell_type": "code",
   "execution_count": 13,
   "metadata": {},
   "outputs": [
    {
     "name": "stdout",
     "output_type": "stream",
     "text": [
      "The slowest run took 15.85 times longer than the fastest. This could mean that an intermediate result is being cached.\n",
      "1000 loops, best of 3: 298 µs per loop\n"
     ]
    }
   ],
   "source": [
    "###### time prior output from nn setup\n",
    "%timeit prior_tests.nn_prior_test(prior, print_out = False)"
   ]
  },
  {
   "cell_type": "code",
   "execution_count": 14,
   "metadata": {},
   "outputs": [],
   "source": [
    "###### setup polychord\n",
    "nDerived = 0\n",
    "settings = PyPolyChord.settings.PolyChordSettings(num_weights, nDerived)\n",
    "settings.file_root = data\n",
    "settings.nlive = 200\n",
    "settings.feedback = 0\n",
    "settings.posteriors = False\n",
    "settings.write_stats = False"
   ]
  },
  {
   "cell_type": "code",
   "execution_count": 12,
   "metadata": {},
   "outputs": [
    {
     "name": "stdout",
     "output_type": "stream",
     "text": [
      "('Last dead point:', array([-4.79972461e-02,  2.63971361e-02, -9.20693729e+02, -9.20654022e+02]))\n",
      "('Last dead point:', array([-2.60034000e-01,  3.09973331e-01, -1.00000000e+30, -9.19272975e+02]))\n",
      "('Last dead point:', array([-1.81389210e-01,  3.64880144e-01, -9.20172262e+02, -9.19030863e+02]))\n",
      "('Last dead point:', array([-2.53652080e-01,  9.86464494e-01, -9.18990395e+02, -9.18960769e+02]))\n",
      "('Last dead point:', array([-2.14496908e-01,  7.13642565e-01, -9.18970040e+02, -9.18944837e+02]))\n",
      "('Last dead point:', array([-1.98588001e-01,  6.97004719e-01, -9.18941972e+02, -9.18941034e+02]))\n",
      "('Last dead point:', array([-2.08918946e-01,  8.35714163e-01, -9.18939565e+02, -9.18939381e+02]))\n",
      "('Last dead point:', array([-1.94742550e-01,  7.81104254e-01, -9.18939338e+02, -9.18938859e+02]))\n",
      "('Last dead point:', array([-2.00153226e-01,  7.99143046e-01, -9.18980155e+02, -9.18938534e+02]))\n",
      "('Last dead point:', array([-5.28655467e-02,  9.48315709e-01, -2.90916564e+03, -9.20644973e+02]))\n",
      "('Last dead point:', array([-6.38599544e-01,  9.08748643e-01, -9.19460825e+02, -9.19277750e+02]))\n",
      "('Last dead point:', array([-1.30918688e-01,  8.08429955e-01, -9.19099714e+02, -9.19057197e+02]))\n",
      "('Last dead point:', array([-1.56965022e-01,  5.85013042e-01, -9.19638849e+02, -9.18969620e+02]))\n",
      "('Last dead point:', array([-1.76290400e-01,  7.96813870e-01, -9.18957078e+02, -9.18947537e+02]))\n",
      "('Last dead point:', array([-2.16035809e-01,  7.97700666e-01, -9.18944812e+02, -9.18941658e+02]))\n",
      "('Last dead point:', array([-2.09454730e-01,  8.58516395e-01, -9.18939912e+02, -9.18939618e+02]))\n",
      "('Last dead point:', array([-2.02354639e-01,  8.47689737e-01, -9.18940543e+02, -9.18938897e+02]))\n",
      "('Last dead point:', array([-2.00009096e-01,  7.99108839e-01, -9.18939163e+02, -9.18938533e+02]))\n",
      "('Last dead point:', array([-4.62117488e-01,  2.50749757e-01, -1.00000000e+30, -9.19977936e+02]))\n",
      "('Last dead point:', array([-5.05496599e-01,  7.96336587e-01, -9.19643526e+02, -9.19215291e+02]))\n",
      "('Last dead point:', array([-3.07261699e-01,  8.99683342e-01, -9.19150877e+02, -9.19007966e+02]))\n",
      "('Last dead point:', array([-2.44933287e-01,  8.47570601e-01, -9.18965948e+02, -9.18956300e+02]))\n",
      "('Last dead point:', array([-1.81306144e-01,  7.70339342e-01, -9.18943702e+02, -9.18943366e+02]))\n",
      "('Last dead point:', array([-1.94876314e-01,  8.72531083e-01, -9.18942716e+02, -9.18940290e+02]))\n",
      "('Last dead point:', array([-2.07220632e-01,  8.02993555e-01, -9.18939728e+02, -9.18939171e+02]))\n",
      "('Last dead point:', array([-1.97488163e-01,  7.66316010e-01, -9.18939325e+02, -9.18938750e+02]))\n",
      "('Last dead point:', array([-2.00041961e-01,  7.98335215e-01, -9.18938708e+02, -9.18938534e+02]))\n",
      "('Last dead point:', array([-8.99617113e-01,  2.58511140e-01, -1.00000000e+30, -9.20476048e+02]))\n",
      "('Last dead point:', array([-3.39065464e-01,  4.10838620e-01, -9.19578717e+02, -9.19274770e+02]))\n",
      "('Last dead point:', array([-1.65246901e-01,  3.35735662e-01, -9.19060258e+02, -9.19039233e+02]))\n",
      "('Last dead point:', array([-1.67864580e-01,  5.48150631e-01, -9.18999353e+02, -9.18960871e+02]))\n",
      "('Last dead point:', array([-1.78879481e-01,  7.12324535e-01, -9.18952007e+02, -9.18944559e+02]))\n",
      "('Last dead point:', array([-2.09146613e-01,  9.15789361e-01, -9.18963027e+02, -9.18940639e+02]))\n",
      "('Last dead point:', array([-2.00066831e-01,  7.41509898e-01, -9.18945437e+02, -9.18939334e+02]))\n",
      "('Last dead point:', array([-2.05171397e-01,  8.23000508e-01, -9.18938867e+02, -9.18938831e+02]))\n",
      "('Last dead point:', array([-1.99982654e-01,  8.00295184e-01, -9.18938760e+02, -9.18938533e+02]))\n",
      "1 loop, best of 3: 2min 47s per loop\n"
     ]
    }
   ],
   "source": [
    "#time polychord with keras model\n",
    "settings.base_dir = './keras_chains/'\n",
    "%timeit PyPolyChord.run_polychord(km, num_weights, nDerived, settings, prior, polychord_tools.dumper)"
   ]
  },
  {
   "cell_type": "code",
   "execution_count": 13,
   "metadata": {
    "scrolled": false
   },
   "outputs": [
    {
     "name": "stdout",
     "output_type": "stream",
     "text": [
      "('Last dead point:', array([-9.47504741e-01,  3.18080815e-01, -1.00000000e+30, -9.20225230e+02]))\n",
      "('Last dead point:', array([-1.01024258e-01,  3.49613711e-01, -9.19338808e+02, -9.19211135e+02]))\n",
      "('Last dead point:', array([-1.66025051e-01,  3.75411574e-01, -9.19145865e+02, -9.19012787e+02]))\n",
      "('Last dead point:', array([-2.47014538e-01,  8.82633951e-01, -9.18992140e+02, -9.18956841e+02]))\n",
      "('Last dead point:', array([-2.22840946e-01,  9.13054173e-01, -9.18955668e+02, -9.18943776e+02]))\n",
      "('Last dead point:', array([-2.07511325e-01,  7.46887938e-01, -9.18940529e+02, -9.18940480e+02]))\n",
      "('Last dead point:', array([-1.92927227e-01,  7.94536100e-01, -9.18939476e+02, -9.18939196e+02]))\n",
      "('Last dead point:', array([-2.03368945e-01,  8.34780564e-01, -9.18938824e+02, -9.18938768e+02]))\n",
      "('Last dead point:', array([-1.99503285e-01,  7.97853891e-01, -9.18939074e+02, -9.18938536e+02]))\n",
      "('Last dead point:', array([-7.47306000e-01,  2.62788865e-01, -1.00000000e+30, -9.20324624e+02]))\n",
      "('Last dead point:', array([-4.99420408e-01,  6.55663677e-01, -9.32877339e+02, -9.19270808e+02]))\n",
      "('Last dead point:', array([-3.03299470e-01,  7.57772861e-01, -9.19319722e+02, -9.19019458e+02]))\n",
      "('Last dead point:', array([-1.66581786e-01,  6.36845826e-01, -9.18959065e+02, -9.18955728e+02]))\n",
      "('Last dead point:', array([-2.15581702e-01,  9.83790709e-01, -9.18954449e+02, -9.18943552e+02]))\n",
      "('Last dead point:', array([-1.88418233e-01,  7.96938244e-01, -9.18990689e+02, -9.18940457e+02]))\n",
      "('Last dead point:', array([-2.06521169e-01,  8.63025091e-01, -9.18939465e+02, -9.18939311e+02]))\n",
      "('Last dead point:', array([-1.95440835e-01,  7.73783066e-01, -9.18939420e+02, -9.18938804e+02]))\n",
      "('Last dead point:', array([-2.00160480e-01,  7.99554035e-01, -9.18938739e+02, -9.18938534e+02]))\n",
      "('Last dead point:', array([-6.18501564e-01,  2.40655288e-01, -2.91122436e+03, -9.20298364e+02]))\n",
      "('Last dead point:', array([-1.59278166e-01,  1.88561223e-01, -2.90116196e+03, -9.19279499e+02]))\n",
      "('Last dead point:', array([-3.04579109e-01,  6.67553695e-01, -9.19097417e+02, -9.19040787e+02]))\n",
      "('Last dead point:', array([-2.26619747e-01,  6.39848429e-01, -9.18976785e+02, -9.18961328e+02]))\n",
      "('Last dead point:', array([-2.17942938e-01,  7.40379227e-01, -9.18949834e+02, -9.18944723e+02]))\n",
      "('Last dead point:', array([-1.88182822e-01,  7.83938986e-01, -9.18941106e+02, -9.18940380e+02]))\n",
      "('Last dead point:', array([-1.93351134e-01,  7.52049616e-01, -9.18940029e+02, -9.18939215e+02]))\n",
      "('Last dead point:', array([-1.97717448e-01,  8.22698537e-01, -9.18943868e+02, -9.18938773e+02]))\n",
      "('Last dead point:', array([-1.99460250e-01,  7.98763257e-01, -9.18941587e+02, -9.18938537e+02]))\n",
      "('Last dead point:', array([-8.55545934e-01,  3.62022552e-01, -1.00000000e+30, -9.20012475e+02]))\n",
      "('Last dead point:', array([-1.03112926e-01,  7.75598012e-01, -9.19396488e+02, -9.19254379e+02]))\n",
      "('Last dead point:', array([-1.84608473e-01,  3.71733665e-01, -9.19177497e+02, -9.19029121e+02]))\n",
      "('Last dead point:', array([-1.80517751e-01,  5.32950448e-01, -9.19018528e+02, -9.18959054e+02]))\n",
      "('Last dead point:', array([-1.80286258e-01,  7.80683610e-01, -9.19153380e+02, -9.18944170e+02]))\n",
      "('Last dead point:', array([-2.00225402e-01,  7.07501812e-01, -9.18944347e+02, -9.18940702e+02]))\n",
      "('Last dead point:', array([-1.98369620e-01,  8.57459645e-01, -9.18939462e+02, -9.18939295e+02]))\n",
      "('Last dead point:', array([-2.00102117e-01,  7.63146694e-01, -9.18938917e+02, -9.18938841e+02]))\n",
      "('Last dead point:', array([-1.99895678e-01,  7.98077490e-01, -9.18939065e+02, -9.18938534e+02]))\n",
      "1 loop, best of 3: 1min 1s per loop\n"
     ]
    }
   ],
   "source": [
    "#time polychord with tf model\n",
    "settings.base_dir = './tf_chains/'\n",
    "%timeit PyPolyChord.run_polychord(tfm, num_weights, nDerived, settings, prior, polychord_tools.dumper)"
   ]
  },
  {
   "cell_type": "code",
   "execution_count": 14,
   "metadata": {},
   "outputs": [
    {
     "name": "stdout",
     "output_type": "stream",
     "text": [
      "('Last dead point:', array([-5.99223859e-02,  3.92134697e-01, -1.00000000e+30, -9.20110741e+02]))\n",
      "('Last dead point:', array([-4.09652669e-01,  5.32529441e-01, -9.19533374e+02, -9.19253416e+02]))\n",
      "('Last dead point:', array([-3.30481942e-01,  9.01599550e-01, -9.19106633e+02, -9.19030376e+02]))\n",
      "('Last dead point:', array([-2.59148060e-01,  9.77312694e-01, -9.20417321e+02, -9.18964501e+02]))\n",
      "('Last dead point:', array([-2.26939130e-01,  8.63205525e-01, -9.18947950e+02, -9.18945299e+02]))\n",
      "('Last dead point:', array([-2.10640866e-01,  7.59553678e-01, -9.18943703e+02, -9.18940918e+02]))\n",
      "('Last dead point:', array([-2.08495522e-01,  8.07022566e-01, -9.18939934e+02, -9.18939376e+02]))\n",
      "('Last dead point:', array([-2.00072964e-01,  7.64850126e-01, -9.18939097e+02, -9.18938811e+02]))\n",
      "('Last dead point:', array([-1.99953825e-01,  8.00323725e-01, -9.18938859e+02, -9.18938533e+02]))\n",
      "('Last dead point:', array([-6.13844761e-01,  2.62519642e-01, -2.78512704e+03, -9.20171751e+02]))\n",
      "('Last dead point:', array([-4.30893070e-01,  4.97674730e-01, -9.19342791e+02, -9.19316613e+02]))\n",
      "('Last dead point:', array([-3.57962858e-01,  8.84843626e-01, -9.19321121e+02, -9.19059135e+02]))\n",
      "('Last dead point:', array([-2.64675400e-01,  9.98019997e-01, -9.18972093e+02, -9.18968508e+02]))\n",
      "('Last dead point:', array([-1.76344487e-01,  7.67207658e-01, -9.18999265e+02, -9.18946712e+02]))\n",
      "('Last dead point:', array([-2.12616511e-01,  7.65237389e-01, -9.18945266e+02, -9.18941367e+02]))\n",
      "('Last dead point:', array([-2.09717559e-01,  8.54714731e-01, -9.18974605e+02, -9.18939626e+02]))\n",
      "('Last dead point:', array([-2.05777675e-01,  8.03464282e-01, -9.18939091e+02, -9.18938939e+02]))\n",
      "('Last dead point:', array([-2.00377185e-01,  8.00975319e-01, -9.18938900e+02, -9.18938535e+02]))\n",
      "('Last dead point:', array([-6.71117889e-01,  2.94601570e-01, -9.21742869e+02, -9.20093374e+02]))\n",
      "('Last dead point:', array([-4.18690362e-01,  5.51680487e-01, -9.19273355e+02, -9.19249600e+02]))\n",
      "('Last dead point:', array([-3.20106433e-01,  8.03669818e-01, -9.19121892e+02, -9.19030601e+02]))\n",
      "('Last dead point:', array([-2.36449563e-01,  6.83810535e-01, -9.19001285e+02, -9.18962664e+02]))\n",
      "('Last dead point:', array([-2.26116769e-01,  8.14977281e-01, -9.18965883e+02, -9.18945685e+02]))\n",
      "('Last dead point:', array([-1.95351382e-01,  9.03538554e-01, -9.18942459e+02, -9.18941204e+02]))\n",
      "('Last dead point:', array([-2.07288452e-01,  8.72236329e-01, -9.18940315e+02, -9.18939526e+02]))\n",
      "('Last dead point:', array([-2.05436272e-01,  8.01307511e-01, -9.18938957e+02, -9.18938905e+02]))\n",
      "('Last dead point:', array([-2.00081026e-01,  7.98044532e-01, -9.18939338e+02, -9.18938534e+02]))\n",
      "('Last dead point:', array([-9.29364288e-01,  3.59516342e-01, -2.91007327e+03, -9.20067421e+02]))\n",
      "('Last dead point:', array([-5.81690593e-01,  8.62080298e-01, -9.19352213e+02, -9.19254013e+02]))\n",
      "('Last dead point:', array([-3.13787276e-01,  7.49935873e-01, -9.19202027e+02, -9.19032481e+02]))\n",
      "('Last dead point:', array([-1.61656068e-01,  7.31420793e-01, -9.19025560e+02, -9.18962555e+02]))\n",
      "('Last dead point:', array([-1.94820946e-01,  9.94430333e-01, -9.18952953e+02, -9.18945378e+02]))\n",
      "('Last dead point:', array([-2.15731625e-01,  8.49012064e-01, -9.18941394e+02, -9.18941011e+02]))\n",
      "('Last dead point:', array([-1.92255355e-01,  7.37821917e-01, -9.18944728e+02, -9.18939571e+02]))\n",
      "('Last dead point:', array([-1.98462362e-01,  8.38245873e-01, -9.18940765e+02, -9.18938920e+02]))\n",
      "('Last dead point:', array([-2.00201260e-01,  8.00398527e-01, -9.18939183e+02, -9.18938534e+02]))\n",
      "1 loop, best of 3: 36.8 s per loop\n"
     ]
    }
   ],
   "source": [
    "#time polychord with np model\n",
    "settings.base_dir = './np_chains/'\n",
    "%timeit PyPolyChord.run_polychord(npm, num_weights, nDerived, settings, prior, polychord_tools.dumper)"
   ]
  },
  {
   "cell_type": "code",
   "execution_count": null,
   "metadata": {},
   "outputs": [],
   "source": [
    "import pstats, cProfile"
   ]
  },
  {
   "cell_type": "code",
   "execution_count": 1,
   "metadata": {},
   "outputs": [
    {
     "ename": "SyntaxError",
     "evalue": "invalid syntax (<ipython-input-1-2674c9a83d50>, line 1)",
     "output_type": "error",
     "traceback": [
      "\u001b[0;36m  File \u001b[0;32m\"<ipython-input-1-2674c9a83d50>\"\u001b[0;36m, line \u001b[0;32m1\u001b[0m\n\u001b[0;31m    cProfile.runctx(function to be profiled, globals(), locals(), name of prof file)\u001b[0m\n\u001b[0m                              ^\u001b[0m\n\u001b[0;31mSyntaxError\u001b[0m\u001b[0;31m:\u001b[0m invalid syntax\n"
     ]
    }
   ],
   "source": [
    "cProfile.runctx(function to be profiled, globals(), locals(), name of prof file)\n",
    "\n",
    "s = pstats.Stats(name of prof file)\n",
    "s.strip_dirs().sort_stats(\"time\").print_stats()\n"
   ]
  }
 ],
 "metadata": {
  "kernelspec": {
   "display_name": "Python 2",
   "language": "python",
   "name": "python2"
  },
  "language_info": {
   "codemirror_mode": {
    "name": "ipython",
    "version": 2
   },
   "file_extension": ".py",
   "mimetype": "text/x-python",
   "name": "python",
   "nbconvert_exporter": "python",
   "pygments_lexer": "ipython2",
   "version": "2.7.15"
  }
 },
 "nbformat": 4,
 "nbformat_minor": 2
}
