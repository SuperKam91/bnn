{
 "cells": [
  {
   "cell_type": "code",
   "execution_count": null,
   "metadata": {},
   "outputs": [],
   "source": [
    "import keras_forward as kf\n",
    "import tf_forward as tff\n",
    "import np_forward as npf\n",
    "import keras_models as kms\n",
    "import tf_graphs as tfgs\n",
    "import np_models as nnns"
   ]
  },
  {
   "cell_type": "code",
   "execution_count": null,
   "metadata": {},
   "outputs": [],
   "source": [
    "%timeit tff.main()"
   ]
  },
  {
   "cell_type": "code",
   "execution_count": null,
   "metadata": {
    "scrolled": true
   },
   "outputs": [],
   "source": [
    "num_inputs = 28 * 28\n",
    "num_outputs = 10\n",
    "m = 1000\n",
    "batch_size = 1000\n",
    "a1_size = 5\n",
    "\n",
    "np.random.seed(1337)\n",
    "x_tr = np.random.random((m, num_inputs))\n",
    "y_tr = np.random.randint(size=(m, num_outputs), low = 0, high = 2)\n",
    "\n",
    "a1_size = 5\n",
    "layer_sizes = [5]\n",
    "\n",
    "batch_size = x_tr.shape[0]\n",
    "\n",
    "km = kf.keras_model(model, x_tr, y_tr, batch_size)\n",
    "loss = 'mse' \n",
    "km.setup_LL(loss)\n",
    "\n",
    "tf_graph = tfgs.slp_graph\n",
    "layer_sizes = [a1_size]\n",
    "tfm = tff.tf_model(tf_graph, x_tr, y_tr, batch_size, layer_sizes)\n",
    "fit_metric = 'chisq'\n",
    "tfm.setup_LL(fit_metric)\n",
    "\n",
    "np_nn = nnns.slp_nn\n",
    "layer_sizes = [a1_size]\n",
    "npm = npf.np_model(np_nn, x_tr, y_tr, batch_size, layer_sizes)\n",
    "ll_type = 'gauss'\n",
    "npm.setup_LL(ll_type)\n",
    "\n",
    "n = 1\n",
    "weights = np.random.random((n, num_weights))\n"
   ]
  },
  {
   "cell_type": "code",
   "execution_count": null,
   "metadata": {},
   "outputs": [],
   "source": [
    "import pstats, cProfile"
   ]
  },
  {
   "cell_type": "code",
   "execution_count": null,
   "metadata": {},
   "outputs": [],
   "source": [
    "cProfile.runctx(function to be profiled, globals(), locals(), name of prof file)\n",
    "\n",
    "s = pstats.Stats(name of prof file)\n",
    "s.strip_dirs().sort_stats(\"time\").print_stats()\n"
   ]
  }
 ],
 "metadata": {
  "kernelspec": {
   "display_name": "Python 2",
   "language": "python",
   "name": "python2"
  },
  "language_info": {
   "codemirror_mode": {
    "name": "ipython",
    "version": 2
   },
   "file_extension": ".py",
   "mimetype": "text/x-python",
   "name": "python",
   "nbconvert_exporter": "python",
   "pygments_lexer": "ipython2",
   "version": "2.7.15"
  }
 },
 "nbformat": 4,
 "nbformat_minor": 2
}
