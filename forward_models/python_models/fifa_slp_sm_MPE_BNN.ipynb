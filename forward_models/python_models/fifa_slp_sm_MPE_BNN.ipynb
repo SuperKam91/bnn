{
 "cells": [
  {
   "cell_type": "code",
   "execution_count": 2,
   "metadata": {},
   "outputs": [
    {
     "name": "stderr",
     "output_type": "stream",
     "text": [
      "/home/astrophysics/anaconda2/lib/python2.7/site-packages/h5py/__init__.py:36: FutureWarning: Conversion of the second argument of issubdtype from `float` to `np.floating` is deprecated. In future, it will be treated as `np.float64 == np.dtype(float).type`.\n",
      "  from ._conv import register_converters as _register_converters\n"
     ]
    }
   ],
   "source": [
    "import tensorflow as tf\n",
    "import keras_models as kms\n",
    "import metrics\n",
    "import bnn_predictions as bnn\n",
    "import numpy as np\n",
    "import sklearn.model_selection\n",
    "import sklearn.preprocessing\n",
    "import tools\n",
    "import keras_losses as kl"
   ]
  },
  {
   "cell_type": "code",
   "execution_count": 3,
   "metadata": {},
   "outputs": [],
   "source": [
    "fifa_a = np.genfromtxt('../../data/kaggle/FIFA_2018_Statistics_data1.csv', delimiter=',')\n",
    "x = fifa_a[:,:-1]\n",
    "y = fifa_a[:,-1]"
   ]
  },
  {
   "cell_type": "code",
   "execution_count": 4,
   "metadata": {},
   "outputs": [],
   "source": [
    "#MPE with prior (regularisation)"
   ]
  },
  {
   "cell_type": "code",
   "execution_count": 5,
   "metadata": {},
   "outputs": [],
   "source": [
    "#architecture parameters\n",
    "num_inputs = x.shape[1]\n",
    "num_outputs = 2\n",
    "layer_sizes = []\n",
    "reg_coeffs = [0.5, 0.5]\n",
    "#propagation parameters\n",
    "epochs = 1000\n",
    "m = x.shape[0]\n",
    "training_size = 48. / 64.\n",
    "test_size = 1 - training_size\n",
    "train_num = int(m * training_size)\n",
    "batch_num = 1 * train_num\n",
    "test_num = int(m * test_size)"
   ]
  },
  {
   "cell_type": "code",
   "execution_count": 6,
   "metadata": {},
   "outputs": [
    {
     "name": "stdout",
     "output_type": "stream",
     "text": [
      "WARNING:tensorflow:From /home/astrophysics/anaconda2/lib/python2.7/site-packages/tensorflow/python/keras/_impl/keras/backend.py:1456: calling reduce_sum (from tensorflow.python.ops.math_ops) with keep_dims is deprecated and will be removed in a future version.\n",
      "Instructions for updating:\n",
      "keep_dims is deprecated, use keepdims instead\n",
      "WARNING:tensorflow:From /home/astrophysics/anaconda2/lib/python2.7/site-packages/tensorflow/python/keras/_impl/keras/backend.py:1557: calling reduce_mean (from tensorflow.python.ops.math_ops) with keep_dims is deprecated and will be removed in a future version.\n",
      "Instructions for updating:\n",
      "keep_dims is deprecated, use keepdims instead\n"
     ]
    }
   ],
   "source": [
    "#compile model\n",
    "model_r = kms.slp_sm_r(num_inputs, num_outputs, layer_sizes, reg_coeffs)\n",
    "model_r.compile(optimizer='adagrad',\n",
    "              loss=kl.sum_of_categorical_crossentropy,\n",
    "              metrics=['accuracy'])"
   ]
  },
  {
   "cell_type": "code",
   "execution_count": 7,
   "metadata": {},
   "outputs": [],
   "source": [
    "MPE_test_losses = []\n",
    "MPE_test_accuracies = []\n",
    "seed_ns = range(1,11)\n",
    "for seed_n in seed_ns:\n",
    "    np.random.seed(seed_n)\n",
    "    x_train, x_test, y_train, y_test = sklearn.model_selection.train_test_split(x, y, test_size = test_size)\n",
    "    y_train = tf.keras.utils.to_categorical(y_train, num_outputs)\n",
    "    y_test = tf.keras.utils.to_categorical(y_test, num_outputs)\n",
    "\n",
    "    #scale training data to have zero mean and unit variance\n",
    "    scaler = sklearn.preprocessing.StandardScaler(copy = False)\n",
    "    scaler.fit(x_train)\n",
    "    scaler.transform(x_train)\n",
    "    scaler.transform(x_test)\n",
    "\n",
    "    #for sake of fairness, try all analysis with same training/test split, so save these to disc.\n",
    "    #note y is now stored in categorical form\n",
    "    np.savetxt(\"../../data/kaggle/FIFA_2018_Statistics_x_tr_\" + str(seed_n) + \".csv\", x_train, delimiter=\",\")\n",
    "    np.savetxt(\"../../data/kaggle/FIFA_2018_Statistics_y_tr_\" + str(seed_n) + \".csv\", y_train, delimiter=\",\")\n",
    "    np.savetxt(\"../../data/kaggle/FIFA_2018_Statistics_x_te_\" + str(seed_n) + \".csv\", x_test, delimiter=\",\")\n",
    "    np.savetxt(\"../../data/kaggle/FIFA_2018_Statistics_y_te_\" + str(seed_n) + \".csv\", y_test, delimiter=\",\")\n",
    "    #train model\n",
    "    history_r = model_r.fit(x_train, y_train,\n",
    "                        batch_size=batch_num,\n",
    "                        epochs=epochs,\n",
    "                        verbose=0)\n",
    "                            \n",
    "    #save model\n",
    "    model_r.save(\"../../MPE_examples/saved_keras_models/kaggle/FIFA_2018_Statistics_slp_sm_\" + str(seed_n) + \".h5\")\n",
    "    \n",
    "    #calculate evaluation metrics\n",
    "    y_pred_r = model_r.predict(x_test)\n",
    "    y_test, y_pred_r = tools.check_dtypes(y_test, y_pred_r)\n",
    "    test_loss_r = metrics.categorical_crossentropy(y_test, y_pred_r) #averaged over test set size\n",
    "    test_acc_r = metrics.categorical_accuracy(y_test, y_pred_r)\n",
    "    MPE_test_losses.append(test_loss_r)\n",
    "    MPE_test_accuracies.append(test_acc_r)"
   ]
  },
  {
   "cell_type": "code",
   "execution_count": 66,
   "metadata": {},
   "outputs": [
    {
     "name": "stdout",
     "output_type": "stream",
     "text": [
      "('Test loss:', 0.5254570841789246)\n",
      "('Test accuracy:', 1.0)\n",
      "0.4116108051200969\n"
     ]
    }
   ],
   "source": [
    "#this is for testing purposes \n",
    "#model.evaluate should be used with caution, as if mode contains regularisation, the method will include it\n",
    "score_r = model_r.evaluate(x_test, y_test, verbose=0, batch_size=test_num)\n",
    "print('Test loss:', score_r[0])\n",
    "print('Test accuracy:', score_r[1])"
   ]
  },
  {
   "cell_type": "code",
   "execution_count": 97,
   "metadata": {},
   "outputs": [
    {
     "name": "stdout",
     "output_type": "stream",
     "text": [
      "[[-0.43916413  0.44116676]\n",
      " [-0.3348639   0.3352341 ]\n",
      " [ 0.0012521  -0.00256963]\n",
      " [-0.30893424  0.31592762]\n",
      " [-0.36481038  0.36478618]\n",
      " [ 0.22088502 -0.23651724]\n",
      " [-0.20047458  0.20897913]\n",
      " [-0.17499119  0.17530404]\n",
      " [ 0.06792135 -0.06263451]\n",
      " [-0.3680093   0.3811466 ]\n",
      " [-0.05029045  0.05024424]\n",
      " [-0.02812219  0.02831184]\n",
      " [-0.08611279  0.08709248]\n",
      " [ 0.09188789 -0.08857699]]\n",
      "1.2847356\n",
      "[-0.03243397  0.03243397]\n"
     ]
    }
   ],
   "source": [
    "weight_arr_r, bias_arr_r = model_r.get_weights()\n",
    "weight_magnitude_r = np.linalg.norm(weight_arr_r)\n",
    "print weight_arr_r\n",
    "print weight_magnitude_r\n",
    "print bias_arr_r"
   ]
  },
  {
   "cell_type": "code",
   "execution_count": 96,
   "metadata": {},
   "outputs": [],
   "source": [
    "#cpp"
   ]
  },
  {
   "cell_type": "code",
   "execution_count": 27,
   "metadata": {},
   "outputs": [],
   "source": [
    "# expected estimates\n",
    "bnn_test_losses = []\n",
    "bnn_test_accuracies = []\n",
    "for seed_n in seed_ns:\n",
    "    chains_file = '../cpp_models/cpp_chains/FIFA_2018_Statistics_slp_sm_' + str(seed_n) + '.txt'\n",
    "    x_test = np.genfromtxt(\"../../data/kaggle/FIFA_2018_Statistics_x_te_\" + str(seed_n) + \".csv\", delimiter=',')\n",
    "    y_test = np.genfromtxt(\"../../data/kaggle/FIFA_2018_Statistics_y_te_\" + str(seed_n) + \".csv\", delimiter=',')\n",
    "    bmodel = kms.slp_sm(num_inputs, num_outputs, layer_sizes)\n",
    "    bnn_model = bnn.bnn_predictor(bmodel, x_test, y_test, chains_file)\n",
    "    by_pred = bnn_model.predictions_expectation()\n",
    "    y_test, by_pred = tools.check_dtypes(y_test, by_pred)\n",
    "    b_test_loss = metrics.categorical_crossentropy(y_test, by_pred)\n",
    "    b_test_acc = metrics.categorical_accuracy(y_test, by_pred)\n",
    "    bnn_test_losses.append(b_test_loss)\n",
    "    bnn_test_accuracies.append(b_test_acc)"
   ]
  },
  {
   "cell_type": "code",
   "execution_count": 29,
   "metadata": {},
   "outputs": [],
   "source": [
    "# MPE estimates\n",
    "bnn_MPE_test_losses = []\n",
    "bnn_MPE_test_accuracies = []\n",
    "for seed_n in seed_ns:\n",
    "    chains_file = '../cpp_models/cpp_chains/FIFA_2018_Statistics_slp_sm_' + str(seed_n) + '.txt'\n",
    "    x_test = np.genfromtxt(\"../../data/kaggle/FIFA_2018_Statistics_x_te_\" + str(seed_n) + \".csv\", delimiter=',')\n",
    "    y_test = np.genfromtxt(\"../../data/kaggle/FIFA_2018_Statistics_y_te_\" + str(seed_n) + \".csv\", delimiter=',')\n",
    "    bmodel = kms.slp_sm(num_inputs, num_outputs, layer_sizes)\n",
    "    bnn_model = bnn.bnn_predictor(bmodel, x_test, y_test, chains_file)\n",
    "    by_pred = bnn_model.MPE_prediction()\n",
    "    y_test, by_pred = tools.check_dtypes(y_test, by_pred)\n",
    "    b_test_loss = metrics.categorical_crossentropy(y_test, by_pred)\n",
    "    b_test_acc = metrics.categorical_accuracy(y_test, by_pred)\n",
    "    bnn_MPE_test_losses.append(b_test_loss)\n",
    "    bnn_MPE_test_accuracies.append(b_test_acc)"
   ]
  },
  {
   "cell_type": "code",
   "execution_count": 99,
   "metadata": {
    "scrolled": true
   },
   "outputs": [
    {
     "name": "stdout",
     "output_type": "stream",
     "text": [
      "[[-1.8274463   1.0707233 ]\n",
      " [ 1.7094133   2.1497848 ]\n",
      " [ 0.16490114  2.1739173 ]\n",
      " [-1.3065757  -0.5605142 ]\n",
      " [ 0.39965272  1.2336111 ]\n",
      " [ 0.20807227  0.36302057]\n",
      " [-1.7788959  -1.1387717 ]\n",
      " [ 0.49126852  2.0472205 ]\n",
      " [-0.01662266  0.9817281 ]\n",
      " [-1.993626   -0.17394267]\n",
      " [ 1.3757656   1.7654557 ]\n",
      " [ 0.14453389 -1.1336504 ]\n",
      " [-0.509835   -0.45083138]\n",
      " [ 0.32196507  2.0590575 ]]\n",
      "6.756143\n",
      "[0.76898944 1.6223899 ]\n"
     ]
    }
   ],
   "source": [
    "b_weight_arr, b_bias_arr = bnn_model.model.get_weights()\n",
    "b_weight_magnitude = np.linalg.norm(b_weight_arr)\n",
    "print b_weight_arr\n",
    "print b_weight_magnitude\n",
    "print b_bias_arr"
   ]
  },
  {
   "cell_type": "code",
   "execution_count": 9,
   "metadata": {},
   "outputs": [
    {
     "name": "stdout",
     "output_type": "stream",
     "text": [
      "[0.646150223639557, 0.5942609350490429, 0.32318632259460517, 0.546431633332441, 0.29450505214739575, 0.287850269842976, 0.2842792626669594, 0.3321624040501262, 0.30422067663949814, 0.32166057952266724]\n",
      "0.7875\n"
     ]
    }
   ],
   "source": [
    "print MPE_test_losses\n",
    "print MPE_test_accuracies"
   ]
  },
  {
   "cell_type": "code",
   "execution_count": 30,
   "metadata": {},
   "outputs": [
    {
     "name": "stdout",
     "output_type": "stream",
     "text": [
      "[0.366062825470115, 0.6284091941729878, 0.24924489948015272, 0.5710904364299889, 0.24501502361292296, 0.3579497096714941, 0.27207251425240053, 0.3570041982039275, 0.34970751339715545, 0.3565284383714001]\n",
      "[0.75, 0.625, 0.9375, 0.625, 0.9375, 0.8125, 0.875, 0.8125, 0.8125, 0.8125]\n"
     ]
    }
   ],
   "source": [
    "print bnn_test_losses\n",
    "print bnn_test_accuracies"
   ]
  },
  {
   "cell_type": "code",
   "execution_count": 31,
   "metadata": {},
   "outputs": [
    {
     "name": "stdout",
     "output_type": "stream",
     "text": [
      "[0.8409075339178537, 0.8671017332912981, 0.550785078166951, 0.7411403889394357, 0.25798395642442773, 0.7648644009996977, 0.27389507183596595, 0.6367651840596237, 0.9569289182702858, 0.5288760076862427]\n",
      "[0.5625, 0.625, 0.75, 0.625, 0.9375, 0.8125, 0.875, 0.8125, 0.625, 0.75]\n"
     ]
    }
   ],
   "source": [
    "print bnn_MPE_test_losses\n",
    "print bnn_MPE_test_accuracies"
   ]
  }
 ],
 "metadata": {
  "kernelspec": {
   "display_name": "Python 2",
   "language": "python",
   "name": "python2"
  },
  "language_info": {
   "codemirror_mode": {
    "name": "ipython",
    "version": 2
   },
   "file_extension": ".py",
   "mimetype": "text/x-python",
   "name": "python",
   "nbconvert_exporter": "python",
   "pygments_lexer": "ipython2",
   "version": "2.7.15"
  }
 },
 "nbformat": 4,
 "nbformat_minor": 2
}
