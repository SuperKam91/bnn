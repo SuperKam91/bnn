{
 "cells": [
  {
   "cell_type": "code",
   "execution_count": 16,
   "metadata": {},
   "outputs": [],
   "source": [
    "import sklearn.neural_network\n",
    "import sklearn.model_selection\n",
    "import numpy as np\n",
    "import sklearn_tools\n",
    "import sklearn_scorers\n",
    "import scipy.stats"
   ]
  },
  {
   "cell_type": "code",
   "execution_count": 17,
   "metadata": {},
   "outputs": [],
   "source": [
    "#could load arbitrary version of x here to get some shape parameters, but cba\n",
    "#architecture parameters\n",
    "num_inputs = 13 #aka n in ml terminology\n",
    "num_outputs = 1 #dimensionality of output y (for single record)\n",
    "layer_sizes = []\n",
    "#propagation parameters\n",
    "epochs = 1000\n",
    "m = 506 #total number of records\n",
    "training_size = 253. / 506.\n",
    "train_num = int(m * training_size)\n",
    "batch_num = 1 * train_num"
   ]
  },
  {
   "cell_type": "code",
   "execution_count": 18,
   "metadata": {},
   "outputs": [],
   "source": [
    "#randomised hyperparameter search (over regularisation coefficient/prior precision)"
   ]
  },
  {
   "cell_type": "code",
   "execution_count": 19,
   "metadata": {},
   "outputs": [],
   "source": [
    "#define sklearn model\n",
    "model = sklearn.neural_network.MLPRegressor(hidden_layer_sizes=layer_sizes, solver='adam', batch_size=batch_num, max_iter=epochs)"
   ]
  },
  {
   "cell_type": "code",
   "execution_count": 20,
   "metadata": {},
   "outputs": [],
   "source": [
    "a_neal = 2.\n",
    "w_neal = 1.\n",
    "a = a_neal / 2. \n",
    "b = a / w_neal\n",
    "param_dist = {\"alpha\": scipy.stats.gamma(a = a, scale = 1. / b)}\n",
    "n_iter_search = 100"
   ]
  },
  {
   "cell_type": "code",
   "execution_count": 21,
   "metadata": {},
   "outputs": [],
   "source": [
    "random_search = sklearn.model_selection.RandomizedSearchCV(model, param_distributions = param_dist,\n",
    "                                   n_iter = n_iter_search, scoring = 'neg_mean_squared_error')"
   ]
  },
  {
   "cell_type": "code",
   "execution_count": 22,
   "metadata": {},
   "outputs": [],
   "source": [
    "x_train = np.genfromtxt(\"../../data/uci/bh_50_x_tr_1.csv\", delimiter = ',')\n",
    "y_train = np.genfromtxt(\"../../data/uci/bh_50_y_tr_1.csv\", delimiter = ',')"
   ]
  },
  {
   "cell_type": "code",
   "execution_count": 23,
   "metadata": {},
   "outputs": [
    {
     "name": "stderr",
     "output_type": "stream",
     "text": [
      "/home/kamran/anaconda2/lib/python2.7/site-packages/sklearn/model_selection/_search.py:841: DeprecationWarning: The default of the `iid` parameter will change from True to False in version 0.22 and will be removed in 0.24. This will change numeric results when test-set sizes are unequal.\n",
      "  DeprecationWarning)\n"
     ]
    },
    {
     "data": {
      "text/plain": [
       "RandomizedSearchCV(cv='warn', error_score='raise-deprecating',\n",
       "          estimator=MLPRegressor(activation='relu', alpha=0.0001, batch_size=253, beta_1=0.9,\n",
       "       beta_2=0.999, early_stopping=False, epsilon=1e-08,\n",
       "       hidden_layer_sizes=[], learning_rate='constant',\n",
       "       learning_rate_init=0.001, max_iter=1000, momentum=0.9,\n",
       "       n_iter_no_change=10, nesterovs_momentum=True, power_t=0.5,\n",
       "       random_state=None, shuffle=True, solver='adam', tol=0.0001,\n",
       "       validation_fraction=0.1, verbose=False, warm_start=False),\n",
       "          fit_params=None, iid='warn', n_iter=100, n_jobs=None,\n",
       "          param_distributions={'alpha': <scipy.stats._distn_infrastructure.rv_frozen object at 0x7fbe61890990>},\n",
       "          pre_dispatch='2*n_jobs', random_state=None, refit=True,\n",
       "          return_train_score='warn', scoring='neg_mean_squared_error',\n",
       "          verbose=0)"
      ]
     },
     "execution_count": 23,
     "metadata": {},
     "output_type": "execute_result"
    }
   ],
   "source": [
    "random_search.fit(x_train, y_train)"
   ]
  },
  {
   "cell_type": "code",
   "execution_count": 24,
   "metadata": {},
   "outputs": [
    {
     "name": "stdout",
     "output_type": "stream",
     "text": [
      "Model with rank: 1\n",
      "Mean validation score: -0.313 (std: 0.095)\n",
      "Parameters: {'alpha': 1.1678717126109486}\n",
      "\n",
      "Model with rank: 2\n",
      "Mean validation score: -0.324 (std: 0.105)\n",
      "Parameters: {'alpha': 0.6470113664791839}\n",
      "\n",
      "Model with rank: 3\n",
      "Mean validation score: -0.325 (std: 0.105)\n",
      "Parameters: {'alpha': 0.5129351598946698}\n",
      "\n"
     ]
    }
   ],
   "source": [
    "sklearn_tools.report(random_search.cv_results_)"
   ]
  },
  {
   "cell_type": "code",
   "execution_count": null,
   "metadata": {},
   "outputs": [],
   "source": []
  },
  {
   "cell_type": "code",
   "execution_count": 19,
   "metadata": {},
   "outputs": [],
   "source": [
    "run_ns = range(1,11)\n",
    "for run_n in run_ns:\n",
    "    #load data\n",
    "    x_train = np.genfromtxt(\"../../data/uci/bh_50_x_tr_\" + str(run_n) + \".csv\", delimiter = ',')\n",
    "    y_train = np.genfromtxt(\"../../data/uci/bh_50_y_tr_\" + str(run_n) + \".csv\", delimiter = ',')\n",
    "\n",
    "    #train model\n",
    "    history_r = model_r.fit(x_train, y_train,\n",
    "                        batch_size=batch_num,\n",
    "                        epochs=epochs,\n",
    "                        verbose=0)\n",
    "                            \n",
    "    #save model\n",
    "    model_r.save(\"../../MPE_examples/saved_keras_models/uci/bh_50_slp_\" + str(run_n) + \".h5\")"
   ]
  },
  {
   "cell_type": "code",
   "execution_count": null,
   "metadata": {},
   "outputs": [],
   "source": []
  }
 ],
 "metadata": {
  "kernelspec": {
   "display_name": "Python 2",
   "language": "python",
   "name": "python2"
  },
  "language_info": {
   "codemirror_mode": {
    "name": "ipython",
    "version": 2
   },
   "file_extension": ".py",
   "mimetype": "text/x-python",
   "name": "python",
   "nbconvert_exporter": "python",
   "pygments_lexer": "ipython2",
   "version": "2.7.15"
  }
 },
 "nbformat": 4,
 "nbformat_minor": 2
}
