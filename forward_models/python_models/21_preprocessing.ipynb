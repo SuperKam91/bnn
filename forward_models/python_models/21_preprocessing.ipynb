{
 "cells": [
  {
   "cell_type": "code",
   "execution_count": 2,
   "metadata": {},
   "outputs": [
    {
     "name": "stderr",
     "output_type": "stream",
     "text": [
      "/home/astrophysics/anaconda2/lib/python2.7/site-packages/h5py/__init__.py:36: FutureWarning: Conversion of the second argument of issubdtype from `float` to `np.floating` is deprecated. In future, it will be treated as `np.float64 == np.dtype(float).type`.\n",
      "  from ._conv import register_converters as _register_converters\n"
     ]
    }
   ],
   "source": [
    "import numpy as np\n",
    "import sklearn.model_selection\n",
    "import sklearn.preprocessing\n",
    "import tensorflow as tf"
   ]
  },
  {
   "cell_type": "code",
   "execution_count": null,
   "metadata": {},
   "outputs": [],
   "source": [
    "d_a = np.genfromtxt('../../data/21_cm/8_params_21.txt')\n",
    "x = d_a[:,:-1]\n",
    "y = d_a[:,-1]\n",
    "print x.shape, y.shape"
   ]
  },
  {
   "cell_type": "code",
   "execution_count": 13,
   "metadata": {},
   "outputs": [
    {
     "name": "stdout",
     "output_type": "stream",
     "text": [
      "3214360\n",
      "2639188\n",
      "293243\n",
      "281928\n",
      "3214359\n"
     ]
    }
   ],
   "source": [
    "m = (21562 + 2073) * 136\n",
    "# print m\n",
    "# print x.shape[0] #check these are same\n",
    "num_outputs = 1\n",
    "training_size = 21562. / (21562 + 2073) #same test proportion as in paper\n",
    "test_size = 1 - training_size\n",
    "train_num = int(m * training_size)\n",
    "test_num = int(m * test_size) #using ceil here gives numbers inconsistent with m\n",
    "cv_size = 0.1 #if vanilla cv is being used. whether to use ceil or not for cv_num depends on this value\n",
    "training_size = 1 - cv_size\n",
    "cv_num = int(cv_size * train_num)\n",
    "train_num = int(training_size * train_num)\n",
    "#not sk learn splitter uses proportion values not numbers, these are just for checks\n",
    "print m\n",
    "print train_num\n",
    "print cv_num\n",
    "print test_num\n",
    "print train_num + cv_num + test_num"
   ]
  },
  {
   "cell_type": "code",
   "execution_count": 18,
   "metadata": {},
   "outputs": [],
   "source": [
    "seed_n = 1\n",
    "np.random.seed(seed_n)\n",
    "x_train, x_test, y_train, y_test = sklearn.model_selection.train_test_split(x, y, test_size = test_size)\n",
    "y_test = y_test.reshape(-1,1)\n",
    "x_train, x_cv, y_train, y_cv = sklearn.model_selection.train_test_split(x_train, y_train, test_size = cv_size)\n",
    "y_train = y_train.reshape(-1,1)\n",
    "y_cv = y_cv.reshape(-1,1)\n",
    "\n",
    "#scale data to have zero mean and unit variance\n",
    "x_scaler = sklearn.preprocessing.StandardScaler(copy = False)\n",
    "x_scaler.fit(x_train)\n",
    "x_scaler.transform(x_train)\n",
    "x_scaler.transform(x_cv)\n",
    "x_scaler.transform(x_test)\n",
    "y_scaler = sklearn.preprocessing.StandardScaler(copy = False)\n",
    "y_scaler.fit(y_train)\n",
    "y_scaler.transform(y_train)\n",
    "y_scaler.transform(y_cv)\n",
    "y_scaler.transform(y_test)\n",
    "\n",
    "np.savetxt(\"../../data/21_cm/8_params_21_x_tr.csv\", x_train, delimiter=\",\")\n",
    "np.savetxt(\"../../data/21_cm/8_params_21_y_tr.csv\", y_train, delimiter=\",\")\n",
    "np.savetxt(\"../../data/21_cm/8_params_21_x_cv.csv\", x_cv, delimiter=\",\")\n",
    "np.savetxt(\"../../data/21_cm/8_params_21_y_cv.csv\", y_cv, delimiter=\",\")\n",
    "np.savetxt(\"../../data/21_cm/8_params_21_x_te.csv\", x_test, delimiter=\",\")\n",
    "np.savetxt(\"../../data/21_cm/8_params_21_y_te.csv\", y_test, delimiter=\",\")\n",
    "\n",
    "###########################################################################\n",
    "print y_scaler.mean_\n",
    "#write y scaler mean here. Needed to inverse transform y_test and y_pred when evaluating 21cm performance metric\n",
    "# y_scaler.mean_= \n",
    "print y_scaler.var_\n",
    "#write y scaler variance here. Needed to inverse transform y_test and y_pred when evaluating 21cm performance metric\n",
    "# y_scaler.var_ = \n",
    "###########################################################################"
   ]
  }
 ],
 "metadata": {
  "kernelspec": {
   "display_name": "Python 2",
   "language": "python",
   "name": "python2"
  },
  "language_info": {
   "codemirror_mode": {
    "name": "ipython",
    "version": 2
   },
   "file_extension": ".py",
   "mimetype": "text/x-python",
   "name": "python",
   "nbconvert_exporter": "python",
   "pygments_lexer": "ipython2",
   "version": "2.7.15"
  }
 },
 "nbformat": 4,
 "nbformat_minor": 2
}
