{
 "cells": [
  {
   "cell_type": "code",
   "execution_count": 1,
   "metadata": {},
   "outputs": [],
   "source": [
    "import numpy as np\n",
    "import sklearn.model_selection\n",
    "import sklearn.preprocessing\n",
    "import tensorflow as tf"
   ]
  },
  {
   "cell_type": "code",
   "execution_count": null,
   "metadata": {},
   "outputs": [],
   "source": [
    "#method 1\n",
    "#completely shuffle data, no structure from paper's setup (i.e. complete timeseries, or their tr/te splits) included"
   ]
  },
  {
   "cell_type": "code",
   "execution_count": 2,
   "metadata": {},
   "outputs": [
    {
     "name": "stdout",
     "output_type": "stream",
     "text": [
      "(3214360, 8) (3214360,)\n"
     ]
    }
   ],
   "source": [
    "d_a = np.genfromtxt('../../data/21_cm/8_params_21.txt')\n",
    "x = d_a[:,:-1]\n",
    "y = d_a[:,-1]\n",
    "print x.shape, y.shape"
   ]
  },
  {
   "cell_type": "code",
   "execution_count": 3,
   "metadata": {},
   "outputs": [
    {
     "name": "stdout",
     "output_type": "stream",
     "text": [
      "3214360\n",
      "2639188\n",
      "293243\n",
      "281928\n",
      "3214359\n"
     ]
    }
   ],
   "source": [
    "m = (21562 + 2073) * 136\n",
    "# print m\n",
    "# print x.shape[0] #check these are same\n",
    "num_outputs = 1\n",
    "training_size = 21562. / (21562 + 2073) #same test proportion as in paper\n",
    "test_size = 1 - training_size\n",
    "train_num = int(m * training_size)\n",
    "test_num = int(m * test_size) #using ceil here gives numbers inconsistent with m\n",
    "cv_size = 0.1 #if vanilla cv is being used. whether to use ceil or not for cv_num depends on this value\n",
    "training_size = 1 - cv_size\n",
    "cv_num = int(cv_size * train_num)\n",
    "train_num = int(training_size * train_num)\n",
    "#note sk learn splitter uses proportion values not numbers, these are just for checks\n",
    "print m\n",
    "print train_num\n",
    "print cv_num\n",
    "print test_num\n",
    "print train_num + cv_num + test_num"
   ]
  },
  {
   "cell_type": "code",
   "execution_count": 4,
   "metadata": {},
   "outputs": [
    {
     "name": "stdout",
     "output_type": "stream",
     "text": [
      "[16.921533]\n",
      "[-50.67502318]\n",
      "[5432.93031454]\n"
     ]
    }
   ],
   "source": [
    "seed_n = 1\n",
    "np.random.seed(seed_n)\n",
    "x_train, x_test, y_train, y_test = sklearn.model_selection.train_test_split(x, y, test_size = test_size)\n",
    "y_test = y_test.reshape(-1,1)\n",
    "x_train, x_cv, y_train, y_cv = sklearn.model_selection.train_test_split(x_train, y_train, test_size = cv_size)\n",
    "y_train = y_train.reshape(-1,1)\n",
    "y_cv = y_cv.reshape(-1,1)\n",
    "\n",
    "#scale data to have zero mean and unit variance\n",
    "x_scaler = sklearn.preprocessing.StandardScaler(copy = False)\n",
    "x_scaler.fit(x_train)\n",
    "x_scaler.transform(x_train)\n",
    "x_scaler.transform(x_cv)\n",
    "x_scaler.transform(x_test)\n",
    "y_scaler = sklearn.preprocessing.StandardScaler(copy = False)\n",
    "y_scaler.fit(y_train)\n",
    "y_scaler.transform(y_train)\n",
    "y_scaler.transform(y_cv)\n",
    "y_scaler.transform(y_test)\n",
    "\n",
    "np.savetxt(\"../../data/21_cm/8_params_21_x_tr.csv\", x_train, delimiter=\",\")\n",
    "np.savetxt(\"../../data/21_cm/8_params_21_y_tr.csv\", y_train, delimiter=\",\")\n",
    "np.savetxt(\"../../data/21_cm/8_params_21_x_cv.csv\", x_cv, delimiter=\",\")\n",
    "np.savetxt(\"../../data/21_cm/8_params_21_y_cv.csv\", y_cv, delimiter=\",\")\n",
    "np.savetxt(\"../../data/21_cm/8_params_21_x_te.csv\", x_test, delimiter=\",\")\n",
    "np.savetxt(\"../../data/21_cm/8_params_21_y_te.csv\", y_test, delimiter=\",\")\n",
    "\n",
    "###########################################################################\n",
    "print y_scaler.mean_\n",
    "#write y scaler mean here. Needed to inverse transform y_test and y_pred when evaluating 21cm performance metric\n",
    "# y_scaler.mean_= -50.67502318\n",
    "print y_scaler.var_\n",
    "#write y scaler variance here. Needed to inverse transform y_test and y_pred when evaluating 21cm performance metric\n",
    "# y_scaler.var_ = 5432.93031454\n",
    "###########################################################################"
   ]
  },
  {
   "cell_type": "code",
   "execution_count": 5,
   "metadata": {},
   "outputs": [],
   "source": [
    "#method 2\n",
    "#load in paper's training and test sets separately, \n",
    "#so that we know full timeseries are included in each split \n",
    "#(as they shuffle over timeseries, not individual datapoints)\n",
    "#to be used for author's split of data where in the training data alpha = 1 for all the records,\n",
    "#nu_min = 0.2 for all the records,\n",
    "#and in the testing data alpha = 1.5 for all the records,\n",
    "#nu_min = 1. for all the records.\n",
    "#this causes standard scaler to screw up, so just set these values back to their original\n",
    "#values after transforming"
   ]
  },
  {
   "cell_type": "code",
   "execution_count": 12,
   "metadata": {},
   "outputs": [
    {
     "name": "stdout",
     "output_type": "stream",
     "text": [
      "(2932432, 8) (2932432, 1)\n",
      "(281928, 8) (281928, 1)\n",
      "[-50.35104929]\n",
      "[5410.76986054]\n"
     ]
    }
   ],
   "source": [
    "d_train = np.genfromtxt('../../data/21_cm/8_params_21_2_tr.txt')\n",
    "x_train = d_train[:,:-1]\n",
    "y_train = d_train[:,-1]\n",
    "y_train = y_train.reshape(-1,1)\n",
    "print x_train.shape, y_train.shape\n",
    "d_test = np.genfromtxt('../../data/21_cm/8_params_21_2_te.txt')\n",
    "x_test = d_test[:,:-1]\n",
    "y_test = d_test[:,-1]\n",
    "y_test = y_test.reshape(-1,1)\n",
    "print x_test.shape, y_test.shape\n",
    "##########################################\n",
    "#this value needs to be copied from reconfigure.ipynb in bnn/data/.../\n",
    "cv_size = 0.\n",
    "##########################################\n",
    "if cv_size:\n",
    "    d_cv = np.genfromtxt('../../data/21_cm/8_params_21_2_cv.txt')\n",
    "    x_cv = d_cv[:,:-1]\n",
    "    y_cv = d_cv[:,-1]\n",
    "    y_cv = y_cv.reshape(-1,1)\n",
    "    print x_cv.shape, y_cv.shape\n",
    "\n",
    "#scale data to have zero mean and unit variance\n",
    "x_scaler = sklearn.preprocessing.StandardScaler(copy = False)\n",
    "x_scaler.fit(x_train)\n",
    "x_scaler.transform(x_train)\n",
    "##########################################\n",
    "# set screwed up values back to their originals\n",
    "x_train[:,-4] = 1.\n",
    "x_train[:,-3] = 0.2\n",
    "##########################################\n",
    "if cv_size:\n",
    "    x_scaler.transform(x_cv)\n",
    "    ##########################################\n",
    "    # set screwed up values back to their originals\n",
    "    # assumes cv taken from author's training split\n",
    "    x_cv[:,-4] = 1.\n",
    "    x_cv[:,-3] = 0.2\n",
    "    ##########################################\n",
    "x_scaler.transform(x_test)\n",
    "##########################################\n",
    "# set screwed up values back to their originals\n",
    "x_test[:,-4] = 1.5\n",
    "x_test[:,-3] = 1.\n",
    "##########################################\n",
    "y_scaler = sklearn.preprocessing.StandardScaler(copy = False)\n",
    "y_scaler.fit(y_train)\n",
    "y_scaler.transform(y_train)\n",
    "if cv_size:\n",
    "    y_scaler.transform(y_cv)\n",
    "y_scaler.transform(y_test)\n",
    "\n",
    "np.savetxt(\"../../data/21_cm/8_params_21_2_x_tr.csv\", x_train, delimiter=\",\")\n",
    "np.savetxt(\"../../data/21_cm/8_params_21_2_y_tr.csv\", y_train, delimiter=\",\")\n",
    "if cv_size:\n",
    "    np.savetxt(\"../../data/21_cm/8_params_21_2_x_cv.csv\", x_cv, delimiter=\",\")\n",
    "    np.savetxt(\"../../data/21_cm/8_params_21_2_y_cv.csv\", y_cv, delimiter=\",\")\n",
    "np.savetxt(\"../../data/21_cm/8_params_21_2_x_te.csv\", x_test, delimiter=\",\")\n",
    "np.savetxt(\"../../data/21_cm/8_params_21_2_y_te.csv\", y_test, delimiter=\",\")\n",
    "\n",
    "###########################################################################\n",
    "print y_scaler.mean_\n",
    "#write y scaler mean here. Needed to inverse transform y_test and y_pred when evaluating 21cm performance metric\n",
    "# y_scaler.mean_= -50.35104929\n",
    "print y_scaler.var_\n",
    "#write y scaler variance here. Needed to inverse transform y_test and y_pred when evaluating 21cm performance metric\n",
    "# y_scaler.var_ = 5410.76986054\n",
    "###########################################################################"
   ]
  },
  {
   "cell_type": "code",
   "execution_count": 16,
   "metadata": {},
   "outputs": [],
   "source": [
    "#method 3\n",
    "#load in paper's training and test sets separately, \n",
    "#so that we know full timeseries are included in each split \n",
    "#(as they shuffle over timeseries, not individual datapoints)"
   ]
  },
  {
   "cell_type": "code",
   "execution_count": 17,
   "metadata": {},
   "outputs": [
    {
     "name": "stdout",
     "output_type": "stream",
     "text": [
      "(2932432, 8) (2932432, 1)\n",
      "(281928, 8) (281928, 1)\n",
      "[-50.55857295]\n",
      "[5420.38820099]\n"
     ]
    }
   ],
   "source": [
    "d_train = np.genfromtxt('../../data/21_cm/8_params_21_3_tr.txt')\n",
    "x_train = d_train[:,:-1]\n",
    "y_train = d_train[:,-1]\n",
    "y_train = y_train.reshape(-1,1)\n",
    "print x_train.shape, y_train.shape\n",
    "d_test = np.genfromtxt('../../data/21_cm/8_params_21_3_te.txt')\n",
    "x_test = d_test[:,:-1]\n",
    "y_test = d_test[:,-1]\n",
    "y_test = y_test.reshape(-1,1)\n",
    "print x_test.shape, y_test.shape\n",
    "##########################################\n",
    "#this value needs to be copied from reconfigure.ipynb in bnn/data/.../\n",
    "cv_size = 0.\n",
    "##########################################\n",
    "if cv_size:\n",
    "    d_cv = np.genfromtxt('../../data/21_cm/8_params_21_3_cv.txt')\n",
    "    x_cv = d_cv[:,:-1]\n",
    "    y_cv = d_cv[:,-1]\n",
    "    y_cv = y_cv.reshape(-1,1)\n",
    "    print x_cv.shape, y_cv.shape\n",
    "\n",
    "#scale data to have zero mean and unit variance\n",
    "x_scaler = sklearn.preprocessing.StandardScaler(copy = False)\n",
    "x_scaler.fit(x_train)\n",
    "x_scaler.transform(x_train)\n",
    "if cv_size:\n",
    "    x_scaler.transform(x_cv)\n",
    "x_scaler.transform(x_test)\n",
    "y_scaler = sklearn.preprocessing.StandardScaler(copy = False)\n",
    "y_scaler.fit(y_train)\n",
    "y_scaler.transform(y_train)\n",
    "if cv_size:\n",
    "    y_scaler.transform(y_cv)\n",
    "y_scaler.transform(y_test)\n",
    "\n",
    "np.savetxt(\"../../data/21_cm/8_params_21_3_x_tr.csv\", x_train, delimiter=\",\")\n",
    "np.savetxt(\"../../data/21_cm/8_params_21_3_y_tr.csv\", y_train, delimiter=\",\")\n",
    "if cv_size:\n",
    "    np.savetxt(\"../../data/21_cm/8_params_21_3_x_cv.csv\", x_cv, delimiter=\",\")\n",
    "    np.savetxt(\"../../data/21_cm/8_params_21_3_y_cv.csv\", y_cv, delimiter=\",\")\n",
    "np.savetxt(\"../../data/21_cm/8_params_21_3_x_te.csv\", x_test, delimiter=\",\")\n",
    "np.savetxt(\"../../data/21_cm/8_params_21_3_y_te.csv\", y_test, delimiter=\",\")\n",
    "\n",
    "###########################################################################\n",
    "print y_scaler.mean_\n",
    "#write y scaler mean here. Needed to inverse transform y_test and y_pred when evaluating 21cm performance metric\n",
    "# y_scaler.mean_= -50.55857295\n",
    "print y_scaler.var_\n",
    "#write y scaler variance here. Needed to inverse transform y_test and y_pred when evaluating 21cm performance metric\n",
    "# y_scaler.var_ = 5420.38820099\n",
    "###########################################################################"
   ]
  },
  {
   "cell_type": "code",
   "execution_count": 18,
   "metadata": {},
   "outputs": [
    {
     "data": {
      "text/plain": [
       "array([-3.50572872e-13, -9.41901770e-12, -6.36971423e-13, -7.32944474e-13,\n",
       "        1.41901881e-13,  4.24394008e-11,  6.93835864e-15, -3.18025223e-21])"
      ]
     },
     "execution_count": 18,
     "metadata": {},
     "output_type": "execute_result"
    }
   ],
   "source": [
    "x_train.mean(axis=0)"
   ]
  },
  {
   "cell_type": "code",
   "execution_count": null,
   "metadata": {},
   "outputs": [],
   "source": []
  }
 ],
 "metadata": {
  "kernelspec": {
   "display_name": "Python 2",
   "language": "python",
   "name": "python2"
  },
  "language_info": {
   "codemirror_mode": {
    "name": "ipython",
    "version": 2
   },
   "file_extension": ".py",
   "mimetype": "text/x-python",
   "name": "python",
   "nbconvert_exporter": "python",
   "pygments_lexer": "ipython2",
   "version": "2.7.15"
  }
 },
 "nbformat": 4,
 "nbformat_minor": 2
}
