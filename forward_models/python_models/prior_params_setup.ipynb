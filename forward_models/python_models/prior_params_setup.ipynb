{
 "cells": [
  {
   "cell_type": "code",
   "execution_count": 1,
   "metadata": {},
   "outputs": [],
   "source": [
    "import numpy as np\n",
    "import tools"
   ]
  },
  {
   "cell_type": "code",
   "execution_count": 10,
   "metadata": {},
   "outputs": [
    {
     "name": "stdout",
     "output_type": "stream",
     "text": [
      "num weights\n",
      "14\n",
      "weight shapes\n",
      "[(13, 1), (1,)]\n",
      "granularity type\n",
      "single\n",
      "granularity\n",
      "[1]\n",
      "n_stoc\n",
      "1\n",
      "number of weights per layer\n",
      "[14]\n",
      "degen dependence lengths\n",
      "[1]\n"
     ]
    }
   ],
   "source": [
    "num_inputs = 13\n",
    "layer_sizes = []\n",
    "num_outputs = 1\n",
    "print \"num weights\"\n",
    "n_dims = tools.calc_num_weights(num_inputs, layer_sizes, num_outputs)\n",
    "print tools.calc_num_weights(num_inputs, layer_sizes, num_outputs)\n",
    "weight_shapes = tools.get_weight_shapes(num_inputs, layer_sizes, num_outputs)\n",
    "print \"weight shapes\"\n",
    "print tools.get_weight_shapes(num_inputs, layer_sizes, num_outputs)\n",
    "print \"granularity type\"\n",
    "granularity = 'single'\n",
    "print granularity\n",
    "hyper_dependence_lengths = tools.get_hyper_dependence_lengths(weight_shapes, granularity)\n",
    "print \"granularity\"\n",
    "print tools.get_hyper_dependence_lengths(weight_shapes, granularity)\n",
    "n_stoc = len(hyper_dependence_lengths)\n",
    "print \"n_stoc\"\n",
    "print n_stoc\n",
    "print \"number of weights per layer\"\n",
    "print tools.calc_num_weights_layers(weight_shapes)\n",
    "dependence_lengths = tools.get_degen_dependence_lengths(weight_shapes, independent = True)\n",
    "print \"degen dependence lengths\"\n",
    "print tools.get_degen_dependence_lengths(weight_shapes, independent = True)\n",
    "hyperprior_types = [9]\n",
    "prior_types = [4]\n",
    "hyperprior_params = [[0.1 / 2., 0.1 / (2. * 100)]]\n",
    "prior_hyperparams = [0.]\n",
    "param_hyperprior_types = [0]\n",
    "param_prior_types = [0]\n",
    "\n",
    "assert (len(hyperprior_types) == len(hyperprior_params)), \"length of hyperprior_types and hyperprior_params should be same\"\n",
    "assert (len(prior_types) == len(prior_hyperparams)), \"prior_types and prior_hyperparams should be the same length\"\n",
    "assert (len(hyper_dependence_lengths) == len(param_hyperprior_types)), \"length of hyper_dependence_lengths should be same as length of param_hyperprior_types\"\n",
    "assert (len(dependence_lengths) == len(param_prior_types)), \"dependence_lengths and param_prior_types should be the same length\"\n",
    "assert (len(hyper_dependence_lengths) == n_stoc), \"length of hyper_dependence_lengths should equal n_stoc\"\n",
    "if len(dependence_lengths) != 1:\n",
    "    assert (np.sum(dependence_lengths) == n_dims), \"in case of dependent parameters, sum of dependence_lengths should equal n_dims\"\n",
    "if len(hyper_dependence_lengths) != 1:\n",
    "    assert (np.sum(hyper_dependence_lengths) == n_dims), \"in case of not using single hyperparam, sum of hyper_dependence_lengths should equal n_dims\""
   ]
  },
  {
   "cell_type": "code",
   "execution_count": null,
   "metadata": {},
   "outputs": [],
   "source": []
  }
 ],
 "metadata": {
  "kernelspec": {
   "display_name": "Python 2",
   "language": "python",
   "name": "python2"
  },
  "language_info": {
   "codemirror_mode": {
    "name": "ipython",
    "version": 2
   },
   "file_extension": ".py",
   "mimetype": "text/x-python",
   "name": "python",
   "nbconvert_exporter": "python",
   "pygments_lexer": "ipython2",
   "version": "2.7.15"
  }
 },
 "nbformat": 4,
 "nbformat_minor": 2
}
