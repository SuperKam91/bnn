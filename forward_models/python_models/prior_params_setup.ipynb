{
 "cells": [
  {
   "cell_type": "code",
   "execution_count": 2,
   "metadata": {},
   "outputs": [],
   "source": [
    "import numpy as np\n",
    "import tools"
   ]
  },
  {
   "cell_type": "code",
   "execution_count": 5,
   "metadata": {},
   "outputs": [
    {
     "name": "stdout",
     "output_type": "stream",
     "text": [
      "num weights\n",
      "14\n",
      "weight shapes\n",
      "[(13, 1), (1,)]\n",
      "granularity type\n",
      "layer\n",
      "granularity\n",
      "[14]\n",
      "n_stoc\n",
      "1\n",
      "number of weights per layer\n",
      "[14]\n",
      "degen dependence lengths\n",
      "[1]\n"
     ]
    },
    {
     "ename": "AssertionError",
     "evalue": "length of hyper_dependence_lengths should be same as length of param_hyperprior_types",
     "output_type": "error",
     "traceback": [
      "\u001b[0;31m---------------------------------------------------------------------------\u001b[0m",
      "\u001b[0;31mAssertionError\u001b[0m                            Traceback (most recent call last)",
      "\u001b[0;32m<ipython-input-5-f7bc202a626c>\u001b[0m in \u001b[0;36m<module>\u001b[0;34m()\u001b[0m\n\u001b[1;32m     31\u001b[0m \u001b[0;32massert\u001b[0m \u001b[0;34m(\u001b[0m\u001b[0mlen\u001b[0m\u001b[0;34m(\u001b[0m\u001b[0mhyperprior_types\u001b[0m\u001b[0;34m)\u001b[0m \u001b[0;34m==\u001b[0m \u001b[0mlen\u001b[0m\u001b[0;34m(\u001b[0m\u001b[0mhyperprior_params\u001b[0m\u001b[0;34m)\u001b[0m\u001b[0;34m)\u001b[0m\u001b[0;34m,\u001b[0m \u001b[0;34m\"length of hyperprior_types and hyperprior_params should be same\"\u001b[0m\u001b[0;34m\u001b[0m\u001b[0m\n\u001b[1;32m     32\u001b[0m \u001b[0;32massert\u001b[0m \u001b[0;34m(\u001b[0m\u001b[0mlen\u001b[0m\u001b[0;34m(\u001b[0m\u001b[0mprior_types\u001b[0m\u001b[0;34m)\u001b[0m \u001b[0;34m==\u001b[0m \u001b[0mlen\u001b[0m\u001b[0;34m(\u001b[0m\u001b[0mprior_hyperparams\u001b[0m\u001b[0;34m)\u001b[0m\u001b[0;34m)\u001b[0m\u001b[0;34m,\u001b[0m \u001b[0;34m\"prior_types and prior_hyperparams should be the same length\"\u001b[0m\u001b[0;34m\u001b[0m\u001b[0m\n\u001b[0;32m---> 33\u001b[0;31m \u001b[0;32massert\u001b[0m \u001b[0;34m(\u001b[0m\u001b[0mlen\u001b[0m\u001b[0;34m(\u001b[0m\u001b[0mhyper_dependence_lengths\u001b[0m\u001b[0;34m)\u001b[0m \u001b[0;34m==\u001b[0m \u001b[0mlen\u001b[0m\u001b[0;34m(\u001b[0m\u001b[0mparam_hyperprior_types\u001b[0m\u001b[0;34m)\u001b[0m\u001b[0;34m)\u001b[0m\u001b[0;34m,\u001b[0m \u001b[0;34m\"length of hyper_dependence_lengths should be same as length of param_hyperprior_types\"\u001b[0m\u001b[0;34m\u001b[0m\u001b[0m\n\u001b[0m\u001b[1;32m     34\u001b[0m \u001b[0;32massert\u001b[0m \u001b[0;34m(\u001b[0m\u001b[0mlen\u001b[0m\u001b[0;34m(\u001b[0m\u001b[0mdependence_lengths\u001b[0m\u001b[0;34m)\u001b[0m \u001b[0;34m==\u001b[0m \u001b[0mlen\u001b[0m\u001b[0;34m(\u001b[0m\u001b[0mparam_prior_types\u001b[0m\u001b[0;34m)\u001b[0m\u001b[0;34m)\u001b[0m\u001b[0;34m,\u001b[0m \u001b[0;34m\"dependence_lengths and param_prior_types should be the same length\"\u001b[0m\u001b[0;34m\u001b[0m\u001b[0m\n\u001b[1;32m     35\u001b[0m \u001b[0;32massert\u001b[0m \u001b[0;34m(\u001b[0m\u001b[0mlen\u001b[0m\u001b[0;34m(\u001b[0m\u001b[0mhyper_dependence_lengths\u001b[0m\u001b[0;34m)\u001b[0m \u001b[0;34m==\u001b[0m \u001b[0mn_stoc\u001b[0m\u001b[0;34m)\u001b[0m\u001b[0;34m,\u001b[0m \u001b[0;34m\"length of hyper_dependence_lengths should equal n_stoc\"\u001b[0m\u001b[0;34m\u001b[0m\u001b[0m\n",
      "\u001b[0;31mAssertionError\u001b[0m: length of hyper_dependence_lengths should be same as length of param_hyperprior_types"
     ]
    }
   ],
   "source": [
    "num_inputs = 13\n",
    "layer_sizes = []\n",
    "num_outputs = 1\n",
    "print \"num weights\"\n",
    "n_dims = tools.calc_num_weights(num_inputs, layer_sizes, num_outputs)\n",
    "print tools.calc_num_weights(num_inputs, layer_sizes, num_outputs)\n",
    "weight_shapes = tools.get_weight_shapes(num_inputs, layer_sizes, num_outputs)\n",
    "print \"weight shapes\"\n",
    "print tools.get_weight_shapes(num_inputs, layer_sizes, num_outputs)\n",
    "print \"granularity type\"\n",
    "granularity = 'input_size'\n",
    "print granularity\n",
    "hyper_dependence_lengths = tools.get_hyper_dependence_lengths(weight_shapes, granularity)\n",
    "print \"granularity\"\n",
    "print tools.get_hyper_dependence_lengths(weight_shapes, granularity)\n",
    "n_stoc = len(hyper_dependence_lengths)\n",
    "print \"n_stoc\"\n",
    "print n_stoc\n",
    "print \"number of weights per layer\"\n",
    "print tools.calc_num_weights_layers(weight_shapes)\n",
    "var_dependence_lengths = [1]\n",
    "print \"var dependence lengths\"\n",
    "print var_dependence_lengths\n",
    "n_stoc_var = len(var_dependence_lengths)\n",
    "print \"n stoc var\"\n",
    "print n_stoc_var\n",
    "dependence_lengths = tools.get_degen_dependence_lengths(weight_shapes, independent = True)\n",
    "print \"degen dependence lengths\"\n",
    "print tools.get_degen_dependence_lengths(weight_shapes, independent = True)\n",
    "hyperprior_types = [9]\n",
    "var_prior_types = [10]\n",
    "prior_types = [4]\n",
    "hyperprior_params = [[0.1 / 2., 0.1 / (2. * 100)]]\n",
    "var_prior_params = [[0.1 / 2., 0.1 / (2. * 100)]]\n",
    "prior_hyperparams = [0.]\n",
    "param_hyperprior_types = [0]*14\n",
    "var_param_prior_types = [0]\n",
    "param_prior_types = [0]\n",
    "\n",
    "assert (len(hyperprior_types) == len(hyperprior_params)), \"length of hyperprior_types and hyperprior_params should be same\"\n",
    "assert (len(prior_types) == len(prior_hyperparams)), \"prior_types and prior_hyperparams should be the same length\"\n",
    "assert (len(hyper_dependence_lengths) == len(param_hyperprior_types)), \"length of hyper_dependence_lengths should be same as length of param_hyperprior_types\"\n",
    "assert (len(dependence_lengths) == len(param_prior_types)), \"dependence_lengths and param_prior_types should be the same length\"\n",
    "assert (len(hyper_dependence_lengths) == n_stoc), \"length of hyper_dependence_lengths should equal n_stoc\"\n",
    "if len(dependence_lengths) != 1:\n",
    "    assert (np.sum(dependence_lengths) == n_dims), \"in case of dependent parameters, sum of dependence_lengths should equal n_dims\"\n",
    "if len(hyper_dependence_lengths) != 1:\n",
    "    assert (np.sum(hyper_dependence_lengths) == n_dims), \"in case of not using single hyperparam, sum of hyper_dependence_lengths should equal n_dims\"\n",
    "assert (len(var_prior_types) == len(var_prior_params)), \"length of var_prior_types and var_prior_params should be same\"\n",
    "assert (len(var_dependence_lengths) == len(var_param_prior_types)), \"var_dependence_lengths and var_param_prior_types should be the same length\"\t\t\n",
    "assert np.all(np.array(var_dependence_lengths, dtype = np.int64) == 1), \"var_dependence_lengths must be [1] or [1]*n_stoc_var\" \n",
    "if len(var_dependence_lengths) != 1:\n",
    "    assert (np.sum(var_dependence_lengths) == n_stoc_var), \"in case of dependent var parameters, sum of var_dependence_lengths should equal n_stoc_var\""
   ]
  },
  {
   "cell_type": "code",
   "execution_count": null,
   "metadata": {},
   "outputs": [],
   "source": []
  }
 ],
 "metadata": {
  "kernelspec": {
   "display_name": "Python 2",
   "language": "python",
   "name": "python2"
  },
  "language_info": {
   "codemirror_mode": {
    "name": "ipython",
    "version": 2
   },
   "file_extension": ".py",
   "mimetype": "text/x-python",
   "name": "python",
   "nbconvert_exporter": "python",
   "pygments_lexer": "ipython2",
   "version": "2.7.15"
  }
 },
 "nbformat": 4,
 "nbformat_minor": 2
}
