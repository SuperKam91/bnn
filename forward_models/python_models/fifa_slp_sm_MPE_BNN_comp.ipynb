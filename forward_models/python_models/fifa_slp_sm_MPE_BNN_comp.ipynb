{
 "cells": [
  {
   "cell_type": "code",
   "execution_count": 1,
   "metadata": {
    "scrolled": true
   },
   "outputs": [
    {
     "name": "stderr",
     "output_type": "stream",
     "text": [
      "/home/astrophysics/anaconda2/lib/python2.7/site-packages/h5py/__init__.py:36: FutureWarning: Conversion of the second argument of issubdtype from `float` to `np.floating` is deprecated. In future, it will be treated as `np.float64 == np.dtype(float).type`.\n",
      "  from ._conv import register_converters as _register_converters\n"
     ]
    },
    {
     "name": "stdout",
     "output_type": "stream",
     "text": [
      "WARNING: Could not preload libmpi.so.If you are running with MPI, this may cause segfaults\n"
     ]
    }
   ],
   "source": [
    "import numpy as np\n",
    "import tensorflow as tf\n",
    "import tools\n",
    "import metrics\n",
    "import keras_losses as kl\n",
    "import keras_models as kms\n",
    "import bnn_predictions as bnn"
   ]
  },
  {
   "cell_type": "code",
   "execution_count": 2,
   "metadata": {},
   "outputs": [],
   "source": [
    "run_ns = range(1,11)\n",
    "#architecture parameters\n",
    "num_inputs = 14\n",
    "num_outputs = 2\n",
    "layer_sizes = []\n",
    "m = 64 #total number of records\n",
    "training_size = 48. / 64.\n",
    "test_size = 1 - training_size\n",
    "test_num = int(np.ceil(m * test_size))"
   ]
  },
  {
   "cell_type": "code",
   "execution_count": 3,
   "metadata": {},
   "outputs": [],
   "source": [
    "#following loops could easily be included into same loop, but currently have them separate for clarity"
   ]
  },
  {
   "cell_type": "code",
   "execution_count": 4,
   "metadata": {},
   "outputs": [
    {
     "name": "stdout",
     "output_type": "stream",
     "text": [
      "WARNING:tensorflow:From /home/astrophysics/anaconda2/lib/python2.7/site-packages/tensorflow/python/keras/_impl/keras/backend.py:1456: calling reduce_sum (from tensorflow.python.ops.math_ops) with keep_dims is deprecated and will be removed in a future version.\n",
      "Instructions for updating:\n",
      "keep_dims is deprecated, use keepdims instead\n",
      "WARNING:tensorflow:From /home/astrophysics/anaconda2/lib/python2.7/site-packages/tensorflow/python/keras/_impl/keras/backend.py:1557: calling reduce_mean (from tensorflow.python.ops.math_ops) with keep_dims is deprecated and will be removed in a future version.\n",
      "Instructions for updating:\n",
      "keep_dims is deprecated, use keepdims instead\n"
     ]
    }
   ],
   "source": [
    "MPE_test_losses = []\n",
    "MPE_test_accuracies = []\n",
    "for run_n in run_ns:\n",
    "    #load data\n",
    "    x_test = np.genfromtxt(\"../../data/kaggle/FIFA_2018_Statistics_x_te_\" + str(run_n) + \".csv\", delimiter = ',')\n",
    "    y_test = np.genfromtxt(\"../../data/kaggle/FIFA_2018_Statistics_y_te_\" + str(run_n) + \".csv\", delimiter = ',')\n",
    "    #load keras MPE model\n",
    "    model_r = tf.keras.models.load_model(\"../../MPE_examples/saved_keras_models/kaggle/FIFA_2018_Statistics_slp_sm_\" + str(run_n) + \".h5\", custom_objects={'sum_of_categorical_crossentropy': kl.sum_of_categorical_crossentropy})\n",
    "    #calculate evaluation metrics for keras MPE\n",
    "    y_pred_r = model_r.predict(x_test)\n",
    "    y_test, y_pred_r = tools.check_dtypes(y_test, y_pred_r)\n",
    "    test_loss_r = metrics.categorical_crossentropy(y_test, y_pred_r) #averaged over test set size\n",
    "    test_acc_r = metrics.categorical_accuracy(y_test, y_pred_r)\n",
    "    MPE_test_losses.append(test_loss_r)\n",
    "    MPE_test_accuracies.append(test_acc_r)"
   ]
  },
  {
   "cell_type": "code",
   "execution_count": 5,
   "metadata": {},
   "outputs": [],
   "source": [
    "#load in model from first run\n",
    "x_test = np.genfromtxt(\"../../data/kaggle/FIFA_2018_Statistics_x_te_\" + str(1) + \".csv\", delimiter = ',')\n",
    "y_test = np.genfromtxt(\"../../data/kaggle/FIFA_2018_Statistics_y_te_\" + str(1) + \".csv\", delimiter = ',')\n",
    "#load keras MPE model\n",
    "model_r = tf.keras.models.load_model(\"../../MPE_examples/saved_keras_models/kaggle/FIFA_2018_Statistics_slp_sm_\" + str(1) + \".h5\", custom_objects={'sum_of_categorical_crossentropy': kl.sum_of_categorical_crossentropy})\n",
    "#calculate evaluation metrics for keras MPE\n",
    "y_pred_r = model_r.predict(x_test)"
   ]
  },
  {
   "cell_type": "code",
   "execution_count": 14,
   "metadata": {},
   "outputs": [
    {
     "data": {
      "text/plain": [
       "array([[0.19832076, 0.80167925],\n",
       "       [0.28487757, 0.71512246],\n",
       "       [0.12846611, 0.87153393],\n",
       "       [0.4309077 , 0.56909233],\n",
       "       [0.51794267, 0.48205733],\n",
       "       [0.71066123, 0.28933877],\n",
       "       [0.2642904 , 0.7357096 ],\n",
       "       [0.44528648, 0.55471355],\n",
       "       [0.67772263, 0.32227734],\n",
       "       [0.40895075, 0.59104925],\n",
       "       [0.5386699 , 0.4613301 ],\n",
       "       [0.24792802, 0.752072  ],\n",
       "       [0.565747  , 0.434253  ],\n",
       "       [0.21927941, 0.78072053],\n",
       "       [0.20592867, 0.7940714 ],\n",
       "       [0.90201044, 0.09798948]], dtype=float32)"
      ]
     },
     "execution_count": 14,
     "metadata": {},
     "output_type": "execute_result"
    }
   ],
   "source": [
    "y_pred_r"
   ]
  },
  {
   "cell_type": "code",
   "execution_count": 6,
   "metadata": {},
   "outputs": [
    {
     "name": "stdout",
     "output_type": "stream",
     "text": [
      "('Test loss:', 11.766074180603027)\n",
      "('Test accuracy:', 0.75)\n"
     ]
    }
   ],
   "source": [
    "#this is for testing purposes \n",
    "#model.evaluate should be used with caution, as if mode contains regularisation, the method will include it\n",
    "score_r = model_r.evaluate(x_test, y_test, verbose=0, batch_size=test_num)\n",
    "print('Test loss:', score_r[0])\n",
    "print('Test accuracy:', score_r[1])"
   ]
  },
  {
   "cell_type": "code",
   "execution_count": 6,
   "metadata": {},
   "outputs": [
    {
     "name": "stdout",
     "output_type": "stream",
     "text": [
      "[[-0.6761643   0.6053163 ]\n",
      " [-0.06116175  0.54149187]\n",
      " [ 0.07489242 -0.07099907]\n",
      " [-0.15657759  0.23196256]\n",
      " [-0.30747503  0.8516517 ]\n",
      " [ 0.2835439  -0.25466424]\n",
      " [-0.4790744   0.46951705]\n",
      " [-0.06768923  0.06765081]\n",
      " [ 0.06722418 -0.02446986]\n",
      " [-0.7356136   0.7141812 ]\n",
      " [ 0.10059257 -0.07851817]\n",
      " [-0.01864189 -0.00429505]\n",
      " [-0.00399538  0.00165122]\n",
      " [ 0.09430664 -0.18412459]]\n",
      "[ 0.03261434 -0.03261434]\n",
      "1.9363669\n",
      "0.046123635\n",
      "1.9369162\n",
      "([1.9363669, 0.046123635], 1.9369161)\n"
     ]
    }
   ],
   "source": [
    "print tools.get_km_weight_magnitudes(model_r)"
   ]
  },
  {
   "cell_type": "code",
   "execution_count": 7,
   "metadata": {},
   "outputs": [],
   "source": [
    "#cpp bnn"
   ]
  },
  {
   "cell_type": "code",
   "execution_count": 16,
   "metadata": {},
   "outputs": [],
   "source": [
    "# bnn expected estimates\n",
    "bnn_test_losses = []\n",
    "bnn_test_accuracies = []\n",
    "for run_n in run_ns:\n",
    "    chains_file = '../cpp_models/cpp_chains/FIFA_2018_Statistics_slp_sm_' + str(run_n) + '.txt'\n",
    "    x_test = np.genfromtxt(\"../../data/kaggle/FIFA_2018_Statistics_x_te_\" + str(run_n) + \".csv\", delimiter=',')\n",
    "    y_test = np.genfromtxt(\"../../data/kaggle/FIFA_2018_Statistics_y_te_\" + str(run_n) + \".csv\", delimiter=',')\n",
    "    bmodel = kms.slp_sm(num_inputs, num_outputs, layer_sizes)\n",
    "    bnn_model = bnn.bnn_predictor(bmodel, x_test, y_test, chains_file)\n",
    "    by_pred = bnn_model.predictions_expectation()\n",
    "    y_test, by_pred = tools.check_dtypes(y_test, by_pred)\n",
    "    b_test_loss = metrics.categorical_crossentropy(y_test, by_pred)\n",
    "    b_test_acc = metrics.categorical_accuracy(y_test, by_pred)\n",
    "    bnn_test_losses.append(b_test_loss)\n",
    "    bnn_test_accuracies.append(b_test_acc)"
   ]
  },
  {
   "cell_type": "code",
   "execution_count": 9,
   "metadata": {},
   "outputs": [],
   "source": [
    "# bnn MPE estimates\n",
    "bnn_MPE_test_losses = []\n",
    "bnn_MPE_test_accuracies = []\n",
    "for run_n in run_ns:\n",
    "    chains_file = '../cpp_models/cpp_chains/FIFA_2018_Statistics_slp_sm_' + str(run_n) + '.txt'\n",
    "    x_test = np.genfromtxt(\"../../data/kaggle/FIFA_2018_Statistics_x_te_\" + str(run_n) + \".csv\", delimiter=',')\n",
    "    y_test = np.genfromtxt(\"../../data/kaggle/FIFA_2018_Statistics_y_te_\" + str(run_n) + \".csv\", delimiter=',')\n",
    "    bmodel = kms.slp_sm(num_inputs, num_outputs, layer_sizes)\n",
    "    bnn_model = bnn.bnn_predictor(bmodel, x_test, y_test, chains_file)\n",
    "    by_pred = bnn_model.MPE_prediction()\n",
    "    y_test, by_pred = tools.check_dtypes(y_test, by_pred)\n",
    "    b_test_loss = metrics.categorical_crossentropy(y_test, by_pred)\n",
    "    b_test_acc = metrics.categorical_accuracy(y_test, by_pred)\n",
    "    bnn_MPE_test_losses.append(b_test_loss)\n",
    "    bnn_MPE_test_accuracies.append(b_test_acc)"
   ]
  },
  {
   "cell_type": "code",
   "execution_count": 12,
   "metadata": {
    "scrolled": true
   },
   "outputs": [
    {
     "name": "stdout",
     "output_type": "stream",
     "text": [
      "[[-0.85722125  2.201045  ]\n",
      " [-1.128426   -0.9618036 ]\n",
      " [-0.01186933 -0.07161662]\n",
      " [-0.19148481  1.4325533 ]\n",
      " [-1.3325505  -1.288243  ]\n",
      " [ 1.5406443   0.49094737]\n",
      " [ 1.111408    2.7693534 ]\n",
      " [ 0.07202915  0.6641578 ]\n",
      " [-0.30221823  1.0426121 ]\n",
      " [-0.5718678   0.97703904]\n",
      " [ 1.7841057  -0.41787377]\n",
      " [-0.16570689 -0.02360797]\n",
      " [-1.1184111  -1.1554649 ]\n",
      " [-0.08572011 -0.22775735]]\n",
      "[-0.9668519 -1.263194 ]\n",
      "5.810641\n",
      "1.5907425\n",
      "6.024451\n",
      "([5.810641, 1.5907425], 6.024451)\n"
     ]
    }
   ],
   "source": [
    "print tools.get_km_weight_magnitudes(bnn_model.model)"
   ]
  },
  {
   "cell_type": "code",
   "execution_count": 8,
   "metadata": {},
   "outputs": [
    {
     "name": "stdout",
     "output_type": "stream",
     "text": [
      "[0.646150223639557, 0.5942609350490429, 0.32318632259460517, 0.546431633332441, 0.29450505214739575, 0.287850269842976, 0.2842792626669594, 0.3321624040501262, 0.30422067663949814, 0.32166057952266724]\n",
      "0.3934707359485269\n"
     ]
    }
   ],
   "source": [
    "print MPE_test_losses\n",
    "print np.mean(MPE_test_losses)"
   ]
  },
  {
   "cell_type": "code",
   "execution_count": 17,
   "metadata": {},
   "outputs": [
    {
     "name": "stdout",
     "output_type": "stream",
     "text": [
      "[0.366062825470115, 0.6284091941729878, 0.24924489948015272, 0.5710904364299889, 0.24501502361292296, 0.3579497096714941, 0.27207251425240053, 0.3570041982039275, 0.34970751339715545, 0.35664656718022647]\n",
      "[0.75, 0.625, 0.9375, 0.625, 0.9375, 0.8125, 0.875, 0.8125, 0.8125, 0.8125]\n"
     ]
    }
   ],
   "source": [
    "print bnn_test_losses\n",
    "print bnn_test_accuracies"
   ]
  },
  {
   "cell_type": "code",
   "execution_count": 14,
   "metadata": {},
   "outputs": [
    {
     "name": "stdout",
     "output_type": "stream",
     "text": [
      "[0.8409075339178537, 0.8671017332912981, 0.550785078166951, 0.7411403889394357, 0.25798395642442773, 0.7648644009996977, 0.27389507183596595, 0.6367651840596237, 0.9569289182702858, 0.5288760076862427]\n",
      "[0.5625, 0.625, 0.75, 0.625, 0.9375, 0.8125, 0.875, 0.8125, 0.625, 0.75]\n"
     ]
    }
   ],
   "source": [
    "print bnn_MPE_test_losses\n",
    "print bnn_MPE_test_accuracies"
   ]
  },
  {
   "cell_type": "code",
   "execution_count": 5,
   "metadata": {
    "scrolled": true
   },
   "outputs": [],
   "source": [
    "#just look at first run from cpp chains\n",
    "chains_file = '../cpp_models/cpp_chains/FIFA_2018_Statistics_slp_sm_' + str(1) + '.txt'\n",
    "x_test = np.genfromtxt(\"../../data/kaggle/FIFA_2018_Statistics_x_te_\" + str(1) + \".csv\", delimiter=',')\n",
    "y_test = np.genfromtxt(\"../../data/kaggle/FIFA_2018_Statistics_y_te_\" + str(1) + \".csv\", delimiter=',')\n",
    "bmodel = kms.slp_sm(num_inputs, num_outputs, layer_sizes)\n",
    "bnn_model = bnn.bnn_predictor(bmodel, x_test, y_test, chains_file)\n",
    "bnn_model.setup_LL('categorical_crossentropy')"
   ]
  },
  {
   "cell_type": "code",
   "execution_count": 9,
   "metadata": {},
   "outputs": [],
   "source": [
    "bnn_model.y_pred_paramnames('FIFA_2018_Statistics_slp_sm_pred_' + str(1))"
   ]
  },
  {
   "cell_type": "code",
   "execution_count": 11,
   "metadata": {},
   "outputs": [
    {
     "data": {
      "text/plain": [
       "array([[3.18120668e-154, 7.60750497e+002, 3.63046212e-007,\n",
       "        9.99999642e-001],\n",
       "       [7.49849493e-149, 7.36007763e+002, 3.97993386e-001,\n",
       "        6.02006614e-001],\n",
       "       [5.00839506e-140, 6.95366406e+002, 9.41447735e-001,\n",
       "        5.85522838e-002],\n",
       "       ...,\n",
       "       [1.56641763e-002, 1.61902841e+001, 9.68318820e-001,\n",
       "        3.16811278e-002],\n",
       "       [1.71406913e-002, 1.60101263e+001, 9.20546710e-001,\n",
       "        7.94532746e-002],\n",
       "       [2.66659221e-002, 1.51262639e+001, 9.51721430e-001,\n",
       "        4.82785702e-002]])"
      ]
     },
     "execution_count": 11,
     "metadata": {},
     "output_type": "execute_result"
    }
   ],
   "source": [
    "bnn_model.y_pred_chains('keras_chains/FIFA_2018_Statistics_slp_sm_pred_' + str(1) + '_' + str(1), test_index = 1)"
   ]
  },
  {
   "cell_type": "code",
   "execution_count": 10,
   "metadata": {},
   "outputs": [
    {
     "data": {
      "text/plain": [
       "array([[6.9351736e-05, 9.9993062e-01],\n",
       "       [7.4244219e-01, 2.5755775e-01],\n",
       "       [4.2735225e-01, 5.7264781e-01],\n",
       "       [9.2278069e-01, 7.7219315e-02],\n",
       "       [2.0204382e-01, 7.9795611e-01],\n",
       "       [7.2129518e-01, 2.7870479e-01],\n",
       "       [5.0906497e-01, 4.9093500e-01],\n",
       "       [4.5925999e-04, 9.9954081e-01],\n",
       "       [3.8758034e-01, 6.1241972e-01],\n",
       "       [1.1770270e-01, 8.8229728e-01],\n",
       "       [9.8896092e-01, 1.1039097e-02],\n",
       "       [2.9892327e-02, 9.7010761e-01],\n",
       "       [7.9502410e-01, 2.0497583e-01],\n",
       "       [9.3773438e-04, 9.9906224e-01],\n",
       "       [5.5223264e-02, 9.4477671e-01],\n",
       "       [9.2320722e-01, 7.6792717e-02]], dtype=float32)"
      ]
     },
     "execution_count": 10,
     "metadata": {},
     "output_type": "execute_result"
    }
   ],
   "source": [
    "bnn_model.MPE_prediction()"
   ]
  },
  {
   "cell_type": "code",
   "execution_count": 12,
   "metadata": {},
   "outputs": [
    {
     "data": {
      "text/plain": [
       "array([[1.7810422e-05, 9.9998224e-01],\n",
       "       [9.5172143e-01, 4.8278570e-02],\n",
       "       [2.7556656e-02, 9.7244328e-01],\n",
       "       [9.9632108e-01, 3.6789160e-03],\n",
       "       [5.9966612e-01, 4.0033394e-01],\n",
       "       [8.6174303e-01, 1.3825704e-01],\n",
       "       [3.3111984e-01, 6.6888016e-01],\n",
       "       [3.4005450e-05, 9.9996603e-01],\n",
       "       [9.9820960e-01, 1.7903876e-03],\n",
       "       [4.8865047e-01, 5.1134950e-01],\n",
       "       [9.9952435e-01, 4.7566410e-04],\n",
       "       [2.6356284e-02, 9.7364378e-01],\n",
       "       [8.0469024e-01, 1.9530970e-01],\n",
       "       [9.4777233e-06, 9.9999046e-01],\n",
       "       [2.3397352e-01, 7.6602656e-01],\n",
       "       [8.8386852e-01, 1.1613145e-01]], dtype=float32)"
      ]
     },
     "execution_count": 12,
     "metadata": {},
     "output_type": "execute_result"
    }
   ],
   "source": [
    "bnn_model.MLE_prediction()"
   ]
  },
  {
   "cell_type": "code",
   "execution_count": null,
   "metadata": {},
   "outputs": [],
   "source": []
  }
 ],
 "metadata": {
  "kernelspec": {
   "display_name": "Python 2",
   "language": "python",
   "name": "python2"
  },
  "language_info": {
   "codemirror_mode": {
    "name": "ipython",
    "version": 2
   },
   "file_extension": ".py",
   "mimetype": "text/x-python",
   "name": "python",
   "nbconvert_exporter": "python",
   "pygments_lexer": "ipython2",
   "version": "2.7.15"
  }
 },
 "nbformat": 4,
 "nbformat_minor": 2
}
