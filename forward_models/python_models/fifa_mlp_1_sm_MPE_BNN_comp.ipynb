{
 "cells": [
  {
   "cell_type": "code",
   "execution_count": 23,
   "metadata": {},
   "outputs": [],
   "source": [
    "import numpy as np\n",
    "import tensorflow as tf\n",
    "import tools\n",
    "import metrics\n",
    "import keras_losses as kl\n",
    "import keras_models as kms\n",
    "import bnn_predictions as bnn"
   ]
  },
  {
   "cell_type": "code",
   "execution_count": 15,
   "metadata": {},
   "outputs": [],
   "source": [
    "run_ns = range(1,11)\n",
    "#architecture parameters\n",
    "num_inputs = 14\n",
    "num_outputs = 2\n",
    "layer_sizes = []\n",
    "m = 64 #total number of records\n",
    "training_size = 48. / 64.\n",
    "test_size = 1 - training_size\n",
    "test_num = int(np.ceil(m * test_size))"
   ]
  },
  {
   "cell_type": "code",
   "execution_count": 7,
   "metadata": {},
   "outputs": [],
   "source": [
    "#following loops could easily be included into same loop, but currently have them separate for clarity"
   ]
  },
  {
   "cell_type": "code",
   "execution_count": 10,
   "metadata": {},
   "outputs": [
    {
     "name": "stdout",
     "output_type": "stream",
     "text": [
      "WARNING:tensorflow:From /home/astrophysics/anaconda2/lib/python2.7/site-packages/tensorflow/python/keras/_impl/keras/backend.py:1557: calling reduce_mean (from tensorflow.python.ops.math_ops) with keep_dims is deprecated and will be removed in a future version.\n",
      "Instructions for updating:\n",
      "keep_dims is deprecated, use keepdims instead\n"
     ]
    }
   ],
   "source": [
    "MPE_test_losses = []\n",
    "MPE_test_accuracies = []\n",
    "for run_n in run_ns:\n",
    "    #load data\n",
    "    x_test = np.genfromtxt(\"../../data/kaggle/FIFA_2018_Statistics_x_te_\" + str(run_n) + \".csv\", delimiter = ',')\n",
    "    y_test = np.genfromtxt(\"../../data/kaggle/FIFA_2018_Statistics_y_te_\" + str(run_n) + \".csv\", delimiter = ',')\n",
    "    #load keras MPE model\n",
    "    model_r = tf.keras.models.load_model(\"../../MPE_examples/saved_keras_models/kaggle/FIFA_2018_Statistics_mlp_1_sm_\" + str(run_n) + \".h5\", custom_objects={'sum_of_categorical_crossentropy': kl.sum_of_categorical_crossentropy})\n",
    "    #calculate evaluation metrics for keras MPE\n",
    "    y_pred_r = model_r.predict(x_test)\n",
    "    y_test, y_pred_r = tools.check_dtypes(y_test, y_pred_r)\n",
    "    test_loss_r = metrics.categorical_crossentropy(y_test, y_pred_r) #averaged over test set size\n",
    "    test_acc_r = metrics.categorical_accuracy(y_test, y_pred_r)\n",
    "    MPE_test_losses.append(test_loss_r)\n",
    "    MPE_test_accuracies.append(test_acc_r)"
   ]
  },
  {
   "cell_type": "code",
   "execution_count": 16,
   "metadata": {},
   "outputs": [
    {
     "name": "stdout",
     "output_type": "stream",
     "text": [
      "('Test loss:', 10.246844291687012)\n",
      "('Test accuracy:', 0.875)\n"
     ]
    }
   ],
   "source": [
    "#this is for testing purposes \n",
    "#model.evaluate should be used with caution, as if mode contains regularisation, the method will include it\n",
    "score_r = model_r.evaluate(x_test, y_test, verbose=0, batch_size=test_num)\n",
    "print('Test loss:', score_r[0])\n",
    "print('Test accuracy:', score_r[1])"
   ]
  },
  {
   "cell_type": "code",
   "execution_count": 21,
   "metadata": {},
   "outputs": [
    {
     "ename": "NameError",
     "evalue": "name 'weight_arr_r' is not defined",
     "output_type": "error",
     "traceback": [
      "\u001b[0;31m---------------------------------------------------------------------------\u001b[0m",
      "\u001b[0;31mNameError\u001b[0m                                 Traceback (most recent call last)",
      "\u001b[0;32m<ipython-input-21-d2293982f19e>\u001b[0m in \u001b[0;36m<module>\u001b[0;34m()\u001b[0m\n\u001b[1;32m      1\u001b[0m \u001b[0mweight_arrs\u001b[0m \u001b[0;34m=\u001b[0m \u001b[0mmodel_r\u001b[0m\u001b[0;34m.\u001b[0m\u001b[0mget_weights\u001b[0m\u001b[0;34m(\u001b[0m\u001b[0;34m)\u001b[0m\u001b[0;34m\u001b[0m\u001b[0m\n\u001b[0;32m----> 2\u001b[0;31m \u001b[0mweight_magnitude_r\u001b[0m \u001b[0;34m=\u001b[0m \u001b[0mnp\u001b[0m\u001b[0;34m.\u001b[0m\u001b[0mlinalg\u001b[0m\u001b[0;34m.\u001b[0m\u001b[0mnorm\u001b[0m\u001b[0;34m(\u001b[0m\u001b[0mweight_arr_r\u001b[0m\u001b[0;34m)\u001b[0m\u001b[0;34m\u001b[0m\u001b[0m\n\u001b[0m\u001b[1;32m      3\u001b[0m \u001b[0mbias_magnitude_r\u001b[0m \u001b[0;34m=\u001b[0m \u001b[0mnp\u001b[0m\u001b[0;34m.\u001b[0m\u001b[0mlinalg\u001b[0m\u001b[0;34m.\u001b[0m\u001b[0mnorm\u001b[0m\u001b[0;34m(\u001b[0m\u001b[0mbias_arr_r\u001b[0m\u001b[0;34m)\u001b[0m\u001b[0;34m\u001b[0m\u001b[0m\n\u001b[1;32m      4\u001b[0m \u001b[0mw_b_magnitude_r\u001b[0m \u001b[0;34m=\u001b[0m \u001b[0mnp\u001b[0m\u001b[0;34m.\u001b[0m\u001b[0mlinalg\u001b[0m\u001b[0;34m.\u001b[0m\u001b[0mnorm\u001b[0m\u001b[0;34m(\u001b[0m\u001b[0mnp\u001b[0m\u001b[0;34m.\u001b[0m\u001b[0mconcatenate\u001b[0m\u001b[0;34m(\u001b[0m\u001b[0;34m[\u001b[0m\u001b[0mnp\u001b[0m\u001b[0;34m.\u001b[0m\u001b[0mflatten\u001b[0m\u001b[0;34m(\u001b[0m\u001b[0mweight_arr_r\u001b[0m\u001b[0;34m)\u001b[0m\u001b[0;34m,\u001b[0m \u001b[0mbias_arr_r\u001b[0m\u001b[0;34m]\u001b[0m\u001b[0;34m)\u001b[0m\u001b[0;34m)\u001b[0m\u001b[0;34m\u001b[0m\u001b[0m\n\u001b[1;32m      5\u001b[0m \u001b[0;32mprint\u001b[0m \u001b[0mweight_arr_r\u001b[0m\u001b[0;34m\u001b[0m\u001b[0m\n",
      "\u001b[0;31mNameError\u001b[0m: name 'weight_arr_r' is not defined"
     ]
    }
   ],
   "source": [
    "print tools.get_km_weight_magnitudes(model_r)"
   ]
  },
  {
   "cell_type": "code",
   "execution_count": 20,
   "metadata": {},
   "outputs": [],
   "source": [
    "#cpp bnn"
   ]
  },
  {
   "cell_type": "code",
   "execution_count": 27,
   "metadata": {},
   "outputs": [],
   "source": [
    "# bnn expected estimates\n",
    "bnn_test_losses = []\n",
    "bnn_test_accuracies = []\n",
    "for seed_n in seed_ns:\n",
    "    chains_file = '../cpp_models/cpp_chains/FIFA_2018_Statistics_slp_sm_' + str(seed_n) + '.txt'\n",
    "    x_test = np.genfromtxt(\"../../data/kaggle/FIFA_2018_Statistics_x_te_\" + str(seed_n) + \".csv\", delimiter=',')\n",
    "    y_test = np.genfromtxt(\"../../data/kaggle/FIFA_2018_Statistics_y_te_\" + str(seed_n) + \".csv\", delimiter=',')\n",
    "    bmodel = kms.slp_sm(num_inputs, num_outputs, layer_sizes)\n",
    "    bnn_model = bnn.bnn_predictor(bmodel, x_test, y_test, chains_file)\n",
    "    by_pred = bnn_model.predictions_expectation()\n",
    "    y_test, by_pred = tools.check_dtypes(y_test, by_pred)\n",
    "    b_test_loss = metrics.categorical_crossentropy(y_test, by_pred)\n",
    "    b_test_acc = metrics.categorical_accuracy(y_test, by_pred)\n",
    "    bnn_test_losses.append(b_test_loss)\n",
    "    bnn_test_accuracies.append(b_test_acc)"
   ]
  },
  {
   "cell_type": "code",
   "execution_count": 29,
   "metadata": {},
   "outputs": [],
   "source": [
    "# bnn MPE estimates\n",
    "bnn_MPE_test_losses = []\n",
    "bnn_MPE_test_accuracies = []\n",
    "for seed_n in seed_ns:\n",
    "    chains_file = '../cpp_models/cpp_chains/FIFA_2018_Statistics_slp_sm_' + str(seed_n) + '.txt'\n",
    "    x_test = np.genfromtxt(\"../../data/kaggle/FIFA_2018_Statistics_x_te_\" + str(seed_n) + \".csv\", delimiter=',')\n",
    "    y_test = np.genfromtxt(\"../../data/kaggle/FIFA_2018_Statistics_y_te_\" + str(seed_n) + \".csv\", delimiter=',')\n",
    "    bmodel = kms.slp_sm(num_inputs, num_outputs, layer_sizes)\n",
    "    bnn_model = bnn.bnn_predictor(bmodel, x_test, y_test, chains_file)\n",
    "    by_pred = bnn_model.MPE_prediction()\n",
    "    y_test, by_pred = tools.check_dtypes(y_test, by_pred)\n",
    "    b_test_loss = metrics.categorical_crossentropy(y_test, by_pred)\n",
    "    b_test_acc = metrics.categorical_accuracy(y_test, by_pred)\n",
    "    bnn_MPE_test_losses.append(b_test_loss)\n",
    "    bnn_MPE_test_accuracies.append(b_test_acc)"
   ]
  },
  {
   "cell_type": "code",
   "execution_count": 99,
   "metadata": {
    "scrolled": true
   },
   "outputs": [
    {
     "name": "stdout",
     "output_type": "stream",
     "text": [
      "[[-1.8274463   1.0707233 ]\n",
      " [ 1.7094133   2.1497848 ]\n",
      " [ 0.16490114  2.1739173 ]\n",
      " [-1.3065757  -0.5605142 ]\n",
      " [ 0.39965272  1.2336111 ]\n",
      " [ 0.20807227  0.36302057]\n",
      " [-1.7788959  -1.1387717 ]\n",
      " [ 0.49126852  2.0472205 ]\n",
      " [-0.01662266  0.9817281 ]\n",
      " [-1.993626   -0.17394267]\n",
      " [ 1.3757656   1.7654557 ]\n",
      " [ 0.14453389 -1.1336504 ]\n",
      " [-0.509835   -0.45083138]\n",
      " [ 0.32196507  2.0590575 ]]\n",
      "6.756143\n",
      "[0.76898944 1.6223899 ]\n"
     ]
    }
   ],
   "source": [
    "print tools.get_km_weight_magnitudes(bnn_model.model)"
   ]
  },
  {
   "cell_type": "code",
   "execution_count": 13,
   "metadata": {},
   "outputs": [
    {
     "name": "stdout",
     "output_type": "stream",
     "text": [
      "[0.32759630838795345, 0.4225802663773003, 0.12131025542980348, 0.30824884459329777, 0.11625859189461707, 0.23641955767032724, 0.16409620996177599, 0.22252846215936345, 0.2170064017972021, 0.2708099053281938]\n",
      "0.88125\n"
     ]
    }
   ],
   "source": [
    "print MPE_test_losses\n",
    "print np.mean(MPE_test_accuracies)"
   ]
  },
  {
   "cell_type": "code",
   "execution_count": 30,
   "metadata": {},
   "outputs": [
    {
     "name": "stdout",
     "output_type": "stream",
     "text": [
      "[0.366062825470115, 0.6284091941729878, 0.24924489948015272, 0.5710904364299889, 0.24501502361292296, 0.3579497096714941, 0.27207251425240053, 0.3570041982039275, 0.34970751339715545, 0.3565284383714001]\n",
      "[0.75, 0.625, 0.9375, 0.625, 0.9375, 0.8125, 0.875, 0.8125, 0.8125, 0.8125]\n"
     ]
    }
   ],
   "source": [
    "print bnn_test_losses\n",
    "print bnn_test_accuracies"
   ]
  },
  {
   "cell_type": "code",
   "execution_count": 31,
   "metadata": {},
   "outputs": [
    {
     "name": "stdout",
     "output_type": "stream",
     "text": [
      "[0.8409075339178537, 0.8671017332912981, 0.550785078166951, 0.7411403889394357, 0.25798395642442773, 0.7648644009996977, 0.27389507183596595, 0.6367651840596237, 0.9569289182702858, 0.5288760076862427]\n",
      "[0.5625, 0.625, 0.75, 0.625, 0.9375, 0.8125, 0.875, 0.8125, 0.625, 0.75]\n"
     ]
    }
   ],
   "source": [
    "print bnn_MPE_test_losses\n",
    "print bnn_MPE_test_accuracies"
   ]
  },
  {
   "cell_type": "code",
   "execution_count": null,
   "metadata": {},
   "outputs": [],
   "source": []
  }
 ],
 "metadata": {
  "kernelspec": {
   "display_name": "Python 2",
   "language": "python",
   "name": "python2"
  },
  "language_info": {
   "codemirror_mode": {
    "name": "ipython",
    "version": 2
   },
   "file_extension": ".py",
   "mimetype": "text/x-python",
   "name": "python",
   "nbconvert_exporter": "python",
   "pygments_lexer": "ipython2",
   "version": "2.7.15"
  }
 },
 "nbformat": 4,
 "nbformat_minor": 2
}
