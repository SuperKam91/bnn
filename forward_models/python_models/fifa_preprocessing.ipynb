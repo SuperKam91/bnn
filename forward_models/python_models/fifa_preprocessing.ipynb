{
 "cells": [
  {
   "cell_type": "code",
   "execution_count": 6,
   "metadata": {},
   "outputs": [
    {
     "name": "stderr",
     "output_type": "stream",
     "text": [
      "/home/astrophysics/anaconda2/lib/python2.7/site-packages/h5py/__init__.py:36: FutureWarning: Conversion of the second argument of issubdtype from `float` to `np.floating` is deprecated. In future, it will be treated as `np.float64 == np.dtype(float).type`.\n",
      "  from ._conv import register_converters as _register_converters\n"
     ]
    }
   ],
   "source": [
    "import numpy as np\n",
    "import sklearn.model_selection\n",
    "import sklearn.preprocessing\n",
    "import tensorflow as tf"
   ]
  },
  {
   "cell_type": "code",
   "execution_count": 7,
   "metadata": {},
   "outputs": [],
   "source": [
    "fifa_a = np.genfromtxt('../../data/kaggle/FIFA_2018_Statistics_data1.csv', delimiter=',')\n",
    "x = fifa_a[:,:-1]\n",
    "y = fifa_a[:,-1]"
   ]
  },
  {
   "cell_type": "code",
   "execution_count": 10,
   "metadata": {},
   "outputs": [],
   "source": [
    "m = x.shape[0]\n",
    "num_outputs = 2\n",
    "training_size = 48. / 64.\n",
    "test_size = 1 - training_size\n",
    "train_num = int(m * training_size)\n",
    "test_num = int(np.ceil(m * test_size))"
   ]
  },
  {
   "cell_type": "code",
   "execution_count": 11,
   "metadata": {},
   "outputs": [],
   "source": [
    "seed_ns = range(1,11)\n",
    "for seed_n in seed_ns:\n",
    "    np.random.seed(seed_n)\n",
    "    x_train, x_test, y_train, y_test = sklearn.model_selection.train_test_split(x, y, test_size = test_size)\n",
    "    y_train = tf.keras.utils.to_categorical(y_train, num_outputs)\n",
    "    y_test = tf.keras.utils.to_categorical(y_test, num_outputs)\n",
    "\n",
    "    #scale training data to have zero mean and unit variance\n",
    "    scaler = sklearn.preprocessing.StandardScaler(copy = False)\n",
    "    scaler.fit(x_train)\n",
    "    scaler.transform(x_train)\n",
    "    scaler.transform(x_test)\n",
    "    \n",
    "    #for sake of fairness, try all analysis with same training/test split, so save these to disc.\n",
    "    #note y is now stored in categorical form\n",
    "    np.savetxt(\"../../data/kaggle/FIFA_2018_Statistics_x_tr_\" + str(seed_n) + \".csv\", x_train, delimiter=\",\")\n",
    "    np.savetxt(\"../../data/kaggle/FIFA_2018_Statistics_y_tr_\" + str(seed_n) + \".csv\", y_train, delimiter=\",\")\n",
    "    np.savetxt(\"../../data/kaggle/FIFA_2018_Statistics_x_te_\" + str(seed_n) + \".csv\", x_test, delimiter=\",\")\n",
    "    np.savetxt(\"../../data/kaggle/FIFA_2018_Statistics_y_te_\" + str(seed_n) + \".csv\", y_test, delimiter=\",\")"
   ]
  }
 ],
 "metadata": {
  "kernelspec": {
   "display_name": "Python 2",
   "language": "python",
   "name": "python2"
  },
  "language_info": {
   "codemirror_mode": {
    "name": "ipython",
    "version": 2
   },
   "file_extension": ".py",
   "mimetype": "text/x-python",
   "name": "python",
   "nbconvert_exporter": "python",
   "pygments_lexer": "ipython2",
   "version": "2.7.15"
  }
 },
 "nbformat": 4,
 "nbformat_minor": 2
}
