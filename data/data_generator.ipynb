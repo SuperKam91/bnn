{
 "cells": [
  {
   "cell_type": "code",
   "execution_count": 1,
   "metadata": {},
   "outputs": [],
   "source": [
    "import numpy as np"
   ]
  },
  {
   "cell_type": "code",
   "execution_count": 3,
   "metadata": {},
   "outputs": [],
   "source": [
    "#################### simple linear ########################\n",
    "num_inputs = 1\n",
    "num_outputs = 1\n",
    "m = 1000\n",
    "data = 'simple_linear'\n",
    "x_f = data + '_x.txt'\n",
    "y_f = data + '_y.txt'\n",
    "t_f = data + '_data.txt'\n",
    "x_tr = np.arange(m * num_inputs).reshape(m, num_inputs)\n",
    "y_tr = 1. / 2. * x_tr + 1. / 3. "
   ]
  },
  {
   "cell_type": "code",
   "execution_count": 5,
   "metadata": {},
   "outputs": [],
   "source": [
    "#################### simple quadratic ########################\n",
    "num_inputs = 1\n",
    "num_outputs = 1\n",
    "m = 1000\n",
    "data = 'simple_quadratic'\n",
    "x_f = data + '_x.txt'\n",
    "y_f = data + '_y.txt'\n",
    "t_f = data + '_data.txt'\n",
    "x_tr = np.arange(m * num_inputs).reshape(m, num_inputs)\n",
    "y_tr = x_tr **2 + 1. / 2. * x_tr + 1. / 3."
   ]
  },
  {
   "cell_type": "code",
   "execution_count": 3,
   "metadata": {},
   "outputs": [],
   "source": [
    "################## simple tanh #################\n",
    "num_inputs = 1\n",
    "num_outputs = 1\n",
    "m = 1000\n",
    "data = 'simple_tanh'\n",
    "x_f = data + '_x.txt'\n",
    "y_f = data + '_y.txt'\n",
    "t_f = data + '_data.txt'\n",
    "x_tr = np.arange(m * num_inputs).reshape(m, num_inputs)\n",
    "y_tr = np.tanh(0.8 * x_tr) + np.tanh(-0.2 * x_tr)"
   ]
  },
  {
   "cell_type": "code",
   "execution_count": 4,
   "metadata": {},
   "outputs": [],
   "source": [
    "####################### save data ##############################\n",
    "tr = np.concatenate([x_tr, y_tr],axis=1)\n",
    "np.savetxt(x_f, x_tr, delimiter=',')\n",
    "np.savetxt(y_f, y_tr, delimiter=',')\n",
    "np.savetxt(t_f, tr, delimiter=',')"
   ]
  },
  {
   "cell_type": "code",
   "execution_count": 12,
   "metadata": {},
   "outputs": [],
   "source": [
    "##################### random weights ###########################\n",
    "#sample uniformly on [a, b)\n",
    "np.random.seed(1337)\n",
    "a = 0.\n",
    "b = 1.\n",
    "n_weights = 1000\n",
    "w = np.random.random(n_weights) * (b - a) + a\n",
    "w_f = 'random_weights.txt'"
   ]
  },
  {
   "cell_type": "code",
   "execution_count": 4,
   "metadata": {},
   "outputs": [],
   "source": [
    "################### linear weights ################################\n",
    "#integers on [a, b)\n",
    "a = 1\n",
    "b = 1000\n",
    "w = np.arange(a, b)\n",
    "w_f = 'linear_weights.txt'"
   ]
  },
  {
   "cell_type": "code",
   "execution_count": 5,
   "metadata": {},
   "outputs": [],
   "source": [
    "################## save weights #####################\n",
    "np.savetxt(w_f, w, delimiter=',')"
   ]
  },
  {
   "cell_type": "code",
   "execution_count": 2,
   "metadata": {},
   "outputs": [],
   "source": [
    "################### linear m x n input data ################################\n",
    "#integers on [a, b)\n",
    "a = 1\n",
    "b = 7\n",
    "m = 3\n",
    "n = 2\n",
    "d = np.arange(a, b).reshape(m, n)\n",
    "d_f = 'linear_input_data.txt'"
   ]
  },
  {
   "cell_type": "code",
   "execution_count": 3,
   "metadata": {},
   "outputs": [],
   "source": [
    "################## save data #####################\n",
    "np.savetxt(d_f, d, delimiter=',')"
   ]
  },
  {
   "cell_type": "code",
   "execution_count": null,
   "metadata": {},
   "outputs": [],
   "source": []
  }
 ],
 "metadata": {
  "kernelspec": {
   "display_name": "Python 2",
   "language": "python",
   "name": "python2"
  },
  "language_info": {
   "codemirror_mode": {
    "name": "ipython",
    "version": 2
   },
   "file_extension": ".py",
   "mimetype": "text/x-python",
   "name": "python",
   "nbconvert_exporter": "python",
   "pygments_lexer": "ipython2",
   "version": "2.7.15"
  }
 },
 "nbformat": 4,
 "nbformat_minor": 2
}
