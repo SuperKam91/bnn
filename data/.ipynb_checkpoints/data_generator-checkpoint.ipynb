{
 "cells": [
  {
   "cell_type": "code",
   "execution_count": 1,
   "metadata": {},
   "outputs": [],
   "source": [
    "import numpy as np"
   ]
  },
  {
   "cell_type": "code",
   "execution_count": 5,
   "metadata": {},
   "outputs": [],
   "source": [
    "#################### simple polynomial ########################\n",
    "num_inputs = 1\n",
    "num_outputs = 1\n",
    "m = 1000\n",
    "data = 'simple_polynomial'\n",
    "x_f = data + '_x.txt'\n",
    "y_f = data + '_y.txt'\n",
    "t_f = data + '_data.txt'\n",
    "x_tr = np.arange(m * num_inputs).reshape(m, num_inputs)\n",
    "y_tr = 6 * x_tr **2 + 17 * x_tr + 13"
   ]
  },
  {
   "cell_type": "code",
   "execution_count": 6,
   "metadata": {},
   "outputs": [],
   "source": [
    "####################### save data ##############################\n",
    "tr = np.concatenate([x_tr, y_tr],axis=1)\n",
    "np.savetxt(x_f, x_tr, delimiter=',')\n",
    "np.savetxt(y_f, y_tr, delimiter=',')\n",
    "np.savetxt(t_f, tr, delimiter=',')"
   ]
  },
  {
   "cell_type": "code",
   "execution_count": null,
   "metadata": {},
   "outputs": [],
   "source": []
  }
 ],
 "metadata": {
  "kernelspec": {
   "display_name": "Python 2",
   "language": "python",
   "name": "python2"
  },
  "language_info": {
   "codemirror_mode": {
    "name": "ipython",
    "version": 2
   },
   "file_extension": ".py",
   "mimetype": "text/x-python",
   "name": "python",
   "nbconvert_exporter": "python",
   "pygments_lexer": "ipython2",
   "version": "2.7.15"
  }
 },
 "nbformat": 4,
 "nbformat_minor": 2
}
