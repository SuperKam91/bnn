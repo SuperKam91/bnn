{
 "cells": [
  {
   "cell_type": "code",
   "execution_count": 1,
   "metadata": {},
   "outputs": [],
   "source": [
    "import numpy as np"
   ]
  },
  {
   "cell_type": "code",
   "execution_count": 3,
   "metadata": {},
   "outputs": [],
   "source": [
    "splits = ['train', 'test']\n",
    "z = np.genfromtxt('zData_090219.txt')\n",
    "n_z = len(z)\n",
    "#training data\n",
    "twenty_one_tr = np.genfromtxt('T21_' + splits[0] + '_090219.txt')\n",
    "twenty_ones_tr = twenty_one_tr.reshape(-1, 1)\n",
    "zs_tr = np.stack([z for _ in range(twenty_one_tr.shape[0])], axis=0).reshape(-1, 1)\n",
    "par_tr = np.genfromtxt('Par_' + splits[0] + '_090219.txt')\n",
    "pars_tr = np.repeat(par_tr, n_z, axis=0)\n",
    "full_tr = np.hstack([pars_tr, zs_tr, twenty_ones_tr])\n",
    "np.savetxt('8_params_21_tr.txt', full_tr, delimiter = ' ')\n",
    "#test data\n",
    "twenty_one_te = np.genfromtxt('T21_' + splits[1] + '_090219.txt')\n",
    "twenty_ones_te = twenty_one_te.reshape(-1, 1)\n",
    "zs_te = np.stack([z for _ in range(twenty_one_te.shape[0])], axis=0).reshape(-1, 1)\n",
    "par_te = np.genfromtxt('Par_' + splits[1] + '_090219.txt')\n",
    "pars_te = np.repeat(par_te, n_z, axis=0)\n",
    "full_te = np.hstack([pars_te, zs_te, twenty_ones_te])\n",
    "np.savetxt('8_params_21_te.txt', full_te, delimiter = ' ')\n",
    "full = np.vstack([full_tr, full_te])\n",
    "np.savetxt('8_params_21.txt', full, delimiter = ' ')"
   ]
  },
  {
   "cell_type": "code",
   "execution_count": null,
   "metadata": {},
   "outputs": [],
   "source": []
  }
 ],
 "metadata": {
  "kernelspec": {
   "display_name": "Python 2",
   "language": "python",
   "name": "python2"
  },
  "language_info": {
   "codemirror_mode": {
    "name": "ipython",
    "version": 2
   },
   "file_extension": ".py",
   "mimetype": "text/x-python",
   "name": "python",
   "nbconvert_exporter": "python",
   "pygments_lexer": "ipython2",
   "version": "2.7.15"
  }
 },
 "nbformat": 4,
 "nbformat_minor": 2
}
