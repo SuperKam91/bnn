{
 "cells": [
  {
   "cell_type": "code",
   "execution_count": 71,
   "metadata": {},
   "outputs": [],
   "source": [
    "import pandas as pd\n",
    "import numpy as np\n",
    "from datetime import datetime as dt"
   ]
  },
  {
   "cell_type": "code",
   "execution_count": 72,
   "metadata": {},
   "outputs": [],
   "source": [
    "def date_str_parser(dt_str):\n",
    "    return dt.strptime(dt_str, '%d-%m-%Y')"
   ]
  },
  {
   "cell_type": "code",
   "execution_count": 73,
   "metadata": {},
   "outputs": [],
   "source": [
    "df_orig = pd.read_csv('FIFA_2018_Statistics_orig.csv', parse_dates=[0], date_parser=date_str_parser)\n"
   ]
  },
  {
   "cell_type": "markdown",
   "metadata": {},
   "source": [
    "# Example of preprocessing copied from: https://www.kaggle.com/mathvv/seaborn-tutorial-and-fifa2018-mom-prediction "
   ]
  },
  {
   "cell_type": "code",
   "execution_count": 74,
   "metadata": {},
   "outputs": [],
   "source": [
    "df_ex = df_orig.copy()"
   ]
  },
  {
   "cell_type": "code",
   "execution_count": 75,
   "metadata": {},
   "outputs": [],
   "source": [
    "dropset = ['PSO','Goals in PSO', 'Own goals','Own goal Time']\n",
    "df_ex.drop(dropset,axis=1,inplace=True)"
   ]
  },
  {
   "cell_type": "code",
   "execution_count": 76,
   "metadata": {},
   "outputs": [],
   "source": [
    "df_ex.replace(('Yes', 'No'), (1, 0), inplace=True)\n",
    "df_ex['1st Goal'] = df_ex['1st Goal'].fillna(0)\n",
    "#change first goal to categorical\n",
    "df_ex['1st Goal'].loc[(df_ex['1st Goal'] >= 1) & (df_ex['1st Goal'] < 15)] = 1\n",
    "df_ex['1st Goal'].loc[(df_ex['1st Goal'] >= 15) & (df_ex['1st Goal'] < 30)] = 2\n",
    "df_ex['1st Goal'].loc[(df_ex['1st Goal'] >= 30) & (df_ex['1st Goal'] < 45)] = 3\n",
    "df_ex['1st Goal'].loc[(df_ex['1st Goal'] >= 45) & (df_ex['1st Goal'] < 60)] = 4\n",
    "df_ex['1st Goal'].loc[(df_ex['1st Goal'] >= 60) & (df_ex['1st Goal'] < 75)] = 5\n",
    "df_ex['1st Goal'].loc[df_ex['1st Goal'] >= 75] = 6"
   ]
  },
  {
   "cell_type": "code",
   "execution_count": 78,
   "metadata": {
    "scrolled": false
   },
   "outputs": [
    {
     "name": "stderr",
     "output_type": "stream",
     "text": [
      "/home/astrophysics/anaconda2/lib/python2.7/site-packages/ipykernel_launcher.py:11: RuntimeWarning: invalid value encountered in divide\n",
      "  # This is added back by InteractiveShellApp.init_path()\n"
     ]
    }
   ],
   "source": [
    "categories = ['Goal Scored','1st Goal','Ball Possession %','Attempts','On-Target','Blocked','Corners','Offsides','Free Kicks','Saves','Pass Accuracy %','Passes','Distance Covered (Kms)','Fouls Committed']\n",
    "n = len(categories)\n",
    "\n",
    "ex_a = df_ex[categories].values.reshape((-1, n))\n",
    "ex_y = df_ex.loc[::2, 'Man of the Match'].values\n",
    "ex_m = ex_a.shape[0] / 2\n",
    "ex_x = np.zeros((ex_m, n))\n",
    "\n",
    "# convert statistics into relative measures w.r.t. opponent's values\n",
    "ex_x[:,0:2] = ex_a[::2,0:2] - ex_a[1::2,0:2] # On a goal difference\n",
    "ex_x[:,2:] = ex_a[::2,2:] / (ex_a[::2,2:] + ex_a[1::2,2:]) * 100 # Proportion\n",
    "np.nan_to_num(ex_x,copy=False);"
   ]
  },
  {
   "cell_type": "code",
   "execution_count": 79,
   "metadata": {},
   "outputs": [],
   "source": [
    "np.savetxt(\"FIFA_2018_Statistics_data1.csv\", np.concatenate([ex_x, ex_y.reshape(-1,1)], axis=1), delimiter=\",\")"
   ]
  },
  {
   "cell_type": "code",
   "execution_count": 80,
   "metadata": {},
   "outputs": [],
   "source": [
    "#separate group and knockout stage data\n",
    "df_group = df_ex[df_ex.Round == 'Group Stage']\n",
    "df_group.drop('Round',axis=1,inplace=True)\n",
    "df_knockout = df_ex[df_ex.Round != 'Group Stage']\n",
    "df_knockout.drop('Round',axis=1,inplace=True)"
   ]
  },
  {
   "cell_type": "code",
   "execution_count": 82,
   "metadata": {},
   "outputs": [
    {
     "name": "stderr",
     "output_type": "stream",
     "text": [
      "/home/astrophysics/anaconda2/lib/python2.7/site-packages/ipykernel_launcher.py:9: RuntimeWarning: invalid value encountered in divide\n",
      "  if __name__ == '__main__':\n",
      "/home/astrophysics/anaconda2/lib/python2.7/site-packages/ipykernel_launcher.py:18: RuntimeWarning: invalid value encountered in divide\n"
     ]
    }
   ],
   "source": [
    "#look at group and knockout data separately\n",
    "group_a = df_group[categories].values.reshape((-1, n))\n",
    "group_y = df_group.loc[::2, 'Man of the Match'].values\n",
    "group_m = group_a.shape[0] / 2\n",
    "group_x = np.zeros((group_m, n))\n",
    "\n",
    "# convert statistics into relative measures w.r.t. opponent's values\n",
    "group_x[:,0:2] = group_a[::2,0:2] - group_a[1::2,0:2] # On a goal difference\n",
    "group_x[:,2:] = group_a[::2,2:] / (group_a[::2,2:] + group_a[1::2,2:]) * 100 # Proportion\n",
    "np.nan_to_num(group_x,copy=False)\n",
    "\n",
    "knockout_a = df_knockout[categories].values.reshape((-1, n))\n",
    "knockout_y = df_knockout.loc[::2, 'Man of the Match'].values\n",
    "knockout_m = knockout_a.shape[0] / 2\n",
    "knockout_x = np.zeros((knockout_m, n))\n",
    "\n",
    "knockout_x[:,0:2] = knockout_a[::2,0:2] - knockout_a[1::2,0:2] \n",
    "knockout_x[:,2:] = knockout_a[::2,2:] / (knockout_a[::2,2:] + knockout_a[1::2,2:]) * 100 \n",
    "np.nan_to_num(knockout_x,copy=False);\n"
   ]
  },
  {
   "cell_type": "markdown",
   "metadata": {},
   "source": [
    "# Own attempt at preprocessing data"
   ]
  },
  {
   "cell_type": "code",
   "execution_count": null,
   "metadata": {},
   "outputs": [],
   "source": [
    "df_num = df_orig.copy()"
   ]
  },
  {
   "cell_type": "code",
   "execution_count": 4,
   "metadata": {
    "scrolled": true
   },
   "outputs": [],
   "source": [
    "#get team values, get unique values (by appyling set), then arrange alphabetically in a list\n",
    "countries = sorted(set(df_orig['Team'].values))\n",
    "n_countries = len(countries)\n",
    "#create integer index for countries, and map to alphabetic representation\n",
    "countries_I = np.arange(n_countries)\n",
    "countries_dict = dict(zip(countries, countries_I))\n",
    "# {'Argentina': 0,\n",
    "#  'Australia': 1,\n",
    "#  'Belgium': 2,\n",
    "#  'Brazil': 3,\n",
    "#  'Colombia': 4,\n",
    "#  'Costa Rica': 5,\n",
    "#  'Croatia': 6,\n",
    "#  'Denmark': 7,\n",
    "#  'Egypt': 8,\n",
    "#  'England': 9,\n",
    "#  'France': 10,\n",
    "#  'Germany': 11,\n",
    "#  'Iceland': 12,\n",
    "#  'Iran': 13,\n",
    "#  'Japan': 14,\n",
    "#  'Korea Republic': 15,\n",
    "#  'Mexico': 16,\n",
    "#  'Morocco': 17,\n",
    "#  'Nigeria': 18,\n",
    "#  'Panama': 19,\n",
    "#  'Peru': 20,\n",
    "#  'Poland': 21,\n",
    "#  'Portugal': 22,\n",
    "#  'Russia': 23,\n",
    "#  'Saudi Arabia': 24,\n",
    "#  'Senegal': 25,\n",
    "#  'Serbia': 26,\n",
    "#  'Spain': 27,\n",
    "#  'Sweden': 28,\n",
    "#  'Switzerland': 29,\n",
    "#  'Tunisia': 30,\n",
    "#  'Uruguay': 31}\n",
    "#it appears that .loc is slower here (used on either side of assignment...\n",
    "df_num['Team'] = df_orig['Team'].apply(lambda x: countries_dict[x])\n",
    "#df_num['Opponent'] = df_orig['Opponent'].apply(lambda x: countries_dict[x])"
   ]
  },
  {
   "cell_type": "code",
   "execution_count": 5,
   "metadata": {},
   "outputs": [],
   "source": [
    "#replace nan values\n",
    "nan_fill = 0\n",
    "df_num.fillna(nan_fill, inplace=True)\n",
    "#replace yes/no values with 1/0\n",
    "df_num.replace(('Yes', 'No'), (1, 0), inplace=True)\n",
    "#replace Rounds (Group Stage, Round of 16,  Quarter Finals, Semi-Finals, 3rd Place, Final) with 0/1/2/3/4/5\n",
    "df_num.replace(('Group Stage', 'Round of 16', 'Quarter Finals', 'Semi- Finals', '3rd Place', 'Final'), (1, 2, 3, 4, 5, 6), inplace=True)\n",
    "#convert dates to integer. first day of tournament = 1, all other dates are counts of calendar days from first calendar day + 1. \n",
    "df_num['Date'] = df_num['Date'].dt.strftime(\"%Y%m%d\").astype(int) - df_num['Date'].dt.strftime(\"%Y%m%d\").astype(int).min() + 1"
   ]
  },
  {
   "cell_type": "code",
   "execution_count": 6,
   "metadata": {
    "scrolled": true
   },
   "outputs": [
    {
     "name": "stderr",
     "output_type": "stream",
     "text": [
      "/home/astrophysics/anaconda2/lib/python2.7/site-packages/pandas/core/frame.py:3694: SettingWithCopyWarning: \n",
      "A value is trying to be set on a copy of a slice from a DataFrame\n",
      "\n",
      "See the caveats in the documentation: http://pandas.pydata.org/pandas-docs/stable/indexing.html#indexing-view-versus-copy\n",
      "  errors=errors)\n",
      "/home/astrophysics/anaconda2/lib/python2.7/site-packages/pandas/core/frame.py:3778: SettingWithCopyWarning: \n",
      "A value is trying to be set on a copy of a slice from a DataFrame\n",
      "\n",
      "See the caveats in the documentation: http://pandas.pydata.org/pandas-docs/stable/indexing.html#indexing-view-versus-copy\n",
      "  return super(DataFrame, self).rename(**kwargs)\n"
     ]
    }
   ],
   "source": [
    "df_team = df_num.loc[::2]\n",
    "df_team.drop('Opponent', axis=1, inplace=True)\n",
    "df_team.rename(columns = dict(zip(df_team.columns.values, df_team.columns.values + ' 1')), inplace=True)\n",
    "df_team.rename(columns = {'Date 1': 'Date', 'Round 1': 'Round', 'Man of the Match 1': 'Man of the Match'}, inplace=True)\n",
    "df_team.reset_index(inplace=True)"
   ]
  },
  {
   "cell_type": "code",
   "execution_count": 7,
   "metadata": {
    "scrolled": true
   },
   "outputs": [],
   "source": [
    "df_opp = df_num.loc[1::2]\n",
    "#n.b. don't need ball possession of second team as it is linear combination of that of first (100 - first ball possession)\n",
    "df_opp.drop(['Opponent', 'Date', 'Ball Possession %', 'Round', 'Man of the Match'], axis=1, inplace=True)\n",
    "df_opp.rename(columns = dict(zip(df_opp.columns.values, df_opp.columns.values + ' 2')), inplace=True)\n",
    "df_opp.reset_index(inplace=True)"
   ]
  },
  {
   "cell_type": "code",
   "execution_count": 8,
   "metadata": {
    "scrolled": false
   },
   "outputs": [],
   "source": [
    "df_concat = pd.concat([df_team, df_opp], axis=1)\n",
    "df_cols = df_concat.columns.tolist()\n",
    "#get rid of second index\n",
    "df_cols = df_cols[:27] + df_cols[28:]\n",
    "#put date to back of columns. get rid of first index\n",
    "df_cols = df_cols[2:] + [df_cols[1]]\n",
    "#put round to back of columns\n",
    "df_cols = df_cols[:20] + df_cols[21:] + [df_cols[20]]\n",
    "#put man of the match to back of columns\n",
    "df_cols = df_cols[:18] + df_cols[19:] + [df_cols[18]]\n",
    "df_concat = df_concat.loc[:, df_cols]"
   ]
  },
  {
   "cell_type": "code",
   "execution_count": 9,
   "metadata": {},
   "outputs": [],
   "source": [
    "df_concat.to_csv('FIFA_2018_Statistics_num.csv', index=False)"
   ]
  },
  {
   "cell_type": "code",
   "execution_count": 10,
   "metadata": {},
   "outputs": [],
   "source": [
    "cols = df_concat.columns.values\n",
    "num_cols = len(cols)\n",
    "cols_ind = np.arange(num_cols)\n",
    "cols_dict = dict(zip(cols, cols_ind))\n",
    "#cols_dict\n",
    "# {'1st Goal 1': 18,\n",
    "#  '1st Goal 2': 40,\n",
    "#  'Attempts 1': 3,\n",
    "#  'Attempts 2': 25,\n",
    "#  'Ball Possession % 1': 2,\n",
    "#  'Blocked 1': 6,\n",
    "#  'Blocked 2': 28,\n",
    "#  'Corners 1': 7,\n",
    "#  'Corners 2': 29,\n",
    "#  'Date': 45,\n",
    "#  'Distance Covered (Kms) 1': 13,\n",
    "#  'Distance Covered (Kms) 2': 35,\n",
    "#  'Fouls Committed 1': 14,\n",
    "#  'Fouls Committed 2': 36,\n",
    "#  'Free Kicks 1': 9,\n",
    "#  'Free Kicks 2': 31,\n",
    "#  'Goal Scored 1': 1,\n",
    "#  'Goal Scored 2': 24,\n",
    "#  'Goals in PSO 1': 20,\n",
    "#  'Goals in PSO 2': 42,\n",
    "#  'Man of the Match': 47,\n",
    "#  'Off-Target 1': 5,\n",
    "#  'Off-Target 2': 27,\n",
    "#  'Offsides 1': 8,\n",
    "#  'Offsides 2': 30,\n",
    "#  'On-Target 1': 4,\n",
    "#  'On-Target 2': 26,\n",
    "#  'Own goal Time 1': 22,\n",
    "#  'Own goal Time 2': 44,\n",
    "#  'Own goals 1': 21,\n",
    "#  'Own goals 2': 43,\n",
    "#  'PSO 1': 19,\n",
    "#  'PSO 2': 41,\n",
    "#  'Pass Accuracy % 1': 11,\n",
    "#  'Pass Accuracy % 2': 33,\n",
    "#  'Passes 1': 12,\n",
    "#  'Passes 2': 34,\n",
    "#  'Red 1': 17,\n",
    "#  'Red 2': 39,\n",
    "#  'Round': 46,\n",
    "#  'Saves 1': 10,\n",
    "#  'Saves 2': 32,\n",
    "#  'Team 1': 0,\n",
    "#  'Team 2': 23,\n",
    "#  'Yellow & Red 1': 16,\n",
    "#  'Yellow & Red 2': 38,\n",
    "#  'Yellow Card 1': 15,\n",
    "#  'Yellow Card 2': 37}"
   ]
  },
  {
   "cell_type": "code",
   "execution_count": 70,
   "metadata": {},
   "outputs": [],
   "source": [
    "#to start with, just use columns which I suspect are the most useful.\n",
    "indices = [1,2,3,4,5,6,7,8,9,10,11,12,13,14,24,25,26,27,28,29,30,31,32,33,34,35,36,47]\n",
    "fifa_a = df_concat.iloc[:, indices].values\n",
    "np.savetxt(\"FIFA_2018_Statistics_data2.csv\", fifa_a, delimiter=\",\")"
   ]
  }
 ],
 "metadata": {
  "kernelspec": {
   "display_name": "Python 2",
   "language": "python",
   "name": "python2"
  },
  "language_info": {
   "codemirror_mode": {
    "name": "ipython",
    "version": 2
   },
   "file_extension": ".py",
   "mimetype": "text/x-python",
   "name": "python",
   "nbconvert_exporter": "python",
   "pygments_lexer": "ipython2",
   "version": "2.7.15"
  }
 },
 "nbformat": 4,
 "nbformat_minor": 2
}
